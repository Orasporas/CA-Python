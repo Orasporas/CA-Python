{
 "cells": [
  {
   "cell_type": "markdown",
   "metadata": {},
   "source": [
    "###  1 diena"
   ]
  },
  {
   "cell_type": "markdown",
   "metadata": {},
   "source": [
    "## Python'as is a programming language that lets you work quickly and integrate systems more effectively (https://www.python.org/)\n",
    "Python is an interpreted high-level programming language for general-purpose programming, has a design philosophy that emphasizes code readability, notably using significant whitespace. It provides constructs that enable clear programming on both small and large scales (https://en.wikipedia.org/wiki/Python_(programming_language))\n",
    "\n",
    "## Pvz: https://www.python.org/about/success/\n",
    "<hr>"
   ]
  },
  {
   "cell_type": "markdown",
   "metadata": {},
   "source": [
    "#### Instaliavimo, naudojimo būdai bei jupyter notebook instaliavimas\n",
    "   ### Rekomenduojas būdas šiam kursui:\n",
    "1. instaliuojant miniconda  https://conda.io/miniconda.html\n",
    "        dėl visa ko update: conda update conda\n",
    "        \n",
    "        Galima iškart instaliuoti įvarius: libraries, packages\n",
    "        bet geriau naudoti virtual environments (toliau vir env):\n",
    "        \n",
    "        geriausia (dėl dependencies):\n",
    "        conda create -n pavadinimas python=3 jupyter kiti\n",
    "        \n",
    "        activate vir env naudojimui:\n",
    "        activate pavadinimas\n",
    "        \n",
    "        deactivate vir env:\n",
    "        deactivate \n",
    "        \n",
    "        nerekomenduoju, bet galima:\n",
    "        conda create -n pavadinimas anaconda python=3\n",
    "\n",
    "    arba\n",
    "        conda create -n pavadinimas python\n",
    "        conda install -n pavadinimas scipy\n",
    "        activate pavadinimas\n",
    "        deactivate\n",
    "        conda remove -n pavadinimas --all\n",
    "\n",
    "    arba\n",
    "        conda create -n pavadinimas python\n",
    "        conda install -n pavadinimas scipy=0.15.0\n",
    "        activate pavadinimas\n",
    "        deactivate\n",
    "        conda remove -n pavadinimas --all\n",
    "        \n",
    "#### Mažiau rekomenduojas būdas šiam kursui:\n",
    "2. #### Instaliuoti anaconda (užima daug vietos) https://www.anaconda.com/download/#download\n",
    "    Visos komandos tinka kaip ir miniconda'ai\n",
    "    \n",
    "### Nerekomenduoji būdai šiam kursui:\n",
    "3. #### Tik python ir tada naudoti venv\n",
    "        python(3) -m venv /path/to/new/virtual/environment/pavadinimas\n",
    "        source /path/to/new/virtual/environment/pavadinimas/bin/activate\n",
    "        pip(3) intstall pavadinimas\n",
    "        paleidimas:\n",
    "        python -m scirtppav.py\n",
    "        deactivate\n",
    "\n",
    "4. #### Tik python https://www.python.org/downloads/windows/ ir be venv\n",
    "        pip(3) intstall pavadinimas\n",
    "        paleidimas:\n",
    "        python -m scirtppav.py\n",
    "<hr>"
   ]
  },
  {
   "cell_type": "markdown",
   "metadata": {},
   "source": [
    "## Python objects, basic types, and variables\n",
    "\n",
    "Everything in Python is an **object** and every object in Python has a **type**. Some of the basic types include:\n",
    "\n",
    "- **`int`** (integer; a whole number with no decimal place)\n",
    "  - `10`\n",
    "  - `-3`\n",
    "- **`float`** (float; a number that has a decimal place)\n",
    "  - `7.41`\n",
    "  - `-0.006`\n",
    "- **`str`** (string; a sequence of characters enclosed in single quotes, double quotes, or triple quotes)\n",
    "  - `'this is a string using single quotes'`\n",
    "  - `\"this is a string using double quotes\"`\n",
    "  - `'''this is a triple quoted string using single quotes'''`\n",
    "  - `\"\"\"this is a triple quoted string using double quotes\"\"\"`\n",
    "- **`bool`** (boolean; a binary value that is either true or false)\n",
    "  - `True`\n",
    "  - `False`\n",
    "- **`NoneType`** (a special type representing the absence of a value)\n",
    "  - `None`\n",
    "<hr>"
   ]
  },
  {
   "cell_type": "code",
   "execution_count": 1,
   "metadata": {},
   "outputs": [
    {
     "data": {
      "text/plain": [
       "NoneType"
      ]
     },
     "execution_count": 1,
     "metadata": {},
     "output_type": "execute_result"
    }
   ],
   "source": [
    "# Python'o pagrindiniai tipai, kuriuos visada galima pasitikrinti panaudojus vieną iš daugelio built-in funkcijų/metodų\n",
    "# Pavyzdžiai žemiau\n",
    "type(3)\n",
    "type(-3)\n",
    "type(3.5)\n",
    "type(-3.5)\n",
    "type(\"Hello\")\n",
    "type('Hello')\n",
    "type('''Hello''')\n",
    "type(\"\"\"Hello\"\"\")\n",
    "type(True)\n",
    "type(False)\n",
    "type(None)"
   ]
  },
  {
   "cell_type": "markdown",
   "metadata": {},
   "source": [
    "In Python, a **variable** is a name you specify in your code that maps to a particular **object**, object **instance**, or value.\n",
    "\n",
    "By defining variables, we can refer to things by names that make sense to us. Names for variables can only contain letters, underscores (`_`), or numbers (no spaces, dashes, or other characters). Variable names must start with a letter or underscore."
   ]
  },
  {
   "cell_type": "code",
   "execution_count": 2,
   "metadata": {},
   "outputs": [
    {
     "data": {
      "text/plain": [
       "int"
      ]
     },
     "execution_count": 2,
     "metadata": {},
     "output_type": "execute_result"
    }
   ],
   "source": [
    "# reikšmių (value) prisikirimas kintamąjam labai paprastas - tiesiog kintamojo pavadinimas ir reikšmės priskyrimas su \"=\"\n",
    "# ženklu. Kaip reikšmė (value) gali būti bet koks python'o objektas.\n",
    "a = 3\n",
    "type(a)\n",
    "# naudojant python'ą command line, tiesiog type(a) nieko neparodis, būtina naudoti print() funkciją\n",
    "# jupyter notebook žino, kad nurodant tik funkciją su kitamuoju ar raw tekstu, skaičiumi ar kitu tipu\n",
    "# reikia automatiškai atspauzdinti"
   ]
  },
  {
   "cell_type": "code",
   "execution_count": 3,
   "metadata": {},
   "outputs": [
    {
     "data": {
      "text/plain": [
       "int"
      ]
     },
     "execution_count": 3,
     "metadata": {},
     "output_type": "execute_result"
    }
   ],
   "source": [
    "# kintamųjų pavadinimo pagrindinės taisyklės: iš mažios raidės,\n",
    "# kelis žodžius atskirti su \"_\" ir galimi skaičiai gale\n",
    "list_of_names = 3\n",
    "a1 = 5\n",
    "a2 = 6\n",
    "type(a)"
   ]
  },
  {
   "cell_type": "code",
   "execution_count": 4,
   "metadata": {},
   "outputs": [
    {
     "data": {
      "text/plain": [
       "int"
      ]
     },
     "execution_count": 4,
     "metadata": {},
     "output_type": "execute_result"
    }
   ],
   "source": [
    "a = -3\n",
    "type(a)"
   ]
  },
  {
   "cell_type": "code",
   "execution_count": 5,
   "metadata": {},
   "outputs": [
    {
     "data": {
      "text/plain": [
       "float"
      ]
     },
     "execution_count": 5,
     "metadata": {},
     "output_type": "execute_result"
    }
   ],
   "source": [
    "a = 3.5\n",
    "type(a)"
   ]
  },
  {
   "cell_type": "code",
   "execution_count": 6,
   "metadata": {},
   "outputs": [
    {
     "data": {
      "text/plain": [
       "float"
      ]
     },
     "execution_count": 6,
     "metadata": {},
     "output_type": "execute_result"
    }
   ],
   "source": [
    "a = -3.5\n",
    "type(a)"
   ]
  },
  {
   "cell_type": "code",
   "execution_count": 7,
   "metadata": {},
   "outputs": [
    {
     "data": {
      "text/plain": [
       "str"
      ]
     },
     "execution_count": 7,
     "metadata": {},
     "output_type": "execute_result"
    }
   ],
   "source": [
    "a = \"Hello\"\n",
    "type(a)"
   ]
  },
  {
   "cell_type": "code",
   "execution_count": 8,
   "metadata": {},
   "outputs": [
    {
     "data": {
      "text/plain": [
       "str"
      ]
     },
     "execution_count": 8,
     "metadata": {},
     "output_type": "execute_result"
    }
   ],
   "source": [
    "a = 'Hello'\n",
    "type(a)"
   ]
  },
  {
   "cell_type": "code",
   "execution_count": 9,
   "metadata": {},
   "outputs": [
    {
     "data": {
      "text/plain": [
       "str"
      ]
     },
     "execution_count": 9,
     "metadata": {},
     "output_type": "execute_result"
    }
   ],
   "source": [
    "a = '''Hello'''\n",
    "type(a)"
   ]
  },
  {
   "cell_type": "code",
   "execution_count": 10,
   "metadata": {},
   "outputs": [
    {
     "data": {
      "text/plain": [
       "str"
      ]
     },
     "execution_count": 10,
     "metadata": {},
     "output_type": "execute_result"
    }
   ],
   "source": [
    "a = \"\"\"Hello\"\"\"\n",
    "type(a)"
   ]
  },
  {
   "cell_type": "code",
   "execution_count": 11,
   "metadata": {},
   "outputs": [
    {
     "data": {
      "text/plain": [
       "bool"
      ]
     },
     "execution_count": 11,
     "metadata": {},
     "output_type": "execute_result"
    }
   ],
   "source": [
    "a = True\n",
    "type(a)"
   ]
  },
  {
   "cell_type": "code",
   "execution_count": 12,
   "metadata": {},
   "outputs": [
    {
     "data": {
      "text/plain": [
       "bool"
      ]
     },
     "execution_count": 12,
     "metadata": {},
     "output_type": "execute_result"
    }
   ],
   "source": [
    "a = False\n",
    "type(a)"
   ]
  },
  {
   "cell_type": "markdown",
   "metadata": {},
   "source": [
    "#### Pažaisti su type'ais ir kintamaisiais"
   ]
  },
  {
   "cell_type": "code",
   "execution_count": 13,
   "metadata": {},
   "outputs": [
    {
     "name": "stdout",
     "output_type": "stream",
     "text": [
      "5\n"
     ]
    }
   ],
   "source": [
    "# paprasta print'inimo funkcija/metodas, kuris leidžia output'inti ivairią string informaciją (ir skaičius)\n",
    "a = 5\n",
    "print(a)"
   ]
  },
  {
   "cell_type": "code",
   "execution_count": 14,
   "metadata": {},
   "outputs": [
    {
     "name": "stdout",
     "output_type": "stream",
     "text": [
      "tekstas\n"
     ]
    }
   ],
   "source": [
    "b = \"tekstas\"\n",
    "print(b)"
   ]
  },
  {
   "cell_type": "code",
   "execution_count": 15,
   "metadata": {},
   "outputs": [
    {
     "name": "stdout",
     "output_type": "stream",
     "text": [
      "5.5\n"
     ]
    }
   ],
   "source": [
    "c = 5.5\n",
    "print(c)"
   ]
  },
  {
   "cell_type": "code",
   "execution_count": 16,
   "metadata": {},
   "outputs": [
    {
     "name": "stdout",
     "output_type": "stream",
     "text": [
      "čia galima įrašyti bet ką kaip klausimą/prašymą?jonas\n",
      "jonas\n"
     ]
    }
   ],
   "source": [
    "# input() reikalingas norint priimti duomenis iš vartotojo (user)\n",
    "# informacija pateikiama teksto forma, todėl norint alikti matemetinius skaičius, reikia kovertavimą, pasidnaudojus\n",
    "# built-in funkcijoms, kurios bus aptartos vėliau\n",
    "b = input(\"čia galima įrašyti bet ką kaip klausimą/prašymą?\")\n",
    "print(b)"
   ]
  },
  {
   "cell_type": "markdown",
   "metadata": {},
   "source": [
    "## Formatting strings and using placeholders\n",
    "https://www.w3schools.com/python/ref_func_print.asp\n",
    "\n",
    "https://docs.python.org/3/tutorial/inputoutput.html"
   ]
  },
  {
   "cell_type": "markdown",
   "metadata": {},
   "source": [
    "####  Naujausias nuo 3.6 (naudojant f\"\")"
   ]
  },
  {
   "cell_type": "code",
   "execution_count": 17,
   "metadata": {},
   "outputs": [
    {
     "name": "stdout",
     "output_type": "stream",
     "text": [
      "Sveiki Jonas, jūsų pavardė Jonaitis, geros dienos\n"
     ]
    }
   ],
   "source": [
    "# naujausias metodas, kaip galima print'inti informaciją, turint template ir naudojant placeholders, kurių vietoje galima\n",
    "# įdėti kitamuosius\n",
    "vardas = \"Jonas\"\n",
    "pavardė = \"Jonaitis\"\n",
    "print(f\"Sveiki {vardas}, jūsų pavardė {pavardė}, geros dienos\")"
   ]
  },
  {
   "cell_type": "markdown",
   "metadata": {},
   "source": [
    "#### nuo 2.6 iki 3.6 (naudojant \"\".format())"
   ]
  },
  {
   "cell_type": "code",
   "execution_count": 18,
   "metadata": {},
   "outputs": [
    {
     "name": "stdout",
     "output_type": "stream",
     "text": [
      "Sveiki Jonas, jūsų pavardė Jonaitis, geros dienos\n"
     ]
    }
   ],
   "source": [
    "print(\"Sveiki {}, jūsų pavardė {}, geros dienos\".format(vardas, pavardė))"
   ]
  },
  {
   "cell_type": "code",
   "execution_count": 19,
   "metadata": {},
   "outputs": [
    {
     "name": "stdout",
     "output_type": "stream",
     "text": [
      "Sveiki Jonas, jūsų pavardė Jonaitis, geros dienos\n"
     ]
    }
   ],
   "source": [
    "# galima ir nurodyti index, pagal seką nurodytą format() skliaustuose\n",
    "print(\"Sveiki {0}, jūsų pavardė {1}, geros dienos\".format(vardas, pavardė))"
   ]
  },
  {
   "cell_type": "code",
   "execution_count": 20,
   "metadata": {},
   "outputs": [
    {
     "name": "stdout",
     "output_type": "stream",
     "text": [
      "Sveiki Jonaitis, jūsų pavardė Jonas, geros dienos\n"
     ]
    }
   ],
   "source": [
    "# galima ir sukeisti index numerius\n",
    "print(\"Sveiki {1}, jūsų pavardė {0}, geros dienos\".format(vardas, pavardė))"
   ]
  },
  {
   "cell_type": "markdown",
   "metadata": {},
   "source": [
    "####  iki 2.6 (nerekomenduojama naudoti, naudojant %s, %d ir pan.)"
   ]
  },
  {
   "cell_type": "markdown",
   "metadata": {},
   "source": [
    "### Užduotis 1:\n",
    "Priimti vardą, pavardę ir print'inti"
   ]
  },
  {
   "cell_type": "code",
   "execution_count": 21,
   "metadata": {},
   "outputs": [
    {
     "name": "stdout",
     "output_type": "stream",
     "text": [
      "Koks jūsų vardas? Jonas\n",
      "Koks jūsų pavardė? Jonaitis\n",
      "Sveiki Jonas Jonaitis\n"
     ]
    }
   ],
   "source": [
    "vardas = input(\"Koks jūsų vardas? \")\n",
    "pavardė = input(\"Koks jūsų pavardė? \")\n",
    "print(f\"Sveiki {vardas} {pavardė}\")"
   ]
  },
  {
   "cell_type": "markdown",
   "metadata": {},
   "source": [
    "### Užduotis 2: \n",
    "Panaudodami 1 ir 2 būdus, priimti email'ą (pvz. vardaspavardė@com.com), bet būtinai slaptažodį ir print'inti vardą ir pavardę (kaip prisijungus prie account'o).\n",
    "\n",
    "Hint'as:\n",
    "if kažkas == kažkam and kažkas == kažkam:\n",
    "    \n",
    "    print(kažką)"
   ]
  },
  {
   "cell_type": "code",
   "execution_count": 22,
   "metadata": {},
   "outputs": [
    {
     "name": "stdout",
     "output_type": "stream",
     "text": [
      "Prašome suvesti el.paštą emailas@com.com\n",
      "Prašome suvesti slaptažodį password\n",
      "Sveikti prisijungę Janina Janinienė\n"
     ]
    }
   ],
   "source": [
    "slaptazodis = \"password\"\n",
    "emailas = \"emailas@com.com\"\n",
    "vardas = \"Janina\"\n",
    "pavardė = \"Janinienė\"\n",
    "el_input = input(\"Prašome suvesti el.paštą \")\n",
    "slapt_input = input(\"Prašome suvesti slaptažodį \")\n",
    "if el_input == emailas and slapt_input == slaptazodis:\n",
    "    print(f\"Sveikti prisijungę {vardas} {pavardė}\")"
   ]
  },
  {
   "cell_type": "markdown",
   "metadata": {},
   "source": [
    "## Basic operators\n",
    "\n",
    "In Python, there are different types of **operators** (special symbols) that operate on different values. Some of the basic operators include:\n",
    "\n",
    "- arithmetic operators\n",
    "  - **`+`** (addition)\n",
    "  - **`-`** (subtraction)\n",
    "  - **`*`** (multiplication)\n",
    "  - **`/`** (division)\n",
    "  - __`**`__ (exponent)\n",
    "- assignment operators\n",
    "  - **`=`** (assign a value)\n",
    "  - **`+=`** (add and re-assign; increment)\n",
    "  - **`-=`** (subtract and re-assign; decrement)\n",
    "  - **`*=`** (multiply and re-assign)\n",
    "- comparison operators (return either `True` or `False`)\n",
    "  - **`==`** (equal to)\n",
    "  - **`!=`** (not equal to)\n",
    "  - **`<`** (less than)\n",
    "  - **`<=`** (less than or equal to)\n",
    "  - **`>`** (greater than)\n",
    "  - **`>=`** (greater than or equal to)\n",
    "\n",
    "When multiple operators are used in a single expression, **operator precedence** determines which parts of the expression are evaluated in which order. Operators with higher precedence are evaluated first (like PEMDAS in math). Operators with the same precedence are evaluated from left to right.\n",
    "\n",
    "- `()` parentheses, for grouping\n",
    "- `**` exponent\n",
    "- `*`, `/` multiplication and division\n",
    "- `+`, `-` addition and subtraction\n",
    "- `==`, `!=`, `<`, `<=`, `>`, `>=` comparisons\n",
    "\n",
    "> See https://docs.python.org/3/reference/expressions.html#operator-precedence"
   ]
  },
  {
   "cell_type": "code",
   "execution_count": 23,
   "metadata": {},
   "outputs": [],
   "source": [
    "# visi matematinai veiksmai yra visiškai tokie patys kaip ir matematikoje\n",
    "# Assigning some numbers to different variables\n",
    "num1 = 10\n",
    "num2 = -3\n",
    "num3 = 7.41\n",
    "num4 = -.6\n",
    "num5 = 7\n",
    "num6 = 3\n",
    "num7 = 11.11"
   ]
  },
  {
   "cell_type": "code",
   "execution_count": 24,
   "metadata": {},
   "outputs": [
    {
     "data": {
      "text/plain": [
       "7"
      ]
     },
     "execution_count": 24,
     "metadata": {},
     "output_type": "execute_result"
    }
   ],
   "source": [
    "# Addition\n",
    "suma = num1 + num2\n",
    "suma"
   ]
  },
  {
   "cell_type": "code",
   "execution_count": 25,
   "metadata": {},
   "outputs": [
    {
     "data": {
      "text/plain": [
       "6.8100000000000005"
      ]
     },
     "execution_count": 25,
     "metadata": {},
     "output_type": "execute_result"
    }
   ],
   "source": [
    "# Subtraction\n",
    "minus = num3 + num4\n",
    "minus"
   ]
  },
  {
   "cell_type": "code",
   "execution_count": 26,
   "metadata": {},
   "outputs": [
    {
     "data": {
      "text/plain": [
       "10"
      ]
     },
     "execution_count": 26,
     "metadata": {},
     "output_type": "execute_result"
    }
   ],
   "source": [
    "# Multiplication\n",
    "daugyba = num5 + num6\n",
    "daugyba"
   ]
  },
  {
   "cell_type": "code",
   "execution_count": 27,
   "metadata": {},
   "outputs": [
    {
     "data": {
      "text/plain": [
       "-11.666666666666668"
      ]
     },
     "execution_count": 27,
     "metadata": {},
     "output_type": "execute_result"
    }
   ],
   "source": [
    "# Division\n",
    "dalyba = num5 / num4\n",
    "dalyba"
   ]
  },
  {
   "cell_type": "code",
   "execution_count": 28,
   "metadata": {},
   "outputs": [
    {
     "data": {
      "text/plain": [
       "343"
      ]
     },
     "execution_count": 28,
     "metadata": {},
     "output_type": "execute_result"
    }
   ],
   "source": [
    "# Exponent\n",
    "pakel = num5 ** num6\n",
    "pakel"
   ]
  },
  {
   "cell_type": "code",
   "execution_count": 29,
   "metadata": {},
   "outputs": [
    {
     "name": "stdout",
     "output_type": "stream",
     "text": [
      "10\n"
     ]
    }
   ],
   "source": [
    "# Increment existing variable\n",
    "# norint padidinti kintamojo vertę ar pakeisti string'ą, galima taip:\n",
    "num = 5\n",
    "num = num + 5\n",
    "print(num)"
   ]
  },
  {
   "cell_type": "code",
   "execution_count": 30,
   "metadata": {},
   "outputs": [
    {
     "data": {
      "text/plain": [
       "12"
      ]
     },
     "execution_count": 30,
     "metadata": {},
     "output_type": "execute_result"
    }
   ],
   "source": [
    "# bet geriau taip:\n",
    "numa = 9\n",
    "numa += 3\n",
    "numa"
   ]
  },
  {
   "cell_type": "code",
   "execution_count": 31,
   "metadata": {},
   "outputs": [
    {
     "data": {
      "text/plain": [
       "6"
      ]
     },
     "execution_count": 31,
     "metadata": {},
     "output_type": "execute_result"
    }
   ],
   "source": [
    "# galima lygiai taip pat minisuoti\n",
    "# Decrement existing variable\n",
    "numm = 9\n",
    "numm -= 3\n",
    "numm"
   ]
  },
  {
   "cell_type": "code",
   "execution_count": 32,
   "metadata": {},
   "outputs": [
    {
     "data": {
      "text/plain": [
       "27"
      ]
     },
     "execution_count": 32,
     "metadata": {},
     "output_type": "execute_result"
    }
   ],
   "source": [
    "# daugyba\n",
    "# Multiply & re-assign\n",
    "numd = 9\n",
    "numd *= 3\n",
    "numd"
   ]
  },
  {
   "cell_type": "code",
   "execution_count": 33,
   "metadata": {},
   "outputs": [
    {
     "data": {
      "text/plain": [
       "-12.23"
      ]
     },
     "execution_count": 33,
     "metadata": {},
     "output_type": "execute_result"
    }
   ],
   "source": [
    "# Assign the value of an expression to a variable\n",
    "num8 = num1 + num2 * num3\n",
    "num8"
   ]
  },
  {
   "cell_type": "code",
   "execution_count": 34,
   "metadata": {},
   "outputs": [
    {
     "data": {
      "text/plain": [
       "True"
      ]
     },
     "execution_count": 34,
     "metadata": {},
     "output_type": "execute_result"
    }
   ],
   "source": [
    "# norint nustatyti reikšių lybybę, naudojama \"==\" ir gražinamos bool(ean) tipo reikšmės True ir False\n",
    "# Are these two expressions equal to each other?\n",
    "lyg1 = 5\n",
    "lyg2 = 5\n",
    "lyg1 == lyg2"
   ]
  },
  {
   "cell_type": "code",
   "execution_count": 35,
   "metadata": {},
   "outputs": [
    {
     "data": {
      "text/plain": [
       "True"
      ]
     },
     "execution_count": 35,
     "metadata": {},
     "output_type": "execute_result"
    }
   ],
   "source": [
    "lyg3 = 2\n",
    "lyg4 = 3\n",
    "lyg1 == lyg3 + lyg4"
   ]
  },
  {
   "cell_type": "code",
   "execution_count": 36,
   "metadata": {},
   "outputs": [
    {
     "data": {
      "text/plain": [
       "False"
      ]
     },
     "execution_count": 36,
     "metadata": {},
     "output_type": "execute_result"
    }
   ],
   "source": [
    "lyg3 == lyg4"
   ]
  },
  {
   "cell_type": "code",
   "execution_count": 37,
   "metadata": {},
   "outputs": [
    {
     "data": {
      "text/plain": [
       "True"
      ]
     },
     "execution_count": 37,
     "metadata": {},
     "output_type": "execute_result"
    }
   ],
   "source": [
    "# \"!=\" leidždia daryti reverse palyginimą, kuris kartais reikalingas\n",
    "# Are these two expressions not equal to each other?\n",
    "lyg3 != lyg4"
   ]
  },
  {
   "cell_type": "code",
   "execution_count": 38,
   "metadata": {},
   "outputs": [
    {
     "data": {
      "text/plain": [
       "False"
      ]
     },
     "execution_count": 38,
     "metadata": {},
     "output_type": "execute_result"
    }
   ],
   "source": [
    "# Is the first expression less than the second expression?\n",
    "lyg3 > lyg4"
   ]
  },
  {
   "cell_type": "code",
   "execution_count": 39,
   "metadata": {},
   "outputs": [
    {
     "data": {
      "text/plain": [
       "True"
      ]
     },
     "execution_count": 39,
     "metadata": {},
     "output_type": "execute_result"
    }
   ],
   "source": [
    "lyg1 = 5\n",
    "lyg2 = 4\n",
    "lyg1 > lyg2"
   ]
  },
  {
   "cell_type": "code",
   "execution_count": 40,
   "metadata": {
    "scrolled": true
   },
   "outputs": [
    {
     "data": {
      "text/plain": [
       "True"
      ]
     },
     "execution_count": 40,
     "metadata": {},
     "output_type": "execute_result"
    }
   ],
   "source": [
    "# Daromas palyginimas ir gale pateikima bool True arba False\n",
    "# Is this expression True?\n",
    "5 > 3 > 1"
   ]
  },
  {
   "cell_type": "code",
   "execution_count": 41,
   "metadata": {},
   "outputs": [
    {
     "data": {
      "text/plain": [
       "False"
      ]
     },
     "execution_count": 41,
     "metadata": {},
     "output_type": "execute_result"
    }
   ],
   "source": [
    "# False, nes palygnimo atveju visos sąlygos turi būti True tipo: 5 > 3 -> True + 3 < 1 -> False -> False\n",
    "5 > 3 < 1"
   ]
  },
  {
   "cell_type": "code",
   "execution_count": 42,
   "metadata": {},
   "outputs": [
    {
     "data": {
      "text/plain": [
       "True"
      ]
     },
     "execution_count": 42,
     "metadata": {},
     "output_type": "execute_result"
    }
   ],
   "source": [
    "# True, nes \"5 > 3 < 4\" yra True, tada paiima paskutinė reikšmė 4 ir pritaikomas == 3 + 1 ir gaunam True\n",
    "# Is this expression True?\n",
    "5 > 3 < 4 == 3 + 1"
   ]
  },
  {
   "cell_type": "code",
   "execution_count": 43,
   "metadata": {},
   "outputs": [],
   "source": [
    "# string'o objektai gali panaudoti su matematiniai ženklais\n",
    "# + tiesiog sujungia (concatenate)\n",
    "# * tiesiog sujungia (concatenate)\n",
    "# taip pat galima panaudooti \"==\" palytginimui\n",
    "# \"in\" norint surasti string'ą kitame string'ę\n",
    "# Assign some strings to different variables\n",
    "simple_string1 = 'an example'\n",
    "simple_string2 = \"oranges \""
   ]
  },
  {
   "cell_type": "code",
   "execution_count": 44,
   "metadata": {},
   "outputs": [
    {
     "data": {
      "text/plain": [
       "'an example of using the + operator'"
      ]
     },
     "execution_count": 44,
     "metadata": {},
     "output_type": "execute_result"
    }
   ],
   "source": [
    "# Addition\n",
    "simple_string1 + ' of using the + operator'"
   ]
  },
  {
   "cell_type": "code",
   "execution_count": 45,
   "metadata": {},
   "outputs": [
    {
     "data": {
      "text/plain": [
       "'an example'"
      ]
     },
     "execution_count": 45,
     "metadata": {},
     "output_type": "execute_result"
    }
   ],
   "source": [
    "# Notice that the string was not modified\n",
    "simple_string1"
   ]
  },
  {
   "cell_type": "code",
   "execution_count": 46,
   "metadata": {},
   "outputs": [
    {
     "data": {
      "text/plain": [
       "'an examplean examplean example'"
      ]
     },
     "execution_count": 46,
     "metadata": {},
     "output_type": "execute_result"
    }
   ],
   "source": [
    "# Multiplication\n",
    "simple_string1 * 3"
   ]
  },
  {
   "cell_type": "code",
   "execution_count": 47,
   "metadata": {},
   "outputs": [
    {
     "data": {
      "text/plain": [
       "'an example'"
      ]
     },
     "execution_count": 47,
     "metadata": {},
     "output_type": "execute_result"
    }
   ],
   "source": [
    "# This string wasn't modified either\n",
    "simple_string1"
   ]
  },
  {
   "cell_type": "code",
   "execution_count": 48,
   "metadata": {},
   "outputs": [
    {
     "data": {
      "text/plain": [
       "True"
      ]
     },
     "execution_count": 48,
     "metadata": {},
     "output_type": "execute_result"
    }
   ],
   "source": [
    "# Are these two expressions equal to each other?\n",
    "simple_string1 == 'an example'"
   ]
  },
  {
   "cell_type": "code",
   "execution_count": 49,
   "metadata": {},
   "outputs": [
    {
     "data": {
      "text/plain": [
       "'an example that re-assigned the original string'"
      ]
     },
     "execution_count": 49,
     "metadata": {},
     "output_type": "execute_result"
    }
   ],
   "source": [
    "# Add and re-assign\n",
    "simple_string1 += ' that re-assigned the original string'\n",
    "simple_string1"
   ]
  },
  {
   "cell_type": "code",
   "execution_count": 50,
   "metadata": {},
   "outputs": [
    {
     "data": {
      "text/plain": [
       "'oranges oranges oranges '"
      ]
     },
     "execution_count": 50,
     "metadata": {},
     "output_type": "execute_result"
    }
   ],
   "source": [
    "# Multiply and re-assign\n",
    "simple_string2 *= 3\n",
    "simple_string2"
   ]
  },
  {
   "cell_type": "code",
   "execution_count": 51,
   "metadata": {},
   "outputs": [
    {
     "data": {
      "text/plain": [
       "True"
      ]
     },
     "execution_count": 51,
     "metadata": {},
     "output_type": "execute_result"
    }
   ],
   "source": [
    "\"ran\" in simple_string2"
   ]
  },
  {
   "cell_type": "code",
   "execution_count": 52,
   "metadata": {},
   "outputs": [],
   "source": [
    "# Turėtų būti aišku, kad negalima pritaikyti minusavimo, dalybos ir mažinimo"
   ]
  },
  {
   "cell_type": "markdown",
   "metadata": {},
   "source": [
    "###  2 diena"
   ]
  },
  {
   "cell_type": "markdown",
   "metadata": {},
   "source": [
    "## Basic containers\n",
    "\n",
    "> Note: **mutable** objects can be modified after creation and **immutable** objects cannot.\n",
    "\n",
    "Containers are objects that can be used to group other objects together. The basic container types include:\n",
    "\n",
    "- **`str`** (string: immutable; indexed by integers; items are stored in the order they were added)\n",
    "    https://realpython.com/python-strings/)\n",
    "- **`list`** (list: mutable; indexed by integers; items are stored in the order they were added) https://realpython.com/python-lists-tuples/\n",
    "  - `[3, 5, 6, 3, 'dog', 'cat', False]`\n",
    "- **`tuple`** (tuple: immutable; indexed by integers; items are stored in the order they were added) https://realpython.com/python-lists-tuples/\n",
    "   - `(3, 5, 6, 3, 'dog', 'cat', False)`\n",
    "- **`set`** (set: mutable; not indexed at all; items are NOT stored in the order they were added; can only contain immutable objects; does NOT contain duplicate objects) https://realpython.com/python-sets/\n",
    "  - `{3, 5, 6, 3, 'dog', 'cat', False}`\n",
    "- **`dict`** (dictionary: mutable; key-value pairs are indexed by immutable keys; items are NOT (nuo 3.7 ARE STORED) stored in the order they were added) https://realpython.com/python-dicts/\n",
    "  - `{'name': 'Jane', 'age': 23, 'fav_foods': ['pizza', 'fruit', 'fish']}`\n",
    "    \n",
    "IPython kernel sorts the dictionary keys for display when the dictionary is evaluated. It assumes that the ordering of items in a dict object is not significant. By contrast, it does not sort the keys in an OrderedDict.\n",
    "\n",
    "When defining lists, tuples, or sets, use commas (,) to separate the individual items. When defining dicts, use a colon (:) to separate keys from values and commas (,) to separate the key-value pairs.\n",
    "\n",
    "Strings, lists, and tuples are all **sequence types** that can use the `+`, `*`, `+=`, and `*=` operators."
   ]
  },
  {
   "cell_type": "code",
   "execution_count": 53,
   "metadata": {},
   "outputs": [],
   "source": [
    "# Assign some containers to different variables\n",
    "string1 = \"Assign some \"\n",
    "list1 = [3, 5, 6, 3, 'dog', 'cat', False]\n",
    "tuple1 = (3, 5, 6, 3, 'dog', 'cat', False)\n",
    "set1 = {3, 5, 6, 3, 'dog', 'cat', False}\n",
    "dict1 = {'name': 'Jane', 'age': 23, 'fav_foods': ['pizza', 'fruit', 'fish']}"
   ]
  },
  {
   "cell_type": "code",
   "execution_count": 54,
   "metadata": {},
   "outputs": [
    {
     "data": {
      "text/plain": [
       "'Assign some Assign some Assign some Assign some Assign some '"
      ]
     },
     "execution_count": 54,
     "metadata": {},
     "output_type": "execute_result"
    }
   ],
   "source": [
    "string1 * 5"
   ]
  },
  {
   "cell_type": "code",
   "execution_count": 55,
   "metadata": {},
   "outputs": [
    {
     "data": {
      "text/plain": [
       "[3, 5, 6, 3, 'dog', 'cat', False, 3, 5, 6, 3, 'dog', 'cat', False]"
      ]
     },
     "execution_count": 55,
     "metadata": {},
     "output_type": "execute_result"
    }
   ],
   "source": [
    "list1 * 2"
   ]
  },
  {
   "cell_type": "code",
   "execution_count": 56,
   "metadata": {},
   "outputs": [
    {
     "data": {
      "text/plain": [
       "(3,\n",
       " 5,\n",
       " 6,\n",
       " 3,\n",
       " 'dog',\n",
       " 'cat',\n",
       " False,\n",
       " 3,\n",
       " 5,\n",
       " 6,\n",
       " 3,\n",
       " 'dog',\n",
       " 'cat',\n",
       " False,\n",
       " 3,\n",
       " 5,\n",
       " 6,\n",
       " 3,\n",
       " 'dog',\n",
       " 'cat',\n",
       " False)"
      ]
     },
     "execution_count": 56,
     "metadata": {},
     "output_type": "execute_result"
    }
   ],
   "source": [
    "tuple1 * 3"
   ]
  },
  {
   "cell_type": "markdown",
   "metadata": {
    "collapsed": true
   },
   "source": [
    "## Some methods on list objects\n",
    "\n",
    "- **`.append(item)`** to add a single item to the list\n",
    "- **`.extend([item1, item2, ...])`** to add multiple items to the list\n",
    "- **`.remove(item)`** to remove a single item from the list\n",
    "- **`.pop()`** to remove and return the item at the end of the list\n",
    "- **`.pop(index)`** to remove and return an item at an index"
   ]
  },
  {
   "cell_type": "code",
   "execution_count": 57,
   "metadata": {},
   "outputs": [
    {
     "data": {
      "text/plain": [
       "[3, 5, 6, 3, 'dog', 'cat', False, 'nauja reikšmė']"
      ]
     },
     "execution_count": 57,
     "metadata": {},
     "output_type": "execute_result"
    }
   ],
   "source": [
    "# Items in the list object are stored in the order they were added\n",
    "list1 = [3, 5, 6, 3, 'dog', 'cat', False]\n",
    "list1.append(\"nauja reikšmė\")\n",
    "list1"
   ]
  },
  {
   "cell_type": "code",
   "execution_count": 58,
   "metadata": {},
   "outputs": [
    {
     "data": {
      "text/plain": [
       "[3, 5, 6, 3, 'dog', 'cat', False, 'nauja reikšmė', 5, 'grapes']"
      ]
     },
     "execution_count": 58,
     "metadata": {},
     "output_type": "execute_result"
    }
   ],
   "source": [
    "# Add and re-assign\n",
    "list1 += [5, 'grapes']\n",
    "list1"
   ]
  },
  {
   "cell_type": "code",
   "execution_count": 59,
   "metadata": {
    "scrolled": true
   },
   "outputs": [
    {
     "data": {
      "text/plain": [
       "[1, 2, 3, 4, 1, 2, 3, 4, 1, 2, 3, 4]"
      ]
     },
     "execution_count": 59,
     "metadata": {},
     "output_type": "execute_result"
    }
   ],
   "source": [
    "# Multiply (gali būti tik skaičiai) and re-assign\n",
    "list1 = [1, 2, 3, 4]\n",
    "list1 *= 3\n",
    "list1"
   ]
  },
  {
   "cell_type": "code",
   "execution_count": 60,
   "metadata": {},
   "outputs": [
    {
     "data": {
      "text/plain": [
       "[1, 2, 3, 4, 1, 2, 3, 4, 1, 2, 3, 4, 'item']"
      ]
     },
     "execution_count": 60,
     "metadata": {},
     "output_type": "execute_result"
    }
   ],
   "source": [
    "list1.append(\"item\")\n",
    "list1"
   ]
  },
  {
   "cell_type": "code",
   "execution_count": 61,
   "metadata": {},
   "outputs": [
    {
     "data": {
      "text/plain": [
       "[1, 2, 3, 4, 1, 2, 3, 4, 1, 2, 3, 4, 'item', 'item1', 'item2']"
      ]
     },
     "execution_count": 61,
     "metadata": {},
     "output_type": "execute_result"
    }
   ],
   "source": [
    "list1.extend([\"item1\", \"item2\"])\n",
    "list1"
   ]
  },
  {
   "cell_type": "code",
   "execution_count": 62,
   "metadata": {},
   "outputs": [
    {
     "data": {
      "text/plain": [
       "[1, 2, 3, 4, 1, 2, 3, 4, 1, 2, 3, 4, 'item1', 'item2']"
      ]
     },
     "execution_count": 62,
     "metadata": {},
     "output_type": "execute_result"
    }
   ],
   "source": [
    "list1.remove(\"item\")\n",
    "list1"
   ]
  },
  {
   "cell_type": "code",
   "execution_count": 63,
   "metadata": {},
   "outputs": [
    {
     "data": {
      "text/plain": [
       "[1, 2, 3, 4, 1, 2, 3, 4, 1, 2, 3, 4, 'item1']"
      ]
     },
     "execution_count": 63,
     "metadata": {},
     "output_type": "execute_result"
    }
   ],
   "source": [
    "list1.pop()\n",
    "list1"
   ]
  },
  {
   "cell_type": "code",
   "execution_count": 64,
   "metadata": {},
   "outputs": [
    {
     "name": "stdout",
     "output_type": "stream",
     "text": [
      "item1\n"
     ]
    }
   ],
   "source": [
    "# kadangi pop() ištrina paskutinę value iš list'o ir tada reikšmę grąžina, todėl su print galima ją pamatyti\n",
    "print(list1.pop())"
   ]
  },
  {
   "cell_type": "code",
   "execution_count": 65,
   "metadata": {},
   "outputs": [
    {
     "name": "stdout",
     "output_type": "stream",
     "text": [
      "3\n"
     ]
    }
   ],
   "source": [
    "print(list1.pop(2))"
   ]
  },
  {
   "cell_type": "code",
   "execution_count": 66,
   "metadata": {},
   "outputs": [
    {
     "data": {
      "text/plain": [
       "[1, 2, 4, 1, 2, 3, 4, 1, 2, 3, 4]"
      ]
     },
     "execution_count": 66,
     "metadata": {},
     "output_type": "execute_result"
    }
   ],
   "source": [
    "list1"
   ]
  },
  {
   "cell_type": "markdown",
   "metadata": {},
   "source": [
    "## Some methods on set objects\n",
    "\n",
    "- **`.add(item)`** to add a single item to the set\n",
    "- **`.update([item1, item2, ...])`** to add multiple items to the set\n",
    "- **`.update(set2, set3, ...)`** to add items from all provided sets to the set\n",
    "- **`.remove(item)`** to remove a single item from the set\n",
    "- **`.pop()`** to remove and return a random item from the set\n",
    "- **`.difference(set2)`** to return items in the set that are not in another set\n",
    "- **`.intersection(set2)`** to return items in both sets\n",
    "- **`.union(set2)`** to return items that are in either set\n",
    "- **`.symmetric_difference(set2)`** to return items that are only in one set (not both)\n",
    "- **`.issuperset(set2)`** does the set contain everything in the other set?\n",
    "- **`.issubset(set2)`** is the set contained in the other set?"
   ]
  },
  {
   "cell_type": "code",
   "execution_count": 67,
   "metadata": {},
   "outputs": [
    {
     "data": {
      "text/plain": [
       "{3, 4, 5, 6, 7, 12}"
      ]
     },
     "execution_count": 67,
     "metadata": {},
     "output_type": "execute_result"
    }
   ],
   "source": [
    "# Items in the set object are not stored in the order they were added\n",
    "set1 = {12,3,4,5,6,7}\n",
    "set1"
   ]
  },
  {
   "cell_type": "code",
   "execution_count": 68,
   "metadata": {},
   "outputs": [
    {
     "data": {
      "text/plain": [
       "{3, 4, 5, 6, 7, 8, 12}"
      ]
     },
     "execution_count": 68,
     "metadata": {},
     "output_type": "execute_result"
    }
   ],
   "source": [
    "set1.add(8)\n",
    "set1"
   ]
  },
  {
   "cell_type": "code",
   "execution_count": 69,
   "metadata": {},
   "outputs": [
    {
     "data": {
      "text/plain": [
       "{12, 15, 3, 4, 5, 6, 7, 8, 'namas'}"
      ]
     },
     "execution_count": 69,
     "metadata": {},
     "output_type": "execute_result"
    }
   ],
   "source": [
    "set1.update([15, \"namas\"])\n",
    "set1"
   ]
  },
  {
   "cell_type": "code",
   "execution_count": 70,
   "metadata": {},
   "outputs": [
    {
     "data": {
      "text/plain": [
       "{1.2, 12, 15, 3, 4, 5, 5.6, 6, 7, 8, 'a', 'b', 'namas'}"
      ]
     },
     "execution_count": 70,
     "metadata": {},
     "output_type": "execute_result"
    }
   ],
   "source": [
    "set2 = {1.2, 5.6}\n",
    "set3 = {\"a\", \"b\"}\n",
    "set1.update(set2, set3)\n",
    "set1"
   ]
  },
  {
   "cell_type": "code",
   "execution_count": 71,
   "metadata": {},
   "outputs": [
    {
     "data": {
      "text/plain": [
       "{1.2, 12, 15, 3, 4, 5.6, 6, 7, 8, 'a', 'b', 'namas'}"
      ]
     },
     "execution_count": 71,
     "metadata": {},
     "output_type": "execute_result"
    }
   ],
   "source": [
    "set1.remove(5)\n",
    "set1"
   ]
  },
  {
   "cell_type": "code",
   "execution_count": 72,
   "metadata": {},
   "outputs": [
    {
     "data": {
      "text/plain": [
       "{12, 15, 3, 4, 5.6, 6, 7, 8, 'a', 'b', 'namas'}"
      ]
     },
     "execution_count": 72,
     "metadata": {},
     "output_type": "execute_result"
    }
   ],
   "source": [
    "# skirtingai nuo list'o pop(), set atveju yra pašalinama random reikšmė\n",
    "set1.pop()\n",
    "set1"
   ]
  },
  {
   "cell_type": "code",
   "execution_count": 73,
   "metadata": {},
   "outputs": [
    {
     "name": "stdout",
     "output_type": "stream",
     "text": [
      "3\n"
     ]
    }
   ],
   "source": [
    "print(set1.pop())"
   ]
  },
  {
   "cell_type": "code",
   "execution_count": 74,
   "metadata": {},
   "outputs": [
    {
     "data": {
      "text/plain": [
       "{0, 1}"
      ]
     },
     "execution_count": 74,
     "metadata": {},
     "output_type": "execute_result"
    }
   ],
   "source": [
    "# to return items in the set that are not in another set\n",
    "set1 = {0, 1, 2, 3, 4, 5, 6}\n",
    "set2 = {2, 3, 4, 5, 6, 7, 8, 9}\n",
    "set3 = set1.difference(set2)\n",
    "set3"
   ]
  },
  {
   "cell_type": "code",
   "execution_count": 75,
   "metadata": {},
   "outputs": [
    {
     "data": {
      "text/plain": [
       "{2, 3, 4, 5, 6}"
      ]
     },
     "execution_count": 75,
     "metadata": {},
     "output_type": "execute_result"
    }
   ],
   "source": [
    "# to return items in both sets\n",
    "set3 = set1.intersection(set2)\n",
    "set3"
   ]
  },
  {
   "cell_type": "code",
   "execution_count": 76,
   "metadata": {},
   "outputs": [
    {
     "data": {
      "text/plain": [
       "{0, 1, 2, 3, 4, 5, 6, 7, 8, 9}"
      ]
     },
     "execution_count": 76,
     "metadata": {},
     "output_type": "execute_result"
    }
   ],
   "source": [
    "# to return items that are in either set\n",
    "set3 = set1.union(set2) \n",
    "set3"
   ]
  },
  {
   "cell_type": "code",
   "execution_count": 77,
   "metadata": {},
   "outputs": [
    {
     "data": {
      "text/plain": [
       "{0, 1, 7, 8, 9}"
      ]
     },
     "execution_count": 77,
     "metadata": {},
     "output_type": "execute_result"
    }
   ],
   "source": [
    "# to return items that are only in one set (not both)\n",
    "set1 = {0, 1, 2, 3, 4, 5, 6}\n",
    "set2 = {2, 3, 4, 5, 6, 7, 8, 9}\n",
    "set3 = set1.symmetric_difference(set2)\n",
    "set3"
   ]
  },
  {
   "cell_type": "code",
   "execution_count": 78,
   "metadata": {
    "scrolled": false
   },
   "outputs": [
    {
     "data": {
      "text/plain": [
       "False"
      ]
     },
     "execution_count": 78,
     "metadata": {},
     "output_type": "execute_result"
    }
   ],
   "source": [
    "# does the set contain everything in the other set? True arba False\n",
    "set3 = set1.issuperset(set2) \n",
    "set3"
   ]
  },
  {
   "cell_type": "code",
   "execution_count": 79,
   "metadata": {},
   "outputs": [
    {
     "data": {
      "text/plain": [
       "True"
      ]
     },
     "execution_count": 79,
     "metadata": {},
     "output_type": "execute_result"
    }
   ],
   "source": [
    "set1 = {3, 4, 5, 6}\n",
    "set2 = {2, 3, 4, 5, 6, 7, 8, 9}\n",
    "set3 = set2.issuperset(set1) \n",
    "set3"
   ]
  },
  {
   "cell_type": "code",
   "execution_count": 80,
   "metadata": {
    "scrolled": true
   },
   "outputs": [
    {
     "data": {
      "text/plain": [
       "True"
      ]
     },
     "execution_count": 80,
     "metadata": {},
     "output_type": "execute_result"
    }
   ],
   "source": [
    "# is the set contained in the other set?\n",
    "set3 = set1.issubset(set2)\n",
    "set3"
   ]
  },
  {
   "cell_type": "code",
   "execution_count": 81,
   "metadata": {},
   "outputs": [
    {
     "data": {
      "text/plain": [
       "False"
      ]
     },
     "execution_count": 81,
     "metadata": {},
     "output_type": "execute_result"
    }
   ],
   "source": [
    "set1 = {1, 3, 4, 5, 6}\n",
    "set2 = {2, 3, 4, 5, 6, 7, 8, 9}\n",
    "set3 = set1.issuperset(set2) \n",
    "set3"
   ]
  },
  {
   "cell_type": "markdown",
   "metadata": {},
   "source": [
    "## Some methods on dict objects\n",
    "\n",
    "- **`.update([(key1, val1), (key2, val2), ...])`** to add multiple key-value pairs to the dict\n",
    "- **`.update(dict2)`** to add all keys and values from another dict to the dict\n",
    "- **`.pop(key)`** to remove key and return its value from the dict (error if key not found)\n",
    "- **`.pop(key, default_val)`** to remove key and return its value from the dict (or return default_val if key not found)\n",
    "- **`.get(key)`** to return the value at a specified key in the dict (or None if key not found)\n",
    "- **`.get(key, default_val)`** to return the value at a specified key in the dict (or default_val if key not found)\n",
    "- **`.keys()`** to return a list of keys in the dict\n",
    "- **`.values()`** to return a list of values in the dict\n",
    "- **`.items()`** to return a list of key-value pairs (tuples) in the dict"
   ]
  },
  {
   "cell_type": "code",
   "execution_count": 82,
   "metadata": {},
   "outputs": [],
   "source": [
    "# Items in the dict object are stored (3.7) in the order they were added\n",
    "dict1 = {\"key1\": \"value\", \"key2\": 5, \"key3\":[20, 25, 30]}"
   ]
  },
  {
   "cell_type": "code",
   "execution_count": 83,
   "metadata": {},
   "outputs": [
    {
     "data": {
      "text/plain": [
       "'value'"
      ]
     },
     "execution_count": 83,
     "metadata": {},
     "output_type": "execute_result"
    }
   ],
   "source": [
    "# value pasiekiamos taip\n",
    "dict1[\"key1\"]"
   ]
  },
  {
   "cell_type": "code",
   "execution_count": 84,
   "metadata": {},
   "outputs": [
    {
     "data": {
      "text/plain": [
       "dict_keys(['key1', 'key2', 'key3'])"
      ]
     },
     "execution_count": 84,
     "metadata": {},
     "output_type": "execute_result"
    }
   ],
   "source": [
    "# return a list of keys in the dict\n",
    "dict1.keys()"
   ]
  },
  {
   "cell_type": "code",
   "execution_count": 85,
   "metadata": {},
   "outputs": [
    {
     "data": {
      "text/plain": [
       "dict_values(['value', 5, [20, 25, 30]])"
      ]
     },
     "execution_count": 85,
     "metadata": {},
     "output_type": "execute_result"
    }
   ],
   "source": [
    "# return a list of values in the dict\n",
    "dict1.values()"
   ]
  },
  {
   "cell_type": "code",
   "execution_count": 86,
   "metadata": {},
   "outputs": [
    {
     "data": {
      "text/plain": [
       "dict_items([('key1', 'value'), ('key2', 5), ('key3', [20, 25, 30])])"
      ]
     },
     "execution_count": 86,
     "metadata": {},
     "output_type": "execute_result"
    }
   ],
   "source": [
    "# return a list of key-value pairs (tuples) in the dict\n",
    "dict1.items()"
   ]
  },
  {
   "cell_type": "code",
   "execution_count": 87,
   "metadata": {},
   "outputs": [
    {
     "data": {
      "text/plain": [
       "25"
      ]
     },
     "execution_count": 87,
     "metadata": {},
     "output_type": "execute_result"
    }
   ],
   "source": [
    "# kaip pasiekti list'o reikšmes iš key3? Paprastai: pasirenkam key ir tada kaip ir pasirenkant reikšmę iš list'o\n",
    "dict1[\"key3\"][1]"
   ]
  },
  {
   "cell_type": "code",
   "execution_count": 88,
   "metadata": {},
   "outputs": [
    {
     "data": {
      "text/plain": [
       "{'key1': 'value', 'key2': 5, 'key3': [20, 25, 30], 'key5': 'val1', 'key6': 150}"
      ]
     },
     "execution_count": 88,
     "metadata": {},
     "output_type": "execute_result"
    }
   ],
   "source": [
    "# add multiple key-value pairs to the dict  \n",
    "dict1.update([(\"key5\", \"val1\"), (\"key6\", 150)])\n",
    "dict1"
   ]
  },
  {
   "cell_type": "code",
   "execution_count": 89,
   "metadata": {},
   "outputs": [
    {
     "data": {
      "text/plain": [
       "{'key1': 'value',\n",
       " 'key2': 5,\n",
       " 'key3': [20, 25, 30],\n",
       " 'key5': 'val1',\n",
       " 'key6': 150,\n",
       " 'key10': 'value',\n",
       " 'key7': 115,\n",
       " 'key8': 5}"
      ]
     },
     "execution_count": 89,
     "metadata": {},
     "output_type": "execute_result"
    }
   ],
   "source": [
    "# add all keys and values from another dict to the dict\n",
    "dict2 = {\"key10\": \"value\", \"key7\": 115, \"key8\":5}\n",
    "dict1.update(dict2)\n",
    "dict1"
   ]
  },
  {
   "cell_type": "code",
   "execution_count": 90,
   "metadata": {},
   "outputs": [
    {
     "data": {
      "text/plain": [
       "{'key2': 5,\n",
       " 'key3': [20, 25, 30],\n",
       " 'key5': 'val1',\n",
       " 'key6': 150,\n",
       " 'key10': 'value',\n",
       " 'key7': 115,\n",
       " 'key8': 5}"
      ]
     },
     "execution_count": 90,
     "metadata": {},
     "output_type": "execute_result"
    }
   ],
   "source": [
    "# remove key and return its value from the dict (error if key not found)\n",
    "dict1.pop(\"key1\")\n",
    "dict1"
   ]
  },
  {
   "cell_type": "code",
   "execution_count": 91,
   "metadata": {},
   "outputs": [
    {
     "name": "stdout",
     "output_type": "stream",
     "text": [
      "5\n"
     ]
    }
   ],
   "source": [
    "print(dict1.pop(\"key2\"))"
   ]
  },
  {
   "cell_type": "code",
   "execution_count": 92,
   "metadata": {},
   "outputs": [],
   "source": [
    "# .pop(key, default_val) to remove key and return its value from the dict (or return default_val if key not found)\n",
    "    "
   ]
  },
  {
   "cell_type": "code",
   "execution_count": 93,
   "metadata": {},
   "outputs": [
    {
     "ename": "KeyError",
     "evalue": "'key11'",
     "output_type": "error",
     "traceback": [
      "\u001b[0;31m---------------------------------------------------------------------------\u001b[0m",
      "\u001b[0;31mKeyError\u001b[0m                                  Traceback (most recent call last)",
      "\u001b[0;32m<ipython-input-93-747e677ca6ad>\u001b[0m in \u001b[0;36m<module>\u001b[0;34m\u001b[0m\n\u001b[1;32m      1\u001b[0m \u001b[0;31m# jei nerandama key, išmetama klaida\u001b[0m\u001b[0;34m\u001b[0m\u001b[0;34m\u001b[0m\u001b[0m\n\u001b[0;32m----> 2\u001b[0;31m \u001b[0mdict1\u001b[0m\u001b[0;34m[\u001b[0m\u001b[0;34m\"key11\"\u001b[0m\u001b[0;34m]\u001b[0m\u001b[0;34m\u001b[0m\u001b[0m\n\u001b[0m",
      "\u001b[0;31mKeyError\u001b[0m: 'key11'"
     ]
    }
   ],
   "source": [
    "# jei nerandama key, išmetama klaida\n",
    "dict1[\"key11\"]"
   ]
  },
  {
   "cell_type": "code",
   "execution_count": 94,
   "metadata": {},
   "outputs": [],
   "source": [
    "# return the value at a specified key in the dict (or None if key not found)  \n",
    "#  bet galima naudoti .get(key)\n",
    "dict1.get(\"key11\")"
   ]
  },
  {
   "cell_type": "code",
   "execution_count": 95,
   "metadata": {},
   "outputs": [
    {
     "name": "stdout",
     "output_type": "stream",
     "text": [
      "None\n"
     ]
    }
   ],
   "source": [
    "# jei print, grąžinama None reikšmė\n",
    "print(dict1.get(\"key11\"))"
   ]
  },
  {
   "cell_type": "code",
   "execution_count": 96,
   "metadata": {},
   "outputs": [],
   "source": [
    "# .get(key, default_val) to return the value at a specified key in the dict (or default_val if key not found)"
   ]
  },
  {
   "cell_type": "markdown",
   "metadata": {},
   "source": [
    "## Some methods on tuple objects\n",
    "\n",
    "- **`.count(value)`** returns the number of times a specified value appears in the tuple.\n",
    "- **`.index(value)`** finds the first occurrence of the specified value and returns index"
   ]
  },
  {
   "cell_type": "code",
   "execution_count": 97,
   "metadata": {},
   "outputs": [
    {
     "data": {
      "text/plain": [
       "(3, 5, 6, 3, 'dog', 'cat', False, 5, 'grapes')"
      ]
     },
     "execution_count": 97,
     "metadata": {},
     "output_type": "execute_result"
    }
   ],
   "source": [
    "# Add and re-assign\n",
    "tuple1 += (5, 'grapes')\n",
    "tuple1"
   ]
  },
  {
   "cell_type": "markdown",
   "metadata": {},
   "source": [
    "### Kiti container'iai https://docs.python.org/3/library/collections.html"
   ]
  },
  {
   "cell_type": "markdown",
   "metadata": {},
   "source": [
    "## Accessing data in containers\n",
    "\n",
    "For strings, lists, tuples, and dicts, we can use **subscript notation** (square brackets) to access data at an index.\n",
    "\n",
    "- strings, lists, and tuples are indexed by integers, **starting at 0** for first item\n",
    "  - these sequence types also support accesing a range of items, known as **slicing**\n",
    "  - use **negative indexing** to start at the back of the sequence\n",
    "- dicts are indexed by their keys\n",
    "\n",
    "> Note: sets are not indexed, so we cannot use subscript notation to access data elements."
   ]
  },
  {
   "cell_type": "code",
   "execution_count": 98,
   "metadata": {},
   "outputs": [
    {
     "data": {
      "text/plain": [
       "3"
      ]
     },
     "execution_count": 98,
     "metadata": {},
     "output_type": "execute_result"
    }
   ],
   "source": [
    "# Access the first item in a sequence\n",
    "list1 = [3, 5, 6, 3, 'dog', 'cat', False]\n",
    "list1[0]"
   ]
  },
  {
   "cell_type": "code",
   "execution_count": 99,
   "metadata": {},
   "outputs": [
    {
     "data": {
      "text/plain": [
       "False"
      ]
     },
     "execution_count": 99,
     "metadata": {},
     "output_type": "execute_result"
    }
   ],
   "source": [
    "# Access the last item in a sequence\n",
    "tuple1 = (3, 5, 6, 3, 'dog', 'cat', False)\n",
    "tuple1[-1]"
   ]
  },
  {
   "cell_type": "code",
   "execution_count": 100,
   "metadata": {},
   "outputs": [
    {
     "data": {
      "text/plain": [
       "'ess a'"
      ]
     },
     "execution_count": 100,
     "metadata": {},
     "output_type": "execute_result"
    }
   ],
   "source": [
    "# Access a range of items in a sequence\n",
    "simple_string1 = \"Access a range of items in a sequence\"\n",
    "simple_string1[3:8]"
   ]
  },
  {
   "cell_type": "code",
   "execution_count": 101,
   "metadata": {},
   "outputs": [
    {
     "data": {
      "text/plain": [
       "(3, 5, 6, 3)"
      ]
     },
     "execution_count": 101,
     "metadata": {},
     "output_type": "execute_result"
    }
   ],
   "source": [
    "# Access a range of items in a sequence\n",
    "tuple1[:-3]"
   ]
  },
  {
   "cell_type": "code",
   "execution_count": 102,
   "metadata": {},
   "outputs": [
    {
     "data": {
      "text/plain": [
       "['dog', 'cat', False]"
      ]
     },
     "execution_count": 102,
     "metadata": {},
     "output_type": "execute_result"
    }
   ],
   "source": [
    "# Access a range of items in a sequence\n",
    "list1[4:]"
   ]
  },
  {
   "cell_type": "markdown",
   "metadata": {},
   "source": [
    "## Python built-in functions and callables\n",
    "\n",
    "A **function** is a Python object that you can \"call\" to **perform an action** or compute and **return another object**. You call a function by placing parentheses to the right of the function name. Some functions allow you to pass **arguments** inside the parentheses (separating multiple arguments with a comma). Internal to the function, these arguments are treated like variables.\n",
    "\n",
    "Python has several useful built-in functions to help you work with different objects and/or your environment. Here is a small sample of them:\n",
    "\n",
    "- **`type(obj)`** to determine the type of an object\n",
    "- **`len(container)`** to determine how many items are in a container\n",
    "- **`callable(obj)`** to determine if an object is callable\n",
    "- **`sorted(container)`** to return a new list from a container, with the items sorted\n",
    "- **`sum(container)`** to compute the sum of a container of numbers\n",
    "- **`min(container)`** to determine the smallest item in a container\n",
    "- **`max(container)`** to determine the largest item in a container\n",
    "- **`abs(number)`** to determine the absolute value of a number\n",
    "- **`repr(obj)`** to return a string representation of an object\n",
    "\n",
    "> Complete list of built-in functions: https://docs.python.org/3/library/functions.html\n",
    "\n",
    "There are also different ways of defining your own functions and callable objects that we will explore later."
   ]
  },
  {
   "cell_type": "code",
   "execution_count": 103,
   "metadata": {
    "scrolled": true
   },
   "outputs": [
    {
     "name": "stdout",
     "output_type": "stream",
     "text": [
      "5\n"
     ]
    },
    {
     "data": {
      "text/plain": [
       "'5'"
      ]
     },
     "execution_count": 103,
     "metadata": {},
     "output_type": "execute_result"
    }
   ],
   "source": [
    "# jei prireikia, galima konvertuot skaičių į string'ą\n",
    "a = 5\n",
    "print(a)\n",
    "b = str(a)\n",
    "b"
   ]
  },
  {
   "cell_type": "code",
   "execution_count": 104,
   "metadata": {},
   "outputs": [
    {
     "data": {
      "text/plain": [
       "str"
      ]
     },
     "execution_count": 104,
     "metadata": {},
     "output_type": "execute_result"
    }
   ],
   "source": [
    "type(b)"
   ]
  },
  {
   "cell_type": "code",
   "execution_count": 105,
   "metadata": {},
   "outputs": [
    {
     "name": "stdout",
     "output_type": "stream",
     "text": [
      "5\n"
     ]
    }
   ],
   "source": [
    "a = \"5\"\n",
    "b = int(a)\n",
    "print(b)"
   ]
  },
  {
   "cell_type": "code",
   "execution_count": 106,
   "metadata": {},
   "outputs": [
    {
     "data": {
      "text/plain": [
       "int"
      ]
     },
     "execution_count": 106,
     "metadata": {},
     "output_type": "execute_result"
    }
   ],
   "source": [
    "type(b)"
   ]
  },
  {
   "cell_type": "code",
   "execution_count": 107,
   "metadata": {},
   "outputs": [
    {
     "ename": "TypeError",
     "evalue": "must be str, not int",
     "output_type": "error",
     "traceback": [
      "\u001b[0;31m---------------------------------------------------------------------------\u001b[0m",
      "\u001b[0;31mTypeError\u001b[0m                                 Traceback (most recent call last)",
      "\u001b[0;32m<ipython-input-107-5cd40e0bb6cf>\u001b[0m in \u001b[0;36m<module>\u001b[0;34m\u001b[0m\n\u001b[0;32m----> 1\u001b[0;31m \u001b[0ma\u001b[0m \u001b[0;34m+\u001b[0m \u001b[0;36m5\u001b[0m\u001b[0;34m\u001b[0m\u001b[0m\n\u001b[0m",
      "\u001b[0;31mTypeError\u001b[0m: must be str, not int"
     ]
    }
   ],
   "source": [
    "a + 5"
   ]
  },
  {
   "cell_type": "code",
   "execution_count": 108,
   "metadata": {
    "scrolled": false
   },
   "outputs": [
    {
     "data": {
      "text/plain": [
       "10"
      ]
     },
     "execution_count": 108,
     "metadata": {},
     "output_type": "execute_result"
    }
   ],
   "source": [
    "b + 5"
   ]
  },
  {
   "cell_type": "code",
   "execution_count": 109,
   "metadata": {},
   "outputs": [
    {
     "data": {
      "text/plain": [
       "0.0"
      ]
     },
     "execution_count": 109,
     "metadata": {},
     "output_type": "execute_result"
    }
   ],
   "source": [
    "# tas pats kaip interger\n",
    "float()"
   ]
  },
  {
   "cell_type": "code",
   "execution_count": 110,
   "metadata": {},
   "outputs": [
    {
     "data": {
      "text/plain": [
       "['a']"
      ]
     },
     "execution_count": 110,
     "metadata": {},
     "output_type": "execute_result"
    }
   ],
   "source": [
    "# pagrindiniai container'iai turi ir funkcija, daugiausia naudojama sukuriant tuščius ir eigoje pridedant reikšmes\n",
    "# arba paverčiant iš vieno container'io tipo į kitą prireikus\n",
    "a = list()\n",
    "a.append(\"a\")\n",
    "a"
   ]
  },
  {
   "cell_type": "code",
   "execution_count": 111,
   "metadata": {},
   "outputs": [
    {
     "data": {
      "text/plain": [
       "('a', 8, 5)"
      ]
     },
     "execution_count": 111,
     "metadata": {},
     "output_type": "execute_result"
    }
   ],
   "source": [
    "l = [\"a\", 8, 5]\n",
    "a = tuple(l)\n",
    "a"
   ]
  },
  {
   "cell_type": "code",
   "execution_count": 112,
   "metadata": {},
   "outputs": [
    {
     "data": {
      "text/plain": [
       "{'a': 5}"
      ]
     },
     "execution_count": 112,
     "metadata": {},
     "output_type": "execute_result"
    }
   ],
   "source": [
    "a = dict()\n",
    "a[\"a\"] = 5\n",
    "a"
   ]
  },
  {
   "cell_type": "code",
   "execution_count": 113,
   "metadata": {},
   "outputs": [
    {
     "data": {
      "text/plain": [
       "{5, 6, 7, 'a', 'b'}"
      ]
     },
     "execution_count": 113,
     "metadata": {},
     "output_type": "execute_result"
    }
   ],
   "source": [
    "a = [5,6,7,7,7, \"a\", \"a\", \"b\"]\n",
    "b = set(a)\n",
    "b"
   ]
  },
  {
   "cell_type": "code",
   "execution_count": 114,
   "metadata": {},
   "outputs": [
    {
     "data": {
      "text/plain": [
       "6"
      ]
     },
     "execution_count": 114,
     "metadata": {},
     "output_type": "execute_result"
    }
   ],
   "source": [
    "# Use the len() function to determine how many items are in a container\n",
    "len(dict1)"
   ]
  },
  {
   "cell_type": "code",
   "execution_count": 115,
   "metadata": {},
   "outputs": [
    {
     "data": {
      "text/plain": [
       "24"
      ]
     },
     "execution_count": 115,
     "metadata": {},
     "output_type": "execute_result"
    }
   ],
   "source": [
    "# Use the len() function to determine how many items are in a container\n",
    "len(simple_string2)"
   ]
  },
  {
   "cell_type": "code",
   "execution_count": 116,
   "metadata": {
    "scrolled": true
   },
   "outputs": [
    {
     "data": {
      "text/plain": [
       "False"
      ]
     },
     "execution_count": 116,
     "metadata": {},
     "output_type": "execute_result"
    }
   ],
   "source": [
    "# Use the callable() function to determine if an object is callable\n",
    "callable(\"a\")"
   ]
  },
  {
   "cell_type": "code",
   "execution_count": 117,
   "metadata": {},
   "outputs": [
    {
     "data": {
      "text/plain": [
       "False"
      ]
     },
     "execution_count": 117,
     "metadata": {},
     "output_type": "execute_result"
    }
   ],
   "source": [
    "# Use the callable() function to determine if an object is callable\n",
    "callable(dict1)"
   ]
  },
  {
   "cell_type": "code",
   "execution_count": 118,
   "metadata": {},
   "outputs": [
    {
     "data": {
      "text/plain": [
       "True"
      ]
     },
     "execution_count": 118,
     "metadata": {},
     "output_type": "execute_result"
    }
   ],
   "source": [
    "callable(str)"
   ]
  },
  {
   "cell_type": "code",
   "execution_count": 119,
   "metadata": {},
   "outputs": [
    {
     "data": {
      "text/plain": [
       "[-3, 1, 2, 3.6, 5, 7, 10]"
      ]
     },
     "execution_count": 119,
     "metadata": {},
     "output_type": "execute_result"
    }
   ],
   "source": [
    "# Use the sorted() function to return a new list from a container, with the items sorted\n",
    "sorted([10, 1, 3.6, 7, 5, 2, -3])"
   ]
  },
  {
   "cell_type": "code",
   "execution_count": 120,
   "metadata": {},
   "outputs": [
    {
     "data": {
      "text/plain": [
       "['California', 'Chicago', 'ants', 'cats', 'dogs', 'mice', 'zebras']"
      ]
     },
     "execution_count": 120,
     "metadata": {},
     "output_type": "execute_result"
    }
   ],
   "source": [
    "# Use the sorted() function to return a new list from a container, with the items sorted\n",
    "# - notice that capitalized strings come first\n",
    "sorted(['dogs', 'cats', 'zebras', 'Chicago', 'California', 'ants', 'mice'])"
   ]
  },
  {
   "cell_type": "code",
   "execution_count": 121,
   "metadata": {},
   "outputs": [
    {
     "data": {
      "text/plain": [
       "25.6"
      ]
     },
     "execution_count": 121,
     "metadata": {},
     "output_type": "execute_result"
    }
   ],
   "source": [
    "# Use the sum() function to compute the sum of a container of numbers\n",
    "sum([10, 1, 3.6, 7, 5, 2, -3])"
   ]
  },
  {
   "cell_type": "code",
   "execution_count": 122,
   "metadata": {},
   "outputs": [
    {
     "data": {
      "text/plain": [
       "-3"
      ]
     },
     "execution_count": 122,
     "metadata": {},
     "output_type": "execute_result"
    }
   ],
   "source": [
    "# Use the min() function to determine the smallest item in a container\n",
    "min([10, 1, 3.6, 7, 5, 2, -3])"
   ]
  },
  {
   "cell_type": "code",
   "execution_count": 123,
   "metadata": {},
   "outputs": [
    {
     "data": {
      "text/plain": [
       "'a'"
      ]
     },
     "execution_count": 123,
     "metadata": {},
     "output_type": "execute_result"
    }
   ],
   "source": [
    "# Use the min() function to determine the smallest item in a container\n",
    "min(['g', 'z', 'a', 'y'])"
   ]
  },
  {
   "cell_type": "code",
   "execution_count": 124,
   "metadata": {},
   "outputs": [
    {
     "data": {
      "text/plain": [
       "10"
      ]
     },
     "execution_count": 124,
     "metadata": {},
     "output_type": "execute_result"
    }
   ],
   "source": [
    "# Use the max() function to determine the largest item in a container\n",
    "max([10, 1, 3.6, 7, 5, 2, -3])"
   ]
  },
  {
   "cell_type": "code",
   "execution_count": 125,
   "metadata": {},
   "outputs": [
    {
     "data": {
      "text/plain": [
       "'s'"
      ]
     },
     "execution_count": 125,
     "metadata": {},
     "output_type": "execute_result"
    }
   ],
   "source": [
    "# Use the max() function to determine the largest item in a container\n",
    "max('gibberish')"
   ]
  },
  {
   "cell_type": "code",
   "execution_count": 126,
   "metadata": {},
   "outputs": [
    {
     "data": {
      "text/plain": [
       "10"
      ]
     },
     "execution_count": 126,
     "metadata": {},
     "output_type": "execute_result"
    }
   ],
   "source": [
    "# Use the abs() function to determine the absolute value of a number\n",
    "abs(10)"
   ]
  },
  {
   "cell_type": "code",
   "execution_count": 127,
   "metadata": {},
   "outputs": [
    {
     "data": {
      "text/plain": [
       "12"
      ]
     },
     "execution_count": 127,
     "metadata": {},
     "output_type": "execute_result"
    }
   ],
   "source": [
    "# Use the abs() function to determine the absolute value of a number\n",
    "abs(-12)"
   ]
  },
  {
   "cell_type": "code",
   "execution_count": 128,
   "metadata": {},
   "outputs": [
    {
     "data": {
      "text/plain": [
       "'{1, 3, 4, 5, 6}'"
      ]
     },
     "execution_count": 128,
     "metadata": {},
     "output_type": "execute_result"
    }
   ],
   "source": [
    "# Use the repr() function to return a string representation of an object\n",
    "repr(set1)"
   ]
  },
  {
   "cell_type": "markdown",
   "metadata": {},
   "source": [
    "## Python object attributes (methods and properties)\n",
    "\n",
    "Different types of objects in Python have different **attributes** that can be referred to by name (similar to a variable). To access an attribute of an object, use a dot (`.`) after the object, then specify the attribute (i.e. `obj.attribute`)\n",
    "\n",
    "When an attribute of an object is a callable, that attribute is called a **method**. It is the same as a function, only this function is bound to a particular object.\n",
    "\n",
    "When an attribute of an object is not a callable, that attribute is called a **property**. It is just a piece of data about the object, that is itself another object.\n",
    "\n",
    "The built-in `dir()` function can be used to return a list of an object's attributes.\n",
    "\n",
    "<hr>"
   ]
  },
  {
   "cell_type": "markdown",
   "metadata": {},
   "source": [
    "## Some methods on string objects\n",
    "\n",
    "- **`.capitalize()`** to return a capitalized version of the string (only first char uppercase)\n",
    "- **`.upper()`** to return an uppercase version of the string (all chars uppercase)\n",
    "- **`.lower()`** to return an lowercase version of the string (all chars lowercase)\n",
    "- **`.count(substring)`** to return the number of occurences of the substring in the string\n",
    "- **`.startswith(substring)`** to determine if the string starts with the substring\n",
    "- **`.endswith(substring)`** to determine if the string ends with the substring\n",
    "- **`.replace(old, new)`** to return a copy of the string with occurences of the \"old\" replaced by \"new\""
   ]
  },
  {
   "cell_type": "code",
   "execution_count": 129,
   "metadata": {},
   "outputs": [],
   "source": [
    "# Assign a string to a variable\n",
    "a_string = 'tHis is a sTriNg'"
   ]
  },
  {
   "cell_type": "code",
   "execution_count": 130,
   "metadata": {},
   "outputs": [
    {
     "data": {
      "text/plain": [
       "'This is a string'"
      ]
     },
     "execution_count": 130,
     "metadata": {},
     "output_type": "execute_result"
    }
   ],
   "source": [
    "# Return a capitalized version of the string\n",
    "a_string.capitalize()"
   ]
  },
  {
   "cell_type": "code",
   "execution_count": 131,
   "metadata": {},
   "outputs": [
    {
     "data": {
      "text/plain": [
       "'THIS IS A STRING'"
      ]
     },
     "execution_count": 131,
     "metadata": {},
     "output_type": "execute_result"
    }
   ],
   "source": [
    "# Return an uppercase version of the string\n",
    "a_string.upper()"
   ]
  },
  {
   "cell_type": "code",
   "execution_count": 132,
   "metadata": {},
   "outputs": [
    {
     "data": {
      "text/plain": [
       "'this is a string'"
      ]
     },
     "execution_count": 132,
     "metadata": {},
     "output_type": "execute_result"
    }
   ],
   "source": [
    "# Return a lowercase version of the string\n",
    "a_string.lower()"
   ]
  },
  {
   "cell_type": "code",
   "execution_count": 133,
   "metadata": {},
   "outputs": [
    {
     "data": {
      "text/plain": [
       "'tHis is a sTriNg'"
      ]
     },
     "execution_count": 133,
     "metadata": {},
     "output_type": "execute_result"
    }
   ],
   "source": [
    "# Notice that the methods called have not actually modified the string\n",
    "a_string"
   ]
  },
  {
   "cell_type": "code",
   "execution_count": 134,
   "metadata": {},
   "outputs": [
    {
     "data": {
      "text/plain": [
       "3"
      ]
     },
     "execution_count": 134,
     "metadata": {},
     "output_type": "execute_result"
    }
   ],
   "source": [
    "# Count number of occurences of a substring in the string\n",
    "a_string.count('i')"
   ]
  },
  {
   "cell_type": "code",
   "execution_count": 135,
   "metadata": {},
   "outputs": [
    {
     "data": {
      "text/plain": [
       "1"
      ]
     },
     "execution_count": 135,
     "metadata": {},
     "output_type": "execute_result"
    }
   ],
   "source": [
    "# Count number of occurences of a substring in the string after a certain position\n",
    "a_string.count('i', 7)"
   ]
  },
  {
   "cell_type": "code",
   "execution_count": 136,
   "metadata": {},
   "outputs": [
    {
     "data": {
      "text/plain": [
       "2"
      ]
     },
     "execution_count": 136,
     "metadata": {},
     "output_type": "execute_result"
    }
   ],
   "source": [
    "# Count number of occurences of a substring in the string\n",
    "a_string.count('is')"
   ]
  },
  {
   "cell_type": "code",
   "execution_count": 137,
   "metadata": {},
   "outputs": [
    {
     "data": {
      "text/plain": [
       "False"
      ]
     },
     "execution_count": 137,
     "metadata": {},
     "output_type": "execute_result"
    }
   ],
   "source": [
    "# Does the string start with 'this'?\n",
    "a_string.startswith('this')"
   ]
  },
  {
   "cell_type": "code",
   "execution_count": 138,
   "metadata": {},
   "outputs": [
    {
     "data": {
      "text/plain": [
       "True"
      ]
     },
     "execution_count": 138,
     "metadata": {},
     "output_type": "execute_result"
    }
   ],
   "source": [
    "# Does the lowercase string start with 'this'?\n",
    "a_string.lower().startswith('this')"
   ]
  },
  {
   "cell_type": "code",
   "execution_count": 139,
   "metadata": {},
   "outputs": [
    {
     "data": {
      "text/plain": [
       "True"
      ]
     },
     "execution_count": 139,
     "metadata": {},
     "output_type": "execute_result"
    }
   ],
   "source": [
    "# Does the string end with 'Ng'?\n",
    "a_string.endswith('Ng')"
   ]
  },
  {
   "cell_type": "code",
   "execution_count": 140,
   "metadata": {},
   "outputs": [
    {
     "data": {
      "text/plain": [
       "'tHXYZ XYZ a sTriNg'"
      ]
     },
     "execution_count": 140,
     "metadata": {},
     "output_type": "execute_result"
    }
   ],
   "source": [
    "# Return a version of the string with a substring replaced with something else\n",
    "a_string.replace('is', 'XYZ')"
   ]
  },
  {
   "cell_type": "code",
   "execution_count": 141,
   "metadata": {},
   "outputs": [
    {
     "data": {
      "text/plain": [
       "'tH!s !s a sTr!Ng'"
      ]
     },
     "execution_count": 141,
     "metadata": {},
     "output_type": "execute_result"
    }
   ],
   "source": [
    "# Return a version of the string with a substring replaced with something else\n",
    "a_string.replace('i', '!')"
   ]
  },
  {
   "cell_type": "code",
   "execution_count": 142,
   "metadata": {},
   "outputs": [
    {
     "data": {
      "text/plain": [
       "'tH!s !s a sTriNg'"
      ]
     },
     "execution_count": 142,
     "metadata": {},
     "output_type": "execute_result"
    }
   ],
   "source": [
    "# Return a version of the string with the first 2 occurences a substring replaced with something else\n",
    "a_string.replace('i', '!', 2)"
   ]
  },
  {
   "cell_type": "markdown",
   "metadata": {},
   "source": [
    "### 3 diena"
   ]
  },
  {
   "cell_type": "markdown",
   "metadata": {},
   "source": [
    "## Functions, Positional arguments and keyword arguments, * args, ** kwargs, lambda\n",
    "\n",
    "You can call a function/method in a number of different ways:\n",
    "\n",
    "- `func()`: Call `func` with no arguments\n",
    "- `func(arg)`: Call `func` with one positional argument\n",
    "- `func(arg1, arg2)`: Call `func` with two positional arguments\n",
    "- `func(arg1, arg2, ..., argn)`: Call `func` with many positional arguments\n",
    "- `func(kwarg=value)`: Call `func` with one keyword argument \n",
    "- `func(kwarg1=value1, kwarg2=value2)`: Call `func` with two keyword arguments\n",
    "- `func(kwarg1=value1, kwarg2=value2, ..., kwargn=valuen)`: Call `func` with many keyword arguments\n",
    "- `func(arg1, arg2, kwarg1=value1, kwarg2=value2)`: Call `func` with positonal arguments and keyword arguments\n",
    "- `obj.method()`: Same for `func`.. and every other `func` example\n",
    "\n",
    "When using **positional arguments**, you must provide them in the order that the function defined them (the function's **signature**).\n",
    "\n",
    "When using **keyword arguments**, you can provide the arguments you want, in any order you want, as long as you specify each argument's name.\n",
    "\n",
    "When using positional and keyword arguments, positional arguments must come first."
   ]
  },
  {
   "cell_type": "code",
   "execution_count": 143,
   "metadata": {},
   "outputs": [
    {
     "name": "stdout",
     "output_type": "stream",
     "text": [
      "Jonas\n"
     ]
    }
   ],
   "source": [
    "# python'e funkcijos aprašomos taip:\n",
    "# 1) pirma eina def, kaip žymeklis, kad norime sukurti funkciją, o ne sakykim, klasę ir norim, kad ji turėtų pavadinimą\n",
    "# 2) tada pavadinimas, lygiai taip pat, kaip kad reikia pavadinimo kintamiesiems\n",
    "# 3) skliaustai \"()\", kuriuose gali ir nebūti argumentų, bet dažniausiai reikia ir jų gali būti \"beliek\",\n",
    "# su kuriais kažką padarome kode ir pavadinimai gali būti bet kokie, bet aišku, kad geriausia jog būtų meaningful\n",
    "# 4) dvitaškis \":\"\n",
    "# 5) tada BŪTINAS intend: 4 space arba tab\n",
    "# 6) ir po to eina kodas\n",
    "# 7) ir jei reikia, kad kažkokia reikšmė būtų grąžinta, pačiam kodo gale \"return\"\n",
    "# 8) ir tada reikia initializuoti funkciją, suvedus jos pavadinimą ir atitinkamus argumentus, jei jie reikalingi.\n",
    "vardas = \"Jonas\"\n",
    "def pav():\n",
    "    print(vardas)\n",
    "    \n",
    "pav()"
   ]
  },
  {
   "cell_type": "code",
   "execution_count": 144,
   "metadata": {},
   "outputs": [
    {
     "name": "stdout",
     "output_type": "stream",
     "text": [
      "Jonas\n"
     ]
    }
   ],
   "source": [
    "vardas = \"Jonas\"\n",
    "def pav():\n",
    "    return vardas\n",
    "    \n",
    "print(pav())"
   ]
  },
  {
   "cell_type": "code",
   "execution_count": 145,
   "metadata": {},
   "outputs": [
    {
     "name": "stdout",
     "output_type": "stream",
     "text": [
      "Jonas\n"
     ]
    }
   ],
   "source": [
    "# su argumentu\n",
    "vardas = \"Jonas\"\n",
    "def pav(vard):\n",
    "    print(vard)\n",
    "    \n",
    "pav(vardas)"
   ]
  },
  {
   "cell_type": "code",
   "execution_count": 146,
   "metadata": {},
   "outputs": [
    {
     "name": "stdout",
     "output_type": "stream",
     "text": [
      "Jonas Jonassas\n"
     ]
    }
   ],
   "source": [
    "# su argumentu\n",
    "vardas = \"Jonas\"\n",
    "pavarde = \"Jonassas\"\n",
    "\n",
    "def pav(v, p):\n",
    "    print(f\"{v} {p}\")\n",
    "    \n",
    "pav(vardas, pavarde)"
   ]
  },
  {
   "cell_type": "code",
   "execution_count": 147,
   "metadata": {
    "scrolled": true
   },
   "outputs": [
    {
     "name": "stdout",
     "output_type": "stream",
     "text": [
      "Sveiki šiandien trečiadienis\n"
     ]
    }
   ],
   "source": [
    "# taip pat galima naudoti keyword argumentus, kurie naudojami nustatyti kažkokią default value ir įvedus kaip keyword\n",
    "# argumentą per funkcijos inicijavimą, galima ją pakeisti\n",
    "diena = \"trečiadienis\"\n",
    "\n",
    "def pav(d=diena):\n",
    "    print(f\"Sveiki šiandien {d}\")\n",
    "    \n",
    "pav()"
   ]
  },
  {
   "cell_type": "code",
   "execution_count": 148,
   "metadata": {},
   "outputs": [
    {
     "name": "stdout",
     "output_type": "stream",
     "text": [
      "Sveiki šiandien ketvirtadienis\n"
     ]
    }
   ],
   "source": [
    "pav(\"ketvirtadienis\")"
   ]
  },
  {
   "cell_type": "code",
   "execution_count": 149,
   "metadata": {},
   "outputs": [
    {
     "name": "stdout",
     "output_type": "stream",
     "text": [
      "Sveiki Jonas Jonassas, šiandien trečiadienis\n"
     ]
    }
   ],
   "source": [
    "#  galima naudoti kartu argumentus ir keyword argumentus\n",
    "vardas = \"Jonas\"\n",
    "pavarde = \"Jonassas\"\n",
    "diena = \"trečiadienis\"\n",
    "\n",
    "def pav(v, p, d=diena):\n",
    "    print(f\"Sveiki {v} {p}, šiandien {d}\")\n",
    "    \n",
    "pav(vardas, pavarde)"
   ]
  },
  {
   "cell_type": "code",
   "execution_count": 150,
   "metadata": {},
   "outputs": [
    {
     "name": "stdout",
     "output_type": "stream",
     "text": [
      "Sveiki Jonas Jonassas, šiandien ketvirtadienis\n"
     ]
    }
   ],
   "source": [
    "pav(vardas, pavarde, \"ketvirtadienis\")"
   ]
  },
  {
   "cell_type": "code",
   "execution_count": 151,
   "metadata": {},
   "outputs": [
    {
     "name": "stdout",
     "output_type": "stream",
     "text": [
      "10\n"
     ]
    }
   ],
   "source": [
    "# lambda https://www.w3schools.com/python/python_lambda.asp\n",
    "# taip pat yra anonymous funkcijos, kurioms nereikia pavadinimo, gali priimti argumentus ir tik vieną expression\n",
    "# 1) pirma eina \"lambda\"\n",
    "# 2) tada agumentas/ai\n",
    "# 3) tada\":\"\n",
    "# 4) expression'as\n",
    "# dažniausiai naudojama kartu su map() ir filter().\n",
    "double = lambda x: x * 2\n",
    "print(double(5))"
   ]
  },
  {
   "cell_type": "code",
   "execution_count": 152,
   "metadata": {},
   "outputs": [
    {
     "name": "stdout",
     "output_type": "stream",
     "text": [
      "35\n"
     ]
    }
   ],
   "source": [
    "daugyba = lambda x, y: x * 7\n",
    "print(daugyba(5, 6))"
   ]
  },
  {
   "cell_type": "code",
   "execution_count": 153,
   "metadata": {},
   "outputs": [
    {
     "name": "stdout",
     "output_type": "stream",
     "text": [
      "first normal arg: yasoob\n",
      "another arg through *argv : python\n",
      "another arg through *argv : eggs\n",
      "another arg through *argv : test\n"
     ]
    }
   ],
   "source": [
    "#  *args, **kwargs, naudojami, kaip nežinom tikslaus argumetų skaičiau, bet žinom, kad galima padaryti tą patį veiksmą\n",
    "def test_var_args(f_arg, *argv):\n",
    "    print(\"first normal arg:\", f_arg)\n",
    "    for arg in argv:\n",
    "        print(\"another arg through *argv :\", arg)\n",
    "\n",
    "test_var_args('yasoob','python','eggs','test')"
   ]
  },
  {
   "cell_type": "markdown",
   "metadata": {},
   "source": [
    "#### Užduotis:\n",
    "Panaudojus funkciją: panaudodami 1 ir 2 būdus (f\"{}\" ir \"{}\".format()), priimti email'ą (pvz. vardaspavardė@com.com), bet būtinai slaptažodį ir print'inti vardą ir pavardę (panašiai kaip prisijungus prie account'o)"
   ]
  },
  {
   "cell_type": "markdown",
   "metadata": {},
   "source": [
    "## Python \"for loops\"\n",
    "\n",
    "It is easy to **iterate** over a collection of items using a **for loop**. The strings, lists, tuples, sets, and dictionaries we defined are all **iterable** containers.\n",
    "\n",
    "The for loop will go through the specified container, one item at a time, and provide a temporary variable for the current item. You can use this temporary variable like a normal variable."
   ]
  },
  {
   "cell_type": "code",
   "execution_count": 154,
   "metadata": {},
   "outputs": [
    {
     "name": "stdout",
     "output_type": "stream",
     "text": [
      "a\n",
      "b\n"
     ]
    }
   ],
   "source": [
    "for i in [\"a\", \"b\"]: # gali būti tuples, listai, string, net dict\n",
    "    print(i)"
   ]
  },
  {
   "cell_type": "markdown",
   "metadata": {},
   "source": [
    "#### range() https://www.w3schools.com/python/ref_func_range.asp"
   ]
  },
  {
   "cell_type": "code",
   "execution_count": 155,
   "metadata": {},
   "outputs": [
    {
     "name": "stdout",
     "output_type": "stream",
     "text": [
      "0\n",
      "1\n",
      "2\n",
      "3\n",
      "4\n"
     ]
    }
   ],
   "source": [
    "# jei norim naudoti tam tikrą skaičių iteracijų ar specifiškai skaičius\n",
    "for i in range(5):\n",
    "    print(i)"
   ]
  },
  {
   "cell_type": "code",
   "execution_count": 156,
   "metadata": {},
   "outputs": [
    {
     "name": "stdout",
     "output_type": "stream",
     "text": [
      "2\n",
      "4\n",
      "8\n",
      "16\n",
      "32\n"
     ]
    }
   ],
   "source": [
    "a = 1\n",
    "for i in range(5):\n",
    "    a *= 2\n",
    "    print(a)"
   ]
  },
  {
   "cell_type": "markdown",
   "metadata": {},
   "source": [
    "#### enumarate() https://www.programiz.com/python-programming/methods/built-in/enumerate"
   ]
  },
  {
   "cell_type": "code",
   "execution_count": 157,
   "metadata": {},
   "outputs": [
    {
     "name": "stdout",
     "output_type": "stream",
     "text": [
      "0 Jonas\n",
      "1 Petras\n"
     ]
    }
   ],
   "source": [
    "# jei norim žinoti ir index'ą\n",
    "for i, v in enumerate([\"Jonas\", \"Petras\"]):\n",
    "    print(i, v)"
   ]
  },
  {
   "cell_type": "code",
   "execution_count": 158,
   "metadata": {},
   "outputs": [
    {
     "data": {
      "text/plain": [
       "{'a': 3, 'b': 3, 'c': 3}"
      ]
     },
     "execution_count": 158,
     "metadata": {},
     "output_type": "execute_result"
    }
   ],
   "source": [
    "# norint dictinary'io priskirti reikšmes, reikia naudoti zip(), kadangi norit sudaryti dictionary reikia vienu metu turėti\n",
    "# tiek key, tiek value, ko negalima padaryti paprastu for loop.\n",
    "dict1 = dict()\n",
    "keys = ['a', 'b', 'c']\n",
    "values = [1, 2, 3]\n",
    "for k in keys:\n",
    "    for v in values:\n",
    "        dict1[k] = v\n",
    "dict1"
   ]
  },
  {
   "cell_type": "code",
   "execution_count": 159,
   "metadata": {},
   "outputs": [
    {
     "data": {
      "text/plain": [
       "{'a': 1, 'b': 2, 'c': 3}"
      ]
     },
     "execution_count": 159,
     "metadata": {},
     "output_type": "execute_result"
    }
   ],
   "source": [
    "for k, v in zip(keys, values):\n",
    "    dict1[k] = v\n",
    "dict1"
   ]
  },
  {
   "cell_type": "code",
   "execution_count": 160,
   "metadata": {},
   "outputs": [
    {
     "name": "stdout",
     "output_type": "stream",
     "text": [
      "{'a': 1, 'b': 2, 'c': 3}\n"
     ]
    }
   ],
   "source": [
    "# bet kaip visada python'as turi palengvinimų\n",
    "keys = ['a', 'b', 'c']\n",
    "values = [1, 2, 3]\n",
    "dictionary = dict(zip(keys, values))\n",
    "print(dictionary)"
   ]
  },
  {
   "cell_type": "code",
   "execution_count": 161,
   "metadata": {},
   "outputs": [
    {
     "name": "stdout",
     "output_type": "stream",
     "text": [
      "[('x', 3), ('y', 4), ('z', 5)]\n",
      "c = ('x', 'y', 'z')\n",
      "v = (3, 4, 5)\n"
     ]
    }
   ],
   "source": [
    "# difference between iterable and iterator https://www.geeksforgeeks.org/python-difference-iterable-iterator/\n",
    "\n",
    "coordinate = ['x', 'y', 'z']\n",
    "value = [3, 4, 5, 0, 9]\n",
    "\n",
    "result = zip(coordinate, value)\n",
    "resultList = list(result)\n",
    "print(resultList)\n",
    "\n",
    "c,v =  zip(*resultList)\n",
    "print('c =', c)\n",
    "print('v =', v)"
   ]
  },
  {
   "cell_type": "code",
   "execution_count": 162,
   "metadata": {},
   "outputs": [
    {
     "name": "stdout",
     "output_type": "stream",
     "text": [
      "1\n",
      "1\n",
      "2\n",
      "3\n",
      "5\n"
     ]
    }
   ],
   "source": [
    "# Fibonacci numbers paprastas sprendimas (vienas iš daugelio)\n",
    "inp = 5\n",
    "\n",
    "a = [0, 1]\n",
    "\n",
    "for i in range(2, (inp + 1)):\n",
    "    b = a[-2] + a[-1]\n",
    "    a.append(b)\n",
    "\n",
    "for i in a[1:]:\n",
    "    print(i)"
   ]
  },
  {
   "cell_type": "code",
   "execution_count": 163,
   "metadata": {},
   "outputs": [
    {
     "name": "stdout",
     "output_type": "stream",
     "text": [
      "1\n",
      "1\n",
      "2\n",
      "3\n",
      "5\n"
     ]
    }
   ],
   "source": [
    "# Fibonacci numbers pythonic sprendimas\n",
    "inp = 5\n",
    "a, b = 0, 1\n",
    "\n",
    "for i in range(inp):\n",
    "    a, b = b, a + b\n",
    "    print(a)"
   ]
  },
  {
   "cell_type": "markdown",
   "metadata": {},
   "source": [
    "#### Užduotis:\n",
    "Fibonacci užduotį su funkcija"
   ]
  },
  {
   "cell_type": "code",
   "execution_count": 164,
   "metadata": {},
   "outputs": [
    {
     "name": "stdout",
     "output_type": "stream",
     "text": [
      "1\n",
      "1\n",
      "2\n",
      "3\n",
      "5\n"
     ]
    }
   ],
   "source": [
    "inp = 5\n",
    "\n",
    "def fibonacci(sk):\n",
    "    a = 0\n",
    "    c = 1\n",
    "    for i in range(sk):\n",
    "        a, c = c, a + c\n",
    "        print(a)\n",
    "\n",
    "fibonacci(inp)"
   ]
  },
  {
   "cell_type": "markdown",
   "metadata": {},
   "source": [
    "## Python \"if statements\" and \"while loops\"\n",
    "\n",
    "Conditional expressions can be used with these two **conditional statements**.\n",
    "\n",
    "The **if statement** allows you to test a condition and perform some actions if the condition evaluates to `True`. You can also provide `elif` and/or `else` clauses to an if statement to take alternative actions if the condition evaluates to `False`.\n",
    "\n",
    "The **while loop** will keep looping until its conditional expression evaluates to `False`.\n",
    "\n",
    "> Note: It is possible to \"loop forever\" when using a while loop with a conditional expression that never evaluates to `False`.\n",
    ">\n",
    "> Note: Since the **for loop** will iterate over a container of items until there are no more, there is no need to specify a \"stop looping\" condition."
   ]
  },
  {
   "cell_type": "code",
   "execution_count": 165,
   "metadata": {},
   "outputs": [
    {
     "name": "stdout",
     "output_type": "stream",
     "text": [
      "Slaptažodis? pas\n",
      "El.paštas? a@com.com\n",
      "Sveiki prisijungę Jonas Jonassas\n"
     ]
    }
   ],
   "source": [
    "vardas = \"Jonas\"\n",
    "pavarde = \"Jonassas\"\n",
    "slapta = \"pas\"\n",
    "emailas = \"a@com.com\"\n",
    "inpslapta = input(\"Slaptažodis? \")\n",
    "inpelpastas = input(\"El.paštas? \")\n",
    "if slapta == inpslapta and emailas == inpelpastas:\n",
    "    print(f\"Sveiki prisijungę {vardas} {pavarde}\")"
   ]
  },
  {
   "cell_type": "code",
   "execution_count": 166,
   "metadata": {},
   "outputs": [
    {
     "name": "stdout",
     "output_type": "stream",
     "text": [
      "Slaptažodis? Pas\n",
      "El.paštas? a@com.com\n",
      "Sveiki prisijungę Jonas Jonassas\n"
     ]
    }
   ],
   "source": [
    "# vietoj \"and\" galima naudoti \"or\", jei norime, kad vienas iš lyginimų būtų True\n",
    "vardas = \"Jonas\"\n",
    "pavarde = \"Jonassas\"\n",
    "slapta = \"pas\"\n",
    "emailas = \"a@com.com\"\n",
    "inpslapta = input(\"Slaptažodis? \")\n",
    "inpelpastas = input(\"El.paštas? \")\n",
    "if slapta == inpslapta or emailas == inpelpastas:\n",
    "    print(f\"Sveiki prisijungę {vardas} {pavarde}\")"
   ]
  },
  {
   "cell_type": "code",
   "execution_count": 167,
   "metadata": {},
   "outputs": [
    {
     "name": "stdout",
     "output_type": "stream",
     "text": [
      "Slaptažodis? pas\n",
      "El.paštas?A@com.com\n",
      "Neteisingas slaptažodis ar el.paštas\n"
     ]
    }
   ],
   "source": [
    "vardas = \"Jonas\"\n",
    "pavarde = \"Jonassas\"\n",
    "slapta = \"pas\"\n",
    "emailas = \"a@com.com\"\n",
    "inpslapta = input(\"Slaptažodis? \")\n",
    "inpelpastas = input(\"El.paštas?\")\n",
    "if slapta == inpslapta and emailas == inpelpastas:\n",
    "    print(f\"Sveiki prisijungę {vardas} {pavarde}\")\n",
    "else:\n",
    "    print(\"Neteisingas slaptažodis ar el.paštas\")"
   ]
  },
  {
   "cell_type": "code",
   "execution_count": 168,
   "metadata": {},
   "outputs": [
    {
     "name": "stdout",
     "output_type": "stream",
     "text": [
      "Expression value is less than 200\n",
      "Expression value is less than 50\n"
     ]
    }
   ],
   "source": [
    "# jei reikia daugiau palyginimų, tada naudojamas \"elif\"\n",
    "var = 1\n",
    "if var < 200:\n",
    "    print(\"Expression value is less than 200\")\n",
    "    if var == 150:\n",
    "        print(\"Which is 150\")\n",
    "    elif var == 100:\n",
    "        print(\"Which is 100\")\n",
    "    elif var == 50:\n",
    "        print(\"Which is 50\")\n",
    "    elif var < 50:\n",
    "        print(\"Expression value is less than 50\")\n",
    "else:\n",
    "    print(\"Could not find true expression\")"
   ]
  },
  {
   "cell_type": "markdown",
   "metadata": {},
   "source": [
    "#### Užduotis:\n",
    "Tą pačią užduotį, tik dar priimti amžių ir pagal amžių print'i, kad jei vartotojas per jaunas, negali prsijungti, kitu atveju, kad viskas gerai. Taip pat panaudoti ankstesnius metodus ir išpręsti įvestas klaidas pvz. jei el.paštą suveda didžiosiom raidėm, automatiškai pataisyti."
   ]
  },
  {
   "cell_type": "code",
   "execution_count": 169,
   "metadata": {
    "scrolled": true
   },
   "outputs": [
    {
     "name": "stdout",
     "output_type": "stream",
     "text": [
      "Slaptažodis? PAS\n",
      "El.paštas? a@com.com\n",
      "Amžius? 21\n",
      "Sveiki prisijungę Jonas Jonassas\n"
     ]
    }
   ],
   "source": [
    "vardas = \"Jonas\"\n",
    "pavarde = \"Jonassas\"\n",
    "slapta = \"pas\"\n",
    "emailas = \"a@com.com\"\n",
    "inpslapta = input(\"Slaptažodis? \")\n",
    "inpelpastas = input(\"El.paštas? \")\n",
    "inpriba = int(input(\"Amžius? \"))\n",
    "amzriba = 18\n",
    "if slapta == inpslapta.lower() and emailas == inpelpastas.lower() and amzriba < inpriba:\n",
    "    print(f\"Sveiki prisijungę {vardas} {pavarde}\")\n",
    "else:\n",
    "    print(\"Neteisingas slaptažodis ar el.paštas arba esate per jaunas\")"
   ]
  },
  {
   "cell_type": "code",
   "execution_count": 170,
   "metadata": {},
   "outputs": [
    {
     "name": "stdout",
     "output_type": "stream",
     "text": [
      "Slaptažodis? pas\n",
      "El.paštas? A@com.com\n",
      "Amžius? 17\n",
      "Neteisingas slaptažodis ar el.paštas arba esate per jaunas\n"
     ]
    }
   ],
   "source": [
    "vardas = \"Jonas\"\n",
    "pavarde = \"Jonassas\"\n",
    "slapta = \"pas\"\n",
    "emailas = \"a@com.com\"\n",
    "inpslapta = input(\"Slaptažodis? \")\n",
    "inpelpastas = input(\"El.paštas? \")\n",
    "inpriba = int(input(\"Amžius? \"))\n",
    "amzriba = 18\n",
    "if slapta == inpslapta.lower() and emailas == inpelpastas.lower() and amzriba < inpriba:\n",
    "    print(f\"Sveiki prisijungę {vardas} {pavarde}\")\n",
    "else:\n",
    "    print(\"Neteisingas slaptažodis ar el.paštas arba esate per jaunas\")"
   ]
  },
  {
   "cell_type": "code",
   "execution_count": 171,
   "metadata": {
    "scrolled": false
   },
   "outputs": [
    {
     "name": "stdout",
     "output_type": "stream",
     "text": [
      "True\n"
     ]
    }
   ],
   "source": [
    "# jei norim infinate, nuolatos vykstančio loop, naudojam \"while\"\n",
    "# vienas iš būdu break while loops'a, kai nurodom tam tikras ribas patys\n",
    "flag = True\n",
    "while flag:\n",
    "    print(flag)\n",
    "    flag = False"
   ]
  },
  {
   "cell_type": "code",
   "execution_count": 172,
   "metadata": {},
   "outputs": [
    {
     "name": "stdout",
     "output_type": "stream",
     "text": [
      "4\n",
      "3\n",
      "2\n",
      "1\n",
      "0\n"
     ]
    }
   ],
   "source": [
    "n = 5\n",
    "while n > 0:\n",
    "    n -= 1\n",
    "    print(n)"
   ]
  },
  {
   "cell_type": "code",
   "execution_count": 173,
   "metadata": {},
   "outputs": [
    {
     "name": "stdout",
     "output_type": "stream",
     "text": [
      "4\n",
      "3\n",
      "Loop ended.\n"
     ]
    }
   ],
   "source": [
    "# kitas būdas naudojant break ir galima naudoti if/else\n",
    "n = 5\n",
    "while n > 0:\n",
    "    n -= 1\n",
    "    if n == 2:\n",
    "        break\n",
    "    print(n)\n",
    "print('Loop ended.')"
   ]
  },
  {
   "cell_type": "markdown",
   "metadata": {},
   "source": [
    "### 4 diena"
   ]
  },
  {
   "cell_type": "markdown",
   "metadata": {},
   "source": [
    "## PEP8 (https://www.python.org/dev/peps/pep-0008/)"
   ]
  },
  {
   "cell_type": "markdown",
   "metadata": {},
   "source": [
    "### Daugiau built-in funkcijų/metodų https://www.programiz.com/python-programming/methods/built-in"
   ]
  },
  {
   "cell_type": "code",
   "execution_count": 215,
   "metadata": {},
   "outputs": [
    {
     "data": {
      "text/plain": [
       "(125, 216, 343, 512, 729)"
      ]
     },
     "execution_count": 215,
     "metadata": {},
     "output_type": "execute_result"
    }
   ],
   "source": [
    "# map() dažniausiai naudojama kartu su lambda, nes priima funciją, bet paprasta fukcija gali turėtų tik vieną argumentą, \n",
    "# ir tada iterable ir yra iterator, todėl norint gauti reikšmes, turim panaudoti list(), set() ar tuples(). Bet \n",
    "a = [5, 6, 7, 8, 9]\n",
    "\n",
    "def pakelimas(c):\n",
    "    d = c**3\n",
    "    return d\n",
    "\n",
    "e = map(pakelimas, a)\n",
    "tuple(e)"
   ]
  },
  {
   "cell_type": "code",
   "execution_count": 175,
   "metadata": {},
   "outputs": [
    {
     "data": {
      "text/plain": [
       "(10, 12, 14, 16, 18)"
      ]
     },
     "execution_count": 175,
     "metadata": {},
     "output_type": "execute_result"
    }
   ],
   "source": [
    "a = [5, 6, 7, 8, 9]\n",
    "b = map(lambda x: x * 2, a)\n",
    "tuple(b)"
   ]
  },
  {
   "cell_type": "code",
   "execution_count": 176,
   "metadata": {},
   "outputs": [
    {
     "data": {
      "text/plain": [
       "(5, 12, 21, 32, 45)"
      ]
     },
     "execution_count": 176,
     "metadata": {},
     "output_type": "execute_result"
    }
   ],
   "source": [
    "# bet su lambda galima ir keliais argumentais\n",
    "f = [1, 2, 3, 4, 5]\n",
    "g = map(lambda x, y: x * y, a, f)\n",
    "tuple(g)"
   ]
  },
  {
   "cell_type": "code",
   "execution_count": 177,
   "metadata": {},
   "outputs": [
    {
     "name": "stdout",
     "output_type": "stream",
     "text": [
      "The filtered vowels are:\n",
      "a\n",
      "e\n",
      "i\n",
      "o\n"
     ]
    }
   ],
   "source": [
    "# filter() method constructs an iterator from elements of an iterable for which a function returns true.\n",
    "# tas pats kas (element for element in iterable if function(element))\n",
    "alphabets = ['a', 'b', 'd', 'e', 'i', 'j', 'o']\n",
    "\n",
    "# function that filters vowels\n",
    "def filterVowels(alphabet):\n",
    "    vowels = ['a', 'e', 'i', 'o', 'u']\n",
    "\n",
    "    if(alphabet in vowels):\n",
    "        return True\n",
    "    else:\n",
    "        return False\n",
    "\n",
    "filteredVowels = filter(filterVowels, alphabets)\n",
    "\n",
    "print('The filtered vowels are:')\n",
    "for vowel in filteredVowels:\n",
    "    print(vowel)"
   ]
  },
  {
   "cell_type": "code",
   "execution_count": 178,
   "metadata": {},
   "outputs": [
    {
     "name": "stdout",
     "output_type": "stream",
     "text": [
      "hello\n"
     ]
    },
    {
     "ename": "NameError",
     "evalue": "name 'x' is not defined",
     "output_type": "error",
     "traceback": [
      "\u001b[0;31m---------------------------------------------------------------------------\u001b[0m",
      "\u001b[0;31mNameError\u001b[0m                                 Traceback (most recent call last)",
      "\u001b[0;32m<ipython-input-178-0c0df2c3e17f>\u001b[0m in \u001b[0;36m<module>\u001b[0;34m\u001b[0m\n\u001b[1;32m      3\u001b[0m \u001b[0mprint\u001b[0m\u001b[0;34m(\u001b[0m\u001b[0mx\u001b[0m\u001b[0;34m)\u001b[0m\u001b[0;34m\u001b[0m\u001b[0m\n\u001b[1;32m      4\u001b[0m \u001b[0;32mdel\u001b[0m \u001b[0mx\u001b[0m\u001b[0;34m\u001b[0m\u001b[0m\n\u001b[0;32m----> 5\u001b[0;31m \u001b[0mprint\u001b[0m\u001b[0;34m(\u001b[0m\u001b[0mx\u001b[0m\u001b[0;34m)\u001b[0m\u001b[0;34m\u001b[0m\u001b[0m\n\u001b[0m",
      "\u001b[0;31mNameError\u001b[0m: name 'x' is not defined"
     ]
    }
   ],
   "source": [
    "# del - ištrina, pvz. kintamąjį jei nebereikia\n",
    "x = \"hello\"\n",
    "print(x) \n",
    "del x\n",
    "print(x) "
   ]
  },
  {
   "cell_type": "code",
   "execution_count": 179,
   "metadata": {},
   "outputs": [
    {
     "name": "stdout",
     "output_type": "stream",
     "text": [
      "['apple', 'banana', 'cherry']\n",
      "['banana', 'cherry']\n"
     ]
    }
   ],
   "source": [
    "# galima ir iš list'o value\n",
    "x = [\"apple\", \"banana\", \"cherry\"]\n",
    "print(x)\n",
    "del x[0]\n",
    "print(x) "
   ]
  },
  {
   "cell_type": "code",
   "execution_count": 180,
   "metadata": {},
   "outputs": [
    {
     "name": "stdout",
     "output_type": "stream",
     "text": [
      "{'apple': 1, 'banana': 2, 'cherry': 3}\n",
      "{'banana': 2, 'cherry': 3}\n"
     ]
    }
   ],
   "source": [
    "# ir dict\n",
    "x = {\"apple\": 1, \"banana\": 2, \"cherry\": 3}\n",
    "print(x)\n",
    "del x[\"apple\"]\n",
    "print(x)"
   ]
  },
  {
   "cell_type": "code",
   "execution_count": 181,
   "metadata": {},
   "outputs": [
    {
     "name": "stdout",
     "output_type": "stream",
     "text": [
      "divmod(8, 3) =  (2, 2)\n",
      "divmod(3, 8) =  (0, 3)\n",
      "divmod(5, 5) =  (1, 0)\n",
      "divmod(8.0, 3) =  (2.0, 2.0)\n",
      "divmod(3, 8.0) =  (0.0, 3.0)\n",
      "divmod(7.5, 2.5) =  (3.0, 0.0)\n",
      "divmod(2.6, 0.5) =  (5.0, 0.10000000000000009)\n"
     ]
    }
   ],
   "source": [
    "# divmod() palengvina sveikojo skaičiaus ir liekanos skaičiavimus\n",
    "print('divmod(8, 3) = ', divmod(8, 3))\n",
    "print('divmod(3, 8) = ', divmod(3, 8))\n",
    "print('divmod(5, 5) = ', divmod(5, 5))\n",
    "# galima ir float, bet tai sudėtingi skaičiavimai, tai mums nelabai aktualu\n",
    "print('divmod(8.0, 3) = ', divmod(8.0, 3))\n",
    "print('divmod(3, 8.0) = ', divmod(3, 8.0))\n",
    "print('divmod(7.5, 2.5) = ', divmod(7.5, 2.5))\n",
    "print('divmod(2.6, 0.5) = ', divmod(2.6, 0.5))"
   ]
  },
  {
   "cell_type": "code",
   "execution_count": 182,
   "metadata": {},
   "outputs": [
    {
     "name": "stdout",
     "output_type": "stream",
     "text": [
      "apple\n",
      "banana\n",
      "cherry\n"
     ]
    }
   ],
   "source": [
    "# iter() next() fukcijos, kurios padeda sukurti iterator ir su tik next() gauti sekančias reikšmes\n",
    "x = [\"apple\", \"banana\", \"cherry\"]\n",
    "b = iter(x)\n",
    "print(next(b))\n",
    "print(next(b))\n",
    "print(next(b))"
   ]
  },
  {
   "cell_type": "code",
   "execution_count": 183,
   "metadata": {},
   "outputs": [],
   "source": [
    "# open() naudojama dirbant su failais, bet failų atidarymą dar giliau pasigilinsim vėliau"
   ]
  },
  {
   "cell_type": "code",
   "execution_count": 184,
   "metadata": {},
   "outputs": [
    {
     "name": "stdout",
     "output_type": "stream",
     "text": [
      "8\n",
      "9\n"
     ]
    }
   ],
   "source": [
    "# pow() palengvina pakėlimą laipsniu, pirmas skaičius, kuris keliamas ir antras - laipsnio skaičius\n",
    "print(pow(2, 3))\n",
    "print(pow(3, 2))"
   ]
  },
  {
   "cell_type": "code",
   "execution_count": 185,
   "metadata": {},
   "outputs": [
    {
     "name": "stdout",
     "output_type": "stream",
     "text": [
      "['n', 'o', 'h', 't', 'y', 'P']\n",
      "['n', 'o', 'h', 't', 'y', 'P']\n",
      "[8, 7, 6, 5]\n",
      "[5, 3, 4, 2, 1]\n"
     ]
    }
   ],
   "source": [
    "# reversed() bet kokį tuple, string, list or range\n",
    "# for string\n",
    "seqString = 'Python'\n",
    "print(list(reversed(seqString)))\n",
    "\n",
    "# for tuple\n",
    "seqTuple = ('P', 'y', 't', 'h', 'o', 'n')\n",
    "print(list(reversed(seqTuple)))\n",
    "\n",
    "# for range\n",
    "seqRange = range(5, 9)\n",
    "print(list(reversed(seqRange)))\n",
    "\n",
    "# for list\n",
    "seqList = [1, 2, 4, 3, 5]\n",
    "print(list(reversed(seqList)))"
   ]
  },
  {
   "cell_type": "code",
   "execution_count": 186,
   "metadata": {},
   "outputs": [
    {
     "name": "stdout",
     "output_type": "stream",
     "text": [
      "de\n"
     ]
    }
   ],
   "source": [
    "# slice, kartais gali patogesnis būdas nei index būdu\n",
    "a = (\"abcdefgh\")\n",
    "x = slice(3, 5)\n",
    "print(a[x])"
   ]
  },
  {
   "cell_type": "code",
   "execution_count": 187,
   "metadata": {},
   "outputs": [
    {
     "name": "stdout",
     "output_type": "stream",
     "text": [
      "('a', 'd', 'g')\n"
     ]
    }
   ],
   "source": [
    "a = (\"a\", \"b\", \"c\", \"d\", \"e\", \"f\", \"g\", \"h\")\n",
    "x = slice(0, 8, 3)\n",
    "print(a[x])"
   ]
  },
  {
   "cell_type": "code",
   "execution_count": 188,
   "metadata": {},
   "outputs": [
    {
     "name": "stdout",
     "output_type": "stream",
     "text": [
      "6\n",
      "5.8\n",
      "5.76\n",
      "5.759\n",
      "5.7588\n",
      "5.75879\n"
     ]
    }
   ],
   "source": [
    "# round() padeda su float skaičių apvalinimu\n",
    "print(round(5.7587878878))\n",
    "print(round(5.7587878878, 1))\n",
    "print(round(5.7587878878, 2))\n",
    "print(round(5.7587878878, 3))\n",
    "print(round(5.7587878878, 4))\n",
    "print(round(5.7587878878, 5))"
   ]
  },
  {
   "cell_type": "markdown",
   "metadata": {},
   "source": [
    "## List, set, and dict comprehensions https://www.data-blogger.com/2017/11/16/python-list-comprehension/"
   ]
  },
  {
   "cell_type": "code",
   "execution_count": 189,
   "metadata": {
    "scrolled": false
   },
   "outputs": [
    {
     "data": {
      "text/plain": [
       "[0, 1, 2, 3, 4, 5, 6, 7, 8, 9]"
      ]
     },
     "execution_count": 189,
     "metadata": {},
     "output_type": "execute_result"
    }
   ],
   "source": [
    "# comprehensions'ai - dar vienas palenginimas, kuris patogesnius for loops vienoje eilutėje\n",
    "a = list()\n",
    "for i in range(10):\n",
    "    a.append(i)\n",
    "a"
   ]
  },
  {
   "cell_type": "code",
   "execution_count": 190,
   "metadata": {},
   "outputs": [
    {
     "data": {
      "text/plain": [
       "[0, 1, 2, 3, 4, 5, 6, 7, 8]"
      ]
     },
     "execution_count": 190,
     "metadata": {},
     "output_type": "execute_result"
    }
   ],
   "source": [
    "# bet galima ir taip:\n",
    "# [expression for item in list if conditional], kur conditional yra palyginimai su ==, <(=), >(=).\n",
    "b = [i for i in range(9)]\n",
    "b"
   ]
  },
  {
   "cell_type": "code",
   "execution_count": 191,
   "metadata": {},
   "outputs": [
    {
     "data": {
      "text/plain": [
       "[0, 1, 2, 3, 4, 5, 6, 7, 8, 9, 10, 11, 12, 13, 14]"
      ]
     },
     "execution_count": 191,
     "metadata": {},
     "output_type": "execute_result"
    }
   ],
   "source": [
    "c = [i for i in range(15) if i < 15]\n",
    "c"
   ]
  },
  {
   "cell_type": "code",
   "execution_count": 192,
   "metadata": {},
   "outputs": [
    {
     "data": {
      "text/plain": [
       "[0, 1, 4, 9, 16, 25, 36, 49, 64, 81, 100, 121, 144, 169, 196]"
      ]
     },
     "execution_count": 192,
     "metadata": {},
     "output_type": "execute_result"
    }
   ],
   "source": [
    "def up(a):\n",
    "    return a ** 2 \n",
    "\n",
    "\n",
    "d = [up(i) for i in range(15) if i < 15]\n",
    "d"
   ]
  },
  {
   "cell_type": "code",
   "execution_count": 193,
   "metadata": {},
   "outputs": [
    {
     "name": "stdout",
     "output_type": "stream",
     "text": [
      "[0, 2, 4, 6, 8, 10, 12, 14, 16, 18]\n",
      "[0, 10, 20, 30, 40, 50, 60, 70, 80, 90]\n"
     ]
    }
   ],
   "source": [
    "# dar pvz.\n",
    "number_list = [ x for x in range(20) if x % 2 == 0]\n",
    "print(number_list)\n",
    "num_list = [y for y in range(100) if y % 2 == 0 if y % 5 == 0]\n",
    "print(num_list)"
   ]
  },
  {
   "cell_type": "code",
   "execution_count": 194,
   "metadata": {},
   "outputs": [],
   "source": [
    "# set tas pats, tik naudojami {}"
   ]
  },
  {
   "cell_type": "code",
   "execution_count": 195,
   "metadata": {},
   "outputs": [
    {
     "data": {
      "text/plain": [
       "{1: 1, 2: 4, 3: 9, 4: 16, 5: 25}"
      ]
     },
     "execution_count": 195,
     "metadata": {},
     "output_type": "execute_result"
    }
   ],
   "source": [
    "# kadangi dict yra key: value, todėl pradžioje kaip expression turi būti k:v (čia convention)\n",
    "keys = ['a','b','c','d','e'] \n",
    "values = [1,2,3,4,5]   \n",
    "\n",
    "D = {x: x**2 for x in [1,2,3,4,5]}\n",
    "D"
   ]
  },
  {
   "cell_type": "code",
   "execution_count": 196,
   "metadata": {},
   "outputs": [
    {
     "data": {
      "text/plain": [
       "{'a': 1, 'b': 2, 'c': 3, 'd': 4, 'e': 5}"
      ]
     },
     "execution_count": 196,
     "metadata": {},
     "output_type": "execute_result"
    }
   ],
   "source": [
    "# bet pagrindinis būdas naudojant zip()\n",
    "myDict = {k:v for (k,v) in zip(keys, values)}\n",
    "myDict"
   ]
  },
  {
   "cell_type": "markdown",
   "metadata": {},
   "source": [
    "#### Užduotis: gauti dict iš vardų list'o, kur \"key\" yra vardas, o \"value\" - index numeris"
   ]
  },
  {
   "cell_type": "code",
   "execution_count": 197,
   "metadata": {},
   "outputs": [
    {
     "data": {
      "text/plain": [
       "{'Jonas': 0, 'Petras': 1, 'Kazys': 2, 'Joan': 3}"
      ]
     },
     "execution_count": 197,
     "metadata": {},
     "output_type": "execute_result"
    }
   ],
   "source": [
    "a = [\"Jonas\", \"Petras\", \"Kazys\", \"Joan\"]\n",
    "d = {v:i for i, v in enumerate(a)}\n",
    "d"
   ]
  },
  {
   "cell_type": "markdown",
   "metadata": {},
   "source": [
    "## Importing modules https://www.w3schools.com/python/python_modules.asp\n",
    "## https://docs.python.org/3/library/"
   ]
  },
  {
   "cell_type": "code",
   "execution_count": 198,
   "metadata": {},
   "outputs": [],
   "source": [
    "# Python'as turi Core funkcianalumą, bet taip galima naudoti modulius, kuriuos labai paprasta importuoti.\n",
    "# Taip daroma, kadangi ne viso programavimo kalbos funkcinualumo kiekvieną kartą reikia kuriant kodą, todėl kai prireikia\n",
    "# speficinio funcianalumo, importuojmas atitinkamas modulis ir modulios funkcijos/metodai pasiekiami per \".\":\n",
    "# import modulio pavadinimas"
   ]
  },
  {
   "cell_type": "code",
   "execution_count": 199,
   "metadata": {
    "scrolled": true
   },
   "outputs": [
    {
     "data": {
      "text/plain": [
       "datetime.date(2018, 12, 6)"
      ]
     },
     "execution_count": 199,
     "metadata": {},
     "output_type": "execute_result"
    }
   ],
   "source": [
    "# datatime padeda dirbti su datomis ir laiku, kaip pvz.:\n",
    "import datetime\n",
    "datetime.date.today()"
   ]
  },
  {
   "cell_type": "code",
   "execution_count": 200,
   "metadata": {},
   "outputs": [
    {
     "name": "stdout",
     "output_type": "stream",
     "text": [
      "2018-12-06\n"
     ]
    }
   ],
   "source": [
    "print(datetime.date.today())"
   ]
  },
  {
   "cell_type": "code",
   "execution_count": 201,
   "metadata": {},
   "outputs": [
    {
     "name": "stdout",
     "output_type": "stream",
     "text": [
      "2018-12-06\n"
     ]
    }
   ],
   "source": [
    "# kadangi kiekvienas modulis turi fukcijas/metodus, kurių gali nereikti, todėl galima importuoti tik tą funkciją/as.\n",
    "from datetime import date\n",
    "today = date.today()\n",
    "print(today)"
   ]
  },
  {
   "cell_type": "code",
   "execution_count": 202,
   "metadata": {},
   "outputs": [
    {
     "data": {
      "text/plain": [
       "datetime.date(2018, 12, 6)"
      ]
     },
     "execution_count": 202,
     "metadata": {},
     "output_type": "execute_result"
    }
   ],
   "source": [
    "# taip pat, kaikurie moduliai gali turėti ilgus pavadinimus, todėl galima su kurti alias sutrunpinant. Taip pat naudoja\n",
    "# ir pagal convention tam tikriems moduliams.\n",
    "import datetime as d\n",
    "d.date.today()"
   ]
  },
  {
   "cell_type": "code",
   "execution_count": 203,
   "metadata": {},
   "outputs": [],
   "source": [
    "# sys dirbant su sistema ir konsole, bet mums neaktualu"
   ]
  },
  {
   "cell_type": "code",
   "execution_count": 204,
   "metadata": {},
   "outputs": [
    {
     "name": "stdout",
     "output_type": "stream",
     "text": [
      "['a', 'b']\n",
      "['a', 'b']\n"
     ]
    }
   ],
   "source": [
    "# copy padeda dirbant su kopijomis, nes python tam tikrais kartais ne kuria kopijos, o sukuria referencą, dažniausiai \n",
    "# taip yra su kintamųjų sukųrimu.\n",
    "a = [\"a\"]\n",
    "b = a\n",
    "a.append(\"b\")\n",
    "print(a)\n",
    "print(b)"
   ]
  },
  {
   "cell_type": "code",
   "execution_count": 205,
   "metadata": {},
   "outputs": [
    {
     "name": "stdout",
     "output_type": "stream",
     "text": [
      "['a', 'b']\n",
      "['a']\n"
     ]
    }
   ],
   "source": [
    "import copy\n",
    "a = [\"a\"]\n",
    "b = copy.copy(a)\n",
    "a.append(\"b\")\n",
    "print(a)\n",
    "print(b)"
   ]
  },
  {
   "cell_type": "code",
   "execution_count": 206,
   "metadata": {},
   "outputs": [],
   "source": [
    "# pprint esant reikalui, jei dirbama su konsole, pagrąžina duomenų output'inimą į konsolę."
   ]
  },
  {
   "cell_type": "code",
   "execution_count": 207,
   "metadata": {},
   "outputs": [],
   "source": [
    "# random padeda generuoti random numerius"
   ]
  },
  {
   "cell_type": "code",
   "execution_count": 211,
   "metadata": {},
   "outputs": [
    {
     "name": "stdout",
     "output_type": "stream",
     "text": [
      "0.10642074883104835\n",
      "2\n"
     ]
    }
   ],
   "source": [
    "import random\n",
    "print(random.random()) # Random 0.0 <= x < 1.0\n",
    "print(random.randint(1,9)) # 1 <= x < 9"
   ]
  },
  {
   "cell_type": "code",
   "execution_count": 213,
   "metadata": {},
   "outputs": [
    {
     "name": "stdout",
     "output_type": "stream",
     "text": [
      "[0, 1, 2, 3, 4, 5, 6, 7, 8, 9]\n",
      "[0, 6, 2, 8, 3, 1, 4, 7, 9, 5]\n"
     ]
    }
   ],
   "source": [
    "from random import shuffle\n",
    "x = [i for i in range(10)]\n",
    "print(x)\n",
    "shuffle(x)\n",
    "print(x)"
   ]
  },
  {
   "cell_type": "markdown",
   "metadata": {},
   "source": [
    "#### Užduotis: Užduotis: gauti dict iš vardų list'o, kur \"key\" yra vardas, o \"value\" - random numeris"
   ]
  },
  {
   "cell_type": "code",
   "execution_count": 216,
   "metadata": {},
   "outputs": [
    {
     "name": "stdout",
     "output_type": "stream",
     "text": [
      "[7, 1, 5, 8]\n"
     ]
    },
    {
     "data": {
      "text/plain": [
       "{'Jonas': 7, 'Petras': 1, 'Kazys': 5, 'Joan': 8}"
      ]
     },
     "execution_count": 216,
     "metadata": {},
     "output_type": "execute_result"
    }
   ],
   "source": [
    "import random\n",
    "\n",
    "a = [\"Jonas\", \"Petras\", \"Kazys\", \"Joan\"]\n",
    "l = list()\n",
    "\n",
    "for i in range(0,len(a)):\n",
    "    l.append(random.randint(i,10))\n",
    "\n",
    "print(l)\n",
    "\n",
    "d = {v:r for v, r in zip(a,l)}\n",
    "d"
   ]
  },
  {
   "cell_type": "code",
   "execution_count": null,
   "metadata": {},
   "outputs": [],
   "source": [
    "# csv modulis, kuris leidžia dirbti su csv failais, kadangi vėliau žaisime su failais, tai dabar tiek\n",
    "# import csv"
   ]
  },
  {
   "cell_type": "code",
   "execution_count": null,
   "metadata": {},
   "outputs": [],
   "source": [
    "# json modulis, kuris leidžia dirbti su json failais, kadangi vėliau žaisime su failais, tai dabar tiek"
   ]
  },
  {
   "cell_type": "code",
   "execution_count": 20,
   "metadata": {},
   "outputs": [],
   "source": [
    "# galima ir savo modulį: išsaugomas failas su .py. Pvz. file1.py suvedam tokį kodą:\n",
    "# skaicius = 5\n",
    "# def up(a):\n",
    "#     return a ** 2\n",
    "# tai kitam faile pvz. file2.py galima, šiam pavyzdžui file1.py turi būti tam pačiam folder'yje, bet šiaip nebūtinai\n",
    "# import file1.py\n",
    "# tada su \".\" galima pasiekti tiek fukciją, tiek kintamąjį\n",
    "# a = file1.skaicius\n",
    "# b = file1.up(2)"
   ]
  },
  {
   "cell_type": "markdown",
   "metadata": {},
   "source": [
    "### 5 diena"
   ]
  },
  {
   "cell_type": "markdown",
   "metadata": {},
   "source": [
    "## Exceptions https://realpython.com/python-exceptions/"
   ]
  },
  {
   "cell_type": "code",
   "execution_count": 2,
   "metadata": {
    "scrolled": true
   },
   "outputs": [
    {
     "ename": "Exception",
     "evalue": "x should not exceed 5. The value of x was: 10",
     "output_type": "error",
     "traceback": [
      "\u001b[0;31m---------------------------------------------------------------------------\u001b[0m",
      "\u001b[0;31mException\u001b[0m                                 Traceback (most recent call last)",
      "\u001b[0;32m<ipython-input-2-b5e54ba56d77>\u001b[0m in \u001b[0;36m<module>\u001b[0;34m\u001b[0m\n\u001b[1;32m      2\u001b[0m \u001b[0mx\u001b[0m \u001b[0;34m=\u001b[0m \u001b[0;36m10\u001b[0m\u001b[0;34m\u001b[0m\u001b[0m\n\u001b[1;32m      3\u001b[0m \u001b[0;32mif\u001b[0m \u001b[0mx\u001b[0m \u001b[0;34m>\u001b[0m \u001b[0;36m5\u001b[0m\u001b[0;34m:\u001b[0m\u001b[0;34m\u001b[0m\u001b[0m\n\u001b[0;32m----> 4\u001b[0;31m     \u001b[0;32mraise\u001b[0m \u001b[0mException\u001b[0m\u001b[0;34m(\u001b[0m\u001b[0;34m'x should not exceed 5. The value of x was: {}'\u001b[0m\u001b[0;34m.\u001b[0m\u001b[0mformat\u001b[0m\u001b[0;34m(\u001b[0m\u001b[0mx\u001b[0m\u001b[0;34m)\u001b[0m\u001b[0;34m)\u001b[0m\u001b[0;34m\u001b[0m\u001b[0m\n\u001b[0m",
      "\u001b[0;31mException\u001b[0m: x should not exceed 5. The value of x was: 10"
     ]
    }
   ],
   "source": [
    "# Exceptions naudojami dirbant su error'ai, nes įvykus error'u, programa \"nulužta\", bet exceptions padeda to išvengti\n",
    "# Kaip matote, kodas neturi error'o, kaip tokio, bet panaudojus \"raise\", galima kokį norime error'ą pateikti.\n",
    "x = 10\n",
    "if x > 5:\n",
    "    raise Exception('x should not exceed 5. The value of x was: {}'.format(x))"
   ]
  },
  {
   "cell_type": "code",
   "execution_count": 8,
   "metadata": {},
   "outputs": [
    {
     "ename": "ZeroDivisionError",
     "evalue": "division by zero",
     "output_type": "error",
     "traceback": [
      "\u001b[0;31m---------------------------------------------------------------------------\u001b[0m",
      "\u001b[0;31mZeroDivisionError\u001b[0m                         Traceback (most recent call last)",
      "\u001b[0;32m<ipython-input-8-16fd81da2f64>\u001b[0m in \u001b[0;36m<module>\u001b[0;34m\u001b[0m\n\u001b[1;32m      8\u001b[0m     \u001b[0;32mreturn\u001b[0m \u001b[0ma\u001b[0m\u001b[0;34m*\u001b[0m\u001b[0mb\u001b[0m\u001b[0;34m\u001b[0m\u001b[0m\n\u001b[1;32m      9\u001b[0m \u001b[0;34m\u001b[0m\u001b[0m\n\u001b[0;32m---> 10\u001b[0;31m \u001b[0mdalyba\u001b[0m\u001b[0;34m(\u001b[0m\u001b[0msk1\u001b[0m\u001b[0;34m,\u001b[0m \u001b[0msk2\u001b[0m\u001b[0;34m)\u001b[0m\u001b[0;34m\u001b[0m\u001b[0m\n\u001b[0m\u001b[1;32m     11\u001b[0m \u001b[0;31m# Kaip matote, šios cell'ės kodo vykdymas išmetė ZeroDivisionError ir \"sustojo\", bet naudojant \"except\" galima užlužimo\u001b[0m\u001b[0;34m\u001b[0m\u001b[0;34m\u001b[0m\u001b[0m\n\u001b[1;32m     12\u001b[0m \u001b[0;31m# išvengt\u001b[0m\u001b[0;34m\u001b[0m\u001b[0;34m\u001b[0m\u001b[0m\n",
      "\u001b[0;32m<ipython-input-8-16fd81da2f64>\u001b[0m in \u001b[0;36mdalyba\u001b[0;34m(a, b)\u001b[0m\n\u001b[1;32m      3\u001b[0m \u001b[0;34m\u001b[0m\u001b[0m\n\u001b[1;32m      4\u001b[0m \u001b[0;32mdef\u001b[0m \u001b[0mdalyba\u001b[0m\u001b[0;34m(\u001b[0m\u001b[0ma\u001b[0m\u001b[0;34m,\u001b[0m \u001b[0mb\u001b[0m\u001b[0;34m)\u001b[0m\u001b[0;34m:\u001b[0m\u001b[0;34m\u001b[0m\u001b[0m\n\u001b[0;32m----> 5\u001b[0;31m     \u001b[0;32mreturn\u001b[0m \u001b[0ma\u001b[0m\u001b[0;34m/\u001b[0m\u001b[0mb\u001b[0m\u001b[0;34m\u001b[0m\u001b[0m\n\u001b[0m\u001b[1;32m      6\u001b[0m \u001b[0;34m\u001b[0m\u001b[0m\n\u001b[1;32m      7\u001b[0m \u001b[0;32mdef\u001b[0m \u001b[0mdaugyba\u001b[0m\u001b[0;34m(\u001b[0m\u001b[0ma\u001b[0m\u001b[0;34m,\u001b[0m \u001b[0mb\u001b[0m\u001b[0;34m)\u001b[0m\u001b[0;34m:\u001b[0m\u001b[0;34m\u001b[0m\u001b[0m\n",
      "\u001b[0;31mZeroDivisionError\u001b[0m: division by zero"
     ]
    }
   ],
   "source": [
    "sk1 = 5\n",
    "sk2 = 0\n",
    "\n",
    "def dalyba(a, b):\n",
    "    return a/b\n",
    "\n",
    "dalyba(sk1, sk2)\n",
    "# Kaip matote, šios cell'ės kodo vykdymas išmetė ZeroDivisionError ir \"sustojo\", bet naudojant \"except\" galima užlužimo\n",
    "# išvengt"
   ]
  },
  {
   "cell_type": "code",
   "execution_count": 12,
   "metadata": {},
   "outputs": [
    {
     "name": "stdout",
     "output_type": "stream",
     "text": [
      "division by zero\n",
      "5\n"
     ]
    }
   ],
   "source": [
    "def sudetis(a, b):\n",
    "    return a+b\n",
    "\n",
    "try:\n",
    "    dalyba(sk1, sk2)\n",
    "except ZeroDivisionError as error:\n",
    "    print(error)\n",
    "    print(sudetis(sk1, sk2))\n",
    "# Kaip matote, kodas \"neužlužo\" ir buvo atspaudintas error'as, nes taip nurodyta kode, bet taip pat galimas ir bet koks\n",
    "# kitas kodas, kaip pvz. buvo įvykdyta funkcija sudetis ir atprint'intas rezultatas"
   ]
  },
  {
   "cell_type": "code",
   "execution_count": 16,
   "metadata": {},
   "outputs": [
    {
     "name": "stdout",
     "output_type": "stream",
     "text": [
      "division by zero\n",
      "5\n"
     ]
    }
   ],
   "source": [
    "# Dabar logika tokia: su \"try\" pabandyk atlikti kažkokį kodą, jei klaida, su \"except\" \"pagauk\" klaidą ir arba \n",
    "# atprint'ink klaidą (dažniausiai) arba įvykdyk kitą kodą. Bet jei klaidos nėra, tada panaudojamas \"else\".\n",
    "# Jame vėl gali būti \"try\"-\"except\" arba bet koks kitas kodas. Pavyzdyje pabandoma atidaryti .log failą \n",
    "# (working su failais yra parodytas žemiau) ir jei failo nėra, print'ina klaidą, jei yra, jį atidaro \"read\" mode'e\n",
    "# (vėlgi žiūrėti žemiau)\n",
    "# Kaip matot, jei sk2 = 0, atprint'tina \"division by zero\" ir 5\n",
    "sk1 = 5\n",
    "sk2 = 0\n",
    "\n",
    "try:\n",
    "    dalyba(sk1, sk2)\n",
    "except ZeroDivisionError as error:\n",
    "    print(error)\n",
    "    print(sudetis(sk1, sk2))\n",
    "else:\n",
    "    try:\n",
    "        with open('file.log') as file:\n",
    "            read_data = file.read()\n",
    "    except FileNotFoundError as fnf_error:\n",
    "        print(fnf_error)"
   ]
  },
  {
   "cell_type": "code",
   "execution_count": 18,
   "metadata": {},
   "outputs": [
    {
     "name": "stdout",
     "output_type": "stream",
     "text": [
      "[Errno 2] No such file or directory: 'file.log'\n"
     ]
    }
   ],
   "source": [
    "# Jei sk2 != 0, atprint'tina klaidą, kad nerastas failas\n",
    "sk1 = 5\n",
    "sk2 = 1\n",
    "\n",
    "try:\n",
    "    dalyba(sk1, sk2)\n",
    "except ZeroDivisionError as error:\n",
    "    print(error)\n",
    "    print(sudetis(sk1, sk2))\n",
    "else:\n",
    "    try:\n",
    "        with open('file.log') as file:\n",
    "            read_data = file.read()\n",
    "    except FileNotFoundError as fnf_error:\n",
    "        print(fnf_error)"
   ]
  },
  {
   "cell_type": "code",
   "execution_count": null,
   "metadata": {},
   "outputs": [],
   "source": [
    "# ir galiausiai dar yra naudojamas \"finally\", kuris reiškia, kodas turi būti vydomas neprilausomai ar yra klaida ar ne\n",
    "sk1 = 5\n",
    "sk2 = 1\n",
    "\n",
    "try:\n",
    "    dalyba(sk1, sk2)\n",
    "except ZeroDivisionError as error:\n",
    "    print(error)\n",
    "    print(sudetis(sk1, sk2))\n",
    "else:\n",
    "    try:\n",
    "        with open('file.log') as file:\n",
    "            read_data = file.read()\n",
    "    except FileNotFoundError as fnf_error:\n",
    "        print(fnf_error)\n",
    "finally:\n",
    "    print(\"Čia turi patekti kodas, kuris turi būti vykdomas ne priklausomai nuo to ar yra klaidos ar ne\")"
   ]
  },
  {
   "cell_type": "markdown",
   "metadata": {},
   "source": [
    "##  Working with files, context managers and the \"with statement\" and\n",
    "Write, Create https://www.w3schools.com/python/python_file_write.asp\n",
    "\n",
    "Open file https://www.w3schools.com/python/python_file_open.asp\n",
    "\n",
    "Delete https://www.w3schools.com/python/python_file_remove.asp\n",
    "\n",
    "Context managers https://dbader.org/blog/python-context-managers-and-with-statement"
   ]
  },
  {
   "cell_type": "markdown",
   "metadata": {},
   "source": [
    "###### Senovinis būdas dirbti su failais yra toks:\n",
    "f = open(\"failaspavadinimas.txt\", \"mode'as\") as f:\n",
    "\n",
    "pagrindiniai mode'ai, nenurodžius default yra \"r\":\n",
    "\n",
    "\"r\" - Opens a file for reading only. The file pointer is placed at the beginning of the file. This is the default mode.\n",
    "\n",
    "\"r+\" - Opens a file for both reading and writing. The file pointer placed at the beginning of the file.\n",
    "\n",
    "\"w\" - Opens a file for writing only. Overwrites the file (truncate file to zero length) if the file exists. If the file does not exist, creates a new \n",
    "file for writing.\n",
    "\n",
    "\"w+\"  - Opens a file for both writing and reading. Overwrites the existing file (truncate file to zero length) if the file exists. If the file does not exist, creates a new file for reading and writing.\n",
    "\n",
    "\"a\" - Opens a file for appending. The file pointer is at the end of the file if the file exists. That is, the file is in the append mode. If the file does not exist, it creates a new file for writing.\n",
    "\n",
    "\"a+\"  - Opens a file for both appending and reading. The file pointer is at the end of the file if the file exists. The file opens in the append mode. If the file does not exist, it creates a new file for reading and writing.\n",
    "\n",
    "Daugiau galima pasižiūrėti čia https://www.tutorialspoint.com/python/python_files_io.htm\n",
    "\n",
    "jei norim įrayšyti:\n",
    "\n",
    "f.write(\"Galima tekstą arba duomenis, kurie išsaugoti kintamąjame\")\n",
    "\n",
    "jei norim nuskaityti:\n",
    "\n",
    "f.read(size) - size is an optional numeric argument and this func returns a quantity of data equal to size. If size if omitted, then it reads the entire file and returns it\n",
    "\n",
    "f.readline() - reads a single line from file with newline at the end t.y. yra iterator\n",
    "\n",
    "f.readlines() - returns a list containing all the lines in the file aka list(iterator).\n",
    "\n",
    "ir tada failą BŪTINA uždaryti:\n",
    "\n",
    "f.close()"
   ]
  },
  {
   "cell_type": "code",
   "execution_count": 83,
   "metadata": {},
   "outputs": [],
   "source": [
    "a = \"Galima tekstą arba duomenis, kurie išsaugoti kintamąjame, bet viskas turi būti pateikta str formatu\"\n",
    "b = \"Galima tekstą arba duomenis, kurie išsaugoti kintamąjame\"\n",
    "c = \"Galima tekstą arba duomenis\"\n",
    "d = [1, 2, 3, 4, 5, 6, 7, 8, 9]\n",
    "f = open(\"file1.txt\", \"w\")\n",
    "f.write(f\"{a}{b}{c}\")\n",
    "f.close()\n",
    "# atsidarykite failą ir pasižiūrėkite, kas įrašyta\n",
    "# ir čia daugiau nieko negalime padaryti, pvz. dar ir nuskaityti failą"
   ]
  },
  {
   "cell_type": "code",
   "execution_count": 53,
   "metadata": {},
   "outputs": [],
   "source": [
    "f = open(\"file1.txt\", \"w\")\n",
    "f.write(f\"{a}\\n{b}\\n{c}\\n\")\n",
    "f.close()"
   ]
  },
  {
   "cell_type": "code",
   "execution_count": 44,
   "metadata": {},
   "outputs": [],
   "source": [
    "# jei veiksmą pakartosim, tik vietoj kintamojo a, norėsim b, turime duomenis perconvertuoti į str formatą\n",
    "f = open(\"file1.txt\", \"w\") # faile buvusi info ištrinama (truncate)\n",
    "f.write(str(d))\n",
    "f.close()"
   ]
  },
  {
   "cell_type": "code",
   "execution_count": 84,
   "metadata": {},
   "outputs": [],
   "source": [
    "# pakeičiam failą nuskaitymui tolimesniam mokymuosi\n",
    "f = open(\"file1.txt\", \"w\")\n",
    "f.write(f\"{a}\\n{b}\\n{c}\\n\")\n",
    "f.close()"
   ]
  },
  {
   "cell_type": "code",
   "execution_count": 85,
   "metadata": {},
   "outputs": [
    {
     "name": "stdout",
     "output_type": "stream",
     "text": [
      "Galima tekstą arba duomenis, kurie išsaugoti kintamąjame, bet viskas turi būti pateikta str formatu\n",
      "Galima tekstą arba duomenis, kurie išsaugoti kintamąjame\n",
      "Galima tekstą arba duomenis\n",
      "\n"
     ]
    }
   ],
   "source": [
    "f = open(\"file1.txt\", \"r\")\n",
    "print((f.read()))\n",
    "# print(f.readlines())\n",
    "# print((f.readline()))\n",
    "# print((f.readline()))\n",
    "# print((f.readline()))\n",
    "f.close()"
   ]
  },
  {
   "cell_type": "code",
   "execution_count": 86,
   "metadata": {},
   "outputs": [
    {
     "name": "stdout",
     "output_type": "stream",
     "text": [
      "['Galima tekstą arba duomenis, kurie išsaugoti kintamąjame, bet viskas turi būti pateikta str formatu\\n', 'Galima tekstą arba duomenis, kurie išsaugoti kintamąjame\\n', 'Galima tekstą arba duomenis\\n']\n"
     ]
    }
   ],
   "source": [
    "f = open(\"file1.txt\", \"r\")\n",
    "# print((f.read()))\n",
    "print(f.readlines())\n",
    "# print((f.readline()))\n",
    "# print((f.readline()))\n",
    "# print((f.readline()))\n",
    "f.close()"
   ]
  },
  {
   "cell_type": "code",
   "execution_count": 91,
   "metadata": {},
   "outputs": [
    {
     "name": "stdout",
     "output_type": "stream",
     "text": [
      "Galima tekstą arba duomenis, kurie išsaugoti kintamąjame, bet viskas turi būti pateikta str formatu\n",
      "\n",
      "Galima tekstą arba duomenis, kurie išsaugoti kintamąjame\n",
      "\n",
      "Galima tekstą arba duomenis\n",
      "\n"
     ]
    }
   ],
   "source": [
    "f = open(\"file1.txt\", \"r\")\n",
    "# print((f.read()))\n",
    "# print(f.readlines())\n",
    "print((f.readline()))\n",
    "print((f.readline()))\n",
    "print((f.readline()))\n",
    "f.close()"
   ]
  },
  {
   "cell_type": "code",
   "execution_count": 92,
   "metadata": {
    "scrolled": true
   },
   "outputs": [
    {
     "name": "stdout",
     "output_type": "stream",
     "text": [
      "galima tekstą arba duomenis, kurie išsaugoti kintamąjame, bet viskas turi būti pateikta str formatu\n",
      "\n",
      "galima tekstą arba duomenis, kurie išsaugoti kintamąjame\n",
      "\n",
      "galima tekstą arba duomenis\n",
      "\n"
     ]
    }
   ],
   "source": [
    "# jei norim su for loop'u\n",
    "f = open(\"file1.txt\", \"r\")\n",
    "\n",
    "for i in f:\n",
    "    print(i.lower())\n",
    "    \n",
    "f.close()"
   ]
  },
  {
   "cell_type": "code",
   "execution_count": 93,
   "metadata": {},
   "outputs": [],
   "source": [
    "# jei norim pridėti papildomą informaciją\n",
    "f = open(\"file1.txt\", \"a\")\n",
    "f.write(\"Pridėtas papildomas tekstas\")\n",
    "f.close()"
   ]
  },
  {
   "cell_type": "markdown",
   "metadata": {},
   "source": [
    "##### Kaip matot, kiekvieną kartą reikia atsiminti panaudoti close() kas yra labai nepatogu prisiminti daug kodinant todėl kaip visada python'as turi palengvinimą, kuris atrodo taip:\n",
    "with open(\"file1.txt\", \"a\") as f:\n",
    "    \n",
    "        galioja tas pats kodas, kaip prieš tai buvusiam būdui"
   ]
  },
  {
   "cell_type": "markdown",
   "metadata": {},
   "source": [
    "##### Užduotis: Panaudojus random modulį, sukurti failą su random skaičiumi prie pavadinimo ir įrašyti kokį nors tekstą su tuo pačiu random skaičium"
   ]
  },
  {
   "cell_type": "code",
   "execution_count": 95,
   "metadata": {},
   "outputs": [],
   "source": [
    "import random\n",
    "rand = random.randint(1, 50)\n",
    "\n",
    "with open(f\"file{rand}.txt\", \"w\") as f:\n",
    "    f.write(f\"Tekstas{rand}\")"
   ]
  },
  {
   "cell_type": "markdown",
   "metadata": {},
   "source": [
    "##### Užduotis: Priimti slaptažodį ir emailą bei išsaugoti faile"
   ]
  },
  {
   "cell_type": "code",
   "execution_count": 96,
   "metadata": {},
   "outputs": [
    {
     "name": "stdout",
     "output_type": "stream",
     "text": [
      "Slaptažodis? random\n",
      "El.paštas a@a.com\n"
     ]
    }
   ],
   "source": [
    "import random\n",
    "slapta = input(\"Slaptažodis? \")\n",
    "elpastas = input(\"El.paštas \")\n",
    "\n",
    "with open(f\"file2.txt\", \"w\") as f:\n",
    "    f.write(f\"Slaptažodis {slapta}\\nEmailas {elpastas}\")s"
   ]
  },
  {
   "cell_type": "code",
   "execution_count": 114,
   "metadata": {},
   "outputs": [
    {
     "name": "stdout",
     "output_type": "stream",
     "text": [
      "<_csv.reader object at 0x7fac275dd128>\n",
      "[['Vardas', 'Pavardė', 'Miestas'], ['Matas', 'Matass', 'Kaunas '], ['Emilija', 'Emilijaad', ' Vilnius'], ['Nojus', 'Nojusdas', ' Klaipėda'], ['Gabija', 'Gabija', 'Šiauliai'], ['Lukas', 'Lukasasda', 'Alytus'], ['Ugnė', 'Ugnėasad', 'Akmenė'], ['Dovydas', 'Dovydasqwe', 'Kėdainiai'], ['Urtė', 'Urtėasd', 'Panevėžys'], ['Kajus', 'Kajussdf', 'Palanga'], ['Austėja', 'Austėjaasd', 'Tauragė']]\n"
     ]
    }
   ],
   "source": [
    "# csv https://realpython.com/python-csv/\n",
    "import csv\n",
    "with open('us500.csv', newline=\"\") as csv_file:\n",
    "    csv_reader = csv.reader(csv_file)\n",
    "    print(csv_reader) # todėl, kad reader yra iterator objektas\n",
    "    print(list(csv_reader))"
   ]
  },
  {
   "cell_type": "code",
   "execution_count": 120,
   "metadata": {},
   "outputs": [
    {
     "name": "stdout",
     "output_type": "stream",
     "text": [
      "['Vardas', 'Pavardė', 'Miestas']\n",
      "['VIRGILIJUS', 'VIRGILIJUSQWEQWE', 'VILNIUS']\n",
      "['VYTAUTAS', 'VYTAUTASSADADF', 'KAUNAS']\n",
      "['ALOYZAS', 'ALOYZASASDF', 'KLAIPĖDA']\n",
      "['VITAS', 'VITASASD', 'KAUNAS']\n",
      "['ANTANAS', 'ANTANASFGH', 'PALANGA']\n",
      "['VIDAS', 'VIDASGRF', 'TAURAGĖ']\n",
      "['RYTIS', 'ASDRYTIS', 'KAUNAS']\n",
      "['VACLOVAS', 'VASDACLOVAS', 'ŠILUTĖ']\n"
     ]
    }
   ],
   "source": [
    "with open('us500.csv', newline=\"\") as csv_file:\n",
    "    csv_reader = csv.reader(csv_file, delimiter=',')\n",
    "    for i in csv_reader:\n",
    "        print(i)"
   ]
  },
  {
   "cell_type": "code",
   "execution_count": 123,
   "metadata": {},
   "outputs": [],
   "source": [
    "a = [\"Jonas\", \"Jonaitis\", \"Kaunas\"]\n",
    "with open('us500.csv', newline=\"\", mode='a') as csv_file:\n",
    "    csvwriter = csv.writer(csv_file, delimiter=',', quotechar='\"', quoting=csv.QUOTE_MINIMAL)\n",
    "    csvwriter.writerow(a)"
   ]
  },
  {
   "cell_type": "code",
   "execution_count": 131,
   "metadata": {},
   "outputs": [
    {
     "name": "stdout",
     "output_type": "stream",
     "text": [
      "{'firstName': 'Jane', 'lastName': 'Doe', 'hobbies': ['running', 'sky diving', 'singing'], 'age': 35}\n"
     ]
    }
   ],
   "source": [
    "# json https://realpython.com/python-json/\n",
    "import json\n",
    "\n",
    "with open(\"naujas.json\", \"r\") as read_file:\n",
    "    data = json.load(read_file)\n",
    "    print(data)"
   ]
  },
  {
   "cell_type": "code",
   "execution_count": 129,
   "metadata": {},
   "outputs": [
    {
     "name": "stdout",
     "output_type": "stream",
     "text": [
      "{'firstName': 'Jane', 'lastName': 'Doe', 'hobbies': ['running', 'sky diving', 'singing'], 'age': 35}\n",
      "jane\n",
      "doe\n",
      "sky diving\n",
      "35\n"
     ]
    }
   ],
   "source": [
    "# Užduotis: kad atspaudintu random value iš list'o dict viduje\n",
    "import json\n",
    "import random\n",
    "\n",
    "with open(\"naujas.json\", \"r\") as read_file:\n",
    "    data = json.load(read_file)\n",
    "    print(data)\n",
    "    for i in data.values():\n",
    "        if type(i) is str:\n",
    "            print(i.lower())\n",
    "        elif type(i) is int:\n",
    "            print(i)\n",
    "        else:\n",
    "            rand = random.randint(0, (len(i)-1))\n",
    "            print(i[rand])"
   ]
  },
  {
   "cell_type": "markdown",
   "metadata": {},
   "source": [
    "### 6 diena"
   ]
  },
  {
   "cell_type": "code",
   "execution_count": null,
   "metadata": {},
   "outputs": [],
   "source": [
    "# html? https://programminghistorian.org/en/lessons/creating-and-viewing-html-files-with-python"
   ]
  },
  {
   "cell_type": "code",
   "execution_count": null,
   "metadata": {},
   "outputs": [],
   "source": []
  },
  {
   "cell_type": "markdown",
   "metadata": {},
   "source": [
    "## Miscellaneous"
   ]
  },
  {
   "cell_type": "code",
   "execution_count": null,
   "metadata": {},
   "outputs": [],
   "source": [
    "# .join() with open()"
   ]
  },
  {
   "cell_type": "code",
   "execution_count": null,
   "metadata": {},
   "outputs": [],
   "source": []
  },
  {
   "cell_type": "code",
   "execution_count": null,
   "metadata": {},
   "outputs": [],
   "source": [
    "# requarements.txt"
   ]
  },
  {
   "cell_type": "code",
   "execution_count": null,
   "metadata": {},
   "outputs": [],
   "source": []
  },
  {
   "cell_type": "code",
   "execution_count": null,
   "metadata": {},
   "outputs": [],
   "source": [
    "# yield"
   ]
  },
  {
   "cell_type": "code",
   "execution_count": null,
   "metadata": {},
   "outputs": [],
   "source": []
  },
  {
   "cell_type": "code",
   "execution_count": null,
   "metadata": {},
   "outputs": [],
   "source": [
    "# decorators"
   ]
  },
  {
   "cell_type": "code",
   "execution_count": null,
   "metadata": {},
   "outputs": [],
   "source": []
  },
  {
   "cell_type": "code",
   "execution_count": null,
   "metadata": {},
   "outputs": [],
   "source": [
    "# regex pvz.\n",
    "# data['cleaned'] = data['text'].apply(lambda x: \" \".join([stemmer.stemWord(i) for i in re.sub(\"[^a-zA-Z]\", \" \", x).split() if i not in words]).lower())"
   ]
  },
  {
   "cell_type": "code",
   "execution_count": null,
   "metadata": {},
   "outputs": [],
   "source": []
  },
  {
   "cell_type": "markdown",
   "metadata": {},
   "source": [
    "### 7 diena"
   ]
  },
  {
   "cell_type": "markdown",
   "metadata": {},
   "source": [
    "## Webscraping"
   ]
  },
  {
   "cell_type": "code",
   "execution_count": null,
   "metadata": {},
   "outputs": [],
   "source": []
  },
  {
   "cell_type": "code",
   "execution_count": null,
   "metadata": {},
   "outputs": [],
   "source": []
  },
  {
   "cell_type": "markdown",
   "metadata": {},
   "source": [
    "### 8 diena"
   ]
  },
  {
   "cell_type": "markdown",
   "metadata": {},
   "source": [
    "## SQL"
   ]
  },
  {
   "cell_type": "code",
   "execution_count": null,
   "metadata": {},
   "outputs": [],
   "source": []
  },
  {
   "cell_type": "code",
   "execution_count": null,
   "metadata": {},
   "outputs": [],
   "source": []
  }
 ],
 "metadata": {
  "kernelspec": {
   "display_name": "Python 3",
   "language": "python",
   "name": "python3"
  },
  "language_info": {
   "codemirror_mode": {
    "name": "ipython",
    "version": 3
   },
   "file_extension": ".py",
   "mimetype": "text/x-python",
   "name": "python",
   "nbconvert_exporter": "python",
   "pygments_lexer": "ipython3",
   "version": "3.6.6"
  }
 },
 "nbformat": 4,
 "nbformat_minor": 1
}
