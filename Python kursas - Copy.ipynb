{
 "cells": [
  {
   "cell_type": "markdown",
   "metadata": {},
   "source": [
    "###  1 diena"
   ]
  },
  {
   "cell_type": "markdown",
   "metadata": {},
   "source": [
    "## Python'as is a programming language that lets you work quickly and integrate systems more effectively (https://www.python.org/)\n",
    "Python is an interpreted high-level programming language for general-purpose programming, has a design philosophy that emphasizes code readability, notably using significant whitespace. It provides constructs that enable clear programming on both small and large scales (https://en.wikipedia.org/wiki/Python_(programming_language))\n",
    "\n",
    "## Pvz: https://www.python.org/about/success/\n",
    "<hr>"
   ]
  },
  {
   "cell_type": "markdown",
   "metadata": {},
   "source": [
    "#### Instaliavimo, naudojimo būdai bei jupyter notebook instaliavimas\n",
    "   ### Rekomenduojas būdas šiam kursui:\n",
    "1. instaliuojant miniconda  https://conda.io/miniconda.html\n",
    "        dėl visa ko update: conda update conda\n",
    "        \n",
    "        Galima iškart instaliuoti įvarius: libraries, packages\n",
    "        bet geriau naudoti virtual environments (toliau vir env):\n",
    "        \n",
    "        geriausia (dėl dependencies):\n",
    "        conda create -n pavadinimas python=3 jupyter kiti\n",
    "        \n",
    "        activate vir env naudojimui:\n",
    "        activate pavadinimas\n",
    "        \n",
    "        deactivate vir env:\n",
    "        deactivate \n",
    "        \n",
    "        nerekomenduoju, bet galima:\n",
    "        conda create -n pavadinimas anaconda python=3\n",
    "\n",
    "    arba\n",
    "        conda create -n pavadinimas python\n",
    "        conda install -n pavadinimas scipy\n",
    "        activate pavadinimas\n",
    "        deactivate\n",
    "        conda remove -n pavadinimas --all\n",
    "\n",
    "    arba\n",
    "        conda create -n pavadinimas python\n",
    "        conda install -n pavadinimas scipy=0.15.0\n",
    "        activate pavadinimas\n",
    "        deactivate\n",
    "        conda remove -n pavadinimas --all\n",
    "        \n",
    "#### Mažiau rekomenduojas būdas šiam kursui:\n",
    "2. #### Instaliuoti anaconda (užima daug vietos) https://www.anaconda.com/download/#download\n",
    "    Visos komandos tinka kaip ir miniconda'ai\n",
    "    \n",
    "### Nerekomenduoji būdai šiam kursui:\n",
    "3. #### Tik python ir tada naudoti venv\n",
    "        python(3) -m venv /path/to/new/virtual/environment/pavadinimas\n",
    "        source /path/to/new/virtual/environment/pavadinimas/bin/activate\n",
    "        pip(3) intstall pavadinimas\n",
    "        paleidimas:\n",
    "        python -m scirtppav.py\n",
    "        deactivate\n",
    "\n",
    "4. #### Tik python https://www.python.org/downloads/windows/ ir be venv\n",
    "        pip(3) intstall pavadinimas\n",
    "        paleidimas:\n",
    "        python -m scirtppav.py\n",
    "<hr>"
   ]
  },
  {
   "cell_type": "markdown",
   "metadata": {},
   "source": [
    "## Python objects, basic types, and variables\n",
    "\n",
    "Everything in Python is an **object** and every object in Python has a **type**. Some of the basic types include:\n",
    "\n",
    "- **`int`** (integer; a whole number with no decimal place)\n",
    "  - `10`\n",
    "  - `-3`\n",
    "- **`float`** (float; a number that has a decimal place)\n",
    "  - `7.41`\n",
    "  - `-0.006`\n",
    "- **`str`** (string; a sequence of characters enclosed in single quotes, double quotes, or triple quotes)\n",
    "  - `'this is a string using single quotes'`\n",
    "  - `\"this is a string using double quotes\"`\n",
    "  - `'''this is a triple quoted string using single quotes'''`\n",
    "  - `\"\"\"this is a triple quoted string using double quotes\"\"\"`\n",
    "- **`bool`** (boolean; a binary value that is either true or false)\n",
    "  - `True`\n",
    "  - `False`\n",
    "- **`NoneType`** (a special type representing the absence of a value)\n",
    "  - `None`\n",
    "<hr>"
   ]
  },
  {
   "cell_type": "code",
   "execution_count": 1,
   "metadata": {},
   "outputs": [
    {
     "data": {
      "text/plain": [
       "NoneType"
      ]
     },
     "execution_count": 1,
     "metadata": {},
     "output_type": "execute_result"
    }
   ],
   "source": [
    "# Python'o pagrindiniai tipai, kuriuos visada galima pasitikrinti panaudojus vieną iš daugelio built-in funkcijų/metodų\n",
    "# Pavyzdžiai žemiau\n",
    "type(3)\n",
    "type(-3)\n",
    "type(3.5)\n",
    "type(-3.5)\n",
    "type(\"Hello\")\n",
    "type('Hello')\n",
    "type('''Hello''')\n",
    "type(\"\"\"Hello\"\"\")\n",
    "type(True)\n",
    "type(False)\n",
    "type(None)"
   ]
  },
  {
   "cell_type": "markdown",
   "metadata": {},
   "source": [
    "In Python, a **variable** is a name you specify in your code that maps to a particular **object**, object **instance**, or value.\n",
    "\n",
    "By defining variables, we can refer to things by names that make sense to us. Names for variables can only contain letters, underscores (`_`), or numbers (no spaces, dashes, or other characters). Variable names must start with a letter or underscore."
   ]
  },
  {
   "cell_type": "code",
   "execution_count": 2,
   "metadata": {},
   "outputs": [
    {
     "data": {
      "text/plain": [
       "int"
      ]
     },
     "execution_count": 2,
     "metadata": {},
     "output_type": "execute_result"
    }
   ],
   "source": [
    "# reikšmių (value) prisikirimas kintamąjam labai paprastas - tiesiog kintamojo pavadinimas ir reikšmės priskyrimas su \"=\"\n",
    "# ženklu. Kaip reikšmė (value) gali būti bet koks python'o objektas.\n",
    "a = 3\n",
    "type(a)\n",
    "# naudojant python'ą command line, tiesiog type(a) nieko neparodis, būtina naudoti print() funkciją\n",
    "# jupyter notebook žino, kad nurodant tik funkciją su kitamuoju ar raw tekstu, skaičiumi ar kitu tipu\n",
    "# reikia automatiškai atspauzdinti"
   ]
  },
  {
   "cell_type": "code",
   "execution_count": 3,
   "metadata": {},
   "outputs": [
    {
     "data": {
      "text/plain": [
       "int"
      ]
     },
     "execution_count": 3,
     "metadata": {},
     "output_type": "execute_result"
    }
   ],
   "source": [
    "# kintamųjų pavadinimo pagrindinės taisyklės: iš mažios raidės,\n",
    "# kelis žodžius atskirti su \"_\" ir galimi skaičiai gale\n",
    "list_of_names = 3\n",
    "a1 = 5\n",
    "a2 = 6\n",
    "type(a)"
   ]
  },
  {
   "cell_type": "code",
   "execution_count": 4,
   "metadata": {},
   "outputs": [
    {
     "data": {
      "text/plain": [
       "int"
      ]
     },
     "execution_count": 4,
     "metadata": {},
     "output_type": "execute_result"
    }
   ],
   "source": [
    "a = -3\n",
    "type(a)"
   ]
  },
  {
   "cell_type": "code",
   "execution_count": 5,
   "metadata": {},
   "outputs": [
    {
     "data": {
      "text/plain": [
       "float"
      ]
     },
     "execution_count": 5,
     "metadata": {},
     "output_type": "execute_result"
    }
   ],
   "source": [
    "a = 3.5\n",
    "type(a)"
   ]
  },
  {
   "cell_type": "code",
   "execution_count": 6,
   "metadata": {},
   "outputs": [
    {
     "data": {
      "text/plain": [
       "float"
      ]
     },
     "execution_count": 6,
     "metadata": {},
     "output_type": "execute_result"
    }
   ],
   "source": [
    "a = -3.5\n",
    "type(a)"
   ]
  },
  {
   "cell_type": "code",
   "execution_count": 7,
   "metadata": {},
   "outputs": [
    {
     "data": {
      "text/plain": [
       "str"
      ]
     },
     "execution_count": 7,
     "metadata": {},
     "output_type": "execute_result"
    }
   ],
   "source": [
    "a = \"Hello\"\n",
    "type(a)"
   ]
  },
  {
   "cell_type": "code",
   "execution_count": 8,
   "metadata": {},
   "outputs": [
    {
     "data": {
      "text/plain": [
       "str"
      ]
     },
     "execution_count": 8,
     "metadata": {},
     "output_type": "execute_result"
    }
   ],
   "source": [
    "a = 'Hello'\n",
    "type(a)"
   ]
  },
  {
   "cell_type": "code",
   "execution_count": 9,
   "metadata": {},
   "outputs": [
    {
     "data": {
      "text/plain": [
       "str"
      ]
     },
     "execution_count": 9,
     "metadata": {},
     "output_type": "execute_result"
    }
   ],
   "source": [
    "a = '''Hello'''\n",
    "type(a)"
   ]
  },
  {
   "cell_type": "code",
   "execution_count": 10,
   "metadata": {},
   "outputs": [
    {
     "data": {
      "text/plain": [
       "str"
      ]
     },
     "execution_count": 10,
     "metadata": {},
     "output_type": "execute_result"
    }
   ],
   "source": [
    "a = \"\"\"Hello\"\"\"\n",
    "type(a)"
   ]
  },
  {
   "cell_type": "code",
   "execution_count": 11,
   "metadata": {},
   "outputs": [
    {
     "data": {
      "text/plain": [
       "bool"
      ]
     },
     "execution_count": 11,
     "metadata": {},
     "output_type": "execute_result"
    }
   ],
   "source": [
    "a = True\n",
    "type(a)"
   ]
  },
  {
   "cell_type": "code",
   "execution_count": 12,
   "metadata": {},
   "outputs": [
    {
     "data": {
      "text/plain": [
       "bool"
      ]
     },
     "execution_count": 12,
     "metadata": {},
     "output_type": "execute_result"
    }
   ],
   "source": [
    "a = False\n",
    "type(a)"
   ]
  },
  {
   "cell_type": "markdown",
   "metadata": {},
   "source": [
    "#### Pažaisti su type'ais ir kintamaisiais"
   ]
  },
  {
   "cell_type": "code",
   "execution_count": 13,
   "metadata": {},
   "outputs": [
    {
     "name": "stdout",
     "output_type": "stream",
     "text": [
      "5\n"
     ]
    }
   ],
   "source": [
    "# paprasta print'inimo funkcija/metodas, kuris leidžia output'inti ivairią string informaciją (ir skaičius)\n",
    "a = 5\n",
    "print(a)"
   ]
  },
  {
   "cell_type": "code",
   "execution_count": 14,
   "metadata": {},
   "outputs": [
    {
     "name": "stdout",
     "output_type": "stream",
     "text": [
      "tekstas\n"
     ]
    }
   ],
   "source": [
    "b = \"tekstas\"\n",
    "print(b)"
   ]
  },
  {
   "cell_type": "code",
   "execution_count": 15,
   "metadata": {},
   "outputs": [
    {
     "name": "stdout",
     "output_type": "stream",
     "text": [
      "5.5\n"
     ]
    }
   ],
   "source": [
    "c = 5.5\n",
    "print(c)"
   ]
  },
  {
   "cell_type": "code",
   "execution_count": 16,
   "metadata": {},
   "outputs": [
    {
     "name": "stdout",
     "output_type": "stream",
     "text": [
      "čia galima įrašyti bet ką kaip klausimą/prašymą?Labas\n",
      "Labas\n"
     ]
    }
   ],
   "source": [
    "# input() reikalingas norint priimti duomenis iš vartotojo (user)\n",
    "# informacija pateikiama teksto forma, todėl norint alikti matemetinius skaičius, reikia kovertavimą, pasidnaudojus\n",
    "# built-in funkcijoms, kurios bus aptartos vėliau\n",
    "b = input(\"čia galima įrašyti bet ką kaip klausimą/prašymą?\")\n",
    "print(b)"
   ]
  },
  {
   "cell_type": "markdown",
   "metadata": {},
   "source": [
    "## Formatting strings and using placeholders\n",
    "https://www.w3schools.com/python/ref_func_print.asp\n",
    "\n",
    "https://docs.python.org/3/tutorial/inputoutput.html"
   ]
  },
  {
   "cell_type": "markdown",
   "metadata": {},
   "source": [
    "####  Naujausias nuo 3.6 (naudojant f\"\")"
   ]
  },
  {
   "cell_type": "code",
   "execution_count": 17,
   "metadata": {},
   "outputs": [
    {
     "name": "stdout",
     "output_type": "stream",
     "text": [
      "Sveiki Jonas, jūsų pavardė Jonaitis, geros dienos\n"
     ]
    }
   ],
   "source": [
    "# naujausias metodas, kaip galima print'inti informaciją, turint template ir naudojant placeholders, kurių vietoje galima\n",
    "# įdėti kitamuosius\n",
    "vardas = \"Jonas\"\n",
    "pavardė = \"Jonaitis\"\n",
    "print(f\"Sveiki {vardas}, jūsų pavardė {pavardė}, geros dienos\")"
   ]
  },
  {
   "cell_type": "markdown",
   "metadata": {},
   "source": [
    "#### nuo 2.6 iki 3.6 (naudojant \"\".format())"
   ]
  },
  {
   "cell_type": "code",
   "execution_count": 18,
   "metadata": {},
   "outputs": [
    {
     "name": "stdout",
     "output_type": "stream",
     "text": [
      "Sveiki Jonas, jūsų pavardė Jonaitis, geros dienos\n"
     ]
    }
   ],
   "source": [
    "print(\"Sveiki {}, jūsų pavardė {}, geros dienos\".format(vardas, pavardė))"
   ]
  },
  {
   "cell_type": "code",
   "execution_count": 19,
   "metadata": {},
   "outputs": [
    {
     "name": "stdout",
     "output_type": "stream",
     "text": [
      "Sveiki Jonas, jūsų pavardė Jonaitis, geros dienos\n"
     ]
    }
   ],
   "source": [
    "# galima ir nurodyti index, pagal seką nurodytą format() skliaustuose\n",
    "print(\"Sveiki {0}, jūsų pavardė {1}, geros dienos\".format(vardas, pavardė))"
   ]
  },
  {
   "cell_type": "code",
   "execution_count": 20,
   "metadata": {},
   "outputs": [
    {
     "name": "stdout",
     "output_type": "stream",
     "text": [
      "Sveiki Jonaitis, jūsų pavardė Jonas, geros dienos\n"
     ]
    }
   ],
   "source": [
    "# galima ir sukeisti index numerius\n",
    "print(\"Sveiki {1}, jūsų pavardė {0}, geros dienos\".format(vardas, pavardė))"
   ]
  },
  {
   "cell_type": "markdown",
   "metadata": {},
   "source": [
    "####  iki 2.6 (nerekomenduojama naudoti, naudojant %s, %d ir pan.)"
   ]
  },
  {
   "cell_type": "markdown",
   "metadata": {},
   "source": [
    "### Užduotis 1:\n",
    "Priimti vardą, pavardę ir print'inti"
   ]
  },
  {
   "cell_type": "code",
   "execution_count": 21,
   "metadata": {},
   "outputs": [
    {
     "name": "stdout",
     "output_type": "stream",
     "text": [
      "Koks jūsų vardas? Jonas\n",
      "Koks jūsų pavardė? Jonaitis\n",
      "Sveiki Jonas Jonaitis\n"
     ]
    }
   ],
   "source": [
    "vardas = input(\"Koks jūsų vardas? \")\n",
    "pavardė = input(\"Koks jūsų pavardė? \")\n",
    "print(f\"Sveiki {vardas} {pavardė}\")"
   ]
  },
  {
   "cell_type": "markdown",
   "metadata": {},
   "source": [
    "### Užduotis 2: \n",
    "Panaudodami 1 ir 2 būdus, priimti email'ą (pvz. vardaspavardė@com.com), bet būtinai slaptažodį ir print'inti vardą ir pavardę (kaip prisijungus prie account'o).\n",
    "\n",
    "Hint'as:\n",
    "if kažkas == kažkam and kažkas == kažkam:\n",
    "    \n",
    "    print(kažką)"
   ]
  },
  {
   "cell_type": "code",
   "execution_count": 22,
   "metadata": {},
   "outputs": [
    {
     "name": "stdout",
     "output_type": "stream",
     "text": [
      "Prašome suvesti el.paštą emailas@com.com\n",
      "Prašome suvesti slaptažodį password\n",
      "Sveikti prisijungę Janina Janinienė\n"
     ]
    }
   ],
   "source": [
    "slaptazodis = \"password\"\n",
    "emailas = \"emailas@com.com\"\n",
    "vardas = \"Janina\"\n",
    "pavardė = \"Janinienė\"\n",
    "el_input = input(\"Prašome suvesti el.paštą \")\n",
    "slapt_input = input(\"Prašome suvesti slaptažodį \")\n",
    "if el_input == emailas and slapt_input == slaptazodis:\n",
    "    print(f\"Sveikti prisijungę {vardas} {pavardė}\")"
   ]
  },
  {
   "cell_type": "markdown",
   "metadata": {},
   "source": [
    "## Basic operators\n",
    "\n",
    "In Python, there are different types of **operators** (special symbols) that operate on different values. Some of the basic operators include:\n",
    "\n",
    "- arithmetic operators\n",
    "  - **`+`** (addition)\n",
    "  - **`-`** (subtraction)\n",
    "  - **`*`** (multiplication)\n",
    "  - **`/`** (division)\n",
    "  - __`**`__ (exponent)\n",
    "- assignment operators\n",
    "  - **`=`** (assign a value)\n",
    "  - **`+=`** (add and re-assign; increment)\n",
    "  - **`-=`** (subtract and re-assign; decrement)\n",
    "  - **`*=`** (multiply and re-assign)\n",
    "- comparison operators (return either `True` or `False`)\n",
    "  - **`==`** (equal to)\n",
    "  - **`!=`** (not equal to)\n",
    "  - **`<`** (less than)\n",
    "  - **`<=`** (less than or equal to)\n",
    "  - **`>`** (greater than)\n",
    "  - **`>=`** (greater than or equal to)\n",
    "\n",
    "When multiple operators are used in a single expression, **operator precedence** determines which parts of the expression are evaluated in which order. Operators with higher precedence are evaluated first (like PEMDAS in math). Operators with the same precedence are evaluated from left to right.\n",
    "\n",
    "- `()` parentheses, for grouping\n",
    "- `**` exponent\n",
    "- `*`, `/` multiplication and division\n",
    "- `+`, `-` addition and subtraction\n",
    "- `==`, `!=`, `<`, `<=`, `>`, `>=` comparisons\n",
    "\n",
    "> See https://docs.python.org/3/reference/expressions.html#operator-precedence"
   ]
  },
  {
   "cell_type": "code",
   "execution_count": 23,
   "metadata": {},
   "outputs": [],
   "source": [
    "# visi matematinai veiksmai yra visiškai tokie patys kaip ir matematikoje\n",
    "# Assigning some numbers to different variables\n",
    "num1 = 10\n",
    "num2 = -3\n",
    "num3 = 7.41\n",
    "num4 = -.6\n",
    "num5 = 7\n",
    "num6 = 3\n",
    "num7 = 11.11"
   ]
  },
  {
   "cell_type": "code",
   "execution_count": 24,
   "metadata": {},
   "outputs": [
    {
     "data": {
      "text/plain": [
       "7"
      ]
     },
     "execution_count": 24,
     "metadata": {},
     "output_type": "execute_result"
    }
   ],
   "source": [
    "# Addition\n",
    "suma = num1 + num2\n",
    "suma"
   ]
  },
  {
   "cell_type": "code",
   "execution_count": 25,
   "metadata": {},
   "outputs": [
    {
     "data": {
      "text/plain": [
       "6.8100000000000005"
      ]
     },
     "execution_count": 25,
     "metadata": {},
     "output_type": "execute_result"
    }
   ],
   "source": [
    "# Subtraction\n",
    "minus = num3 + num4\n",
    "minus"
   ]
  },
  {
   "cell_type": "code",
   "execution_count": 26,
   "metadata": {},
   "outputs": [
    {
     "data": {
      "text/plain": [
       "10"
      ]
     },
     "execution_count": 26,
     "metadata": {},
     "output_type": "execute_result"
    }
   ],
   "source": [
    "# Multiplication\n",
    "daugyba = num5 + num6\n",
    "daugyba"
   ]
  },
  {
   "cell_type": "code",
   "execution_count": 27,
   "metadata": {},
   "outputs": [
    {
     "data": {
      "text/plain": [
       "-11.666666666666668"
      ]
     },
     "execution_count": 27,
     "metadata": {},
     "output_type": "execute_result"
    }
   ],
   "source": [
    "# Division\n",
    "dalyba = num5 / num4\n",
    "dalyba"
   ]
  },
  {
   "cell_type": "code",
   "execution_count": 28,
   "metadata": {},
   "outputs": [
    {
     "data": {
      "text/plain": [
       "343"
      ]
     },
     "execution_count": 28,
     "metadata": {},
     "output_type": "execute_result"
    }
   ],
   "source": [
    "# Exponent\n",
    "pakel = num5 ** num6\n",
    "pakel"
   ]
  },
  {
   "cell_type": "code",
   "execution_count": 29,
   "metadata": {},
   "outputs": [
    {
     "name": "stdout",
     "output_type": "stream",
     "text": [
      "10\n"
     ]
    }
   ],
   "source": [
    "# Increment existing variable\n",
    "# norint padidinti kintamojo vertę ar pakeisti string'ą, galima taip:\n",
    "num = 5\n",
    "num = num + 5\n",
    "print(num)"
   ]
  },
  {
   "cell_type": "code",
   "execution_count": 30,
   "metadata": {},
   "outputs": [
    {
     "data": {
      "text/plain": [
       "12"
      ]
     },
     "execution_count": 30,
     "metadata": {},
     "output_type": "execute_result"
    }
   ],
   "source": [
    "# bet geriau taip:\n",
    "numa = 9\n",
    "numa += 3\n",
    "numa"
   ]
  },
  {
   "cell_type": "code",
   "execution_count": 31,
   "metadata": {},
   "outputs": [
    {
     "data": {
      "text/plain": [
       "6"
      ]
     },
     "execution_count": 31,
     "metadata": {},
     "output_type": "execute_result"
    }
   ],
   "source": [
    "# galima lygiai taip pat minisuoti\n",
    "# Decrement existing variable\n",
    "numm = 9\n",
    "numm -= 3\n",
    "numm"
   ]
  },
  {
   "cell_type": "code",
   "execution_count": 32,
   "metadata": {},
   "outputs": [
    {
     "data": {
      "text/plain": [
       "27"
      ]
     },
     "execution_count": 32,
     "metadata": {},
     "output_type": "execute_result"
    }
   ],
   "source": [
    "# daugyba\n",
    "# Multiply & re-assign\n",
    "numd = 9\n",
    "numd *= 3\n",
    "numd"
   ]
  },
  {
   "cell_type": "code",
   "execution_count": 33,
   "metadata": {},
   "outputs": [
    {
     "data": {
      "text/plain": [
       "-12.23"
      ]
     },
     "execution_count": 33,
     "metadata": {},
     "output_type": "execute_result"
    }
   ],
   "source": [
    "# Assign the value of an expression to a variable\n",
    "num8 = num1 + num2 * num3\n",
    "num8"
   ]
  },
  {
   "cell_type": "code",
   "execution_count": 34,
   "metadata": {},
   "outputs": [
    {
     "data": {
      "text/plain": [
       "True"
      ]
     },
     "execution_count": 34,
     "metadata": {},
     "output_type": "execute_result"
    }
   ],
   "source": [
    "# norint nustatyti reikšių lybybę, naudojama \"==\" ir gražinamos bool(ean) tipo reikšmės True ir False\n",
    "# Are these two expressions equal to each other?\n",
    "lyg1 = 5\n",
    "lyg2 = 5\n",
    "lyg1 == lyg2"
   ]
  },
  {
   "cell_type": "code",
   "execution_count": 35,
   "metadata": {},
   "outputs": [
    {
     "data": {
      "text/plain": [
       "True"
      ]
     },
     "execution_count": 35,
     "metadata": {},
     "output_type": "execute_result"
    }
   ],
   "source": [
    "lyg3 = 2\n",
    "lyg4 = 3\n",
    "lyg1 == lyg3 + lyg4"
   ]
  },
  {
   "cell_type": "code",
   "execution_count": 36,
   "metadata": {},
   "outputs": [
    {
     "data": {
      "text/plain": [
       "False"
      ]
     },
     "execution_count": 36,
     "metadata": {},
     "output_type": "execute_result"
    }
   ],
   "source": [
    "lyg3 == lyg4"
   ]
  },
  {
   "cell_type": "code",
   "execution_count": 37,
   "metadata": {},
   "outputs": [
    {
     "data": {
      "text/plain": [
       "True"
      ]
     },
     "execution_count": 37,
     "metadata": {},
     "output_type": "execute_result"
    }
   ],
   "source": [
    "# \"!=\" leidždia daryti reverse palyginimą, kuris kartais reikalingas\n",
    "# Are these two expressions not equal to each other?\n",
    "lyg3 != lyg4"
   ]
  },
  {
   "cell_type": "code",
   "execution_count": 38,
   "metadata": {},
   "outputs": [
    {
     "data": {
      "text/plain": [
       "False"
      ]
     },
     "execution_count": 38,
     "metadata": {},
     "output_type": "execute_result"
    }
   ],
   "source": [
    "# Is the first expression less than the second expression?\n",
    "lyg3 > lyg4"
   ]
  },
  {
   "cell_type": "code",
   "execution_count": 39,
   "metadata": {},
   "outputs": [
    {
     "data": {
      "text/plain": [
       "True"
      ]
     },
     "execution_count": 39,
     "metadata": {},
     "output_type": "execute_result"
    }
   ],
   "source": [
    "lyg1 = 5\n",
    "lyg2 = 4\n",
    "lyg1 > lyg2"
   ]
  },
  {
   "cell_type": "code",
   "execution_count": 40,
   "metadata": {},
   "outputs": [
    {
     "data": {
      "text/plain": [
       "True"
      ]
     },
     "execution_count": 40,
     "metadata": {},
     "output_type": "execute_result"
    }
   ],
   "source": [
    "# Daromas palyginimas ir gale pateikima bool True arba False\n",
    "# Is this expression True?\n",
    "5 > 3 > 1"
   ]
  },
  {
   "cell_type": "code",
   "execution_count": 41,
   "metadata": {},
   "outputs": [
    {
     "data": {
      "text/plain": [
       "False"
      ]
     },
     "execution_count": 41,
     "metadata": {},
     "output_type": "execute_result"
    }
   ],
   "source": [
    "# False, nes palygnimo atveju visos sąlygos turi būti True tipo: 5 > 3 -> True + 3 < 1 -> False -> False\n",
    "5 > 3 < 1"
   ]
  },
  {
   "cell_type": "code",
   "execution_count": 42,
   "metadata": {},
   "outputs": [
    {
     "data": {
      "text/plain": [
       "True"
      ]
     },
     "execution_count": 42,
     "metadata": {},
     "output_type": "execute_result"
    }
   ],
   "source": [
    "# True, nes \"5 > 3 < 4\" yra True, tada paiima paskutinė reikšmė 4 ir pritaikomas == 3 + 1 ir gaunam True\n",
    "# Is this expression True?\n",
    "5 > 3 < 4 == 3 + 1"
   ]
  },
  {
   "cell_type": "code",
   "execution_count": 43,
   "metadata": {},
   "outputs": [],
   "source": [
    "# string'o objektai gali panaudoti su matematiniai ženklais\n",
    "# + tiesiog sujungia (concatenate)\n",
    "# * tiesiog sujungia (concatenate)\n",
    "# taip pat galima panaudooti \"==\" palytginimui\n",
    "# \"in\" norint surasti string'ą kitame string'ę\n",
    "# Assign some strings to different variables\n",
    "simple_string1 = 'an example'\n",
    "simple_string2 = \"oranges \""
   ]
  },
  {
   "cell_type": "code",
   "execution_count": 44,
   "metadata": {},
   "outputs": [
    {
     "data": {
      "text/plain": [
       "'an example of using the + operator'"
      ]
     },
     "execution_count": 44,
     "metadata": {},
     "output_type": "execute_result"
    }
   ],
   "source": [
    "# Addition\n",
    "simple_string1 + ' of using the + operator'"
   ]
  },
  {
   "cell_type": "code",
   "execution_count": 45,
   "metadata": {},
   "outputs": [
    {
     "data": {
      "text/plain": [
       "'an example'"
      ]
     },
     "execution_count": 45,
     "metadata": {},
     "output_type": "execute_result"
    }
   ],
   "source": [
    "# Notice that the string was not modified\n",
    "simple_string1"
   ]
  },
  {
   "cell_type": "code",
   "execution_count": 46,
   "metadata": {},
   "outputs": [
    {
     "data": {
      "text/plain": [
       "'an examplean examplean example'"
      ]
     },
     "execution_count": 46,
     "metadata": {},
     "output_type": "execute_result"
    }
   ],
   "source": [
    "# Multiplication\n",
    "simple_string1 * 3"
   ]
  },
  {
   "cell_type": "code",
   "execution_count": 47,
   "metadata": {},
   "outputs": [
    {
     "data": {
      "text/plain": [
       "'an example'"
      ]
     },
     "execution_count": 47,
     "metadata": {},
     "output_type": "execute_result"
    }
   ],
   "source": [
    "# This string wasn't modified either\n",
    "simple_string1"
   ]
  },
  {
   "cell_type": "code",
   "execution_count": 48,
   "metadata": {},
   "outputs": [
    {
     "data": {
      "text/plain": [
       "True"
      ]
     },
     "execution_count": 48,
     "metadata": {},
     "output_type": "execute_result"
    }
   ],
   "source": [
    "# Are these two expressions equal to each other?\n",
    "simple_string1 == 'an example'"
   ]
  },
  {
   "cell_type": "code",
   "execution_count": 49,
   "metadata": {},
   "outputs": [
    {
     "data": {
      "text/plain": [
       "'an example that re-assigned the original string'"
      ]
     },
     "execution_count": 49,
     "metadata": {},
     "output_type": "execute_result"
    }
   ],
   "source": [
    "# Add and re-assign\n",
    "simple_string1 += ' that re-assigned the original string'\n",
    "simple_string1"
   ]
  },
  {
   "cell_type": "code",
   "execution_count": 50,
   "metadata": {},
   "outputs": [
    {
     "data": {
      "text/plain": [
       "'oranges oranges oranges '"
      ]
     },
     "execution_count": 50,
     "metadata": {},
     "output_type": "execute_result"
    }
   ],
   "source": [
    "# Multiply and re-assign\n",
    "simple_string2 *= 3\n",
    "simple_string2"
   ]
  },
  {
   "cell_type": "code",
   "execution_count": 51,
   "metadata": {},
   "outputs": [
    {
     "data": {
      "text/plain": [
       "True"
      ]
     },
     "execution_count": 51,
     "metadata": {},
     "output_type": "execute_result"
    }
   ],
   "source": [
    "\"ran\" in simple_string2"
   ]
  },
  {
   "cell_type": "code",
   "execution_count": 52,
   "metadata": {},
   "outputs": [],
   "source": [
    "# Turėtų būti aišku, kad negalima pritaikyti minusavimo, dalybos ir mažinimo"
   ]
  },
  {
   "cell_type": "markdown",
   "metadata": {},
   "source": [
    "###  2 diena"
   ]
  },
  {
   "cell_type": "markdown",
   "metadata": {},
   "source": [
    "## Basic containers\n",
    "\n",
    "> Note: **mutable** objects can be modified after creation and **immutable** objects cannot.\n",
    "\n",
    "Containers are objects that can be used to group other objects together. The basic container types include:\n",
    "\n",
    "- **`str`** (string: immutable; indexed by integers; items are stored in the order they were added)\n",
    "    https://realpython.com/python-strings/)\n",
    "- **`list`** (list: mutable; indexed by integers; items are stored in the order they were added) https://realpython.com/python-lists-tuples/\n",
    "  - `[3, 5, 6, 3, 'dog', 'cat', False]`\n",
    "- **`tuple`** (tuple: immutable; indexed by integers; items are stored in the order they were added) https://realpython.com/python-lists-tuples/\n",
    "   - `(3, 5, 6, 3, 'dog', 'cat', False)`\n",
    "- **`set`** (set: mutable; not indexed at all; items are NOT stored in the order they were added; can only contain immutable objects; does NOT contain duplicate objects) https://realpython.com/python-sets/\n",
    "  - `{3, 5, 6, 3, 'dog', 'cat', False}`\n",
    "- **`dict`** (dictionary: mutable; key-value pairs are indexed by immutable keys; items are NOT (nuo 3.7 ARE STORED) stored in the order they were added) https://realpython.com/python-dicts/\n",
    "  - `{'name': 'Jane', 'age': 23, 'fav_foods': ['pizza', 'fruit', 'fish']}`\n",
    "    \n",
    "IPython kernel sorts the dictionary keys for display when the dictionary is evaluated. It assumes that the ordering of items in a dict object is not significant. By contrast, it does not sort the keys in an OrderedDict.\n",
    "\n",
    "When defining lists, tuples, or sets, use commas (,) to separate the individual items. When defining dicts, use a colon (:) to separate keys from values and commas (,) to separate the key-value pairs.\n",
    "\n",
    "Strings, lists, and tuples are all **sequence types** that can use the `+`, `*`, `+=`, and `*=` operators."
   ]
  },
  {
   "cell_type": "code",
   "execution_count": 53,
   "metadata": {},
   "outputs": [],
   "source": [
    "# Assign some containers to different variables\n",
    "string1 = \"Assign some \"\n",
    "list1 = [3, 5, 6, 3, 'dog', 'cat', False]\n",
    "tuple1 = (3, 5, 6, 3, 'dog', 'cat', False)\n",
    "set1 = {3, 5, 6, 3, 'dog', 'cat', False}\n",
    "dict1 = {'name': 'Jane', 'age': 23, 'fav_foods': ['pizza', 'fruit', 'fish']}"
   ]
  },
  {
   "cell_type": "code",
   "execution_count": 54,
   "metadata": {},
   "outputs": [
    {
     "data": {
      "text/plain": [
       "'Assign some Assign some Assign some Assign some Assign some '"
      ]
     },
     "execution_count": 54,
     "metadata": {},
     "output_type": "execute_result"
    }
   ],
   "source": [
    "string1 * 5"
   ]
  },
  {
   "cell_type": "code",
   "execution_count": 55,
   "metadata": {},
   "outputs": [
    {
     "data": {
      "text/plain": [
       "[3, 5, 6, 3, 'dog', 'cat', False, 3, 5, 6, 3, 'dog', 'cat', False]"
      ]
     },
     "execution_count": 55,
     "metadata": {},
     "output_type": "execute_result"
    }
   ],
   "source": [
    "list1 * 2"
   ]
  },
  {
   "cell_type": "code",
   "execution_count": 56,
   "metadata": {},
   "outputs": [
    {
     "data": {
      "text/plain": [
       "(3,\n",
       " 5,\n",
       " 6,\n",
       " 3,\n",
       " 'dog',\n",
       " 'cat',\n",
       " False,\n",
       " 3,\n",
       " 5,\n",
       " 6,\n",
       " 3,\n",
       " 'dog',\n",
       " 'cat',\n",
       " False,\n",
       " 3,\n",
       " 5,\n",
       " 6,\n",
       " 3,\n",
       " 'dog',\n",
       " 'cat',\n",
       " False)"
      ]
     },
     "execution_count": 56,
     "metadata": {},
     "output_type": "execute_result"
    }
   ],
   "source": [
    "tuple1 * 3"
   ]
  },
  {
   "cell_type": "markdown",
   "metadata": {
    "collapsed": true
   },
   "source": [
    "## Some methods on list objects\n",
    "\n",
    "- **`.append(item)`** to add a single item to the list\n",
    "- **`.extend([item1, item2, ...])`** to add multiple items to the list\n",
    "- **`.remove(item)`** to remove a single item from the list\n",
    "- **`.pop()`** to remove and return the item at the end of the list\n",
    "- **`.pop(index)`** to remove and return an item at an index"
   ]
  },
  {
   "cell_type": "code",
   "execution_count": 57,
   "metadata": {},
   "outputs": [
    {
     "data": {
      "text/plain": [
       "[3, 5, 6, 3, 'dog', 'cat', False, 'nauja reikšmė']"
      ]
     },
     "execution_count": 57,
     "metadata": {},
     "output_type": "execute_result"
    }
   ],
   "source": [
    "# Items in the list object are stored in the order they were added\n",
    "list1 = [3, 5, 6, 3, 'dog', 'cat', False]\n",
    "list1.append(\"nauja reikšmė\")\n",
    "list1"
   ]
  },
  {
   "cell_type": "code",
   "execution_count": 58,
   "metadata": {},
   "outputs": [
    {
     "data": {
      "text/plain": [
       "[3, 5, 6, 3, 'dog', 'cat', False, 'nauja reikšmė', 5, 'grapes']"
      ]
     },
     "execution_count": 58,
     "metadata": {},
     "output_type": "execute_result"
    }
   ],
   "source": [
    "# Add and re-assign\n",
    "list1 += [5, 'grapes']\n",
    "list1"
   ]
  },
  {
   "cell_type": "code",
   "execution_count": 59,
   "metadata": {},
   "outputs": [
    {
     "data": {
      "text/plain": [
       "[1, 2, 3, 4, 1, 2, 3, 4, 1, 2, 3, 4]"
      ]
     },
     "execution_count": 59,
     "metadata": {},
     "output_type": "execute_result"
    }
   ],
   "source": [
    "# Multiply (gali būti tik skaičiai) and re-assign\n",
    "list1 = [1, 2, 3, 4]\n",
    "list1 *= 3\n",
    "list1"
   ]
  },
  {
   "cell_type": "code",
   "execution_count": 60,
   "metadata": {},
   "outputs": [
    {
     "data": {
      "text/plain": [
       "[1, 2, 3, 4, 1, 2, 3, 4, 1, 2, 3, 4, 'item']"
      ]
     },
     "execution_count": 60,
     "metadata": {},
     "output_type": "execute_result"
    }
   ],
   "source": [
    "list1.append(\"item\")\n",
    "list1"
   ]
  },
  {
   "cell_type": "code",
   "execution_count": 61,
   "metadata": {},
   "outputs": [
    {
     "data": {
      "text/plain": [
       "[1, 2, 3, 4, 1, 2, 3, 4, 1, 2, 3, 4, 'item', 'item1', 'item2']"
      ]
     },
     "execution_count": 61,
     "metadata": {},
     "output_type": "execute_result"
    }
   ],
   "source": [
    "list1.extend([\"item1\", \"item2\"])\n",
    "list1"
   ]
  },
  {
   "cell_type": "code",
   "execution_count": 62,
   "metadata": {},
   "outputs": [
    {
     "data": {
      "text/plain": [
       "[1, 2, 3, 4, 1, 2, 3, 4, 1, 2, 3, 4, 'item1', 'item2']"
      ]
     },
     "execution_count": 62,
     "metadata": {},
     "output_type": "execute_result"
    }
   ],
   "source": [
    "list1.remove(\"item\")\n",
    "list1"
   ]
  },
  {
   "cell_type": "code",
   "execution_count": 63,
   "metadata": {},
   "outputs": [
    {
     "data": {
      "text/plain": [
       "[1, 2, 3, 4, 1, 2, 3, 4, 1, 2, 3, 4, 'item1']"
      ]
     },
     "execution_count": 63,
     "metadata": {},
     "output_type": "execute_result"
    }
   ],
   "source": [
    "list1.pop()\n",
    "list1"
   ]
  },
  {
   "cell_type": "code",
   "execution_count": 64,
   "metadata": {},
   "outputs": [
    {
     "name": "stdout",
     "output_type": "stream",
     "text": [
      "item1\n"
     ]
    }
   ],
   "source": [
    "# kadangi pop() ištrina paskutinę value iš list'o ir tada reikšmę grąžina, todėl su print galima ją pamatyti\n",
    "print(list1.pop())"
   ]
  },
  {
   "cell_type": "code",
   "execution_count": 65,
   "metadata": {},
   "outputs": [
    {
     "name": "stdout",
     "output_type": "stream",
     "text": [
      "3\n"
     ]
    }
   ],
   "source": [
    "print(list1.pop(2))"
   ]
  },
  {
   "cell_type": "code",
   "execution_count": 66,
   "metadata": {},
   "outputs": [
    {
     "data": {
      "text/plain": [
       "[1, 2, 4, 1, 2, 3, 4, 1, 2, 3, 4]"
      ]
     },
     "execution_count": 66,
     "metadata": {},
     "output_type": "execute_result"
    }
   ],
   "source": [
    "list1"
   ]
  },
  {
   "cell_type": "markdown",
   "metadata": {},
   "source": [
    "## Some methods on set objects\n",
    "\n",
    "- **`.add(item)`** to add a single item to the set\n",
    "- **`.update([item1, item2, ...])`** to add multiple items to the set\n",
    "- **`.update(set2, set3, ...)`** to add items from all provided sets to the set\n",
    "- **`.remove(item)`** to remove a single item from the set\n",
    "- **`.pop()`** to remove and return a random item from the set\n",
    "- **`.difference(set2)`** to return items in the set that are not in another set\n",
    "- **`.intersection(set2)`** to return items in both sets\n",
    "- **`.union(set2)`** to return items that are in either set\n",
    "- **`.symmetric_difference(set2)`** to return items that are only in one set (not both)\n",
    "- **`.issuperset(set2)`** does the set contain everything in the other set?\n",
    "- **`.issubset(set2)`** is the set contained in the other set?"
   ]
  },
  {
   "cell_type": "code",
   "execution_count": 67,
   "metadata": {},
   "outputs": [
    {
     "data": {
      "text/plain": [
       "{3, 4, 5, 6, 7, 12}"
      ]
     },
     "execution_count": 67,
     "metadata": {},
     "output_type": "execute_result"
    }
   ],
   "source": [
    "# Items in the set object are not stored in the order they were added\n",
    "set1 = {12,3,4,5,6,7}\n",
    "set1"
   ]
  },
  {
   "cell_type": "code",
   "execution_count": 68,
   "metadata": {},
   "outputs": [
    {
     "data": {
      "text/plain": [
       "{3, 4, 5, 6, 7, 8, 12}"
      ]
     },
     "execution_count": 68,
     "metadata": {},
     "output_type": "execute_result"
    }
   ],
   "source": [
    "set1.add(8)\n",
    "set1"
   ]
  },
  {
   "cell_type": "code",
   "execution_count": 69,
   "metadata": {},
   "outputs": [
    {
     "data": {
      "text/plain": [
       "{12, 15, 3, 4, 5, 6, 7, 8, 'namas'}"
      ]
     },
     "execution_count": 69,
     "metadata": {},
     "output_type": "execute_result"
    }
   ],
   "source": [
    "set1.update([15, \"namas\"])\n",
    "set1"
   ]
  },
  {
   "cell_type": "code",
   "execution_count": 70,
   "metadata": {},
   "outputs": [
    {
     "data": {
      "text/plain": [
       "{1.2, 12, 15, 3, 4, 5, 5.6, 6, 7, 8, 'a', 'b', 'namas'}"
      ]
     },
     "execution_count": 70,
     "metadata": {},
     "output_type": "execute_result"
    }
   ],
   "source": [
    "set2 = {1.2, 5.6}\n",
    "set3 = {\"a\", \"b\"}\n",
    "set1.update(set2, set3)\n",
    "set1"
   ]
  },
  {
   "cell_type": "code",
   "execution_count": 71,
   "metadata": {},
   "outputs": [
    {
     "data": {
      "text/plain": [
       "{1.2, 12, 15, 3, 4, 5.6, 6, 7, 8, 'a', 'b', 'namas'}"
      ]
     },
     "execution_count": 71,
     "metadata": {},
     "output_type": "execute_result"
    }
   ],
   "source": [
    "set1.remove(5)\n",
    "set1"
   ]
  },
  {
   "cell_type": "code",
   "execution_count": 72,
   "metadata": {},
   "outputs": [
    {
     "data": {
      "text/plain": [
       "{12, 15, 3, 4, 5.6, 6, 7, 8, 'a', 'b', 'namas'}"
      ]
     },
     "execution_count": 72,
     "metadata": {},
     "output_type": "execute_result"
    }
   ],
   "source": [
    "# skirtingai nuo list'o pop(), set atveju yra pašalinama random reikšmė\n",
    "set1.pop()\n",
    "set1"
   ]
  },
  {
   "cell_type": "code",
   "execution_count": 73,
   "metadata": {},
   "outputs": [
    {
     "name": "stdout",
     "output_type": "stream",
     "text": [
      "a\n"
     ]
    }
   ],
   "source": [
    "print(set1.pop())"
   ]
  },
  {
   "cell_type": "code",
   "execution_count": 74,
   "metadata": {},
   "outputs": [
    {
     "data": {
      "text/plain": [
       "{0, 1}"
      ]
     },
     "execution_count": 74,
     "metadata": {},
     "output_type": "execute_result"
    }
   ],
   "source": [
    "# to return items in the set that are not in another set\n",
    "set1 = {0, 1, 2, 3, 4, 5, 6}\n",
    "set2 = {2, 3, 4, 5, 6, 7, 8, 9}\n",
    "set3 = set1.difference(set2)\n",
    "set3"
   ]
  },
  {
   "cell_type": "code",
   "execution_count": 75,
   "metadata": {},
   "outputs": [
    {
     "data": {
      "text/plain": [
       "{2, 3, 4, 5, 6}"
      ]
     },
     "execution_count": 75,
     "metadata": {},
     "output_type": "execute_result"
    }
   ],
   "source": [
    "# to return items in both sets\n",
    "set3 = set1.intersection(set2)\n",
    "set3"
   ]
  },
  {
   "cell_type": "code",
   "execution_count": 76,
   "metadata": {},
   "outputs": [
    {
     "data": {
      "text/plain": [
       "{0, 1, 2, 3, 4, 5, 6, 7, 8, 9}"
      ]
     },
     "execution_count": 76,
     "metadata": {},
     "output_type": "execute_result"
    }
   ],
   "source": [
    "# to return items that are in either set\n",
    "set3 = set1.union(set2) \n",
    "set3"
   ]
  },
  {
   "cell_type": "code",
   "execution_count": 77,
   "metadata": {},
   "outputs": [
    {
     "data": {
      "text/plain": [
       "{0, 1, 7, 8, 9}"
      ]
     },
     "execution_count": 77,
     "metadata": {},
     "output_type": "execute_result"
    }
   ],
   "source": [
    "# to return items that are only in one set (not both)\n",
    "set1 = {0, 1, 2, 3, 4, 5, 6}\n",
    "set2 = {2, 3, 4, 5, 6, 7, 8, 9}\n",
    "set3 = set1.symmetric_difference(set2)\n",
    "set3"
   ]
  },
  {
   "cell_type": "code",
   "execution_count": 78,
   "metadata": {},
   "outputs": [
    {
     "data": {
      "text/plain": [
       "False"
      ]
     },
     "execution_count": 78,
     "metadata": {},
     "output_type": "execute_result"
    }
   ],
   "source": [
    "# does the set contain everything in the other set? True arba False\n",
    "set3 = set1.issuperset(set2) \n",
    "set3"
   ]
  },
  {
   "cell_type": "code",
   "execution_count": 79,
   "metadata": {},
   "outputs": [
    {
     "data": {
      "text/plain": [
       "True"
      ]
     },
     "execution_count": 79,
     "metadata": {},
     "output_type": "execute_result"
    }
   ],
   "source": [
    "set1 = {3, 4, 5, 6}\n",
    "set2 = {2, 3, 4, 5, 6, 7, 8, 9}\n",
    "set3 = set2.issuperset(set1) \n",
    "set3"
   ]
  },
  {
   "cell_type": "code",
   "execution_count": 80,
   "metadata": {},
   "outputs": [
    {
     "data": {
      "text/plain": [
       "True"
      ]
     },
     "execution_count": 80,
     "metadata": {},
     "output_type": "execute_result"
    }
   ],
   "source": [
    "# is the set contained in the other set?\n",
    "set3 = set1.issubset(set2)\n",
    "set3"
   ]
  },
  {
   "cell_type": "code",
   "execution_count": 81,
   "metadata": {},
   "outputs": [
    {
     "data": {
      "text/plain": [
       "False"
      ]
     },
     "execution_count": 81,
     "metadata": {},
     "output_type": "execute_result"
    }
   ],
   "source": [
    "set1 = {1, 3, 4, 5, 6}\n",
    "set2 = {2, 3, 4, 5, 6, 7, 8, 9}\n",
    "set3 = set1.issuperset(set2) \n",
    "set3"
   ]
  },
  {
   "cell_type": "markdown",
   "metadata": {},
   "source": [
    "## Some methods on dict objects\n",
    "\n",
    "- **`.update([(key1, val1), (key2, val2), ...])`** to add multiple key-value pairs to the dict\n",
    "- **`.update(dict2)`** to add all keys and values from another dict to the dict\n",
    "- **`.pop(key)`** to remove key and return its value from the dict (error if key not found)\n",
    "- **`.pop(key, default_val)`** to remove key and return its value from the dict (or return default_val if key not found)\n",
    "- **`.get(key)`** to return the value at a specified key in the dict (or None if key not found)\n",
    "- **`.get(key, default_val)`** to return the value at a specified key in the dict (or default_val if key not found)\n",
    "- **`.keys()`** to return a list of keys in the dict\n",
    "- **`.values()`** to return a list of values in the dict\n",
    "- **`.items()`** to return a list of key-value pairs (tuples) in the dict"
   ]
  },
  {
   "cell_type": "code",
   "execution_count": 82,
   "metadata": {},
   "outputs": [],
   "source": [
    "# Items in the dict object are stored (3.7) in the order they were added\n",
    "dict1 = {\"key1\": \"value\", \"key2\": 5, \"key3\":[20, 25, 30]}"
   ]
  },
  {
   "cell_type": "code",
   "execution_count": 83,
   "metadata": {},
   "outputs": [
    {
     "data": {
      "text/plain": [
       "'value'"
      ]
     },
     "execution_count": 83,
     "metadata": {},
     "output_type": "execute_result"
    }
   ],
   "source": [
    "# value pasiekiamos taip\n",
    "dict1[\"key1\"]"
   ]
  },
  {
   "cell_type": "code",
   "execution_count": 84,
   "metadata": {},
   "outputs": [
    {
     "data": {
      "text/plain": [
       "dict_keys(['key1', 'key2', 'key3'])"
      ]
     },
     "execution_count": 84,
     "metadata": {},
     "output_type": "execute_result"
    }
   ],
   "source": [
    "# return a list of keys in the dict\n",
    "dict1.keys()"
   ]
  },
  {
   "cell_type": "code",
   "execution_count": 85,
   "metadata": {},
   "outputs": [
    {
     "data": {
      "text/plain": [
       "dict_values(['value', 5, [20, 25, 30]])"
      ]
     },
     "execution_count": 85,
     "metadata": {},
     "output_type": "execute_result"
    }
   ],
   "source": [
    "# return a list of values in the dict\n",
    "dict1.values()"
   ]
  },
  {
   "cell_type": "code",
   "execution_count": 86,
   "metadata": {},
   "outputs": [
    {
     "data": {
      "text/plain": [
       "dict_items([('key1', 'value'), ('key2', 5), ('key3', [20, 25, 30])])"
      ]
     },
     "execution_count": 86,
     "metadata": {},
     "output_type": "execute_result"
    }
   ],
   "source": [
    "# return a list of key-value pairs (tuples) in the dict\n",
    "dict1.items()"
   ]
  },
  {
   "cell_type": "code",
   "execution_count": 87,
   "metadata": {},
   "outputs": [
    {
     "data": {
      "text/plain": [
       "25"
      ]
     },
     "execution_count": 87,
     "metadata": {},
     "output_type": "execute_result"
    }
   ],
   "source": [
    "# kaip pasiekti list'o reikšmes iš key3? Paprastai: pasirenkam key ir tada kaip ir pasirenkant reikšmę iš list'o\n",
    "dict1[\"key3\"][1]"
   ]
  },
  {
   "cell_type": "code",
   "execution_count": 88,
   "metadata": {},
   "outputs": [
    {
     "data": {
      "text/plain": [
       "{'key1': 'value', 'key2': 5, 'key3': [20, 25, 30], 'key5': 'val1', 'key6': 150}"
      ]
     },
     "execution_count": 88,
     "metadata": {},
     "output_type": "execute_result"
    }
   ],
   "source": [
    "# add multiple key-value pairs to the dict  \n",
    "dict1.update([(\"key5\", \"val1\"), (\"key6\", 150)])\n",
    "dict1"
   ]
  },
  {
   "cell_type": "code",
   "execution_count": 89,
   "metadata": {},
   "outputs": [
    {
     "data": {
      "text/plain": [
       "{'key1': 'value',\n",
       " 'key2': 5,\n",
       " 'key3': [20, 25, 30],\n",
       " 'key5': 'val1',\n",
       " 'key6': 150,\n",
       " 'key10': 'value',\n",
       " 'key7': 115,\n",
       " 'key8': 5}"
      ]
     },
     "execution_count": 89,
     "metadata": {},
     "output_type": "execute_result"
    }
   ],
   "source": [
    "# add all keys and values from another dict to the dict\n",
    "dict2 = {\"key10\": \"value\", \"key7\": 115, \"key8\":5}\n",
    "dict1.update(dict2)\n",
    "dict1"
   ]
  },
  {
   "cell_type": "code",
   "execution_count": 90,
   "metadata": {},
   "outputs": [
    {
     "data": {
      "text/plain": [
       "{'key2': 5,\n",
       " 'key3': [20, 25, 30],\n",
       " 'key5': 'val1',\n",
       " 'key6': 150,\n",
       " 'key10': 'value',\n",
       " 'key7': 115,\n",
       " 'key8': 5}"
      ]
     },
     "execution_count": 90,
     "metadata": {},
     "output_type": "execute_result"
    }
   ],
   "source": [
    "# remove key and return its value from the dict (error if key not found)\n",
    "dict1.pop(\"key1\")\n",
    "dict1"
   ]
  },
  {
   "cell_type": "code",
   "execution_count": 91,
   "metadata": {},
   "outputs": [
    {
     "name": "stdout",
     "output_type": "stream",
     "text": [
      "5\n"
     ]
    }
   ],
   "source": [
    "print(dict1.pop(\"key2\"))"
   ]
  },
  {
   "cell_type": "code",
   "execution_count": 92,
   "metadata": {},
   "outputs": [],
   "source": [
    "# .pop(key, default_val) to remove key and return its value from the dict (or return default_val if key not found)\n",
    "    "
   ]
  },
  {
   "cell_type": "code",
   "execution_count": 93,
   "metadata": {},
   "outputs": [
    {
     "ename": "KeyError",
     "evalue": "'key11'",
     "output_type": "error",
     "traceback": [
      "\u001b[0;31m---------------------------------------------------------------------------\u001b[0m",
      "\u001b[0;31mKeyError\u001b[0m                                  Traceback (most recent call last)",
      "\u001b[0;32m<ipython-input-93-747e677ca6ad>\u001b[0m in \u001b[0;36m<module>\u001b[0;34m\u001b[0m\n\u001b[1;32m      1\u001b[0m \u001b[0;31m# jei nerandama key, išmetama klaida\u001b[0m\u001b[0;34m\u001b[0m\u001b[0;34m\u001b[0m\u001b[0m\n\u001b[0;32m----> 2\u001b[0;31m \u001b[0mdict1\u001b[0m\u001b[0;34m[\u001b[0m\u001b[0;34m\"key11\"\u001b[0m\u001b[0;34m]\u001b[0m\u001b[0;34m\u001b[0m\u001b[0m\n\u001b[0m",
      "\u001b[0;31mKeyError\u001b[0m: 'key11'"
     ]
    }
   ],
   "source": [
    "# jei nerandama key, išmetama klaida\n",
    "dict1[\"key11\"]"
   ]
  },
  {
   "cell_type": "code",
   "execution_count": 94,
   "metadata": {},
   "outputs": [],
   "source": [
    "# return the value at a specified key in the dict (or None if key not found)  \n",
    "#  bet galima naudoti .get(key)\n",
    "dict1.get(\"key11\")"
   ]
  },
  {
   "cell_type": "code",
   "execution_count": 95,
   "metadata": {},
   "outputs": [
    {
     "name": "stdout",
     "output_type": "stream",
     "text": [
      "None\n"
     ]
    }
   ],
   "source": [
    "# jei print, grąžinama None reikšmė\n",
    "print(dict1.get(\"key11\"))"
   ]
  },
  {
   "cell_type": "code",
   "execution_count": 96,
   "metadata": {},
   "outputs": [],
   "source": [
    "# .get(key, default_val) to return the value at a specified key in the dict (or default_val if key not found)"
   ]
  },
  {
   "cell_type": "markdown",
   "metadata": {},
   "source": [
    "## Some methods on tuple objects\n",
    "\n",
    "- **`.count(value)`** returns the number of times a specified value appears in the tuple.\n",
    "- **`.index(value)`** finds the first occurrence of the specified value and returns index"
   ]
  },
  {
   "cell_type": "code",
   "execution_count": 97,
   "metadata": {},
   "outputs": [
    {
     "data": {
      "text/plain": [
       "(3, 5, 6, 3, 'dog', 'cat', False, 5, 'grapes')"
      ]
     },
     "execution_count": 97,
     "metadata": {},
     "output_type": "execute_result"
    }
   ],
   "source": [
    "# Add and re-assign\n",
    "tuple1 += (5, 'grapes')\n",
    "tuple1"
   ]
  },
  {
   "cell_type": "markdown",
   "metadata": {},
   "source": [
    "### Kiti container'iai https://docs.python.org/3/library/collections.html"
   ]
  },
  {
   "cell_type": "markdown",
   "metadata": {},
   "source": [
    "## Accessing data in containers\n",
    "\n",
    "For strings, lists, tuples, and dicts, we can use **subscript notation** (square brackets) to access data at an index.\n",
    "\n",
    "- strings, lists, and tuples are indexed by integers, **starting at 0** for first item\n",
    "  - these sequence types also support accesing a range of items, known as **slicing**\n",
    "  - use **negative indexing** to start at the back of the sequence\n",
    "- dicts are indexed by their keys\n",
    "\n",
    "> Note: sets are not indexed, so we cannot use subscript notation to access data elements."
   ]
  },
  {
   "cell_type": "code",
   "execution_count": 98,
   "metadata": {},
   "outputs": [
    {
     "data": {
      "text/plain": [
       "3"
      ]
     },
     "execution_count": 98,
     "metadata": {},
     "output_type": "execute_result"
    }
   ],
   "source": [
    "# Access the first item in a sequence\n",
    "list1 = [3, 5, 6, 3, 'dog', 'cat', False]\n",
    "list1[0]"
   ]
  },
  {
   "cell_type": "code",
   "execution_count": 99,
   "metadata": {},
   "outputs": [
    {
     "data": {
      "text/plain": [
       "False"
      ]
     },
     "execution_count": 99,
     "metadata": {},
     "output_type": "execute_result"
    }
   ],
   "source": [
    "# Access the last item in a sequence\n",
    "tuple1 = (3, 5, 6, 3, 'dog', 'cat', False)\n",
    "tuple1[-1]"
   ]
  },
  {
   "cell_type": "code",
   "execution_count": 100,
   "metadata": {},
   "outputs": [
    {
     "data": {
      "text/plain": [
       "'ess a'"
      ]
     },
     "execution_count": 100,
     "metadata": {},
     "output_type": "execute_result"
    }
   ],
   "source": [
    "# Access a range of items in a sequence\n",
    "simple_string1 = \"Access a range of items in a sequence\"\n",
    "simple_string1[3:8]"
   ]
  },
  {
   "cell_type": "code",
   "execution_count": 101,
   "metadata": {},
   "outputs": [
    {
     "data": {
      "text/plain": [
       "(3, 5, 6, 3)"
      ]
     },
     "execution_count": 101,
     "metadata": {},
     "output_type": "execute_result"
    }
   ],
   "source": [
    "# Access a range of items in a sequence\n",
    "tuple1[:-3]"
   ]
  },
  {
   "cell_type": "code",
   "execution_count": 102,
   "metadata": {},
   "outputs": [
    {
     "data": {
      "text/plain": [
       "['dog', 'cat', False]"
      ]
     },
     "execution_count": 102,
     "metadata": {},
     "output_type": "execute_result"
    }
   ],
   "source": [
    "# Access a range of items in a sequence\n",
    "list1[4:]"
   ]
  },
  {
   "cell_type": "markdown",
   "metadata": {},
   "source": [
    "## Python built-in functions and callables\n",
    "\n",
    "A **function** is a Python object that you can \"call\" to **perform an action** or compute and **return another object**. You call a function by placing parentheses to the right of the function name. Some functions allow you to pass **arguments** inside the parentheses (separating multiple arguments with a comma). Internal to the function, these arguments are treated like variables.\n",
    "\n",
    "Python has several useful built-in functions to help you work with different objects and/or your environment. Here is a small sample of them:\n",
    "\n",
    "- **`type(obj)`** to determine the type of an object\n",
    "- **`len(container)`** to determine how many items are in a container\n",
    "- **`callable(obj)`** to determine if an object is callable\n",
    "- **`sorted(container)`** to return a new list from a container, with the items sorted\n",
    "- **`sum(container)`** to compute the sum of a container of numbers\n",
    "- **`min(container)`** to determine the smallest item in a container\n",
    "- **`max(container)`** to determine the largest item in a container\n",
    "- **`abs(number)`** to determine the absolute value of a number\n",
    "- **`repr(obj)`** to return a string representation of an object\n",
    "\n",
    "> Complete list of built-in functions: https://docs.python.org/3/library/functions.html\n",
    "\n",
    "There are also different ways of defining your own functions and callable objects that we will explore later."
   ]
  },
  {
   "cell_type": "code",
   "execution_count": 103,
   "metadata": {},
   "outputs": [
    {
     "name": "stdout",
     "output_type": "stream",
     "text": [
      "5\n"
     ]
    },
    {
     "data": {
      "text/plain": [
       "'5'"
      ]
     },
     "execution_count": 103,
     "metadata": {},
     "output_type": "execute_result"
    }
   ],
   "source": [
    "# jei prireikia, galima konvertuot skaičių į string'ą\n",
    "a = 5\n",
    "print(a)\n",
    "b = str(a)\n",
    "b"
   ]
  },
  {
   "cell_type": "code",
   "execution_count": 104,
   "metadata": {},
   "outputs": [
    {
     "data": {
      "text/plain": [
       "str"
      ]
     },
     "execution_count": 104,
     "metadata": {},
     "output_type": "execute_result"
    }
   ],
   "source": [
    "type(b)"
   ]
  },
  {
   "cell_type": "code",
   "execution_count": 105,
   "metadata": {},
   "outputs": [
    {
     "name": "stdout",
     "output_type": "stream",
     "text": [
      "5\n"
     ]
    }
   ],
   "source": [
    "a = \"5\"\n",
    "b = int(a)\n",
    "print(b)"
   ]
  },
  {
   "cell_type": "code",
   "execution_count": 106,
   "metadata": {},
   "outputs": [
    {
     "data": {
      "text/plain": [
       "int"
      ]
     },
     "execution_count": 106,
     "metadata": {},
     "output_type": "execute_result"
    }
   ],
   "source": [
    "type(b)"
   ]
  },
  {
   "cell_type": "code",
   "execution_count": 107,
   "metadata": {},
   "outputs": [
    {
     "ename": "TypeError",
     "evalue": "must be str, not int",
     "output_type": "error",
     "traceback": [
      "\u001b[0;31m---------------------------------------------------------------------------\u001b[0m",
      "\u001b[0;31mTypeError\u001b[0m                                 Traceback (most recent call last)",
      "\u001b[0;32m<ipython-input-107-5cd40e0bb6cf>\u001b[0m in \u001b[0;36m<module>\u001b[0;34m\u001b[0m\n\u001b[0;32m----> 1\u001b[0;31m \u001b[0ma\u001b[0m \u001b[0;34m+\u001b[0m \u001b[0;36m5\u001b[0m\u001b[0;34m\u001b[0m\u001b[0m\n\u001b[0m",
      "\u001b[0;31mTypeError\u001b[0m: must be str, not int"
     ]
    }
   ],
   "source": [
    "a + 5"
   ]
  },
  {
   "cell_type": "code",
   "execution_count": 108,
   "metadata": {},
   "outputs": [
    {
     "data": {
      "text/plain": [
       "10"
      ]
     },
     "execution_count": 108,
     "metadata": {},
     "output_type": "execute_result"
    }
   ],
   "source": [
    "b + 5"
   ]
  },
  {
   "cell_type": "code",
   "execution_count": 109,
   "metadata": {},
   "outputs": [
    {
     "data": {
      "text/plain": [
       "0.0"
      ]
     },
     "execution_count": 109,
     "metadata": {},
     "output_type": "execute_result"
    }
   ],
   "source": [
    "# tas pats kaip interger\n",
    "float()"
   ]
  },
  {
   "cell_type": "code",
   "execution_count": 110,
   "metadata": {},
   "outputs": [
    {
     "data": {
      "text/plain": [
       "['a']"
      ]
     },
     "execution_count": 110,
     "metadata": {},
     "output_type": "execute_result"
    }
   ],
   "source": [
    "# pagrindiniai container'iai turi ir funkcija, daugiausia naudojama sukuriant tuščius ir eigoje pridedant reikšmes\n",
    "# arba paverčiant iš vieno container'io tipo į kitą prireikus\n",
    "a = list()\n",
    "a.append(\"a\")\n",
    "a"
   ]
  },
  {
   "cell_type": "code",
   "execution_count": 111,
   "metadata": {},
   "outputs": [
    {
     "data": {
      "text/plain": [
       "('a', 8, 5)"
      ]
     },
     "execution_count": 111,
     "metadata": {},
     "output_type": "execute_result"
    }
   ],
   "source": [
    "l = [\"a\", 8, 5]\n",
    "a = tuple(l)\n",
    "a"
   ]
  },
  {
   "cell_type": "code",
   "execution_count": 112,
   "metadata": {},
   "outputs": [
    {
     "data": {
      "text/plain": [
       "{'a': 5}"
      ]
     },
     "execution_count": 112,
     "metadata": {},
     "output_type": "execute_result"
    }
   ],
   "source": [
    "a = dict()\n",
    "a[\"a\"] = 5\n",
    "a"
   ]
  },
  {
   "cell_type": "code",
   "execution_count": 113,
   "metadata": {},
   "outputs": [
    {
     "data": {
      "text/plain": [
       "{5, 6, 7, 'a', 'b'}"
      ]
     },
     "execution_count": 113,
     "metadata": {},
     "output_type": "execute_result"
    }
   ],
   "source": [
    "a = [5,6,7,7,7, \"a\", \"a\", \"b\"]\n",
    "b = set(a)\n",
    "b"
   ]
  },
  {
   "cell_type": "code",
   "execution_count": 114,
   "metadata": {},
   "outputs": [
    {
     "data": {
      "text/plain": [
       "6"
      ]
     },
     "execution_count": 114,
     "metadata": {},
     "output_type": "execute_result"
    }
   ],
   "source": [
    "# Use the len() function to determine how many items are in a container\n",
    "len(dict1)"
   ]
  },
  {
   "cell_type": "code",
   "execution_count": 115,
   "metadata": {},
   "outputs": [
    {
     "data": {
      "text/plain": [
       "24"
      ]
     },
     "execution_count": 115,
     "metadata": {},
     "output_type": "execute_result"
    }
   ],
   "source": [
    "# Use the len() function to determine how many items are in a container\n",
    "len(simple_string2)"
   ]
  },
  {
   "cell_type": "code",
   "execution_count": 116,
   "metadata": {},
   "outputs": [
    {
     "data": {
      "text/plain": [
       "False"
      ]
     },
     "execution_count": 116,
     "metadata": {},
     "output_type": "execute_result"
    }
   ],
   "source": [
    "# Use the callable() function to determine if an object is callable\n",
    "callable(\"a\")"
   ]
  },
  {
   "cell_type": "code",
   "execution_count": 117,
   "metadata": {},
   "outputs": [
    {
     "data": {
      "text/plain": [
       "False"
      ]
     },
     "execution_count": 117,
     "metadata": {},
     "output_type": "execute_result"
    }
   ],
   "source": [
    "# Use the callable() function to determine if an object is callable\n",
    "callable(dict1)"
   ]
  },
  {
   "cell_type": "code",
   "execution_count": 118,
   "metadata": {},
   "outputs": [
    {
     "data": {
      "text/plain": [
       "True"
      ]
     },
     "execution_count": 118,
     "metadata": {},
     "output_type": "execute_result"
    }
   ],
   "source": [
    "callable(str)"
   ]
  },
  {
   "cell_type": "code",
   "execution_count": 119,
   "metadata": {},
   "outputs": [
    {
     "data": {
      "text/plain": [
       "[-3, 1, 2, 3.6, 5, 7, 10]"
      ]
     },
     "execution_count": 119,
     "metadata": {},
     "output_type": "execute_result"
    }
   ],
   "source": [
    "# Use the sorted() function to return a new list from a container, with the items sorted\n",
    "sorted([10, 1, 3.6, 7, 5, 2, -3])"
   ]
  },
  {
   "cell_type": "code",
   "execution_count": 120,
   "metadata": {},
   "outputs": [
    {
     "data": {
      "text/plain": [
       "['California', 'Chicago', 'ants', 'cats', 'dogs', 'mice', 'zebras']"
      ]
     },
     "execution_count": 120,
     "metadata": {},
     "output_type": "execute_result"
    }
   ],
   "source": [
    "# Use the sorted() function to return a new list from a container, with the items sorted\n",
    "# - notice that capitalized strings come first\n",
    "sorted(['dogs', 'cats', 'zebras', 'Chicago', 'California', 'ants', 'mice'])"
   ]
  },
  {
   "cell_type": "code",
   "execution_count": 121,
   "metadata": {},
   "outputs": [
    {
     "data": {
      "text/plain": [
       "25.6"
      ]
     },
     "execution_count": 121,
     "metadata": {},
     "output_type": "execute_result"
    }
   ],
   "source": [
    "# Use the sum() function to compute the sum of a container of numbers\n",
    "sum([10, 1, 3.6, 7, 5, 2, -3])"
   ]
  },
  {
   "cell_type": "code",
   "execution_count": 122,
   "metadata": {},
   "outputs": [
    {
     "data": {
      "text/plain": [
       "-3"
      ]
     },
     "execution_count": 122,
     "metadata": {},
     "output_type": "execute_result"
    }
   ],
   "source": [
    "# Use the min() function to determine the smallest item in a container\n",
    "min([10, 1, 3.6, 7, 5, 2, -3])"
   ]
  },
  {
   "cell_type": "code",
   "execution_count": 123,
   "metadata": {},
   "outputs": [
    {
     "data": {
      "text/plain": [
       "'a'"
      ]
     },
     "execution_count": 123,
     "metadata": {},
     "output_type": "execute_result"
    }
   ],
   "source": [
    "# Use the min() function to determine the smallest item in a container\n",
    "min(['g', 'z', 'a', 'y'])"
   ]
  },
  {
   "cell_type": "code",
   "execution_count": 124,
   "metadata": {},
   "outputs": [
    {
     "data": {
      "text/plain": [
       "10"
      ]
     },
     "execution_count": 124,
     "metadata": {},
     "output_type": "execute_result"
    }
   ],
   "source": [
    "# Use the max() function to determine the largest item in a container\n",
    "max([10, 1, 3.6, 7, 5, 2, -3])"
   ]
  },
  {
   "cell_type": "code",
   "execution_count": 125,
   "metadata": {},
   "outputs": [
    {
     "data": {
      "text/plain": [
       "'s'"
      ]
     },
     "execution_count": 125,
     "metadata": {},
     "output_type": "execute_result"
    }
   ],
   "source": [
    "# Use the max() function to determine the largest item in a container\n",
    "max('gibberish')"
   ]
  },
  {
   "cell_type": "code",
   "execution_count": 126,
   "metadata": {},
   "outputs": [
    {
     "data": {
      "text/plain": [
       "10"
      ]
     },
     "execution_count": 126,
     "metadata": {},
     "output_type": "execute_result"
    }
   ],
   "source": [
    "# Use the abs() function to determine the absolute value of a number\n",
    "abs(10)"
   ]
  },
  {
   "cell_type": "code",
   "execution_count": 127,
   "metadata": {},
   "outputs": [
    {
     "data": {
      "text/plain": [
       "12"
      ]
     },
     "execution_count": 127,
     "metadata": {},
     "output_type": "execute_result"
    }
   ],
   "source": [
    "# Use the abs() function to determine the absolute value of a number\n",
    "abs(-12)"
   ]
  },
  {
   "cell_type": "code",
   "execution_count": 128,
   "metadata": {},
   "outputs": [
    {
     "data": {
      "text/plain": [
       "'{1, 3, 4, 5, 6}'"
      ]
     },
     "execution_count": 128,
     "metadata": {},
     "output_type": "execute_result"
    }
   ],
   "source": [
    "# Use the repr() function to return a string representation of an object\n",
    "repr(set1)"
   ]
  },
  {
   "cell_type": "markdown",
   "metadata": {},
   "source": [
    "## Python object attributes (methods and properties)\n",
    "\n",
    "Different types of objects in Python have different **attributes** that can be referred to by name (similar to a variable). To access an attribute of an object, use a dot (`.`) after the object, then specify the attribute (i.e. `obj.attribute`)\n",
    "\n",
    "When an attribute of an object is a callable, that attribute is called a **method**. It is the same as a function, only this function is bound to a particular object.\n",
    "\n",
    "When an attribute of an object is not a callable, that attribute is called a **property**. It is just a piece of data about the object, that is itself another object.\n",
    "\n",
    "The built-in `dir()` function can be used to return a list of an object's attributes.\n",
    "\n",
    "<hr>"
   ]
  },
  {
   "cell_type": "markdown",
   "metadata": {},
   "source": [
    "## Some methods on string objects\n",
    "\n",
    "- **`.capitalize()`** to return a capitalized version of the string (only first char uppercase)\n",
    "- **`.upper()`** to return an uppercase version of the string (all chars uppercase)\n",
    "- **`.lower()`** to return an lowercase version of the string (all chars lowercase)\n",
    "- **`.count(substring)`** to return the number of occurences of the substring in the string\n",
    "- **`.startswith(substring)`** to determine if the string starts with the substring\n",
    "- **`.endswith(substring)`** to determine if the string ends with the substring\n",
    "- **`.replace(old, new)`** to return a copy of the string with occurences of the \"old\" replaced by \"new\""
   ]
  },
  {
   "cell_type": "code",
   "execution_count": 129,
   "metadata": {},
   "outputs": [],
   "source": [
    "# Assign a string to a variable\n",
    "a_string = 'tHis is a sTriNg'"
   ]
  },
  {
   "cell_type": "code",
   "execution_count": 130,
   "metadata": {},
   "outputs": [
    {
     "data": {
      "text/plain": [
       "'This is a string'"
      ]
     },
     "execution_count": 130,
     "metadata": {},
     "output_type": "execute_result"
    }
   ],
   "source": [
    "# Return a capitalized version of the string\n",
    "a_string.capitalize()"
   ]
  },
  {
   "cell_type": "code",
   "execution_count": 131,
   "metadata": {},
   "outputs": [
    {
     "data": {
      "text/plain": [
       "'THIS IS A STRING'"
      ]
     },
     "execution_count": 131,
     "metadata": {},
     "output_type": "execute_result"
    }
   ],
   "source": [
    "# Return an uppercase version of the string\n",
    "a_string.upper()"
   ]
  },
  {
   "cell_type": "code",
   "execution_count": 132,
   "metadata": {},
   "outputs": [
    {
     "data": {
      "text/plain": [
       "'this is a string'"
      ]
     },
     "execution_count": 132,
     "metadata": {},
     "output_type": "execute_result"
    }
   ],
   "source": [
    "# Return a lowercase version of the string\n",
    "a_string.lower()"
   ]
  },
  {
   "cell_type": "code",
   "execution_count": 133,
   "metadata": {},
   "outputs": [
    {
     "data": {
      "text/plain": [
       "'tHis is a sTriNg'"
      ]
     },
     "execution_count": 133,
     "metadata": {},
     "output_type": "execute_result"
    }
   ],
   "source": [
    "# Notice that the methods called have not actually modified the string\n",
    "a_string"
   ]
  },
  {
   "cell_type": "code",
   "execution_count": 134,
   "metadata": {},
   "outputs": [
    {
     "data": {
      "text/plain": [
       "3"
      ]
     },
     "execution_count": 134,
     "metadata": {},
     "output_type": "execute_result"
    }
   ],
   "source": [
    "# Count number of occurences of a substring in the string\n",
    "a_string.count('i')"
   ]
  },
  {
   "cell_type": "code",
   "execution_count": 135,
   "metadata": {},
   "outputs": [
    {
     "data": {
      "text/plain": [
       "1"
      ]
     },
     "execution_count": 135,
     "metadata": {},
     "output_type": "execute_result"
    }
   ],
   "source": [
    "# Count number of occurences of a substring in the string after a certain position\n",
    "a_string.count('i', 7)"
   ]
  },
  {
   "cell_type": "code",
   "execution_count": 136,
   "metadata": {},
   "outputs": [
    {
     "data": {
      "text/plain": [
       "2"
      ]
     },
     "execution_count": 136,
     "metadata": {},
     "output_type": "execute_result"
    }
   ],
   "source": [
    "# Count number of occurences of a substring in the string\n",
    "a_string.count('is')"
   ]
  },
  {
   "cell_type": "code",
   "execution_count": 137,
   "metadata": {},
   "outputs": [
    {
     "data": {
      "text/plain": [
       "False"
      ]
     },
     "execution_count": 137,
     "metadata": {},
     "output_type": "execute_result"
    }
   ],
   "source": [
    "# Does the string start with 'this'?\n",
    "a_string.startswith('this')"
   ]
  },
  {
   "cell_type": "code",
   "execution_count": 138,
   "metadata": {},
   "outputs": [
    {
     "data": {
      "text/plain": [
       "True"
      ]
     },
     "execution_count": 138,
     "metadata": {},
     "output_type": "execute_result"
    }
   ],
   "source": [
    "# Does the lowercase string start with 'this'?\n",
    "a_string.lower().startswith('this')"
   ]
  },
  {
   "cell_type": "code",
   "execution_count": 139,
   "metadata": {},
   "outputs": [
    {
     "data": {
      "text/plain": [
       "True"
      ]
     },
     "execution_count": 139,
     "metadata": {},
     "output_type": "execute_result"
    }
   ],
   "source": [
    "# Does the string end with 'Ng'?\n",
    "a_string.endswith('Ng')"
   ]
  },
  {
   "cell_type": "code",
   "execution_count": 140,
   "metadata": {},
   "outputs": [
    {
     "data": {
      "text/plain": [
       "'tHXYZ XYZ a sTriNg'"
      ]
     },
     "execution_count": 140,
     "metadata": {},
     "output_type": "execute_result"
    }
   ],
   "source": [
    "# Return a version of the string with a substring replaced with something else\n",
    "a_string.replace('is', 'XYZ')"
   ]
  },
  {
   "cell_type": "code",
   "execution_count": 141,
   "metadata": {},
   "outputs": [
    {
     "data": {
      "text/plain": [
       "'tH!s !s a sTr!Ng'"
      ]
     },
     "execution_count": 141,
     "metadata": {},
     "output_type": "execute_result"
    }
   ],
   "source": [
    "# Return a version of the string with a substring replaced with something else\n",
    "a_string.replace('i', '!')"
   ]
  },
  {
   "cell_type": "code",
   "execution_count": 142,
   "metadata": {},
   "outputs": [
    {
     "data": {
      "text/plain": [
       "'tH!s !s a sTriNg'"
      ]
     },
     "execution_count": 142,
     "metadata": {},
     "output_type": "execute_result"
    }
   ],
   "source": [
    "# Return a version of the string with the first 2 occurences a substring replaced with something else\n",
    "a_string.replace('i', '!', 2)"
   ]
  },
  {
   "cell_type": "markdown",
   "metadata": {},
   "source": [
    "### 3 diena"
   ]
  },
  {
   "cell_type": "markdown",
   "metadata": {},
   "source": [
    "## Functions, Positional arguments and keyword arguments, * args, ** kwargs, lambda\n",
    "\n",
    "You can call a function/method in a number of different ways:\n",
    "\n",
    "- `func()`: Call `func` with no arguments\n",
    "- `func(arg)`: Call `func` with one positional argument\n",
    "- `func(arg1, arg2)`: Call `func` with two positional arguments\n",
    "- `func(arg1, arg2, ..., argn)`: Call `func` with many positional arguments\n",
    "- `func(kwarg=value)`: Call `func` with one keyword argument \n",
    "- `func(kwarg1=value1, kwarg2=value2)`: Call `func` with two keyword arguments\n",
    "- `func(kwarg1=value1, kwarg2=value2, ..., kwargn=valuen)`: Call `func` with many keyword arguments\n",
    "- `func(arg1, arg2, kwarg1=value1, kwarg2=value2)`: Call `func` with positonal arguments and keyword arguments\n",
    "- `obj.method()`: Same for `func`.. and every other `func` example\n",
    "\n",
    "When using **positional arguments**, you must provide them in the order that the function defined them (the function's **signature**).\n",
    "\n",
    "When using **keyword arguments**, you can provide the arguments you want, in any order you want, as long as you specify each argument's name.\n",
    "\n",
    "When using positional and keyword arguments, positional arguments must come first."
   ]
  },
  {
   "cell_type": "code",
   "execution_count": 143,
   "metadata": {},
   "outputs": [
    {
     "name": "stdout",
     "output_type": "stream",
     "text": [
      "Jonas\n"
     ]
    }
   ],
   "source": [
    "# python'e funkcijos aprašomos taip:\n",
    "# 1) pirma eina def, kaip žymeklis, kad norime sukurti funkciją, o ne sakykim, klasę ir norim, kad ji turėtų pavadinimą\n",
    "# 2) tada pavadinimas, lygiai taip pat, kaip kad reikia pavadinimo kintamiesiems\n",
    "# 3) skliaustai \"()\", kuriuose gali ir nebūti argumentų, bet dažniausiai reikia ir jų gali būti \"beliek\",\n",
    "# su kuriais kažką padarome kode ir pavadinimai gali būti bet kokie, bet aišku, kad geriausia jog būtų meaningful\n",
    "# 4) dvitaškis \":\"\n",
    "# 5) tada BŪTINAS intend: 4 space arba tab\n",
    "# 6) ir po to eina kodas\n",
    "# 7) ir jei reikia, kad kažkokia reikšmė būtų grąžinta, pačiam kodo gale \"return\"\n",
    "# 8) ir tada reikia initializuoti funkciją, suvedus jos pavadinimą ir atitinkamus argumentus, jei jie reikalingi.\n",
    "vardas = \"Jonas\"\n",
    "def pav():\n",
    "    print(vardas)\n",
    "    \n",
    "pav()"
   ]
  },
  {
   "cell_type": "code",
   "execution_count": 144,
   "metadata": {},
   "outputs": [
    {
     "name": "stdout",
     "output_type": "stream",
     "text": [
      "Jonas\n"
     ]
    }
   ],
   "source": [
    "vardas = \"Jonas\"\n",
    "def pav():\n",
    "    return vardas\n",
    "    \n",
    "print(pav())"
   ]
  },
  {
   "cell_type": "code",
   "execution_count": 145,
   "metadata": {},
   "outputs": [
    {
     "name": "stdout",
     "output_type": "stream",
     "text": [
      "Jonas\n"
     ]
    }
   ],
   "source": [
    "# su argumentu\n",
    "vardas = \"Jonas\"\n",
    "def pav(vard):\n",
    "    print(vard)\n",
    "    \n",
    "pav(vardas)"
   ]
  },
  {
   "cell_type": "code",
   "execution_count": 146,
   "metadata": {},
   "outputs": [
    {
     "name": "stdout",
     "output_type": "stream",
     "text": [
      "Jonas Jonassas\n"
     ]
    }
   ],
   "source": [
    "# su argumentu\n",
    "vardas = \"Jonas\"\n",
    "pavarde = \"Jonassas\"\n",
    "\n",
    "def pav(v, p):\n",
    "    print(f\"{v} {p}\")\n",
    "    \n",
    "pav(vardas, pavarde)"
   ]
  },
  {
   "cell_type": "code",
   "execution_count": 147,
   "metadata": {},
   "outputs": [
    {
     "name": "stdout",
     "output_type": "stream",
     "text": [
      "Sveiki šiandien trečiadienis\n"
     ]
    }
   ],
   "source": [
    "# taip pat galima naudoti keyword argumentus, kurie naudojami nustatyti kažkokią default value ir įvedus kaip keyword\n",
    "# argumentą per funkcijos inicijavimą, galima ją pakeisti\n",
    "diena = \"trečiadienis\"\n",
    "\n",
    "def pav(d=diena):\n",
    "    print(f\"Sveiki šiandien {d}\")\n",
    "    \n",
    "pav()"
   ]
  },
  {
   "cell_type": "code",
   "execution_count": 148,
   "metadata": {},
   "outputs": [
    {
     "name": "stdout",
     "output_type": "stream",
     "text": [
      "Sveiki šiandien ketvirtadienis\n"
     ]
    }
   ],
   "source": [
    "pav(\"ketvirtadienis\")"
   ]
  },
  {
   "cell_type": "code",
   "execution_count": 149,
   "metadata": {},
   "outputs": [
    {
     "name": "stdout",
     "output_type": "stream",
     "text": [
      "Sveiki Jonas Jonassas, šiandien trečiadienis\n"
     ]
    }
   ],
   "source": [
    "#  galima naudoti kartu argumentus ir keyword argumentus\n",
    "vardas = \"Jonas\"\n",
    "pavarde = \"Jonassas\"\n",
    "diena = \"trečiadienis\"\n",
    "\n",
    "def pav(v, p, d=diena):\n",
    "    print(f\"Sveiki {v} {p}, šiandien {d}\")\n",
    "    \n",
    "pav(vardas, pavarde)"
   ]
  },
  {
   "cell_type": "code",
   "execution_count": 150,
   "metadata": {},
   "outputs": [
    {
     "name": "stdout",
     "output_type": "stream",
     "text": [
      "Sveiki Jonas Jonassas, šiandien ketvirtadienis\n"
     ]
    }
   ],
   "source": [
    "pav(vardas, pavarde, \"ketvirtadienis\")"
   ]
  },
  {
   "cell_type": "code",
   "execution_count": 151,
   "metadata": {},
   "outputs": [
    {
     "name": "stdout",
     "output_type": "stream",
     "text": [
      "10\n"
     ]
    }
   ],
   "source": [
    "# lambda https://www.w3schools.com/python/python_lambda.asp\n",
    "# taip pat yra anonymous funkcijos, kurioms nereikia pavadinimo, gali priimti argumentus ir tik vieną expression\n",
    "# 1) pirma eina \"lambda\"\n",
    "# 2) tada agumentas/ai\n",
    "# 3) tada\":\"\n",
    "# 4) expression'as\n",
    "# dažniausiai naudojama kartu su map() ir filter().\n",
    "double = lambda x: x * 2\n",
    "print(double(5))"
   ]
  },
  {
   "cell_type": "code",
   "execution_count": 152,
   "metadata": {},
   "outputs": [
    {
     "name": "stdout",
     "output_type": "stream",
     "text": [
      "35\n"
     ]
    }
   ],
   "source": [
    "daugyba = lambda x, y: x * 7\n",
    "print(daugyba(5, 6))"
   ]
  },
  {
   "cell_type": "code",
   "execution_count": 153,
   "metadata": {},
   "outputs": [
    {
     "name": "stdout",
     "output_type": "stream",
     "text": [
      "first normal arg: yasoob\n",
      "another arg through *argv : python\n",
      "another arg through *argv : eggs\n",
      "another arg through *argv : test\n"
     ]
    }
   ],
   "source": [
    "#  *args, **kwargs, naudojami, kaip nežinom tikslaus argumetų skaičiau, bet žinom, kad galima padaryti tą patį veiksmą\n",
    "def test_var_args(f_arg, *argv):\n",
    "    print(\"first normal arg:\", f_arg)\n",
    "    for arg in argv:\n",
    "        print(\"another arg through *argv :\", arg)\n",
    "\n",
    "test_var_args('yasoob','python','eggs','test')"
   ]
  },
  {
   "cell_type": "markdown",
   "metadata": {},
   "source": [
    "#### Užduotis:\n",
    "Panaudojus funkciją: panaudodami 1 ir 2 būdus (f\"{}\" ir \"{}\".format()), priimti email'ą (pvz. vardaspavardė@com.com), bet būtinai slaptažodį ir print'inti vardą ir pavardę (panašiai kaip prisijungus prie account'o)"
   ]
  },
  {
   "cell_type": "markdown",
   "metadata": {},
   "source": [
    "## Python \"for loops\"\n",
    "\n",
    "It is easy to **iterate** over a collection of items using a **for loop**. The strings, lists, tuples, sets, and dictionaries we defined are all **iterable** containers.\n",
    "\n",
    "The for loop will go through the specified container, one item at a time, and provide a temporary variable for the current item. You can use this temporary variable like a normal variable."
   ]
  },
  {
   "cell_type": "code",
   "execution_count": 154,
   "metadata": {},
   "outputs": [
    {
     "name": "stdout",
     "output_type": "stream",
     "text": [
      "a\n",
      "b\n"
     ]
    }
   ],
   "source": [
    "for i in [\"a\", \"b\"]: # gali būti tuples, listai, string, net dict\n",
    "    print(i)"
   ]
  },
  {
   "cell_type": "markdown",
   "metadata": {},
   "source": [
    "#### range() https://www.w3schools.com/python/ref_func_range.asp"
   ]
  },
  {
   "cell_type": "code",
   "execution_count": 155,
   "metadata": {},
   "outputs": [
    {
     "name": "stdout",
     "output_type": "stream",
     "text": [
      "0\n",
      "1\n",
      "2\n",
      "3\n",
      "4\n"
     ]
    }
   ],
   "source": [
    "# jei norim naudoti tam tikrą skaičių iteracijų ar specifiškai skaičius\n",
    "for i in range(5):\n",
    "    print(i)"
   ]
  },
  {
   "cell_type": "code",
   "execution_count": 156,
   "metadata": {},
   "outputs": [
    {
     "name": "stdout",
     "output_type": "stream",
     "text": [
      "2\n",
      "4\n",
      "8\n",
      "16\n",
      "32\n"
     ]
    }
   ],
   "source": [
    "a = 1\n",
    "for i in range(5):\n",
    "    a *= 2\n",
    "    print(a)"
   ]
  },
  {
   "cell_type": "markdown",
   "metadata": {},
   "source": [
    "#### enumarate() https://www.programiz.com/python-programming/methods/built-in/enumerate"
   ]
  },
  {
   "cell_type": "code",
   "execution_count": 157,
   "metadata": {},
   "outputs": [
    {
     "name": "stdout",
     "output_type": "stream",
     "text": [
      "0 Jonas\n",
      "1 Petras\n"
     ]
    }
   ],
   "source": [
    "# jei norim žinoti ir index'ą\n",
    "for i, v in enumerate([\"Jonas\", \"Petras\"]):\n",
    "    print(i, v)"
   ]
  },
  {
   "cell_type": "code",
   "execution_count": 158,
   "metadata": {},
   "outputs": [
    {
     "data": {
      "text/plain": [
       "{'a': 3, 'b': 3, 'c': 3}"
      ]
     },
     "execution_count": 158,
     "metadata": {},
     "output_type": "execute_result"
    }
   ],
   "source": [
    "# norint dictinary'io priskirti reikšmes, reikia naudoti zip(), kadangi norit sudaryti dictionary reikia vienu metu turėti\n",
    "# tiek key, tiek value, ko negalima padaryti paprastu for loop.\n",
    "dict1 = dict()\n",
    "keys = ['a', 'b', 'c']\n",
    "values = [1, 2, 3]\n",
    "for k in keys:\n",
    "    for v in values:\n",
    "        dict1[k] = v\n",
    "dict1"
   ]
  },
  {
   "cell_type": "code",
   "execution_count": 159,
   "metadata": {},
   "outputs": [
    {
     "data": {
      "text/plain": [
       "{'a': 1, 'b': 2, 'c': 3}"
      ]
     },
     "execution_count": 159,
     "metadata": {},
     "output_type": "execute_result"
    }
   ],
   "source": [
    "for k, v in zip(keys, values):\n",
    "    dict1[k] = v\n",
    "dict1"
   ]
  },
  {
   "cell_type": "code",
   "execution_count": 160,
   "metadata": {},
   "outputs": [
    {
     "name": "stdout",
     "output_type": "stream",
     "text": [
      "{'a': 1, 'b': 2, 'c': 3}\n"
     ]
    }
   ],
   "source": [
    "# bet kaip visada python'as turi palengvinimų\n",
    "keys = ['a', 'b', 'c']\n",
    "values = [1, 2, 3]\n",
    "dictionary = dict(zip(keys, values))\n",
    "print(dictionary)"
   ]
  },
  {
   "cell_type": "code",
   "execution_count": 161,
   "metadata": {},
   "outputs": [
    {
     "name": "stdout",
     "output_type": "stream",
     "text": [
      "[('x', 3), ('y', 4), ('z', 5)]\n",
      "c = ('x', 'y', 'z')\n",
      "v = (3, 4, 5)\n"
     ]
    }
   ],
   "source": [
    "# difference between iterable and iterator https://www.geeksforgeeks.org/python-difference-iterable-iterator/\n",
    "\n",
    "coordinate = ['x', 'y', 'z']\n",
    "value = [3, 4, 5, 0, 9]\n",
    "\n",
    "result = zip(coordinate, value)\n",
    "resultList = list(result)\n",
    "print(resultList)\n",
    "\n",
    "c,v =  zip(*resultList)\n",
    "print('c =', c)\n",
    "print('v =', v)"
   ]
  },
  {
   "cell_type": "code",
   "execution_count": 162,
   "metadata": {},
   "outputs": [
    {
     "name": "stdout",
     "output_type": "stream",
     "text": [
      "1\n",
      "1\n",
      "2\n",
      "3\n",
      "5\n"
     ]
    }
   ],
   "source": [
    "# Fibonacci numbers paprastas sprendimas (vienas iš daugelio)\n",
    "inp = 5\n",
    "\n",
    "a = [0, 1]\n",
    "\n",
    "for i in range(2, (inp + 1)):\n",
    "    b = a[-2] + a[-1]\n",
    "    a.append(b)\n",
    "\n",
    "for i in a[1:]:\n",
    "    print(i)"
   ]
  },
  {
   "cell_type": "code",
   "execution_count": 163,
   "metadata": {},
   "outputs": [
    {
     "name": "stdout",
     "output_type": "stream",
     "text": [
      "1\n",
      "1\n",
      "2\n",
      "3\n",
      "5\n"
     ]
    }
   ],
   "source": [
    "# Fibonacci numbers pythonic sprendimas\n",
    "inp = 5\n",
    "a, b = 0, 1\n",
    "\n",
    "for i in range(inp):\n",
    "    a, b = b, a + b\n",
    "    print(a)"
   ]
  },
  {
   "cell_type": "markdown",
   "metadata": {},
   "source": [
    "#### Užduotis:\n",
    "Fibonacci užduotį su funkcija"
   ]
  },
  {
   "cell_type": "code",
   "execution_count": 164,
   "metadata": {},
   "outputs": [
    {
     "name": "stdout",
     "output_type": "stream",
     "text": [
      "1\n",
      "1\n",
      "2\n",
      "3\n",
      "5\n"
     ]
    }
   ],
   "source": [
    "inp = 5\n",
    "\n",
    "def fibonacci(sk):\n",
    "    a = 0\n",
    "    c = 1\n",
    "    for i in range(sk):\n",
    "        a, c = c, a + c\n",
    "        print(a)\n",
    "\n",
    "fibonacci(inp)"
   ]
  },
  {
   "cell_type": "markdown",
   "metadata": {},
   "source": [
    "## Python \"if statements\" and \"while loops\"\n",
    "\n",
    "Conditional expressions can be used with these two **conditional statements**.\n",
    "\n",
    "The **if statement** allows you to test a condition and perform some actions if the condition evaluates to `True`. You can also provide `elif` and/or `else` clauses to an if statement to take alternative actions if the condition evaluates to `False`.\n",
    "\n",
    "The **while loop** will keep looping until its conditional expression evaluates to `False`.\n",
    "\n",
    "> Note: It is possible to \"loop forever\" when using a while loop with a conditional expression that never evaluates to `False`.\n",
    ">\n",
    "> Note: Since the **for loop** will iterate over a container of items until there are no more, there is no need to specify a \"stop looping\" condition."
   ]
  },
  {
   "cell_type": "code",
   "execution_count": 165,
   "metadata": {},
   "outputs": [
    {
     "name": "stdout",
     "output_type": "stream",
     "text": [
      "Slaptažodis? pas\n",
      "El.paštas? a@com.com\n",
      "Sveiki prisijungę Jonas Jonassas\n"
     ]
    }
   ],
   "source": [
    "vardas = \"Jonas\"\n",
    "pavarde = \"Jonassas\"\n",
    "slapta = \"pas\"\n",
    "emailas = \"a@com.com\"\n",
    "inpslapta = input(\"Slaptažodis? \")\n",
    "inpelpastas = input(\"El.paštas? \")\n",
    "if slapta == inpslapta and emailas == inpelpastas:\n",
    "    print(f\"Sveiki prisijungę {vardas} {pavarde}\")"
   ]
  },
  {
   "cell_type": "code",
   "execution_count": 166,
   "metadata": {},
   "outputs": [
    {
     "name": "stdout",
     "output_type": "stream",
     "text": [
      "Slaptažodis? Pas\n",
      "El.paštas? a@com.com\n",
      "Sveiki prisijungę Jonas Jonassas\n"
     ]
    }
   ],
   "source": [
    "# vietoj \"and\" galima naudoti \"or\", jei norime, kad vienas iš lyginimų būtų True\n",
    "vardas = \"Jonas\"\n",
    "pavarde = \"Jonassas\"\n",
    "slapta = \"pas\"\n",
    "emailas = \"a@com.com\"\n",
    "inpslapta = input(\"Slaptažodis? \")\n",
    "inpelpastas = input(\"El.paštas? \")\n",
    "if slapta == inpslapta or emailas == inpelpastas:\n",
    "    print(f\"Sveiki prisijungę {vardas} {pavarde}\")"
   ]
  },
  {
   "cell_type": "code",
   "execution_count": 167,
   "metadata": {},
   "outputs": [
    {
     "name": "stdout",
     "output_type": "stream",
     "text": [
      "Slaptažodis? Pas\n",
      "El.paštas?a@com.com\n",
      "Neteisingas slaptažodis ar el.paštas\n"
     ]
    }
   ],
   "source": [
    "vardas = \"Jonas\"\n",
    "pavarde = \"Jonassas\"\n",
    "slapta = \"pas\"\n",
    "emailas = \"a@com.com\"\n",
    "inpslapta = input(\"Slaptažodis? \")\n",
    "inpelpastas = input(\"El.paštas?\")\n",
    "if slapta == inpslapta and emailas == inpelpastas:\n",
    "    print(f\"Sveiki prisijungę {vardas} {pavarde}\")\n",
    "else:\n",
    "    print(\"Neteisingas slaptažodis ar el.paštas\")"
   ]
  },
  {
   "cell_type": "code",
   "execution_count": 168,
   "metadata": {},
   "outputs": [
    {
     "name": "stdout",
     "output_type": "stream",
     "text": [
      "Expression value is less than 200\n",
      "Expression value is less than 50\n"
     ]
    }
   ],
   "source": [
    "# jei reikia daugiau palyginimų, tada naudojamas \"elif\"\n",
    "var = 1\n",
    "if var < 200:\n",
    "    print(\"Expression value is less than 200\")\n",
    "    if var == 150:\n",
    "        print(\"Which is 150\")\n",
    "    elif var == 100:\n",
    "        print(\"Which is 100\")\n",
    "    elif var == 50:\n",
    "        print(\"Which is 50\")\n",
    "    elif var < 50:\n",
    "        print(\"Expression value is less than 50\")\n",
    "else:\n",
    "    print(\"Could not find true expression\")"
   ]
  },
  {
   "cell_type": "markdown",
   "metadata": {},
   "source": [
    "#### Užduotis:\n",
    "Tą pačią užduotį, tik dar priimti amžių ir pagal amžių print'i, kad jei vartotojas per jaunas, negali prsijungti, kitu atveju, kad viskas gerai. Taip pat panaudoti ankstesnius metodus ir išpręsti įvestas klaidas pvz. jei el.paštą suveda didžiosiom raidėm, automatiškai pataisyti."
   ]
  },
  {
   "cell_type": "code",
   "execution_count": 169,
   "metadata": {},
   "outputs": [
    {
     "name": "stdout",
     "output_type": "stream",
     "text": [
      "Slaptažodis? Pas\n",
      "El.paštas? a@com.com\n",
      "Amžius? 17\n",
      "Neteisingas slaptažodis ar el.paštas arba esate per jaunas\n"
     ]
    }
   ],
   "source": [
    "vardas = \"Jonas\"\n",
    "pavarde = \"Jonassas\"\n",
    "slapta = \"pas\"\n",
    "emailas = \"a@com.com\"\n",
    "inpslapta = input(\"Slaptažodis? \")\n",
    "inpelpastas = input(\"El.paštas? \")\n",
    "inpriba = int(input(\"Amžius? \"))\n",
    "amzriba = 18\n",
    "if slapta == inpslapta.lower() and emailas == inpelpastas.lower() and amzriba < inpriba:\n",
    "    print(f\"Sveiki prisijungę {vardas} {pavarde}\")\n",
    "else:\n",
    "    print(\"Neteisingas slaptažodis ar el.paštas arba esate per jaunas\")"
   ]
  },
  {
   "cell_type": "code",
   "execution_count": 171,
   "metadata": {},
   "outputs": [
    {
     "name": "stdout",
     "output_type": "stream",
     "text": [
      "Slaptažodis? pas\n",
      "El.paštas? A@com.com\n",
      "Amžius? 21\n",
      "Sveiki prisijungę Jonas Jonassas\n"
     ]
    }
   ],
   "source": [
    "vardas = \"Jonas\"\n",
    "pavarde = \"Jonassas\"\n",
    "slapta = \"pas\"\n",
    "emailas = \"a@com.com\"\n",
    "inpslapta = input(\"Slaptažodis? \")\n",
    "inpelpastas = input(\"El.paštas? \")\n",
    "inpriba = int(input(\"Amžius? \"))\n",
    "amzriba = 18\n",
    "if slapta == inpslapta.lower() and emailas == inpelpastas.lower() and amzriba < inpriba:\n",
    "    print(f\"Sveiki prisijungę {vardas} {pavarde}\")\n",
    "else:\n",
    "    print(\"Neteisingas slaptažodis ar el.paštas arba esate per jaunas\")"
   ]
  },
  {
   "cell_type": "code",
   "execution_count": 172,
   "metadata": {},
   "outputs": [
    {
     "name": "stdout",
     "output_type": "stream",
     "text": [
      "True\n"
     ]
    }
   ],
   "source": [
    "# jei norim infinate, nuolatos vykstančio loop, naudojam \"while\"\n",
    "# vienas iš būdu break while loops'a, kai nurodom tam tikras ribas patys\n",
    "flag = True\n",
    "while flag:\n",
    "    print(flag)\n",
    "    flag = False"
   ]
  },
  {
   "cell_type": "code",
   "execution_count": 173,
   "metadata": {},
   "outputs": [
    {
     "name": "stdout",
     "output_type": "stream",
     "text": [
      "4\n",
      "3\n",
      "2\n",
      "1\n",
      "0\n"
     ]
    }
   ],
   "source": [
    "n = 5\n",
    "while n > 0:\n",
    "    n -= 1\n",
    "    print(n)"
   ]
  },
  {
   "cell_type": "code",
   "execution_count": 174,
   "metadata": {},
   "outputs": [
    {
     "name": "stdout",
     "output_type": "stream",
     "text": [
      "4\n",
      "3\n",
      "Loop ended.\n"
     ]
    }
   ],
   "source": [
    "# kitas būdas naudojant break ir galima naudoti if/else\n",
    "n = 5\n",
    "while n > 0:\n",
    "    n -= 1\n",
    "    if n == 2:\n",
    "        break\n",
    "    print(n)\n",
    "print('Loop ended.')"
   ]
  },
  {
   "cell_type": "markdown",
   "metadata": {},
   "source": [
    "### 4 diena"
   ]
  },
  {
   "cell_type": "markdown",
   "metadata": {},
   "source": [
    "## PEP8 (https://www.python.org/dev/peps/pep-0008/)"
   ]
  },
  {
   "cell_type": "markdown",
   "metadata": {},
   "source": [
    "### Daugiau built-in funkcijų/metodų https://www.programiz.com/python-programming/methods/built-in"
   ]
  },
  {
   "cell_type": "code",
   "execution_count": 175,
   "metadata": {},
   "outputs": [
    {
     "data": {
      "text/plain": [
       "(125, 216, 343, 512, 729)"
      ]
     },
     "execution_count": 175,
     "metadata": {},
     "output_type": "execute_result"
    }
   ],
   "source": [
    "# map() dažniausiai naudojama kartu su lambda, nes priima funciją, bet paprasta fukcija gali turėtų tik vieną argumentą, \n",
    "# ir tada iterable ir yra iterator, todėl norint gauti reikšmes, turim panaudoti list(), set() ar tuples(). Bet \n",
    "a = [5, 6, 7, 8, 9]\n",
    "\n",
    "def pakelimas(c):\n",
    "    d = c**3\n",
    "    return d\n",
    "\n",
    "e = map(pakelimas, a)\n",
    "tuple(e)"
   ]
  },
  {
   "cell_type": "code",
   "execution_count": 176,
   "metadata": {},
   "outputs": [
    {
     "data": {
      "text/plain": [
       "(10, 12, 14, 16, 18)"
      ]
     },
     "execution_count": 176,
     "metadata": {},
     "output_type": "execute_result"
    }
   ],
   "source": [
    "a = [5, 6, 7, 8, 9]\n",
    "b = map(lambda x: x * 2, a)\n",
    "tuple(b)"
   ]
  },
  {
   "cell_type": "code",
   "execution_count": 177,
   "metadata": {},
   "outputs": [
    {
     "data": {
      "text/plain": [
       "(5, 12, 21, 32, 45)"
      ]
     },
     "execution_count": 177,
     "metadata": {},
     "output_type": "execute_result"
    }
   ],
   "source": [
    "# bet su lambda galima ir keliais argumentais\n",
    "f = [1, 2, 3, 4, 5]\n",
    "g = map(lambda x, y: x * y, a, f)\n",
    "tuple(g)"
   ]
  },
  {
   "cell_type": "code",
   "execution_count": 178,
   "metadata": {},
   "outputs": [
    {
     "name": "stdout",
     "output_type": "stream",
     "text": [
      "The filtered vowels are:\n",
      "a\n",
      "e\n",
      "i\n",
      "o\n"
     ]
    }
   ],
   "source": [
    "# filter() method constructs an iterator from elements of an iterable for which a function returns true.\n",
    "# tas pats kas (element for element in iterable if function(element))\n",
    "alphabets = ['a', 'b', 'd', 'e', 'i', 'j', 'o']\n",
    "\n",
    "# function that filters vowels\n",
    "def filterVowels(alphabet):\n",
    "    vowels = ['a', 'e', 'i', 'o', 'u']\n",
    "\n",
    "    if(alphabet in vowels):\n",
    "        return True\n",
    "    else:\n",
    "        return False\n",
    "\n",
    "filteredVowels = filter(filterVowels, alphabets)\n",
    "\n",
    "print('The filtered vowels are:')\n",
    "for vowel in filteredVowels:\n",
    "    print(vowel)"
   ]
  },
  {
   "cell_type": "code",
   "execution_count": 179,
   "metadata": {},
   "outputs": [
    {
     "name": "stdout",
     "output_type": "stream",
     "text": [
      "hello\n"
     ]
    },
    {
     "ename": "NameError",
     "evalue": "name 'x' is not defined",
     "output_type": "error",
     "traceback": [
      "\u001b[0;31m---------------------------------------------------------------------------\u001b[0m",
      "\u001b[0;31mNameError\u001b[0m                                 Traceback (most recent call last)",
      "\u001b[0;32m<ipython-input-179-0c0df2c3e17f>\u001b[0m in \u001b[0;36m<module>\u001b[0;34m\u001b[0m\n\u001b[1;32m      3\u001b[0m \u001b[0mprint\u001b[0m\u001b[0;34m(\u001b[0m\u001b[0mx\u001b[0m\u001b[0;34m)\u001b[0m\u001b[0;34m\u001b[0m\u001b[0m\n\u001b[1;32m      4\u001b[0m \u001b[0;32mdel\u001b[0m \u001b[0mx\u001b[0m\u001b[0;34m\u001b[0m\u001b[0m\n\u001b[0;32m----> 5\u001b[0;31m \u001b[0mprint\u001b[0m\u001b[0;34m(\u001b[0m\u001b[0mx\u001b[0m\u001b[0;34m)\u001b[0m\u001b[0;34m\u001b[0m\u001b[0m\n\u001b[0m",
      "\u001b[0;31mNameError\u001b[0m: name 'x' is not defined"
     ]
    }
   ],
   "source": [
    "# del - ištrina, pvz. kintamąjį jei nebereikia\n",
    "x = \"hello\"\n",
    "print(x) \n",
    "del x\n",
    "print(x) "
   ]
  },
  {
   "cell_type": "code",
   "execution_count": 180,
   "metadata": {},
   "outputs": [
    {
     "name": "stdout",
     "output_type": "stream",
     "text": [
      "['apple', 'banana', 'cherry']\n",
      "['banana', 'cherry']\n"
     ]
    }
   ],
   "source": [
    "# galima ir iš list'o value\n",
    "x = [\"apple\", \"banana\", \"cherry\"]\n",
    "print(x)\n",
    "del x[0]\n",
    "print(x) "
   ]
  },
  {
   "cell_type": "code",
   "execution_count": 181,
   "metadata": {},
   "outputs": [
    {
     "name": "stdout",
     "output_type": "stream",
     "text": [
      "{'apple': 1, 'banana': 2, 'cherry': 3}\n",
      "{'banana': 2, 'cherry': 3}\n"
     ]
    }
   ],
   "source": [
    "# ir dict\n",
    "x = {\"apple\": 1, \"banana\": 2, \"cherry\": 3}\n",
    "print(x)\n",
    "del x[\"apple\"]\n",
    "print(x)"
   ]
  },
  {
   "cell_type": "code",
   "execution_count": 182,
   "metadata": {},
   "outputs": [
    {
     "name": "stdout",
     "output_type": "stream",
     "text": [
      "divmod(8, 3) =  (2, 2)\n",
      "divmod(3, 8) =  (0, 3)\n",
      "divmod(5, 5) =  (1, 0)\n",
      "divmod(8.0, 3) =  (2.0, 2.0)\n",
      "divmod(3, 8.0) =  (0.0, 3.0)\n",
      "divmod(7.5, 2.5) =  (3.0, 0.0)\n",
      "divmod(2.6, 0.5) =  (5.0, 0.10000000000000009)\n"
     ]
    }
   ],
   "source": [
    "# divmod() palengvina sveikojo skaičiaus ir liekanos skaičiavimus\n",
    "print('divmod(8, 3) = ', divmod(8, 3))\n",
    "print('divmod(3, 8) = ', divmod(3, 8))\n",
    "print('divmod(5, 5) = ', divmod(5, 5))\n",
    "# galima ir float, bet tai sudėtingi skaičiavimai, tai mums nelabai aktualu\n",
    "print('divmod(8.0, 3) = ', divmod(8.0, 3))\n",
    "print('divmod(3, 8.0) = ', divmod(3, 8.0))\n",
    "print('divmod(7.5, 2.5) = ', divmod(7.5, 2.5))\n",
    "print('divmod(2.6, 0.5) = ', divmod(2.6, 0.5))"
   ]
  },
  {
   "cell_type": "code",
   "execution_count": 183,
   "metadata": {},
   "outputs": [
    {
     "name": "stdout",
     "output_type": "stream",
     "text": [
      "apple\n",
      "banana\n",
      "cherry\n"
     ]
    }
   ],
   "source": [
    "# iter() next() fukcijos, kurios padeda sukurti iterator ir su tik next() gauti sekančias reikšmes\n",
    "x = [\"apple\", \"banana\", \"cherry\"]\n",
    "b = iter(x)\n",
    "print(next(b))\n",
    "print(next(b))\n",
    "print(next(b))"
   ]
  },
  {
   "cell_type": "code",
   "execution_count": 184,
   "metadata": {},
   "outputs": [],
   "source": [
    "# open() naudojama dirbant su failais, bet failų atidarymą dar giliau pasigilinsim vėliau"
   ]
  },
  {
   "cell_type": "code",
   "execution_count": 185,
   "metadata": {},
   "outputs": [
    {
     "name": "stdout",
     "output_type": "stream",
     "text": [
      "8\n",
      "9\n"
     ]
    }
   ],
   "source": [
    "# pow() palengvina pakėlimą laipsniu, pirmas skaičius, kuris keliamas ir antras - laipsnio skaičius\n",
    "print(pow(2, 3))\n",
    "print(pow(3, 2))"
   ]
  },
  {
   "cell_type": "code",
   "execution_count": 186,
   "metadata": {},
   "outputs": [
    {
     "name": "stdout",
     "output_type": "stream",
     "text": [
      "['n', 'o', 'h', 't', 'y', 'P']\n",
      "['n', 'o', 'h', 't', 'y', 'P']\n",
      "[8, 7, 6, 5]\n",
      "[5, 3, 4, 2, 1]\n"
     ]
    }
   ],
   "source": [
    "# reversed() bet kokį tuple, string, list or range\n",
    "# for string\n",
    "seqString = 'Python'\n",
    "print(list(reversed(seqString)))\n",
    "\n",
    "# for tuple\n",
    "seqTuple = ('P', 'y', 't', 'h', 'o', 'n')\n",
    "print(list(reversed(seqTuple)))\n",
    "\n",
    "# for range\n",
    "seqRange = range(5, 9)\n",
    "print(list(reversed(seqRange)))\n",
    "\n",
    "# for list\n",
    "seqList = [1, 2, 4, 3, 5]\n",
    "print(list(reversed(seqList)))"
   ]
  },
  {
   "cell_type": "code",
   "execution_count": 187,
   "metadata": {},
   "outputs": [
    {
     "name": "stdout",
     "output_type": "stream",
     "text": [
      "de\n"
     ]
    }
   ],
   "source": [
    "# slice, kartais gali patogesnis būdas nei index būdu\n",
    "a = (\"abcdefgh\")\n",
    "x = slice(3, 5)\n",
    "print(a[x])"
   ]
  },
  {
   "cell_type": "code",
   "execution_count": 188,
   "metadata": {},
   "outputs": [
    {
     "name": "stdout",
     "output_type": "stream",
     "text": [
      "('a', 'd', 'g')\n"
     ]
    }
   ],
   "source": [
    "a = (\"a\", \"b\", \"c\", \"d\", \"e\", \"f\", \"g\", \"h\")\n",
    "x = slice(0, 8, 3)\n",
    "print(a[x])"
   ]
  },
  {
   "cell_type": "code",
   "execution_count": 189,
   "metadata": {},
   "outputs": [
    {
     "name": "stdout",
     "output_type": "stream",
     "text": [
      "6\n",
      "5.8\n",
      "5.76\n",
      "5.759\n",
      "5.7588\n",
      "5.75879\n"
     ]
    }
   ],
   "source": [
    "# round() padeda su float skaičių apvalinimu\n",
    "print(round(5.7587878878))\n",
    "print(round(5.7587878878, 1))\n",
    "print(round(5.7587878878, 2))\n",
    "print(round(5.7587878878, 3))\n",
    "print(round(5.7587878878, 4))\n",
    "print(round(5.7587878878, 5))"
   ]
  },
  {
   "cell_type": "markdown",
   "metadata": {},
   "source": [
    "## List, set, and dict comprehensions https://www.data-blogger.com/2017/11/16/python-list-comprehension/"
   ]
  },
  {
   "cell_type": "code",
   "execution_count": 190,
   "metadata": {},
   "outputs": [
    {
     "data": {
      "text/plain": [
       "[0, 1, 2, 3, 4, 5, 6, 7, 8, 9]"
      ]
     },
     "execution_count": 190,
     "metadata": {},
     "output_type": "execute_result"
    }
   ],
   "source": [
    "# comprehensions'ai - dar vienas palenginimas, kuris patogesnius for loops vienoje eilutėje\n",
    "a = list()\n",
    "for i in range(10):\n",
    "    a.append(i)\n",
    "a"
   ]
  },
  {
   "cell_type": "code",
   "execution_count": 191,
   "metadata": {},
   "outputs": [
    {
     "data": {
      "text/plain": [
       "[0, 1, 2, 3, 4, 5, 6, 7, 8]"
      ]
     },
     "execution_count": 191,
     "metadata": {},
     "output_type": "execute_result"
    }
   ],
   "source": [
    "# bet galima ir taip:\n",
    "# [expression for item in list if conditional], kur conditional yra palyginimai su ==, <(=), >(=).\n",
    "b = [i for i in range(9)]\n",
    "b"
   ]
  },
  {
   "cell_type": "code",
   "execution_count": 192,
   "metadata": {},
   "outputs": [
    {
     "data": {
      "text/plain": [
       "[0, 1, 2, 3, 4, 5, 6, 7, 8, 9, 10, 11, 12, 13, 14]"
      ]
     },
     "execution_count": 192,
     "metadata": {},
     "output_type": "execute_result"
    }
   ],
   "source": [
    "c = [i for i in range(15) if i < 15]\n",
    "c"
   ]
  },
  {
   "cell_type": "code",
   "execution_count": 193,
   "metadata": {},
   "outputs": [
    {
     "data": {
      "text/plain": [
       "[0, 1, 4, 9, 16, 25, 36, 49, 64, 81, 100, 121, 144, 169, 196]"
      ]
     },
     "execution_count": 193,
     "metadata": {},
     "output_type": "execute_result"
    }
   ],
   "source": [
    "def up(a):\n",
    "    return a ** 2 \n",
    "\n",
    "\n",
    "d = [up(i) for i in range(15) if i < 15]\n",
    "d"
   ]
  },
  {
   "cell_type": "code",
   "execution_count": 194,
   "metadata": {},
   "outputs": [
    {
     "name": "stdout",
     "output_type": "stream",
     "text": [
      "[0, 2, 4, 6, 8, 10, 12, 14, 16, 18]\n",
      "[0, 10, 20, 30, 40, 50, 60, 70, 80, 90]\n"
     ]
    }
   ],
   "source": [
    "# dar pvz.\n",
    "number_list = [ x for x in range(20) if x % 2 == 0]\n",
    "print(number_list)\n",
    "num_list = [y for y in range(100) if y % 2 == 0 if y % 5 == 0]\n",
    "print(num_list)"
   ]
  },
  {
   "cell_type": "code",
   "execution_count": 195,
   "metadata": {},
   "outputs": [],
   "source": [
    "# set tas pats, tik naudojami {}"
   ]
  },
  {
   "cell_type": "code",
   "execution_count": 196,
   "metadata": {},
   "outputs": [
    {
     "data": {
      "text/plain": [
       "{1: 1, 2: 4, 3: 9, 4: 16, 5: 25}"
      ]
     },
     "execution_count": 196,
     "metadata": {},
     "output_type": "execute_result"
    }
   ],
   "source": [
    "# kadangi dict yra key: value, todėl pradžioje kaip expression turi būti k:v (čia convention)\n",
    "keys = ['a','b','c','d','e'] \n",
    "values = [1,2,3,4,5]   \n",
    "\n",
    "D = {x: x**2 for x in [1,2,3,4,5]}\n",
    "D"
   ]
  },
  {
   "cell_type": "code",
   "execution_count": 197,
   "metadata": {},
   "outputs": [
    {
     "data": {
      "text/plain": [
       "{'a': 1, 'b': 2, 'c': 3, 'd': 4, 'e': 5}"
      ]
     },
     "execution_count": 197,
     "metadata": {},
     "output_type": "execute_result"
    }
   ],
   "source": [
    "# bet pagrindinis būdas naudojant zip()\n",
    "myDict = {k:v for (k,v) in zip(keys, values)}\n",
    "myDict"
   ]
  },
  {
   "cell_type": "markdown",
   "metadata": {},
   "source": [
    "#### Užduotis: gauti dict iš vardų list'o, kur \"key\" yra vardas, o \"value\" - index numeris"
   ]
  },
  {
   "cell_type": "code",
   "execution_count": 198,
   "metadata": {},
   "outputs": [
    {
     "data": {
      "text/plain": [
       "{'Jonas': 0, 'Petras': 1, 'Kazys': 2, 'Joan': 3}"
      ]
     },
     "execution_count": 198,
     "metadata": {},
     "output_type": "execute_result"
    }
   ],
   "source": [
    "a = [\"Jonas\", \"Petras\", \"Kazys\", \"Joan\"]\n",
    "d = {v:i for i, v in enumerate(a)}\n",
    "d"
   ]
  },
  {
   "cell_type": "markdown",
   "metadata": {},
   "source": [
    "## Importing modules https://www.w3schools.com/python/python_modules.asp\n",
    "## https://docs.python.org/3/library/"
   ]
  },
  {
   "cell_type": "code",
   "execution_count": 199,
   "metadata": {},
   "outputs": [],
   "source": [
    "# Python'as turi Core funkcianalumą, bet taip galima naudoti modulius, kuriuos labai paprasta importuoti.\n",
    "# Taip daroma, kadangi ne viso programavimo kalbos funkcinualumo kiekvieną kartą reikia kuriant kodą, todėl kai prireikia\n",
    "# speficinio funcianalumo, importuojmas atitinkamas modulis ir modulios funkcijos/metodai pasiekiami per \".\":\n",
    "# import modulio pavadinimas"
   ]
  },
  {
   "cell_type": "code",
   "execution_count": 200,
   "metadata": {},
   "outputs": [
    {
     "data": {
      "text/plain": [
       "datetime.date(2018, 12, 11)"
      ]
     },
     "execution_count": 200,
     "metadata": {},
     "output_type": "execute_result"
    }
   ],
   "source": [
    "# datatime padeda dirbti su datomis ir laiku, kaip pvz.:\n",
    "import datetime\n",
    "datetime.date.today()"
   ]
  },
  {
   "cell_type": "code",
   "execution_count": 201,
   "metadata": {},
   "outputs": [
    {
     "name": "stdout",
     "output_type": "stream",
     "text": [
      "2018-12-11\n"
     ]
    }
   ],
   "source": [
    "print(datetime.date.today())"
   ]
  },
  {
   "cell_type": "code",
   "execution_count": 202,
   "metadata": {},
   "outputs": [
    {
     "name": "stdout",
     "output_type": "stream",
     "text": [
      "2018-12-11\n"
     ]
    }
   ],
   "source": [
    "# kadangi kiekvienas modulis turi fukcijas/metodus, kurių gali nereikti, todėl galima importuoti tik tą funkciją/as.\n",
    "from datetime import date\n",
    "today = date.today()\n",
    "print(today)"
   ]
  },
  {
   "cell_type": "code",
   "execution_count": 203,
   "metadata": {},
   "outputs": [
    {
     "data": {
      "text/plain": [
       "datetime.date(2018, 12, 11)"
      ]
     },
     "execution_count": 203,
     "metadata": {},
     "output_type": "execute_result"
    }
   ],
   "source": [
    "# taip pat, kaikurie moduliai gali turėti ilgus pavadinimus, todėl galima su kurti alias sutrunpinant. Taip pat naudoja\n",
    "# ir pagal convention tam tikriems moduliams.\n",
    "import datetime as d\n",
    "d.date.today()"
   ]
  },
  {
   "cell_type": "code",
   "execution_count": 204,
   "metadata": {},
   "outputs": [],
   "source": [
    "# sys dirbant su sistema ir konsole, bet mums neaktualu"
   ]
  },
  {
   "cell_type": "code",
   "execution_count": 205,
   "metadata": {},
   "outputs": [
    {
     "name": "stdout",
     "output_type": "stream",
     "text": [
      "['a', 'b']\n",
      "['a', 'b']\n"
     ]
    }
   ],
   "source": [
    "# copy padeda dirbant su kopijomis, nes python tam tikrais kartais ne kuria kopijos, o sukuria referencą, dažniausiai \n",
    "# taip yra su kintamųjų sukųrimu.\n",
    "a = [\"a\"]\n",
    "b = a\n",
    "a.append(\"b\")\n",
    "print(a)\n",
    "print(b)"
   ]
  },
  {
   "cell_type": "code",
   "execution_count": 206,
   "metadata": {},
   "outputs": [
    {
     "name": "stdout",
     "output_type": "stream",
     "text": [
      "['a', 'b']\n",
      "['a']\n"
     ]
    }
   ],
   "source": [
    "import copy\n",
    "a = [\"a\"]\n",
    "b = copy.copy(a)\n",
    "a.append(\"b\")\n",
    "print(a)\n",
    "print(b)"
   ]
  },
  {
   "cell_type": "code",
   "execution_count": 207,
   "metadata": {},
   "outputs": [],
   "source": [
    "# pprint esant reikalui, jei dirbama su konsole, pagrąžina duomenų output'inimą į konsolę."
   ]
  },
  {
   "cell_type": "code",
   "execution_count": 208,
   "metadata": {},
   "outputs": [],
   "source": [
    "# random padeda generuoti random numerius"
   ]
  },
  {
   "cell_type": "code",
   "execution_count": 209,
   "metadata": {},
   "outputs": [
    {
     "name": "stdout",
     "output_type": "stream",
     "text": [
      "0.4656372847844309\n",
      "7\n"
     ]
    }
   ],
   "source": [
    "import random\n",
    "print(random.random()) # Random 0.0 <= x < 1.0\n",
    "print(random.randint(1,9)) # 1 <= x < 9"
   ]
  },
  {
   "cell_type": "code",
   "execution_count": 210,
   "metadata": {},
   "outputs": [
    {
     "name": "stdout",
     "output_type": "stream",
     "text": [
      "[0, 1, 2, 3, 4, 5, 6, 7, 8, 9]\n",
      "[0, 2, 1, 6, 9, 5, 8, 3, 4, 7]\n"
     ]
    }
   ],
   "source": [
    "from random import shuffle\n",
    "x = [i for i in range(10)]\n",
    "print(x)\n",
    "shuffle(x)\n",
    "print(x)"
   ]
  },
  {
   "cell_type": "markdown",
   "metadata": {},
   "source": [
    "#### Užduotis: Užduotis: gauti dict iš vardų list'o, kur \"key\" yra vardas, o \"value\" - random numeris"
   ]
  },
  {
   "cell_type": "code",
   "execution_count": 211,
   "metadata": {},
   "outputs": [
    {
     "name": "stdout",
     "output_type": "stream",
     "text": [
      "[6, 1, 5, 4]\n"
     ]
    },
    {
     "data": {
      "text/plain": [
       "{'Jonas': 6, 'Petras': 1, 'Kazys': 5, 'Joan': 4}"
      ]
     },
     "execution_count": 211,
     "metadata": {},
     "output_type": "execute_result"
    }
   ],
   "source": [
    "import random\n",
    "\n",
    "a = [\"Jonas\", \"Petras\", \"Kazys\", \"Joan\"]\n",
    "l = list()\n",
    "\n",
    "for i in range(0,len(a)):\n",
    "    l.append(random.randint(i,10))\n",
    "\n",
    "print(l)\n",
    "\n",
    "d = {v:r for v, r in zip(a,l)}\n",
    "d"
   ]
  },
  {
   "cell_type": "code",
   "execution_count": 212,
   "metadata": {},
   "outputs": [],
   "source": [
    "# csv modulis, kuris leidžia dirbti su csv failais, kadangi vėliau žaisime su failais, tai dabar tiek\n",
    "# import csv"
   ]
  },
  {
   "cell_type": "code",
   "execution_count": 213,
   "metadata": {},
   "outputs": [],
   "source": [
    "# json modulis, kuris leidžia dirbti su json failais, kadangi vėliau žaisime su failais, tai dabar tiek"
   ]
  },
  {
   "cell_type": "code",
   "execution_count": 214,
   "metadata": {},
   "outputs": [],
   "source": [
    "# galima ir savo modulį: išsaugomas failas su .py. Pvz. file1.py suvedam tokį kodą:\n",
    "# skaicius = 5\n",
    "# def up(a):\n",
    "#     return a ** 2\n",
    "# tai kitam faile pvz. file2.py galima, šiam pavyzdžui file1.py turi būti tam pačiam folder'yje, bet šiaip nebūtinai\n",
    "# import file1.py\n",
    "# tada su \".\" galima pasiekti tiek fukciją, tiek kintamąjį\n",
    "# a = file1.skaicius\n",
    "# b = file1.up(2)"
   ]
  },
  {
   "cell_type": "markdown",
   "metadata": {},
   "source": [
    "### 5 diena"
   ]
  },
  {
   "cell_type": "markdown",
   "metadata": {},
   "source": [
    "## Exceptions https://realpython.com/python-exceptions/"
   ]
  },
  {
   "cell_type": "code",
   "execution_count": 215,
   "metadata": {},
   "outputs": [
    {
     "ename": "Exception",
     "evalue": "x should not exceed 5. The value of x was: 10",
     "output_type": "error",
     "traceback": [
      "\u001b[0;31m---------------------------------------------------------------------------\u001b[0m",
      "\u001b[0;31mException\u001b[0m                                 Traceback (most recent call last)",
      "\u001b[0;32m<ipython-input-215-a1e1aa7b56db>\u001b[0m in \u001b[0;36m<module>\u001b[0;34m\u001b[0m\n\u001b[1;32m      3\u001b[0m \u001b[0mx\u001b[0m \u001b[0;34m=\u001b[0m \u001b[0;36m10\u001b[0m\u001b[0;34m\u001b[0m\u001b[0m\n\u001b[1;32m      4\u001b[0m \u001b[0;32mif\u001b[0m \u001b[0mx\u001b[0m \u001b[0;34m>\u001b[0m \u001b[0;36m5\u001b[0m\u001b[0;34m:\u001b[0m\u001b[0;34m\u001b[0m\u001b[0m\n\u001b[0;32m----> 5\u001b[0;31m     \u001b[0;32mraise\u001b[0m \u001b[0mException\u001b[0m\u001b[0;34m(\u001b[0m\u001b[0;34m'x should not exceed 5. The value of x was: {}'\u001b[0m\u001b[0;34m.\u001b[0m\u001b[0mformat\u001b[0m\u001b[0;34m(\u001b[0m\u001b[0mx\u001b[0m\u001b[0;34m)\u001b[0m\u001b[0;34m)\u001b[0m\u001b[0;34m\u001b[0m\u001b[0m\n\u001b[0m",
      "\u001b[0;31mException\u001b[0m: x should not exceed 5. The value of x was: 10"
     ]
    }
   ],
   "source": [
    "# Exceptions naudojami dirbant su error'ai, nes įvykus error'ui, programa \"nulužta\", bet exceptions padeda to išvengti\n",
    "# Kaip matote, kodas neturi error'o kaip tokio, bet panaudojus \"raise\", galima kokį norime error'ą pateikti.\n",
    "x = 10\n",
    "if x > 5:\n",
    "    raise Exception('x should not exceed 5. The value of x was: {}'.format(x))"
   ]
  },
  {
   "cell_type": "code",
   "execution_count": 216,
   "metadata": {},
   "outputs": [
    {
     "ename": "ZeroDivisionError",
     "evalue": "division by zero",
     "output_type": "error",
     "traceback": [
      "\u001b[0;31m---------------------------------------------------------------------------\u001b[0m",
      "\u001b[0;31mZeroDivisionError\u001b[0m                         Traceback (most recent call last)",
      "\u001b[0;32m<ipython-input-216-87670809676f>\u001b[0m in \u001b[0;36m<module>\u001b[0;34m\u001b[0m\n\u001b[1;32m      5\u001b[0m     \u001b[0;32mreturn\u001b[0m \u001b[0ma\u001b[0m\u001b[0;34m/\u001b[0m\u001b[0mb\u001b[0m\u001b[0;34m\u001b[0m\u001b[0m\n\u001b[1;32m      6\u001b[0m \u001b[0;34m\u001b[0m\u001b[0m\n\u001b[0;32m----> 7\u001b[0;31m \u001b[0mdalyba\u001b[0m\u001b[0;34m(\u001b[0m\u001b[0msk1\u001b[0m\u001b[0;34m,\u001b[0m \u001b[0msk2\u001b[0m\u001b[0;34m)\u001b[0m\u001b[0;34m\u001b[0m\u001b[0m\n\u001b[0m\u001b[1;32m      8\u001b[0m \u001b[0;31m# Kaip matote, šios cell'ės kodo vykdymas išmetė ZeroDivisionError ir \"sustojo\", bet naudojant \"except\" galima \"nulužimo\"\u001b[0m\u001b[0;34m\u001b[0m\u001b[0;34m\u001b[0m\u001b[0m\n\u001b[1;32m      9\u001b[0m \u001b[0;31m# išvengt\u001b[0m\u001b[0;34m\u001b[0m\u001b[0;34m\u001b[0m\u001b[0m\n",
      "\u001b[0;32m<ipython-input-216-87670809676f>\u001b[0m in \u001b[0;36mdalyba\u001b[0;34m(a, b)\u001b[0m\n\u001b[1;32m      3\u001b[0m \u001b[0;34m\u001b[0m\u001b[0m\n\u001b[1;32m      4\u001b[0m \u001b[0;32mdef\u001b[0m \u001b[0mdalyba\u001b[0m\u001b[0;34m(\u001b[0m\u001b[0ma\u001b[0m\u001b[0;34m,\u001b[0m \u001b[0mb\u001b[0m\u001b[0;34m)\u001b[0m\u001b[0;34m:\u001b[0m\u001b[0;34m\u001b[0m\u001b[0m\n\u001b[0;32m----> 5\u001b[0;31m     \u001b[0;32mreturn\u001b[0m \u001b[0ma\u001b[0m\u001b[0;34m/\u001b[0m\u001b[0mb\u001b[0m\u001b[0;34m\u001b[0m\u001b[0m\n\u001b[0m\u001b[1;32m      6\u001b[0m \u001b[0;34m\u001b[0m\u001b[0m\n\u001b[1;32m      7\u001b[0m \u001b[0mdalyba\u001b[0m\u001b[0;34m(\u001b[0m\u001b[0msk1\u001b[0m\u001b[0;34m,\u001b[0m \u001b[0msk2\u001b[0m\u001b[0;34m)\u001b[0m\u001b[0;34m\u001b[0m\u001b[0m\n",
      "\u001b[0;31mZeroDivisionError\u001b[0m: division by zero"
     ]
    }
   ],
   "source": [
    "sk1 = 5\n",
    "sk2 = 0\n",
    "\n",
    "def dalyba(a, b):\n",
    "    return a/b\n",
    "\n",
    "dalyba(sk1, sk2)\n",
    "# Kaip matote, šios cell'ės kodo vykdymas išmetė ZeroDivisionError ir \"sustojo\", bet naudojant \"except\" galima \"nulužimo\"\n",
    "# išvengt"
   ]
  },
  {
   "cell_type": "code",
   "execution_count": 217,
   "metadata": {},
   "outputs": [
    {
     "name": "stdout",
     "output_type": "stream",
     "text": [
      "division by zero\n",
      "5\n"
     ]
    }
   ],
   "source": [
    "def sudetis(a, b):\n",
    "    return a + b\n",
    "\n",
    "try:\n",
    "    dalyba(sk1, sk2)\n",
    "except ZeroDivisionError as error:\n",
    "    print(error)\n",
    "    print(sudetis(sk1, sk2))\n",
    "# Kaip matote, kodas \"neužlužo\" ir buvo atspaudintas error'as, nes taip nurodyta kode, bet taip pat galimas ir bet koks\n",
    "# kitas kodas, kaip pvz. buvo įvykdyta funkcija sudetis ir atprint'intas rezultatas"
   ]
  },
  {
   "cell_type": "code",
   "execution_count": 218,
   "metadata": {},
   "outputs": [
    {
     "name": "stdout",
     "output_type": "stream",
     "text": [
      "division by zero\n",
      "5\n"
     ]
    }
   ],
   "source": [
    "# Dabar logika tokia: su \"try\" pabandyk atlikti kažkokį kodą, jei klaida, su \"except\" \"pagauk\" klaidą ir arba \n",
    "# atprint'ink klaidą (dažniausiai) arba įvykdyk kitą kodą. Bet jei klaidos nėra, tada panaudojamas \"else\".\n",
    "# Jame vėl gali būti \"try\"-\"except\" arba bet koks kitas kodas. Pavyzdyje pabandoma atidaryti .log failą \n",
    "# (working su failais yra parodytas žemiau) ir jei failo nėra, print'ina klaidą, jei yra, jį atidaro \"read\" mode'e\n",
    "# (vėlgi žiūrėti žemiau)\n",
    "# Kaip matot, jei sk2 = 0, atprint'tina \"division by zero\" ir 5\n",
    "sk1 = 5\n",
    "sk2 = 0\n",
    "\n",
    "try:\n",
    "    dalyba(sk1, sk2)\n",
    "except ZeroDivisionError as error:\n",
    "    print(error)\n",
    "    print(sudetis(sk1, sk2))\n",
    "else:\n",
    "    try:\n",
    "        with open('file.log') as file:\n",
    "            read_data = file.read()\n",
    "    except FileNotFoundError as fnf_error:\n",
    "        print(fnf_error)"
   ]
  },
  {
   "cell_type": "code",
   "execution_count": 219,
   "metadata": {},
   "outputs": [
    {
     "name": "stdout",
     "output_type": "stream",
     "text": [
      "[Errno 2] No such file or directory: 'file.log'\n"
     ]
    }
   ],
   "source": [
    "# Jei sk2 != 0, atprint'tina klaidą, kad nerastas failas\n",
    "sk1 = 5\n",
    "sk2 = 1\n",
    "\n",
    "try:\n",
    "    dalyba(sk1, sk2)\n",
    "except ZeroDivisionError as error:\n",
    "    print(error)\n",
    "    print(sudetis(sk1, sk2))\n",
    "else:\n",
    "    try:\n",
    "        with open('file.log') as file:\n",
    "            read_data = file.read()\n",
    "    except FileNotFoundError as fnf_error:\n",
    "        print(fnf_error)"
   ]
  },
  {
   "cell_type": "code",
   "execution_count": 220,
   "metadata": {},
   "outputs": [
    {
     "name": "stdout",
     "output_type": "stream",
     "text": [
      "[Errno 2] No such file or directory: 'file.log'\n",
      "Čia turi patekti kodas, kuris turi būti vykdomas ne priklausomai nuo to ar yra klaidos ar ne\n"
     ]
    }
   ],
   "source": [
    "# ir galiausiai dar yra naudojamas \"finally\", kuris reiškia, kodas turi būti vydomas neprilausomai ar yra klaida ar ne\n",
    "sk1 = 5\n",
    "sk2 = 1\n",
    "\n",
    "try:\n",
    "    dalyba(sk1, sk2)\n",
    "except ZeroDivisionError as error:\n",
    "    print(error)\n",
    "    print(sudetis(sk1, sk2))\n",
    "else:\n",
    "    try:\n",
    "        with open('file.log') as file:\n",
    "            read_data = file.read()\n",
    "    except FileNotFoundError as fnf_error:\n",
    "        print(fnf_error)\n",
    "finally:\n",
    "    print(\"Čia turi patekti kodas, kuris turi būti vykdomas ne priklausomai nuo to ar yra klaidos ar ne\")"
   ]
  },
  {
   "cell_type": "markdown",
   "metadata": {},
   "source": [
    "##  Working with files, context managers and the \"with statement\" and\n",
    "Write, Create https://www.w3schools.com/python/python_file_write.asp\n",
    "\n",
    "Open file https://www.w3schools.com/python/python_file_open.asp\n",
    "\n",
    "Delete https://www.w3schools.com/python/python_file_remove.asp\n",
    "\n",
    "Context managers https://dbader.org/blog/python-context-managers-and-with-statement"
   ]
  },
  {
   "cell_type": "markdown",
   "metadata": {},
   "source": [
    "###### Senovinis būdas dirbti su failais yra toks:\n",
    "f = open(\"failaspavadinimas.txt\", \"mode'as\") as f:\n",
    "\n",
    "pagrindiniai mode'ai, nenurodžius default yra \"r\":\n",
    "\n",
    "\"r\" - Opens a file for reading only. The file pointer is placed at the beginning of the file. This is the default mode.\n",
    "\n",
    "\"r+\" - Opens a file for both reading and writing. The file pointer placed at the beginning of the file.\n",
    "\n",
    "\"w\" - Opens a file for writing only. Overwrites the file (truncate file to zero length) if the file exists. If the file does not exist, creates a new \n",
    "file for writing.\n",
    "\n",
    "\"w+\"  - Opens a file for both writing and reading. Overwrites the existing file (truncate file to zero length) if the file exists. If the file does not exist, creates a new file for reading and writing.\n",
    "\n",
    "\"a\" - Opens a file for appending. The file pointer is at the end of the file if the file exists. That is, the file is in the append mode. If the file does not exist, it creates a new file for writing.\n",
    "\n",
    "\"a+\"  - Opens a file for both appending and reading. The file pointer is at the end of the file if the file exists. The file opens in the append mode. If the file does not exist, it creates a new file for reading and writing.\n",
    "\n",
    "Daugiau galima pasižiūrėti čia https://www.tutorialspoint.com/python/python_files_io.htm\n",
    "\n",
    "jei norim įrayšyti:\n",
    "\n",
    "f.write(\"Galima tekstą arba duomenis, kurie išsaugoti kintamąjame\")\n",
    "\n",
    "jei norim nuskaityti:\n",
    "\n",
    "f.read(size) - size is an optional numeric argument and this func returns a quantity of data equal to size. If size if omitted, then it reads the entire file and returns it\n",
    "\n",
    "f.readline() - reads a single line from file with newline at the end t.y. yra iterator\n",
    "\n",
    "f.readlines() - returns a list containing all the lines in the file aka list(iterator).\n",
    "\n",
    "ir tada failą BŪTINA uždaryti:\n",
    "\n",
    "f.close()"
   ]
  },
  {
   "cell_type": "code",
   "execution_count": 221,
   "metadata": {},
   "outputs": [],
   "source": [
    "a = \"Galima tekstą arba duomenis, kurie išsaugoti kintamąjame, bet viskas turi būti pateikta str formatu\"\n",
    "b = \"Galima tekstą arba duomenis, kurie išsaugoti kintamąjame\"\n",
    "c = \"Galima tekstą arba duomenis\"\n",
    "d = [1, 2, 3, 4, 5, 6, 7, 8, 9]\n",
    "f = open(\"file1.txt\", \"w\")\n",
    "f.write(f\"{a}{b}{c}\")\n",
    "f.close()\n",
    "# atsidarykite failą ir pasižiūrėkite, kas įrašyta\n",
    "# ir čia daugiau nieko negalime padaryti, pvz. dar ir nuskaityti failą"
   ]
  },
  {
   "cell_type": "code",
   "execution_count": 222,
   "metadata": {},
   "outputs": [],
   "source": [
    "f = open(\"file1.txt\", \"w\")\n",
    "f.write(f\"{a}\\n{b}\\n{c}\\n\")\n",
    "f.close()"
   ]
  },
  {
   "cell_type": "code",
   "execution_count": 223,
   "metadata": {},
   "outputs": [],
   "source": [
    "# jei veiksmą pakartosim, tik vietoj kintamojo a, norėsim b, turime duomenis perconvertuoti į str formatą\n",
    "f = open(\"file1.txt\", \"w\") # faile buvusi info ištrinama (truncate)\n",
    "f.write(str(d))\n",
    "f.close()"
   ]
  },
  {
   "cell_type": "code",
   "execution_count": 224,
   "metadata": {},
   "outputs": [],
   "source": [
    "# pakeičiam failą nuskaitymui tolimesniam mokymuosi\n",
    "f = open(\"file1.txt\", \"w\")\n",
    "f.write(f\"{a}\\n{b}\\n{c}\\n\")\n",
    "f.close()"
   ]
  },
  {
   "cell_type": "code",
   "execution_count": 225,
   "metadata": {},
   "outputs": [
    {
     "name": "stdout",
     "output_type": "stream",
     "text": [
      "Galima tekstą arba duomenis, kurie išsaugoti kintamąjame, bet viskas turi būti pateikta str formatu\n",
      "Galima tekstą arba duomenis, kurie išsaugoti kintamąjame\n",
      "Galima tekstą arba duomenis\n",
      "\n"
     ]
    }
   ],
   "source": [
    "f = open(\"file1.txt\", \"r\")\n",
    "print((f.read()))\n",
    "# print(f.readlines())\n",
    "# print((f.readline()))\n",
    "# print((f.readline()))\n",
    "# print((f.readline()))\n",
    "f.close()"
   ]
  },
  {
   "cell_type": "code",
   "execution_count": 226,
   "metadata": {},
   "outputs": [
    {
     "name": "stdout",
     "output_type": "stream",
     "text": [
      "['Galima tekstą arba duomenis, kurie išsaugoti kintamąjame, bet viskas turi būti pateikta str formatu\\n', 'Galima tekstą arba duomenis, kurie išsaugoti kintamąjame\\n', 'Galima tekstą arba duomenis\\n']\n"
     ]
    }
   ],
   "source": [
    "f = open(\"file1.txt\", \"r\")\n",
    "# print((f.read()))\n",
    "print(f.readlines())\n",
    "# print((f.readline()))\n",
    "# print((f.readline()))\n",
    "# print((f.readline()))\n",
    "f.close()"
   ]
  },
  {
   "cell_type": "code",
   "execution_count": 227,
   "metadata": {},
   "outputs": [
    {
     "name": "stdout",
     "output_type": "stream",
     "text": [
      "Galima tekstą arba duomenis, kurie išsaugoti kintamąjame, bet viskas turi būti pateikta str formatu\n",
      "\n",
      "Galima tekstą arba duomenis, kurie išsaugoti kintamąjame\n",
      "\n",
      "Galima tekstą arba duomenis\n",
      "\n"
     ]
    }
   ],
   "source": [
    "f = open(\"file1.txt\", \"r\")\n",
    "# print((f.read()))\n",
    "# print(f.readlines())\n",
    "print((f.readline()))\n",
    "print((f.readline()))\n",
    "print((f.readline()))\n",
    "f.close()"
   ]
  },
  {
   "cell_type": "code",
   "execution_count": 228,
   "metadata": {},
   "outputs": [
    {
     "name": "stdout",
     "output_type": "stream",
     "text": [
      "galima tekstą arba duomenis, kurie išsaugoti kintamąjame, bet viskas turi būti pateikta str formatu\n",
      "\n",
      "galima tekstą arba duomenis, kurie išsaugoti kintamąjame\n",
      "\n",
      "galima tekstą arba duomenis\n",
      "\n"
     ]
    }
   ],
   "source": [
    "# jei norim su for loop'u\n",
    "f = open(\"file1.txt\", \"r\")\n",
    "\n",
    "for i in f:\n",
    "    print(i.lower())\n",
    "    \n",
    "f.close()"
   ]
  },
  {
   "cell_type": "code",
   "execution_count": 229,
   "metadata": {},
   "outputs": [],
   "source": [
    "# jei norim pridėti papildomą informaciją\n",
    "f = open(\"file1.txt\", \"a\")\n",
    "f.write(\"Pridėtas papildomas tekstas\")\n",
    "f.close()"
   ]
  },
  {
   "cell_type": "markdown",
   "metadata": {},
   "source": [
    "##### Kaip matot, kiekvieną kartą reikia atsiminti panaudoti close() kas yra labai nepatogu prisiminti daug kodinant todėl kaip visada python'as turi palengvinimą, kuris atrodo taip:\n",
    "with open(\"file1.txt\", \"a\") as f:\n",
    "    \n",
    "        galioja tas pats kodas, kaip prieš tai buvusiam būdui"
   ]
  },
  {
   "cell_type": "markdown",
   "metadata": {},
   "source": [
    "##### Užduotis: Panaudojus random modulį, sukurti failą su random skaičiumi prie pavadinimo ir įrašyti kokį nors tekstą su tuo pačiu random skaičium"
   ]
  },
  {
   "cell_type": "code",
   "execution_count": 230,
   "metadata": {},
   "outputs": [],
   "source": [
    "import random\n",
    "rand = random.randint(1, 50)\n",
    "\n",
    "with open(f\"file{rand}.txt\", \"w\") as f:\n",
    "    f.write(f\"Tekstas{rand}\")"
   ]
  },
  {
   "cell_type": "markdown",
   "metadata": {},
   "source": [
    "##### Užduotis: Priimti slaptažodį ir emailą bei išsaugoti faile"
   ]
  },
  {
   "cell_type": "code",
   "execution_count": 231,
   "metadata": {},
   "outputs": [
    {
     "name": "stdout",
     "output_type": "stream",
     "text": [
      "Slaptažodis? sasdasd\n",
      "El.paštas asdasd@asdad.com\n"
     ]
    }
   ],
   "source": [
    "import random\n",
    "slapta = input(\"Slaptažodis? \")\n",
    "elpastas = input(\"El.paštas \")\n",
    "\n",
    "with open(f\"file2.txt\", \"w\") as f:\n",
    "    f.write(f\"Slaptažodis {slapta}\\nEmailas {elpastas}\")"
   ]
  },
  {
   "cell_type": "code",
   "execution_count": 232,
   "metadata": {
    "collapsed": true
   },
   "outputs": [
    {
     "ename": "FileNotFoundError",
     "evalue": "[Errno 2] No such file or directory: 'failas.csv'",
     "output_type": "error",
     "traceback": [
      "\u001b[0;31m---------------------------------------------------------------------------\u001b[0m",
      "\u001b[0;31mFileNotFoundError\u001b[0m                         Traceback (most recent call last)",
      "\u001b[0;32m<ipython-input-232-1b7d610aa3cd>\u001b[0m in \u001b[0;36m<module>\u001b[0;34m\u001b[0m\n\u001b[1;32m      1\u001b[0m \u001b[0;31m# csv https://realpython.com/python-csv/\u001b[0m\u001b[0;34m\u001b[0m\u001b[0;34m\u001b[0m\u001b[0m\n\u001b[1;32m      2\u001b[0m \u001b[0;32mimport\u001b[0m \u001b[0mcsv\u001b[0m\u001b[0;34m\u001b[0m\u001b[0m\n\u001b[0;32m----> 3\u001b[0;31m \u001b[0;32mwith\u001b[0m \u001b[0mopen\u001b[0m\u001b[0;34m(\u001b[0m\u001b[0;34m'failas.csv'\u001b[0m\u001b[0;34m,\u001b[0m \u001b[0mnewline\u001b[0m\u001b[0;34m=\u001b[0m\u001b[0;34m\"\"\u001b[0m\u001b[0;34m)\u001b[0m \u001b[0;32mas\u001b[0m \u001b[0mcsv_file\u001b[0m\u001b[0;34m:\u001b[0m\u001b[0;34m\u001b[0m\u001b[0m\n\u001b[0m\u001b[1;32m      4\u001b[0m     \u001b[0mcsv_reader\u001b[0m \u001b[0;34m=\u001b[0m \u001b[0mcsv\u001b[0m\u001b[0;34m.\u001b[0m\u001b[0mreader\u001b[0m\u001b[0;34m(\u001b[0m\u001b[0mcsv_file\u001b[0m\u001b[0;34m)\u001b[0m\u001b[0;34m\u001b[0m\u001b[0m\n\u001b[1;32m      5\u001b[0m     \u001b[0mprint\u001b[0m\u001b[0;34m(\u001b[0m\u001b[0mcsv_reader\u001b[0m\u001b[0;34m)\u001b[0m \u001b[0;31m# todėl, kad reader yra iterator objektas\u001b[0m\u001b[0;34m\u001b[0m\u001b[0m\n",
      "\u001b[0;31mFileNotFoundError\u001b[0m: [Errno 2] No such file or directory: 'failas.csv'"
     ]
    }
   ],
   "source": [
    "# csv https://realpython.com/python-csv/\n",
    "import csv\n",
    "with open('failas.csv', newline=\"\") as csv_file:\n",
    "    csv_reader = csv.reader(csv_file)\n",
    "    print(csv_reader) # todėl, kad reader yra iterator objektas\n",
    "    print(list(csv_reader))"
   ]
  },
  {
   "cell_type": "code",
   "execution_count": 233,
   "metadata": {
    "collapsed": true
   },
   "outputs": [
    {
     "ename": "FileNotFoundError",
     "evalue": "[Errno 2] No such file or directory: 'failas.csv'",
     "output_type": "error",
     "traceback": [
      "\u001b[0;31m---------------------------------------------------------------------------\u001b[0m",
      "\u001b[0;31mFileNotFoundError\u001b[0m                         Traceback (most recent call last)",
      "\u001b[0;32m<ipython-input-233-e14cda46a3e3>\u001b[0m in \u001b[0;36m<module>\u001b[0;34m\u001b[0m\n\u001b[0;32m----> 1\u001b[0;31m \u001b[0;32mwith\u001b[0m \u001b[0mopen\u001b[0m\u001b[0;34m(\u001b[0m\u001b[0;34m'failas.csv'\u001b[0m\u001b[0;34m,\u001b[0m \u001b[0mnewline\u001b[0m\u001b[0;34m=\u001b[0m\u001b[0;34m\"\"\u001b[0m\u001b[0;34m)\u001b[0m \u001b[0;32mas\u001b[0m \u001b[0mcsv_file\u001b[0m\u001b[0;34m:\u001b[0m\u001b[0;34m\u001b[0m\u001b[0m\n\u001b[0m\u001b[1;32m      2\u001b[0m     \u001b[0mcsv_reader\u001b[0m \u001b[0;34m=\u001b[0m \u001b[0mcsv\u001b[0m\u001b[0;34m.\u001b[0m\u001b[0mreader\u001b[0m\u001b[0;34m(\u001b[0m\u001b[0mcsv_file\u001b[0m\u001b[0;34m,\u001b[0m \u001b[0mdelimiter\u001b[0m\u001b[0;34m=\u001b[0m\u001b[0;34m','\u001b[0m\u001b[0;34m)\u001b[0m\u001b[0;34m\u001b[0m\u001b[0m\n\u001b[1;32m      3\u001b[0m     \u001b[0;32mfor\u001b[0m \u001b[0mi\u001b[0m \u001b[0;32min\u001b[0m \u001b[0mcsv_reader\u001b[0m\u001b[0;34m:\u001b[0m\u001b[0;34m\u001b[0m\u001b[0m\n\u001b[1;32m      4\u001b[0m         \u001b[0mprint\u001b[0m\u001b[0;34m(\u001b[0m\u001b[0mi\u001b[0m\u001b[0;34m)\u001b[0m\u001b[0;34m\u001b[0m\u001b[0m\n",
      "\u001b[0;31mFileNotFoundError\u001b[0m: [Errno 2] No such file or directory: 'failas.csv'"
     ]
    }
   ],
   "source": [
    "with open('failas.csv', newline=\"\") as csv_file:\n",
    "    csv_reader = csv.reader(csv_file, delimiter=',')\n",
    "    for i in csv_reader:\n",
    "        print(i)"
   ]
  },
  {
   "cell_type": "code",
   "execution_count": 234,
   "metadata": {},
   "outputs": [],
   "source": [
    "a = [\"Jonas\", \"Jonaitis\", \"Kaunas\"]\n",
    "with open('failas.csv', newline=\"\", mode='a') as csv_file:\n",
    "    csvwriter = csv.writer(csv_file, delimiter=',', quotechar='\"', quoting=csv.QUOTE_MINIMAL)\n",
    "    csvwriter.writerow(a)"
   ]
  },
  {
   "cell_type": "code",
   "execution_count": 235,
   "metadata": {},
   "outputs": [],
   "source": [
    "with open('failas.csv', newline=\"\\n\", mode='a') as csv_file:\n",
    "    csvwriter = csv.writer(csv_file, delimiter=',', quotechar='\"', quoting=csv.QUOTE_MINIMAL)\n",
    "    csvwriter.writerow(a)"
   ]
  },
  {
   "cell_type": "code",
   "execution_count": 237,
   "metadata": {
    "collapsed": true
   },
   "outputs": [
    {
     "ename": "FileNotFoundError",
     "evalue": "[Errno 2] No such file or directory: 'naujas.json'",
     "output_type": "error",
     "traceback": [
      "\u001b[0;31m---------------------------------------------------------------------------\u001b[0m",
      "\u001b[0;31mFileNotFoundError\u001b[0m                         Traceback (most recent call last)",
      "\u001b[0;32m<ipython-input-237-0ad60b423dd9>\u001b[0m in \u001b[0;36m<module>\u001b[0;34m\u001b[0m\n\u001b[1;32m      2\u001b[0m \u001b[0;32mimport\u001b[0m \u001b[0mjson\u001b[0m\u001b[0;34m\u001b[0m\u001b[0m\n\u001b[1;32m      3\u001b[0m \u001b[0;34m\u001b[0m\u001b[0m\n\u001b[0;32m----> 4\u001b[0;31m \u001b[0;32mwith\u001b[0m \u001b[0mopen\u001b[0m\u001b[0;34m(\u001b[0m\u001b[0;34m\"naujas.json\"\u001b[0m\u001b[0;34m,\u001b[0m \u001b[0;34m\"r\"\u001b[0m\u001b[0;34m)\u001b[0m \u001b[0;32mas\u001b[0m \u001b[0mread_file\u001b[0m\u001b[0;34m:\u001b[0m\u001b[0;34m\u001b[0m\u001b[0m\n\u001b[0m\u001b[1;32m      5\u001b[0m     \u001b[0mdata\u001b[0m \u001b[0;34m=\u001b[0m \u001b[0mjson\u001b[0m\u001b[0;34m.\u001b[0m\u001b[0mload\u001b[0m\u001b[0;34m(\u001b[0m\u001b[0mread_file\u001b[0m\u001b[0;34m)\u001b[0m\u001b[0;34m\u001b[0m\u001b[0m\n\u001b[1;32m      6\u001b[0m     \u001b[0mprint\u001b[0m\u001b[0;34m(\u001b[0m\u001b[0mdata\u001b[0m\u001b[0;34m)\u001b[0m\u001b[0;34m\u001b[0m\u001b[0m\n",
      "\u001b[0;31mFileNotFoundError\u001b[0m: [Errno 2] No such file or directory: 'naujas.json'"
     ]
    }
   ],
   "source": [
    "# json https://realpython.com/python-json/\n",
    "import json\n",
    "\n",
    "with open(\"naujas.json\", \"r\") as read_file:\n",
    "    data = json.load(read_file)\n",
    "    print(data)"
   ]
  },
  {
   "cell_type": "code",
   "execution_count": 238,
   "metadata": {
    "collapsed": true
   },
   "outputs": [
    {
     "ename": "FileNotFoundError",
     "evalue": "[Errno 2] No such file or directory: 'naujas.json'",
     "output_type": "error",
     "traceback": [
      "\u001b[0;31m---------------------------------------------------------------------------\u001b[0m",
      "\u001b[0;31mFileNotFoundError\u001b[0m                         Traceback (most recent call last)",
      "\u001b[0;32m<ipython-input-238-a8ade73db874>\u001b[0m in \u001b[0;36m<module>\u001b[0;34m\u001b[0m\n\u001b[1;32m      3\u001b[0m \u001b[0;32mimport\u001b[0m \u001b[0mrandom\u001b[0m\u001b[0;34m\u001b[0m\u001b[0m\n\u001b[1;32m      4\u001b[0m \u001b[0;34m\u001b[0m\u001b[0m\n\u001b[0;32m----> 5\u001b[0;31m \u001b[0;32mwith\u001b[0m \u001b[0mopen\u001b[0m\u001b[0;34m(\u001b[0m\u001b[0;34m\"naujas.json\"\u001b[0m\u001b[0;34m,\u001b[0m \u001b[0;34m\"r\"\u001b[0m\u001b[0;34m)\u001b[0m \u001b[0;32mas\u001b[0m \u001b[0mread_file\u001b[0m\u001b[0;34m:\u001b[0m\u001b[0;34m\u001b[0m\u001b[0m\n\u001b[0m\u001b[1;32m      6\u001b[0m     \u001b[0mdata\u001b[0m \u001b[0;34m=\u001b[0m \u001b[0mjson\u001b[0m\u001b[0;34m.\u001b[0m\u001b[0mload\u001b[0m\u001b[0;34m(\u001b[0m\u001b[0mread_file\u001b[0m\u001b[0;34m)\u001b[0m\u001b[0;34m\u001b[0m\u001b[0m\n\u001b[1;32m      7\u001b[0m     \u001b[0mprint\u001b[0m\u001b[0;34m(\u001b[0m\u001b[0mdata\u001b[0m\u001b[0;34m)\u001b[0m\u001b[0;34m\u001b[0m\u001b[0m\n",
      "\u001b[0;31mFileNotFoundError\u001b[0m: [Errno 2] No such file or directory: 'naujas.json'"
     ]
    }
   ],
   "source": [
    "# Užduotis: kad atspaudintu random value iš list'o dict viduje\n",
    "import json\n",
    "import random\n",
    "\n",
    "with open(\"naujas.json\", \"r\") as read_file:\n",
    "    data = json.load(read_file)\n",
    "    print(data)\n",
    "    for i in data.values():\n",
    "        if type(i) is str:\n",
    "            print(i.lower())\n",
    "        elif type(i) is int:\n",
    "            print(i)\n",
    "        else:\n",
    "            rand = random.randint(0, (len(i)-1))\n",
    "            print(i[rand])"
   ]
  },
  {
   "cell_type": "markdown",
   "metadata": {},
   "source": [
    "### 6 diena"
   ]
  },
  {
   "cell_type": "code",
   "execution_count": 239,
   "metadata": {},
   "outputs": [],
   "source": [
    "# html? https://programminghistorian.org/en/lessons/creating-and-viewing-html-files-with-python"
   ]
  },
  {
   "cell_type": "markdown",
   "metadata": {},
   "source": [
    "### 7 diena"
   ]
  },
  {
   "cell_type": "code",
   "execution_count": 2,
   "metadata": {},
   "outputs": [
    {
     "data": {
      "text/plain": [
       "['Užduotis:',\n",
       " 'sukurti',\n",
       " 'vardų,',\n",
       " 'pavardžių',\n",
       " 'ir',\n",
       " 'amžiaus',\n",
       " \"list'us\",\n",
       " '(pvz.',\n",
       " 'po',\n",
       " '5)',\n",
       " 'ir',\n",
       " 'jų',\n",
       " 'duomenis',\n",
       " 'įrašyti',\n",
       " 'į',\n",
       " 'failą',\n",
       " 'taip']"
      ]
     },
     "execution_count": 2,
     "metadata": {},
     "output_type": "execute_result"
    }
   ],
   "source": [
    "# Split https://www.pythonforbeginners.com/dictionary/python-split\n",
    "a = \"Užduotis: sukurti vardų, pavardžių ir amžiaus list'us (pvz. po 5) ir jų duomenis įrašyti į failą taip\"\n",
    "a.split()"
   ]
  },
  {
   "cell_type": "code",
   "execution_count": 3,
   "metadata": {},
   "outputs": [
    {
     "data": {
      "text/plain": [
       "\"U:ž:d:u:o:t:i:s::: :s:u:k:u:r:t:i: :v:a:r:d:ų:,: :p:a:v:a:r:d:ž:i:ų: :i:r: :a:m:ž:i:a:u:s: :l:i:s:t:':u:s: :(:p:v:z:.: :p:o: :5:): :i:r: :j:ų: :d:u:o:m:e:n:i:s: :į:r:a:š:y:t:i: :į: :f:a:i:l:ą: :t:a:i:p\""
      ]
     },
     "execution_count": 3,
     "metadata": {},
     "output_type": "execute_result"
    }
   ],
   "source": [
    "# Join https://www.programiz.com/python-programming/methods/string/join\n",
    "b = \":\".join(a)\n",
    "b"
   ]
  },
  {
   "cell_type": "code",
   "execution_count": 4,
   "metadata": {},
   "outputs": [
    {
     "data": {
      "text/plain": [
       "['Užduotis: sukurti',\n",
       " ' vardų, pavardžių ir amžiaus',\n",
       " \" list'us (pvz. po 5) ir jų duomenis\",\n",
       " ' įrašyti į failą taip']"
      ]
     },
     "execution_count": 4,
     "metadata": {},
     "output_type": "execute_result"
    }
   ],
   "source": [
    "# Splitlines https://www.tutorialspoint.com/python/string_splitlines.htm\n",
    "# ne taip, kaip split() split'ina string per \" \", splitlines per \"\\n\"\n",
    "c = \"Užduotis: sukurti\\n vardų, pavardžių ir amžiaus\\n list'us (pvz. po 5) ir jų duomenis\\n įrašyti į failą taip\"\n",
    "c.splitlines()"
   ]
  },
  {
   "cell_type": "code",
   "execution_count": 5,
   "metadata": {},
   "outputs": [
    {
     "name": "stdout",
     "output_type": "stream",
     "text": [
      "1: 2: 3: 41: 5: 6: 79\n"
     ]
    }
   ],
   "source": [
    "b = [1, 2, 3, 41, 5, 6, 79]\n",
    "print(\": \".join(map(str, b)))"
   ]
  },
  {
   "cell_type": "code",
   "execution_count": 6,
   "metadata": {},
   "outputs": [
    {
     "name": "stdout",
     "output_type": "stream",
     "text": [
      "1, 2, 3, 41, 5, 6, 79\n"
     ]
    }
   ],
   "source": [
    "print(\", \".join(str(x) for x in b))"
   ]
  },
  {
   "cell_type": "code",
   "execution_count": 9,
   "metadata": {},
   "outputs": [
    {
     "name": "stdout",
     "output_type": "stream",
     "text": [
      "['Nuo', 'kitų', 'metų', 'pensijai', 'kaupsime', 'kitaip', 'nei', 'tai', 'darėme', 'iki', 'šiol']\n"
     ]
    }
   ],
   "source": [
    "a = \"Nuo kitų metų pensijai kaupsime kitaip nei tai darėme iki šiol\"\n",
    "print(a.split())\n",
    "words = [\"zodis\", \"zodis1\"]\n",
    "# data['text'].apply(lambda x: \" \".join([stemmer.stem(i) for i in re.sub(\"[^a-zA-Z]\", \" \", x).split() if i not in words]).lower())"
   ]
  },
  {
   "cell_type": "markdown",
   "metadata": {},
   "source": [
    "###### Užduotis: sukurti vardų, pavardžių ir amžiaus list'us (pvz. po 5) ir jų duomenis įrašyti į failą taip:\n",
    "Vardai - Jonas ir taip toliau, gali būti per kablelį \n",
    "\n",
    "Pavardė - Jonaitis ir taip toliau, gali būti per kablelį \n",
    "\n",
    "Amžius - 35 ir taip toliau, gali būti per kablelį"
   ]
  },
  {
   "cell_type": "code",
   "execution_count": 10,
   "metadata": {},
   "outputs": [],
   "source": [
    "vardai = [\"Jonas\", \"Petras\", \"Jane\", \"Titas\", \"Antanas\"]\n",
    "pavardes = [\"Jonaitis\", \"Petraitis\", \"Janaite\", \"Titenis\", \"Antanaitis\"]\n",
    "amzius = [35, 56, 45, 12, 45]\n",
    "\n",
    "with open(\"file.txt\", \"w\") as f:\n",
    "    for i in [\"Vardas\", \"Pavardes\", \"Amziai\", \"Gatve\"]:\n",
    "        if i == \"Vardas\":\n",
    "            f.write(f\"{i} - \" + \", \".join(vardai) + \"\\n\")\n",
    "        elif i == \"Pavardes\":\n",
    "            f.write(f\"{i} - \" + \", \".join(pavardes) + \"\\n\")\n",
    "        else:\n",
    "            f.write(f\"{i} - \" + \", \".join(str(x) for x in amzius) + \"\\n\")"
   ]
  },
  {
   "cell_type": "markdown",
   "metadata": {},
   "source": [
    "## Miscellaneous"
   ]
  },
  {
   "cell_type": "markdown",
   "metadata": {},
   "source": [
    "### requirements.txt\n",
    "\n",
    "https://medium.com/python-pandemonium/better-python-dependency-and-package-management-b5d8ea29dff1\n",
    "\n",
    "BŪTINAI: conda install beautiful-soup pandas numpy requests\n"
   ]
  },
  {
   "cell_type": "code",
   "execution_count": 1,
   "metadata": {},
   "outputs": [],
   "source": [
    "import pandas as pd\n",
    "import numpy as np\n",
    "from bs4 import BeautifulSoup as bs\n",
    "import requests"
   ]
  },
  {
   "cell_type": "markdown",
   "metadata": {},
   "source": [
    "##### Naudojama norint išsaugoti naudojamus packages, kad būtų galima pvz. instaliuoti kituose kompiuterius, kai reikiami packages nėra instaliuoti \n",
    "pip freeze > requirements.txt - išsaugojami visi instaliuoti package'ai\n",
    "\n",
    "pip install -r requirements.txt - \n",
    "\n",
    "Anaconda sukūrimas ir instaliavimas šiek tiek skiriasi"
   ]
  },
  {
   "cell_type": "markdown",
   "metadata": {},
   "source": [
    "##### Užduotis: sukurti naują env, instaliuoti pasirinktus 5 package iš čia https://anaconda.org/anaconda/repo ir sukurti requarements.txt failą"
   ]
  },
  {
   "cell_type": "markdown",
   "metadata": {},
   "source": [
    "###  Generators ir Yield\n",
    "\n",
    "https://www.programiz.com/python-programming/generator"
   ]
  },
  {
   "cell_type": "code",
   "execution_count": 5,
   "metadata": {
    "scrolled": true
   },
   "outputs": [
    {
     "data": {
      "text/plain": [
       "<generator object <genexpr> at 0x0000028F231314C0>"
      ]
     },
     "execution_count": 5,
     "metadata": {},
     "output_type": "execute_result"
    }
   ],
   "source": [
    "# naudojama, kai reikia spręsti memory problemas, nes veikia kaip iterator,\n",
    "# bet prisimena tik vieną kartą t.y yra generator,\n",
    "# norint daugiau kartų reikia iš naujo pvz. sukurti kintamąjų \n",
    "# (pvz. jupyter'yje run iš naujo cell)\n",
    "a = (x * 2 for x in range(0, 10)) # kiap tuple comprehension'as\n",
    "a"
   ]
  },
  {
   "cell_type": "code",
   "execution_count": 3,
   "metadata": {},
   "outputs": [
    {
     "name": "stdout",
     "output_type": "stream",
     "text": [
      "0\n",
      "2\n",
      "4\n",
      "6\n",
      "8\n",
      "10\n",
      "12\n",
      "14\n",
      "16\n",
      "18\n"
     ]
    }
   ],
   "source": [
    "for i in a:\n",
    "    print(i)"
   ]
  },
  {
   "cell_type": "code",
   "execution_count": 6,
   "metadata": {},
   "outputs": [
    {
     "name": "stdout",
     "output_type": "stream",
     "text": [
      "0\n",
      "2\n",
      "4\n",
      "6\n",
      "8\n",
      "10\n",
      "12\n",
      "14\n",
      "16\n",
      "18\n"
     ]
    }
   ],
   "source": [
    "# bet paleidę vėl daugiau neprinti'ina\n",
    "for i in a:\n",
    "    print(i)\n",
    "# todėl, kad per pirmą for loop'ą visos reikšmės buvo parodytos ir \"pamirštos\""
   ]
  },
  {
   "cell_type": "code",
   "execution_count": 8,
   "metadata": {},
   "outputs": [
    {
     "name": "stdout",
     "output_type": "stream",
     "text": [
      "0\n",
      "2\n",
      "4\n",
      "6\n",
      "8\n",
      "10\n",
      "12\n",
      "14\n",
      "16\n",
      "18\n"
     ]
    }
   ],
   "source": [
    "# Yield pakaitalas \"return\", kai norime kad funckija darytų tą patį ir kai ta funkcija turi daryti sudėtingesnius\n",
    "# skaičiavimus, kurių negalima sutalpinti\n",
    "def daug(riba):\n",
    "    for i in range(riba):\n",
    "        yield i * 2\n",
    "\n",
    "a = daug(10)\n",
    "\n",
    "for i in a:\n",
    "     print(i)"
   ]
  },
  {
   "cell_type": "code",
   "execution_count": 9,
   "metadata": {},
   "outputs": [],
   "source": [
    "# jei vėl paleidžiam, nieko\n",
    "for i in a:\n",
    "     print(i)"
   ]
  },
  {
   "cell_type": "code",
   "execution_count": 11,
   "metadata": {},
   "outputs": [
    {
     "name": "stdout",
     "output_type": "stream",
     "text": [
      "0.0\n",
      "2.6666666666666665\n",
      "5.333333333333333\n",
      "8.0\n",
      "10.666666666666666\n",
      "13.333333333333332\n",
      "16.0\n",
      "18.666666666666668\n",
      "21.333333333333332\n",
      "24.0\n"
     ]
    }
   ],
   "source": [
    "# sudėtingesni skaičiavimai su funkcija\n",
    "# (x * 2 for x in range(0, 10)\n",
    "\n",
    "def daug(riba):\n",
    "    a = 15\n",
    "    b = 20\n",
    "    for i in range(riba):\n",
    "        c = (i / a) * b\n",
    "        yield c * 2\n",
    "\n",
    "e = daug(10)\n",
    "\n",
    "for i in e:\n",
    "     print(i)"
   ]
  },
  {
   "cell_type": "code",
   "execution_count": 13,
   "metadata": {},
   "outputs": [],
   "source": [
    "for i in e:\n",
    "     print(i)"
   ]
  },
  {
   "cell_type": "markdown",
   "metadata": {},
   "source": [
    "###  Closures\n",
    "https://www.programiz.com/python-programming/closure"
   ]
  },
  {
   "cell_type": "code",
   "execution_count": 254,
   "metadata": {},
   "outputs": [
    {
     "name": "stdout",
     "output_type": "stream",
     "text": [
      "Hello\n"
     ]
    }
   ],
   "source": [
    "# dažniausiai naudojama sprendžiant global'ių kintamųjų problema ir dirbant su klasėmis\n",
    "a = 5\n",
    "\n",
    "def print_msg(msg):\n",
    "# This is the outer enclosing function\n",
    "\n",
    "    def printer():\n",
    "# This is the nested function\n",
    "        print(msg)\n",
    "\n",
    "    printer()\n",
    "\n",
    "print_msg(\"Hello\")"
   ]
  },
  {
   "cell_type": "code",
   "execution_count": 16,
   "metadata": {},
   "outputs": [
    {
     "data": {
      "text/plain": [
       "<function __main__.print_msg.<locals>.printer()>"
      ]
     },
     "execution_count": 16,
     "metadata": {},
     "output_type": "execute_result"
    }
   ],
   "source": [
    "def print_msg(msg):\n",
    "# This is the outer enclosing function\n",
    "\n",
    "    def printer():\n",
    "# This is the nested function\n",
    "        print(msg)\n",
    "\n",
    "    return printer  # this got changed\n",
    "# print_msg(\"Hello\")\n",
    "another = print_msg(\"Hello\")\n",
    "another"
   ]
  },
  {
   "cell_type": "code",
   "execution_count": 17,
   "metadata": {},
   "outputs": [
    {
     "name": "stdout",
     "output_type": "stream",
     "text": [
      "Hello\n"
     ]
    }
   ],
   "source": [
    "another()"
   ]
  },
  {
   "cell_type": "code",
   "execution_count": 18,
   "metadata": {},
   "outputs": [
    {
     "name": "stdout",
     "output_type": "stream",
     "text": [
      "27\n",
      "15\n",
      "30\n"
     ]
    }
   ],
   "source": [
    "def make_multiplier_of(n):\n",
    "    def multiplier(x):\n",
    "        return x * n\n",
    "    return multiplier\n",
    "\n",
    "# Multiplier of 3\n",
    "times3 = make_multiplier_of(3)\n",
    "\n",
    "# Multiplier of 5\n",
    "times5 = make_multiplier_of(5)\n",
    "\n",
    "# Output: 27\n",
    "print(times3(9))\n",
    "\n",
    "# Output: 15\n",
    "print(times5(3))\n",
    "\n",
    "# Output: 30\n",
    "print(times5(times3(2)))"
   ]
  },
  {
   "cell_type": "markdown",
   "metadata": {},
   "source": [
    "### 8 diena"
   ]
  },
  {
   "cell_type": "markdown",
   "metadata": {},
   "source": [
    "## Webscraping"
   ]
  },
  {
   "cell_type": "code",
   "execution_count": null,
   "metadata": {},
   "outputs": [],
   "source": [
    "# Pabandyti conda install pandas, numpy, beautiful-soup4, requests"
   ]
  },
  {
   "cell_type": "code",
   "execution_count": 54,
   "metadata": {
    "collapsed": true
   },
   "outputs": [
    {
     "data": {
      "text/plain": [
       "<!DOCTYPE doctype html>\n",
       "\n",
       "<html>\n",
       "<head>\n",
       "<meta content=\"width=device-width, initial-scale=1, maximum-scale=1, user-scalable=no\" name=\"viewport\"/>\n",
       "<link href=\"https://www.alio.lt/favicon.ico\" rel=\"shortcut icon\" type=\"image/x-icon\"/>\n",
       "<meta content=\"text/html; charset=utf-8\" http-equiv=\"Content-Type\"/>\n",
       "<meta content=\"telephone=no\" name=\"format-detection\"/>\n",
       "<script>\n",
       "    var isNB = true;\n",
       "    var dataLayer = [];\n",
       "    var win_iw = window.innerWidth;\n",
       "\n",
       "\n",
       "    function ga_track(param1, param2, param3, param4)\n",
       "    {\n",
       "        if(typeof param4 == \"undefined\")\n",
       "        {\n",
       "            param4 = false;\n",
       "        }\n",
       "\n",
       "        if(typeof param3 == \"undefined\")\n",
       "        {\n",
       "            param3 = 1;\n",
       "        }\n",
       "\n",
       "        if(typeof param2 == \"undefined\")\n",
       "        {\n",
       "            param2 = \"action\";\n",
       "        }\n",
       "\n",
       "        if(typeof param1 == \"undefined\")\n",
       "        {\n",
       "            param1 = \"category\";\n",
       "        }\n",
       "\n",
       "        if(param4)\n",
       "        {\n",
       "            dataLayer.push({\n",
       "                'event':'GAevent',\n",
       "                'eventCategory': param1,\n",
       "                'eventAction': param2,\n",
       "                'eventLabel': param3,\n",
       "                'eventInteraction': 'true'\n",
       "            });\n",
       "        }\n",
       "        else\n",
       "            dataLayer.push({\n",
       "                'event':'GAevent',\n",
       "                'eventCategory': param1,\n",
       "                'eventAction': param2,\n",
       "                'eventLabel': param3,\n",
       "                'eventInteraction': 'false'\n",
       "            });\n",
       "    }\n",
       "\n",
       "    </script>\n",
       "<meta content=\"Parduoda butą skelbimai | Alio.lt\" name=\"cXenseParse:title\"/>\n",
       "<title>Parduoda butą skelbimai | Alio.lt</title>\n",
       "<meta content=\"Parduoda butą skelbimai | Alio.lt\" property=\"og:title\"/>\n",
       "<meta content=\"Parduoda butą skelbimai. pigiai parduodami butai su nuotraukomis. \" name=\"cXenseParse:description\"/>\n",
       "<meta content=\"Parduoda butą skelbimai. pigiai parduodami butai su nuotraukomis.\" property=\"og:description\"/>\n",
       "<meta content=\"Parduoda butą skelbimai. pigiai parduodami butai su nuotraukomis.\" name=\"description\"/>\n",
       "<meta content=\"Buta, butai, butus, 1 k.b., 2 k.b., 3 k.b., pigus, nebrangus, geri, naujos, statybos, irengtas, butas, parduoda, parduodu, parduodame, parduodu butą, parduodu butą\" name=\"cXenseParse:keywords\"/>\n",
       "<meta content=\"Buta, butai, butus, 1 k.b., 2 k.b., 3 k.b., pigus, nebrangus, geri, naujos, statybos, irengtas, butas, parduoda, parduodu, parduodame, parduodu butą, parduodu butą\" name=\"keywords\"/>\n",
       "<meta content=\"https://g3.acdn.lt/img/alio_og.png\" itemprop=\"image\"/>\n",
       "<meta content=\"https://g3.acdn.lt/img/alio_og.png\" property=\"og:image\"/>\n",
       "<meta content=\"1200\" property=\"og:image:width\"/>\n",
       "<meta content=\"607\" property=\"og:image:height\"/>\n",
       "<meta content=\"index\" name=\"robots\"/>\n",
       "<meta content=\"https://www.alio.lt/nekilnojamas-turtas/butai/parduoda.html\" name=\"cXenseParse:url\"/>\n",
       "<meta content=\"https://www.alio.lt/nekilnojamas-turtas/butai/parduoda.html\" property=\"og:url\"/>\n",
       "<link href=\"https://www.alio.lt/nekilnojamas-turtas/butai/parduoda.html\" rel=\"canonical\"/>\n",
       "<link href=\"https://www.alio.lt/nekilnojamas-turtas/butai/parduoda.html?page=2\" rel=\"next\"/>\n",
       "<meta content=\"214706988697457\" property=\"fb:app_id\"/>\n",
       "<script src=\"https://g1.acdn.lt/js/jquery-1.12.0.min.js\"></script> <meta content=\"categories\" name=\"cXenseParse:pageclass\"/>\n",
       "<link href=\"https://g1.acdn.lt/css/css.php?2546504652\" rel=\"stylesheet\" type=\"text/css\"/>\n",
       "<script src=\"https://g4.acdn.lt/js/jscategory.php?27715524381\" type=\"text/javascript\"></script>\n",
       "<link href=\"https://www.alio.lt/pub/css/font-awesome-pro.css\" rel=\"stylesheet\" type=\"text/css\"/>\n",
       "<link href=\"https://www.alio.lt/pub/css/v4-shims.css\" rel=\"stylesheet\" type=\"text/css\"/>\n",
       "<link href=\"https://g2.acdn.lt/css/mincss.php?f=mini.subscribeB.css,mini.search.css,mini.categorysavedsearches.css&amp;v=3658065819\" rel=\"stylesheet\" type=\"text/css\"/>\n",
       "<link href=\"https://g1.acdn.lt\" rel=\"dns-prefetch\"/>\n",
       "<link href=\"https://g2.acdn.lt\" rel=\"dns-prefetch\"/>\n",
       "<link href=\"https://g3.acdn.lt\" rel=\"dns-prefetch\"/>\n",
       "<link href=\"https://g4.acdn.lt\" rel=\"dns-prefetch\"/>\n",
       "<!--NDADS--><!--ATcategory-->\n",
       "<script id=\"ibbTagEngine\" src=\"https://keytarget.adnet.lt/stable/keytarget.min.js?id=alio_lt\"></script>\n",
       "<script type=\"text/javascript\">\n",
       "\n",
       "      window.adnet = window.adnet || [];\n",
       "var objTL = [];\n",
       "\n",
       "$(document).ready(function()\n",
       "{\n",
       "    if(!$(\"#blocker_checker\").is(\":visible\"))\n",
       "    {\n",
       "        ga_track('Adblocker', 'on', \"1\", true);\n",
       "        isNB = false;\n",
       "    }\n",
       "    else\n",
       "    {\n",
       "        ga_track('Adblocker', 'off', \"1\", true);\n",
       "    }\n",
       "\n",
       "    if($(\"#blocker_checker\").is(\":visible\"))\n",
       "    {\n",
       "        if(typeof win_iw != \"undefined\" && win_iw > 1069){\n",
       "            this_url = window.location.href;\n",
       "            var adnet_category = 'adnetAds';\n",
       "            var adnet_action = 'other';\n",
       "            var adnet_label = '1';\n",
       "\n",
       "                            adnet_action = 'category';\n",
       "                adnet_label = 'nekilnojamas-turtas/butai/parduoda';\n",
       "                        if(this_url.match('paieska')){\n",
       "                adnet_action = 'search';\n",
       "                adnet_label = '1';\n",
       "            }\n",
       "            ga_track(adnet_category,adnet_action,adnet_label, true);\n",
       "        }\n",
       "\n",
       "\n",
       "\n",
       "  window.adnet.push(['_attachData', 'advertise', '0']);  window.adnet.push(['_attachData', 'category_uri', 'nekilnojamas-turtas/butai/parduoda']);  \n",
       "\n",
       "\n",
       "\n",
       "  \n",
       "\n",
       "\n",
       "        \n",
       "        function loadSlot(type)\n",
       "        {\n",
       "             if(type == 'DA05_728x250_1') window.adnet.push(['DA05_728x250_1', '20987.6.4.1']); if(type == 'DA06_728x250_2') window.adnet.push(['DA06_728x250_2', '20987.6.5.1']); if(type == 'DA06_300x250_1') window.adnet.push(['DA06_300x250_1', '20987.6.10.3']); if(type == 'DA06_300x250_2') window.adnet.push(['DA06_300x250_2', '20987.6.11.3']); if(type == 'DA18_Mobile_300x250_1') window.adnet.push(['DA18_Mobile_300x250_1', '20987.6.4.3']); if(type == 'DA19_Mobile_300x250_2') window.adnet.push(['DA19_Mobile_300x250_2', '20987.6.5.3']); if(type == 'DA20_Mobile_300x250_3') window.adnet.push(['DA20_Mobile_300x250_3', '20987.6.6.3']); if(type == 'DA21_Mobile_300x250_4') window.adnet.push(['DA21_Mobile_300x250_4', '20987.6.21.3']); if(type == 'DA_Mobile_Tracker') window.adnet.push(['DA_Mobile_Tracker', '20987.22.1.2']); if(type == 'DA_Desktop_Tracker') window.adnet.push(['DA_Desktop_Tracker', '20987.22.2.2']); if(type == 'DA00_Pixel') window.adnet.push(['DA00_Pixel', '20987.6.2.2']); if(type == 'DA22_Mobile_Pixel') window.adnet.push(['DA22_Mobile_Pixel', '20987.6.22.2']); if(type == 'DA01_1050x200') window.adnet.push(['DA01_1050x200', '20987.6.2.1']); if(type == 'DA02_1050x200_Bottom') window.adnet.push(['DA02_1050x200_Bottom', '20987.6.3.1']); if(type == 'DA09_300x150_1') window.adnet.push(['DA09_300x150_1', '20987.20.1.3']); if(type == 'DA10_300x150_2') window.adnet.push(['DA10_300x150_2', '20987.20.2.3']); if(type == 'DA11_300x150_3') window.adnet.push(['DA11_300x150_3', '20987.20.3.3']); if(type == 'DA12_300x150_4') window.adnet.push(['DA12_300x150_4', '20987.20.4.3']); if(type == 'DA13_300x600_5') window.adnet.push(['DA13_300x600_5', '20987.6.2.3']); if(type == 'DA14_300x600_6') window.adnet.push(['DA14_300x600_6', '20987.6.3.3']); if(type == 'DA15_300x600_7') window.adnet.push(['DA15_300x600_7', '20987.20.7.3']); if(type == 'DA16_300x600_8') window.adnet.push(['DA16_300x600_8', '20987.20.8.3']); if(type == 'DA17_300x600_9') window.adnet.push(['DA17_300x600_9', '20987.20.9.3']);\n",
       "            if(type == 'DA18_300x600_10') window.adnet.push(['DA18_300x600_10', '20987.20.10.3']);\n",
       "            if(type == 'DA19_300x600_11') window.adnet.push(['DA19_300x600_11', '20987.20.11.3']);\n",
       "            if(type == 'DA20_300x250_12') window.adnet.push(['DA20_300x250_12', '20987.20.12.3']);\n",
       "            if(type == 'DA21_300x250_13') window.adnet.push(['DA21_300x250_13', '20987.20.27.3']);\n",
       "            if(type == 'DA_HERO') window.adnet.push(['DA_HERO', '20987.20.8.1']);\n",
       "        }\n",
       "\n",
       "\n",
       "    \n",
       "    }\n",
       "    else\n",
       "    {\n",
       "        function loadSlot(type){\n",
       "            return false;\n",
       "        }\n",
       "    }\n",
       "\n",
       "\n",
       "    function showSlot(id)\n",
       "    {\n",
       "        //window.Adntmedia.KeyTarget.HeaderBidder.requestBanners(id);\n",
       "        window.adnet.push(['_drawHeaderBidderBanners', id]);\n",
       "    }\n",
       "\n",
       "    function triggerLoadTimer(id)\n",
       "    {\n",
       "        showSlot(id);\n",
       "    }\n",
       "\n",
       "    function triggerObjTL()\n",
       "    {\n",
       "        if(objTL.length > 0)\n",
       "        {\n",
       "            var content_ih;\n",
       "            var show_ih;\n",
       "            var current_ih;\n",
       "            var diff_ih;\n",
       "            var slot_id;\n",
       "\n",
       "            if (typeof advertiseicon_ad_id != \"undefined\") {\n",
       "                content_ih = $(\"#vertise_main_data_b\").height();\n",
       "                current_ih = $(\"#vertise_banners_placer_b\").height();\n",
       "            }\n",
       "            else {\n",
       "                content_ih = $(\"#main_left_b\").height();\n",
       "                current_ih = $(\"#main_right_b\").height();\n",
       "            }\n",
       "\n",
       "            var increamentK = 1;\n",
       "            var timeoutV = 750;\n",
       "\n",
       "            $.each(objTL, function(key, value)\n",
       "                {\n",
       "\n",
       "\n",
       "\n",
       "                    if(value['check_height'] > 0)\n",
       "                    {\n",
       "                        if (typeof advertiseicon_ad_id != \"undefined\") {\n",
       "\n",
       "                            diff_ih = content_ih - current_ih + 100;\n",
       "                            show_ih = value['check_height'];\n",
       "\n",
       "                            if (show_ih < diff_ih) {\n",
       "                                loadSlot(value['id']);\n",
       "\n",
       "                                setTimeout(function()\n",
       "                                {\n",
       "                                    triggerLoadTimer(value['id']);\n",
       "                                }, timeoutV * increamentK);\n",
       "                                increamentK++;\n",
       "\n",
       "                                $(\"#\" + value['id']).removeClass(\"check_height\");\n",
       "                                current_ih += parseFloat(show_ih) + 10;\n",
       "                            }\n",
       "                        }\n",
       "                        else {\n",
       "\n",
       "                            diff_ih = content_ih - current_ih + 100;\n",
       "                            show_ih = value['check_height'];\n",
       "\n",
       "                            if (show_ih < diff_ih) {\n",
       "                                loadSlot(value['id']);\n",
       "\n",
       "                                setTimeout(function()\n",
       "                                {\n",
       "                                    triggerLoadTimer(value['id']);\n",
       "                                }, timeoutV * increamentK);\n",
       "                                increamentK++;\n",
       "\n",
       "                                $(\"#\" + value['id']).removeClass(\"check_height\");\n",
       "                                current_ih += parseFloat(show_ih) + 10;\n",
       "                            }\n",
       "                        }\n",
       "                    }\n",
       "                    else\n",
       "                    {\n",
       "\n",
       "                        setTimeout(function()\n",
       "                        {\n",
       "                            triggerLoadTimer(value['id']);\n",
       "                        }, timeoutV * increamentK);\n",
       "                        increamentK++;\n",
       "\n",
       "                    }\n",
       "                }\n",
       "            );\n",
       "        }\n",
       "    }\n",
       "\n",
       "    if(isNB)\n",
       "    {\n",
       "        var objd;\n",
       "        var objtrackClass = \"shamob\";\n",
       "        if(typeof win_iw != \"undefined\" && win_iw > 1069)\n",
       "        {\n",
       "            objtrackClass = \"shadesc\";\n",
       "        }\n",
       "\n",
       "        $(\".\" + objtrackClass).each(function() {\n",
       "            objd = [];\n",
       "            objd['id'] = $(this).attr(\"id\");\n",
       "            if($(this).hasClass(\"check_height\"))\n",
       "            {\n",
       "                objd['check_height'] = $(this).attr(\"data-minheight\");\n",
       "            }\n",
       "            else\n",
       "            {\n",
       "                loadSlot(objd['id']);\n",
       "            }\n",
       "\n",
       "            if($(this).hasClass(\"shadelay\"))\n",
       "            {\n",
       "                objTL.push(objd);\n",
       "            }\n",
       "        });\n",
       "\n",
       "        triggerObjTL();\n",
       "    }\n",
       "\n",
       "\n",
       "    window.adnet.push(['_initialize']);\n",
       "\n",
       "    });\n",
       "\n",
       "\n",
       "\n",
       "  </script>\n",
       "</head>\n",
       "<body id=\"body\">\n",
       "<noscript><iframe height=\"0\" src=\"https://www.googletagmanager.com/ns.html?id=GTM-TPJKGCL\" style=\"display:none;visibility:hidden\" width=\"0\"></iframe></noscript>\n",
       "<div id=\"wallpaper\"></div>\n",
       "<div id=\"delfi-container-wrapper\">\n",
       "<div id=\"main-content-header\">\n",
       "<div id=\"banner-top\">\n",
       "<div class=\"a1200x250 shadesc\" id=\"DA01_1050x200\"></div>\n",
       "</div>\n",
       "<div id=\"topMenu_bg_h\"></div>\n",
       "<div id=\"header_m_menu\">\n",
       "<input id=\"mobmenu\" type=\"checkbox\"/>\n",
       "<div id=\"header_m_menu_c\">\n",
       "<div id=\"logo_mob_b\">\n",
       "<a href=\"https://www.alio.lt/\" id=\"logo_mob_placement_b\" title=\"Nemokami skelbimai\">\n",
       "<img alt=\"Alio.lt nemokami skelbimai\" height=\"45\" src=\"https://g4.acdn.lt/img/svg/logo.svg\" width=\"125\"/>\n",
       "</a>\n",
       "</div>\n",
       "<div class=\"noanim\" id=\"mobmenu_h_b\">\n",
       "<span></span>\n",
       "<span></span>\n",
       "<span></span>\n",
       "<span></span>\n",
       "</div>\n",
       "<a href=\"https://www.alio.lt/patike_skelbimai.html\" id=\"fav_mb_m_b\">\n",
       "<span></span>\n",
       "<i></i>\n",
       "</a>\n",
       "<a class=\"eventView showmobile\" data-creation=\"+ Dėti\" data-id=\"header_line_b\" data-name=\"Ideti skelbima mygtukas\" data-pos=\"mobile header\" href=\"https://www.alio.lt/pasirinkite_kategorija.html?id=1373\" id=\"addnew_mb_m_b\"><span>+</span>Dėti</a>\n",
       "<div class=\"clr\"></div>\n",
       "</div>\n",
       "<div id=\"logo_n_placement_b\">\n",
       "<a href=\"https://www.alio.lt/\" id=\"logo_n_placement\" title=\"Nemokami skelbimai\">\n",
       "<img alt=\"Alio.lt nemokami skelbimai\" height=\"69\" src=\"https://g4.acdn.lt/img/svg/logo.svg\" width=\"203\"/>\n",
       "</a>\n",
       "</div>\n",
       "<div id=\"header_r_side_b\">\n",
       "<div id=\"header_m_menu_b\">\n",
       "<div id=\"topMenu\">\n",
       "<div class=\"mobilehide\" id=\"city_menu\"> </div><ul class=\"user_menu_small logged\" id=\"user_menu_type\"><li class=\"showmobile\"><a class=\"eventView\" data-creation=\"Įdėti skelbimą\" data-id=\"header_line_a\" data-name=\"Virsutinis meniu\" data-pos=\"1\" href=\"https://www.alio.lt/pasirinkite_kategorija.html\" rel=\"nofollow\">Įdėti skelbimą</a></li><li id=\"edita_b_i\"><a class=\"first eventView\" data-creation=\"Redaguoti skelbimą\" data-id=\"header_line_a\" data-name=\"Virsutinis meniu\" data-pos=\"2\" href=\"https://www.alio.lt/redaguoti_skelbimai.html\" rel=\"nofollow\">Redaguoti skelbimą</a></li><li id=\"login_b_i\"><a class=\"eventView\" data-creation=\"Prisijunk\" data-id=\"header_line_a\" data-name=\"Virsutinis meniu\" data-pos=\"3\" href=\"https://www.alio.lt/prisijungimas.html\" rel=\"nofollow\">Prisijunk</a></li><li id=\"register_b_i\"><a class=\"eventView\" data-creation=\"Užsiregistruok\" data-id=\"header_line_a\" data-name=\"Virsutinis meniu\" data-pos=\"4\" href=\"https://www.alio.lt/registracija.html\" rel=\"nofollow\">Užsiregistruok</a></li><li id=\"fav_b_i\"><a class=\"eventView\" data-creation=\"Pažymėti\" data-id=\"header_line_a\" data-name=\"Virsutinis meniu\" data-pos=\"5\" href=\"https://www.alio.lt/patike_skelbimai.html\" rel=\"nofollow\">Pažymėti <span class=\"highlight\" id=\"favoritesCount_b\">(0)</span></a></li><li id=\"savs_b_i\"><a class=\"eventView\" data-creation=\"Išsaugotų paieškų\" data-id=\"header_line_a\" data-name=\"Virsutinis meniu\" data-pos=\"6\" href=\"https://www.alio.lt/public/savedsearches/savedSearchesList.html\" rel=\"nofollow\">Išsaugotų paieškų <span class=\"highlight\">(0)</span></a></li></ul><div class=\"clr\"></div></div> <div class=\"clr\"></div>\n",
       "</div>\n",
       "<div id=\"header_line_b\">\n",
       "<div class=\"loadHelperClass\" id=\"header_ms_b\">\n",
       "<form action=\"https://www.alio.lt/paieska/\" id=\"ts_form\" method=\"get\">\n",
       "<div id=\"search_mh_b\"><div id=\"ts_query_b_b\"><div id=\"ts_query_b\"><i id=\"search_icon\"></i><input class=\"text eventView\" data-creation=\"Tekstas\" data-id=\"header_line_b\" data-name=\"Paieskos blokas\" data-pos=\"1\" id=\"ts_query\" name=\"ts_query\" placeholder=\"Ieškokite tarp 284 977 skelbimų\" type=\"search\" value=\"\"><i id=\"ts_delete_icon\"></i></input></div></div><button class=\"button_n eventView\" data-creation=\"Submit\" data-id=\"header_line_b\" data-name=\"Paieskos blokas\" data-pos=\"4\" id=\"ts_submit_b\" type=\"submit\"><i></i></button> <div id=\"ts_city_b\"> <div class=\"eventView\" data-creation=\"Miestas\" data-id=\"header_line_b\" data-name=\"Paieskos blokas\" data-pos=\"2_desktop\" id=\"ts_city_selector\"> <span>Visi miestai</span> <i class=\"city_delete_icon fa\"></i> </div> <div class=\"eventView\" data-creation=\"Miestas\" data-id=\"header_line_b\" data-link=\"https://www.alio.lt/public/textSearch/searchFilterCity.html?category_id=1373&amp;city_id=1\" data-name=\"Paieskos blokas\" data-pos=\"2_mobile\" id=\"ts_city_selector_m\"> <span>Visi miestai</span> <i class=\"city_delete_icon fa\"></i> </div> <div data-link=\"https://www.alio.lt/public/index/topCitiesList.html\" id=\"ts_city_list\"> <div id=\"ts_city_list_placer\"> </div> <input id=\"ts_city_input\" name=\"city_id\" type=\"hidden\" value=\"\"/> <input id=\"ts_city_input_path\" type=\"hidden\" value=\"\"/> <div data-link=\"https://www.alio.lt/public/textSearch/setCity.html\" id=\"selecting-city\"></div></div> </div> </div> <div id=\"ts_category_b\"><div class=\"categorySet eventView\" data-creation=\"Kategorija\" data-id=\"header_line_b\" data-name=\"Paieskos blokas\" data-pos=\"1\" id=\"ts_category_selector\"><span>Parduoda</span><i class=\"category_delete_icon fa\"></i></div><div id=\"ts_category_list\"><span class=\"cat_l_b selected selecteds\" data-main-cat-id=\"1353\" data-value=\"1373\">└ Parduoda</span><span class=\"cat_l_b \" data-main-cat-id=\"1353\" data-value=\"1363\">└ Butai</span><span class=\"cat_l_b \" data-main-cat-id=\"1353\" data-value=\"1353\">└ Nekilnojamasis turtas</span><span class=\"cat_l_b cat_l_borderb\" data-value=\"\" id=\"allcats_v\">└ Visi skelbimai</span><span class=\"cat_l_b \" data-main-cat-id=\"593\" data-value=\"593\">Transportas</span><span class=\"cat_l_b \" data-main-cat-id=\"1353\" data-value=\"1353\">Nekilnojamasis turtas</span><span class=\"cat_l_b \" data-main-cat-id=\"1743\" data-value=\"1743\">Statyba, remontas</span><span class=\"cat_l_b \" data-main-cat-id=\"2113\" data-value=\"2113\">Viskas namams</span><span class=\"cat_l_b \" data-main-cat-id=\"2343\" data-value=\"2343\">Telefonai</span><span class=\"cat_l_b \" data-main-cat-id=\"2443\" data-value=\"2443\">Darbas, mokslas</span><span class=\"cat_l_b \" data-main-cat-id=\"2533\" data-value=\"2533\">Technika</span><span class=\"cat_l_b \" data-main-cat-id=\"3003\" data-value=\"3003\">Laisvalaikis</span><span class=\"cat_l_b \" data-main-cat-id=\"3313\" data-value=\"3313\">Drabužiai</span><span class=\"cat_l_b \" data-main-cat-id=\"3423\" data-value=\"3423\">Kompiuterija</span><span class=\"cat_l_b \" data-main-cat-id=\"3633\" data-value=\"3633\">Verslas</span><span class=\"cat_l_b \" data-main-cat-id=\"5033\" data-value=\"5033\">Viskas nemokamai</span><span class=\"cat_l_b \" data-main-cat-id=\"5172\" data-value=\"5172\">Prekės vaikams</span></div> <input id=\"ts_category_input\" name=\"category_id\" type=\"hidden\" value=\"1373\"/><input id=\"ts_category_input_path\" type=\"hidden\" value=\"Nekilnojamasis turtas &gt; Butai &gt; Parduoda\"/></div><div class=\"clr\"></div></form></div><div id=\"search_mh_b_bg\"></div>\n",
       "<div id=\"addnew_mb_b\">\n",
       "<a class=\"eventView\" data-creation=\"+ Įdėti skelbimą\" data-id=\"header_line_b\" data-name=\"Ideti skelbima mygtukas\" data-pos=\"1\" href=\"https://www.alio.lt/pasirinkite_kategorija.html?id=1373\">+ Įdėti skelbimą</a>\n",
       "</div>\n",
       "<div class=\"clr\"></div>\n",
       "<input name=\"top_search\" type=\"hidden\" value=\"1\"/>\n",
       "</div></div></div></div></div></body></html>\n",
       "\n",
       "\n",
       "<div class=\"clr\"></div>\n",
       "\n",
       "<div class=\"clr\"></div>\n",
       "\n",
       "\n",
       "<div id=\"main-content-middle-part\">\n",
       "<div class=\"inner_pad\">\n",
       "<div class=\"contentMiddlePadding showmobile\">\n",
       "<div class=\"fl\" id=\"contentMiddle_mobile_back_b\">\n",
       "<a onclick=\"history.go(-1);\" rel=\"nofollow\">\n",
       "<i class=\"fa\"></i>\n",
       "\t\t\t\t\t\t\tAtgal\n",
       "\t\t\t\t\t\t</a>\n",
       "</div>\n",
       "<div class=\"fl\" id=\"contentMiddle_mobile_h1\">\n",
       "\t\t\t\t\t\tParduoda butą skelbimai\t\t\t\t\t</div>\n",
       "<div class=\"clr\"></div>\n",
       "</div>\n",
       "<div class=\"contentMiddlePadding nopaddingbottom\">\n",
       "<div id=\"advert_path_b_placer\">\n",
       "<div id=\"advert_path_b\">\n",
       "<a class=\"fl path_e\" href=\"https://www.alio.lt/\" title=\"Nemokami skelbimai\">Alio.lt</a>\n",
       "<span class=\"fl path_padder path_e\"></span>\n",
       "<a class=\"fl path_e\" href=\"https://www.alio.lt/nekilnojamas-turtas.html\" title=\"Nekilnojamasis turtas\"><h2>Nekilnojamasis turtas</h2></a>\n",
       "<span class=\"fl path_padder fa path_e\"></span>\n",
       "<a class=\"fl path_e\" href=\"https://www.alio.lt/nekilnojamas-turtas/butai/parduoda.html\" title=\"Parduodami butai\"><h2>Butai</h2></a>\n",
       "<span class=\"fl path_padder fa path_e\"></span>\n",
       "<a class=\"fl path_e\" href=\"https://www.alio.lt/nekilnojamas-turtas/butai/parduoda.html\" title=\"Parduodami butai\"><h2>Parduoda</h2></a>\n",
       "<span class=\"fl neibor_cat_sep\">|</span> <a class=\"fl childLast path_e\" href=\"https://www.alio.lt/nekilnojamas-turtas/butai/perka.html\" title=\"Ieško butus\">Perka</a>\n",
       "<span class=\"fl neibor_cat_sep\">|</span> <a class=\"fl childLast path_e\" href=\"https://www.alio.lt/nekilnojamas-turtas/butai/nuomoja.html\" title=\"Nuomoja butus\">Nuomoja</a>\n",
       "<span class=\"fl neibor_cat_sep\">|</span> <a class=\"fl childLast path_e\" href=\"https://www.alio.lt/nekilnojamas-turtas/butai/issinuomoja.html\" title=\"Išsinuomotų butus\">Ieško nuomai</a>\n",
       "<div class=\"clr\"></div>\n",
       "</div>\n",
       "</div>\n",
       "<script type=\"text/javascript\">\n",
       "    if(window.innerWidth < 920){\n",
       "        if( $('#advert_path_b_placer').length > 0 ) {\n",
       "            const ps = new PerfectScrollbar('#advert_path_b_placer', {\n",
       "                wheelSpeed: 2,\n",
       "                wheelPropagation: true,\n",
       "                minScrollbarLength: 20,\n",
       "            });\n",
       "        }\n",
       "    }\n",
       "</script>\n",
       "<style>\n",
       "\n",
       "\n",
       "@media all and (max-width: 690px)\n",
       "{\n",
       "  #advert_path_b_placer\n",
       "  {\n",
       "    position: relative;\n",
       "    height: 20px;\n",
       "    overflow: hidden;\n",
       "    padding-bottom: 15px;\n",
       "  }\n",
       "\n",
       "  #advert_path_b\n",
       "  {\n",
       "    position: absolute;\n",
       "    top: 0px;\n",
       "    padding-bottom: 0px;\n",
       "  }\n",
       "\n",
       "  #advert_path_b\n",
       "  {\n",
       "    overflow: hidden;\n",
       "    white-space: nowrap;\n",
       "    text-align: right;\n",
       "  }\n",
       "\n",
       "  #advert_path_b .path_e\n",
       "  {\n",
       "    float: none;\n",
       "    display: inline-block;\n",
       "  }\n",
       "\n",
       "  #advert_path_b .neibor_cat_sep\n",
       "  {\n",
       "    float: none;\n",
       "    display: inline-block;\n",
       "  }\n",
       "\n",
       "}\n",
       "\n",
       "\n",
       "</style>\n",
       "<div id=\"bottomCategories\">\n",
       "<div id=\"bottom_search_inner_l_b\">\n",
       "<div class=\"col\">\n",
       "<div class=\"fl search_inner_h_b \">\n",
       "<a href=\"https://www.alio.lt/nekilnojamas-turtas/butai/parduoda/kaune.html\" title=\"Parduodami butai Kaune\">Kaune</a>\n",
       "<span>480</span>\n",
       "</div>\n",
       "<div class=\"fl search_inner_h_b \">\n",
       "<a href=\"https://www.alio.lt/nekilnojamas-turtas/butai/parduoda/klaipedoje.html\" title=\"Parduodami butai Klaipėdoje\">Klaipėdoje</a>\n",
       "<span>5450</span>\n",
       "</div>\n",
       "<div class=\"clr\"></div>\n",
       "</div>\n",
       "<div class=\"col\">\n",
       "<div class=\"fl search_inner_h_b \">\n",
       "<a href=\"https://www.alio.lt/nekilnojamas-turtas/butai/parduoda/palangoje.html\" title=\"Parduodami butai Palangoje\">Palangoje</a>\n",
       "<span>711</span>\n",
       "</div>\n",
       "<div class=\"fl search_inner_h_b \">\n",
       "<a href=\"https://www.alio.lt/nekilnojamas-turtas/butai/parduoda/vilniuje.html\" title=\"Parduodami butai Vilniuje\">Vilniuje</a>\n",
       "<span>2344</span>\n",
       "</div>\n",
       "<div class=\"clr\"></div>\n",
       "</div>\n",
       "<div class=\"col\">\n",
       "<div class=\"fl search_inner_h_b \">\n",
       "<a href=\"https://www.alio.lt/nekilnojamas-turtas/butai/parduoda/alytuje.html\" title=\"Parduodami butai Alytuje\">Alytuje</a>\n",
       "<span>123</span>\n",
       "</div>\n",
       "<div class=\"fl search_inner_h_b \">\n",
       "<a href=\"https://www.alio.lt/nekilnojamas-turtas/butai/parduoda/panevezyje.html\" title=\"Parduodami butai Panevėžyje\">Panevėžyje</a>\n",
       "<span>211</span>\n",
       "</div>\n",
       "<div class=\"clr\"></div>\n",
       "</div>\n",
       "<div class=\"col\">\n",
       "<div class=\"fl search_inner_h_b \">\n",
       "<a href=\"https://www.alio.lt/nekilnojamas-turtas/butai/parduoda/siauliuose.html\" title=\"Parduodami butai Šiauliuose\">Šiauliuose</a>\n",
       "<span>288</span>\n",
       "</div>\n",
       "<div class=\"clr\"></div>\n",
       "</div>\n",
       "<div class=\"clr\"></div>\n",
       "</div>\n",
       "</div>\n",
       "<form action=\"https://www.alio.lt/paieska/\" class=\"form v3_search_form\" id=\"search_form\" method=\"get\">\n",
       "<input id=\"ts_query_form_input\" name=\"ts_query\" type=\"hidden\" value=\"\"/>\n",
       "<input name=\"category_id\" type=\"hidden\" value=\"1373\"/>\n",
       "<input id=\"advanced_filter_v\" name=\"advanced_filter\" type=\"hidden\" value=\"\"/>\n",
       "<input data-name=\"\" id=\"city_name\" name=\"city_id\" type=\"hidden\" value=\"\"/>\n",
       "<div id=\"desktop_filters_b\">\n",
       "<div id=\"outsideclicker\"></div>\n",
       "<div class=\"mobiletablet_hide\">\n",
       "<div class=\"output_group\" id=\"search_menu_m\" style=\"position: relative; width: 100%; border: 0px;\"><div class=\" input_group_v input_group_fl col_0 mob_filter_group_v\" id=\"mob_filter_group_v_33933\"><!-- 33933,FieldAddress,search_trimple_separate_v3 --><div class=\"fl no_padding v3f empty_v2f\">\n",
       "<div class=\"select-box fieldAddress fdropdown fd1c trackOver_class\" id=\"finputb_33933\">\n",
       "<div class=\"finput_h_b\" id=\"finputhb_33933\">Savivaldybė</div>\n",
       "<div class=\"inner_padder\" id=\"inner_padder_33933\">\n",
       "<div class=\"fdropdown_options fmultiple3d_1st foptions_wfilter\" id=\"fdropdownoptions_33933\" onchange=\"changeSelectValuesAsyncSeparateV3( ALIO_URL.address_getSimpleSeparate , '33933', 'fmultipleoptions_33933_sub', true );\">\n",
       "<div class=\"fdropdownoptionsfilter_b\">\n",
       "<input class=\"fdropdownoptionsfilter\" id=\"fdropdownoptionsfilter_33933\" placeholder=\"Tekstinė paieška...\" type=\"text\"/>\n",
       "</div>\n",
       "<div class=\"inner_options\">\n",
       "<div class=\"option_v \" data-value=\"228626\">Vilnius</div>\n",
       "<div class=\"option_v \" data-value=\"228822\">Kaunas</div>\n",
       "<div class=\"option_v \" data-value=\"229085\">Klaipėda</div>\n",
       "<div class=\"option_v \" data-value=\"229001\">Šiauliai</div>\n",
       "<div class=\"option_v \" data-value=\"229153\">Panevėžys</div>\n",
       "<div class=\"option_v \" data-value=\"228709\">Alytus</div>\n",
       "<div class=\"option_v \" data-value=\"229063\">Palanga</div>\n",
       "<div class=\"option_v \" data-value=\"228949\">Akmenės r. sav.</div>\n",
       "<div class=\"option_v \" data-value=\"228713\">Alytaus r. sav.</div>\n",
       "<div class=\"option_v \" data-value=\"229189\">Anykščių r. sav.</div>\n",
       "<div class=\"option_v \" data-value=\"228884\">Birštono sav.</div>\n",
       "<div class=\"option_v \" data-value=\"229114\">Biržų r. sav.</div>\n",
       "<div class=\"option_v \" data-value=\"228710\">Druskininkų sav.</div>\n",
       "<div class=\"option_v \" data-value=\"228662\">Elektrėnų sav.</div>\n",
       "<div class=\"option_v \" data-value=\"229200\">Ignalinos r. sav.</div>\n",
       "<div class=\"option_v \" data-value=\"228787\">Jonavos r. sav.</div>\n",
       "<div class=\"option_v \" data-value=\"228957\">Joniškio r. sav.</div>\n",
       "<div class=\"option_v \" data-value=\"229044\">Jurbarko r. sav.</div>\n",
       "<div class=\"option_v \" data-value=\"228871\">Kaišiadorių r. sav.</div>\n",
       "<div class=\"option_v \" data-value=\"228915\">Kalvarijos sav.</div>\n",
       "<div class=\"option_v \" data-value=\"228834\">Kauno r. sav.</div>\n",
       "<div class=\"option_v \" data-value=\"228887\">Kazlų Rūdos sav.</div>\n",
       "<div class=\"option_v \" data-value=\"228980\">Kelmės r. sav.</div>\n",
       "<div class=\"option_v \" data-value=\"229064\">Klaipėdos r. sav.</div>\n",
       "<div class=\"option_v \" data-value=\"229076\">Kretingos r. sav.</div>\n",
       "<div class=\"option_v \" data-value=\"229123\">Kupiškio r. sav.</div>\n",
       "<div class=\"option_v \" data-value=\"228809\">Kėdainių r. sav.</div>\n",
       "<div class=\"option_v \" data-value=\"228725\">Lazdijų r. sav.</div>\n",
       "<div class=\"option_v \" data-value=\"228892\">Marijampolės sav.</div>\n",
       "<div class=\"option_v \" data-value=\"228776\">Mažeikių r. sav.</div>\n",
       "<div class=\"option_v \" data-value=\"229213\">Molėtų r. sav.</div>\n",
       "<div class=\"option_v \" data-value=\"229097\">Neringos sav.</div>\n",
       "<div class=\"option_v \" data-value=\"229056\">Pagėgių sav.</div>\n",
       "<div class=\"option_v \" data-value=\"228992\">Pakruojo r. sav.</div>\n",
       "<div class=\"option_v \" data-value=\"229154\">Panevėžio r. sav.</div>\n",
       "<div class=\"option_v \" data-value=\"229130\">Pasvalio r. sav.</div>\n",
       "<div class=\"option_v \" data-value=\"228760\">Plungės r. sav.</div>\n",
       "<div class=\"option_v \" data-value=\"228797\">Prienų r. sav.</div>\n",
       "<div class=\"option_v \" data-value=\"229004\">Radviliškio r. sav.</div>\n",
       "<div class=\"option_v \" data-value=\"228858\">Raseinių r. sav.</div>\n",
       "<div class=\"option_v \" data-value=\"228754\">Rietavo sav.</div>\n",
       "<div class=\"option_v \" data-value=\"229142\">Rokiškio r. sav.</div>\n",
       "<div class=\"option_v \" data-value=\"229087\">Skuodo r. sav.</div>\n",
       "<div class=\"option_v \" data-value=\"229020\">Tauragės r. sav.</div>\n",
       "<div class=\"option_v \" data-value=\"228742\">Telšių r. sav.</div>\n",
       "<div class=\"option_v \" data-value=\"228648\">Trakų r. sav.</div>\n",
       "<div class=\"option_v \" data-value=\"228598\">Ukmergės r. sav.</div>\n",
       "<div class=\"option_v \" data-value=\"229167\">Utenos r. sav.</div>\n",
       "<div class=\"option_v \" data-value=\"228698\">Varėnos r. sav.</div>\n",
       "<div class=\"option_v \" data-value=\"228902\">Vilkaviškio r. sav.</div>\n",
       "<div class=\"option_v \" data-value=\"228672\">Vilniaus r. sav.</div>\n",
       "<div class=\"option_v \" data-value=\"229225\">Visagino sav.</div>\n",
       "<div class=\"option_v \" data-value=\"229178\">Zarasų r. sav.</div>\n",
       "<div class=\"option_v \" data-value=\"228920\">Šakių r. sav.</div>\n",
       "<div class=\"option_v \" data-value=\"228584\">Šalčininkų r. sav.</div>\n",
       "<div class=\"option_v \" data-value=\"228968\">Šiaulių r. sav.</div>\n",
       "<div class=\"option_v \" data-value=\"229029\">Šilalės r. sav.</div>\n",
       "<div class=\"option_v \" data-value=\"229098\">Šilutės r. sav.</div>\n",
       "<div class=\"option_v \" data-value=\"228575\">Širvintų r. sav.</div>\n",
       "<div class=\"option_v \" data-value=\"228611\">Švenčionių r. sav.</div>\n",
       "</div>\n",
       "</div>\n",
       "<div class=\"finput_s_b \" id=\"finputstb_33933\"></div>\n",
       "<i class=\"finput_clear finput_clear_dropdown \" id=\"finputclear_33933\"></i>\n",
       "<input id=\"finputhi_33933\" name=\"search[eq][adresas_1]\" type=\"hidden\" value=\"\"/>\n",
       "<div class=\"clr\"></div>\n",
       "</div>\n",
       "</div>\n",
       "</div>\n",
       "<div class=\"fl fd1c_marginl no_padding v3f empty_v2f\">\n",
       "<div class=\"select-box fmultiple fd1c fmultiple3d_2nd fmultiple3d_2nd_separate f_sub_elchecker trackOver_class\" id=\"finputb_33933_sub\" onchange=\"changeSelectValuesAsyncV3( ALIO_URL.address_getSimple2 , '33933_sub', 'fmultipleoptions_33933_sub_sub', true );\">\n",
       "<div class=\"finput_h_b\" id=\"finputhb_33933_sub\">Mikrorajonas/Gyvenvietė</div>\n",
       "<div class=\"inner_padder disabled_padder\" id=\"inner_padder_33933_sub\">\n",
       "<div class=\"fmultiple_options fmultiple3d_2nd fmultiple3d_2nd_separate foptions_wbutton foptions_wfilter\" id=\"fmultipleoptions_33933_sub\">\n",
       "<div class=\"fmultipleoptionsfilter_b\">\n",
       "<input class=\"fmultipleoptionsfilter\" id=\"fmultipleoptionsfilter_33933_sub\" placeholder=\"Tekstinė paieška...\" type=\"text\"/>\n",
       "</div>\n",
       "<div class=\"inner_options\">\n",
       "</div>\n",
       "<div class=\"finput_ab_b\">\n",
       "<div class=\"fmultiple_hb_b\">Nesvarbu</div>\n",
       "<div class=\"clr\"></div>\n",
       "</div>\n",
       "</div>\n",
       "<div class=\"finput_s_b\" id=\"finputstb_33933_sub\"></div>\n",
       "<i class=\"finput_clear finput_clear_multiple \" id=\"finputclear_33933_sub\"></i>\n",
       "<input id=\"fmultiple_options_h_dname_33933_sub\" type=\"hidden\" value=\"search[in][adresas_2][]\"/>\n",
       "<div id=\"fmultiple_options_h_b_33933_sub\">\n",
       "</div>\n",
       "<div class=\"clr\"></div>\n",
       "</div>\n",
       "</div>\n",
       "</div>\n",
       "<div class=\"fl fd1c_marginl no_padding v3f empty_v2f\">\n",
       "<div class=\"select-box fmultiple fd1c f_sub_elchecker trackOver_class\" id=\"finputb_33933_sub_sub\">\n",
       "<div class=\"finput_h_b\" id=\"finputhb_33933_sub_sub\">Gatvė</div>\n",
       "<div class=\"inner_padder disabled_padder\" id=\"inner_padder_33933_sub_sub\">\n",
       "<div class=\"fmultiple_options foptions_wbutton foptions_wfilter\" id=\"fmultipleoptions_33933_sub_sub\">\n",
       "<div class=\"fmultipleoptionsfilter_b\">\n",
       "<input class=\"fmultipleoptionsfilter\" id=\"fmultipleoptionsfilter_33933_sub_sub\" placeholder=\"Tekstinė paieška...\" type=\"text\"/>\n",
       "</div>\n",
       "<div class=\"inner_options\">\n",
       "</div>\n",
       "<div class=\"finput_ab_b\">\n",
       "<div class=\"fmultiple_hb_b\">Nesvarbu</div>\n",
       "<div class=\"clr\"></div>\n",
       "</div>\n",
       "</div>\n",
       "<div class=\"finput_s_b\" id=\"finputstb_33933_sub_sub\"></div>\n",
       "<i class=\"finput_clear finput_clear_multiple \" id=\"finputclear_33933_sub_sub\"></i>\n",
       "<input id=\"fmultiple_options_h_dname_33933_sub_sub\" type=\"hidden\" value=\"search[in][adresas_3][]\"/>\n",
       "<div id=\"fmultiple_options_h_b_33933_sub_sub\">\n",
       "</div>\n",
       "<div class=\"clr\"></div>\n",
       "</div>\n",
       "</div>\n",
       "</div>\n",
       "<div class=\"clr\"></div>\n",
       "</div><div class=\" input_group_v input_group_fl col_3 mob_filter_group_v\" id=\"mob_filter_group_v_87263\"><!-- 87263,FieldIntExt,search_range_v3 --><div class=\"no_padding v3f empty_v2f\">\n",
       "<div class=\"select-box frange fcenter fd1c trackOver_class\" id=\"finputb_87263\">\n",
       "<div class=\"finput_h_b\" id=\"finputhb_87263\">Kambarių skaičius</div>\n",
       "<div class=\"inner_padder\" id=\"inner_padder_87263\">\n",
       "<div class=\"frange_options foptions_wbutton\" id=\"frangeoptions_87263\">\n",
       "<div class=\"inner_options\">\n",
       "<div class=\"gte_b\">\n",
       "<div class=\"option_v\" data-value=\"\">nuo</div>\n",
       "<div class=\"option_v \" data-value=\"1\">1</div>\n",
       "<div class=\"option_v \" data-value=\"2\">2</div>\n",
       "<div class=\"option_v \" data-value=\"3\">3</div>\n",
       "<div class=\"option_v \" data-value=\"4\">4</div>\n",
       "<div class=\"option_v \" data-value=\"5\">5</div>\n",
       "<div class=\"option_v \" data-value=\"6\">6</div>\n",
       "<div class=\"option_v \" data-value=\"7\">7</div>\n",
       "<div class=\"option_v \" data-value=\"8\">8</div>\n",
       "<div class=\"option_v \" data-value=\"9\">9</div>\n",
       "<div class=\"option_v \" data-value=\"10\">10</div>\n",
       "<div class=\"option_v \" data-value=\"11\">11</div>\n",
       "<div class=\"option_v \" data-value=\"12\">12</div>\n",
       "<div class=\"option_v \" data-value=\"13\">13</div>\n",
       "<div class=\"option_v \" data-value=\"14\">14</div>\n",
       "<div class=\"option_v \" data-value=\"15\">15</div>\n",
       "</div>\n",
       "<div class=\"lte_b\">\n",
       "<div class=\"option_v\" data-value=\"\">iki</div>\n",
       "<div class=\"option_v \" data-value=\"1\">1</div>\n",
       "<div class=\"option_v \" data-value=\"2\">2</div>\n",
       "<div class=\"option_v \" data-value=\"3\">3</div>\n",
       "<div class=\"option_v \" data-value=\"4\">4</div>\n",
       "<div class=\"option_v \" data-value=\"5\">5</div>\n",
       "<div class=\"option_v \" data-value=\"6\">6</div>\n",
       "<div class=\"option_v \" data-value=\"7\">7</div>\n",
       "<div class=\"option_v \" data-value=\"8\">8</div>\n",
       "<div class=\"option_v \" data-value=\"9\">9</div>\n",
       "<div class=\"option_v \" data-value=\"10\">10</div>\n",
       "<div class=\"option_v \" data-value=\"11\">11</div>\n",
       "<div class=\"option_v \" data-value=\"12\">12</div>\n",
       "<div class=\"option_v \" data-value=\"13\">13</div>\n",
       "<div class=\"option_v \" data-value=\"14\">14</div>\n",
       "<div class=\"option_v \" data-value=\"15\">15</div>\n",
       "</div>\n",
       "<div class=\"clr\"></div>\n",
       "</div>\n",
       "<div class=\"finput_ab_b\">\n",
       "<div class=\"frange_hb_b\">Nesvarbu</div>\n",
       "<div class=\"clr\"></div>\n",
       "</div>\n",
       "</div>\n",
       "<div class=\"finput_s_b\" id=\"finputstb_87263\"></div>\n",
       "<i class=\"finput_clear finput_clear_range \" id=\"finputclear_87263\"></i>\n",
       "<input id=\"finputhi_87263_gte\" name=\"search[gte][kambariu_skaicius_1]\" type=\"hidden\" value=\"\"/>\n",
       "<input id=\"finputhi_87263_lte\" name=\"search[lte][kambariu_skaicius_1]\" type=\"hidden\" value=\"\"/>\n",
       "<div class=\"clr\"></div>\n",
       "</div>\n",
       "</div>\n",
       "</div>\n",
       "</div><div class=\" input_group_v input_group_fl col_0 mob_filter_group_v\" id=\"mob_filter_group_v_46293\"><!-- 46293,FieldIntExt,search_range_v3 --><div class=\"no_padding v3f empty_v2f\">\n",
       "<div class=\"select-box frange fcenter fd1c trackOver_class\" id=\"finputb_46293\">\n",
       "<div class=\"finput_h_b\" id=\"finputhb_46293\">Plotas, m²</div>\n",
       "<div class=\"inner_padder\" id=\"inner_padder_46293\">\n",
       "<div class=\"frange_options foptions_wbutton\" id=\"frangeoptions_46293\">\n",
       "<div class=\"inner_options\">\n",
       "<div class=\"gte_b\">\n",
       "<div class=\"option_v\" data-value=\"\">nuo</div>\n",
       "<div class=\"option_v \" data-value=\"20\">20</div>\n",
       "<div class=\"option_v \" data-value=\"30\">30</div>\n",
       "<div class=\"option_v \" data-value=\"40\">40</div>\n",
       "<div class=\"option_v \" data-value=\"50\">50</div>\n",
       "<div class=\"option_v \" data-value=\"60\">60</div>\n",
       "<div class=\"option_v \" data-value=\"70\">70</div>\n",
       "<div class=\"option_v \" data-value=\"80\">80</div>\n",
       "<div class=\"option_v \" data-value=\"90\">90</div>\n",
       "<div class=\"option_v \" data-value=\"100\">100</div>\n",
       "<div class=\"option_v \" data-value=\"120\">120</div>\n",
       "<div class=\"option_v \" data-value=\"140\">140</div>\n",
       "</div>\n",
       "<div class=\"lte_b\">\n",
       "<div class=\"option_v\" data-value=\"\">iki</div>\n",
       "<div class=\"option_v \" data-value=\"20\">20</div>\n",
       "<div class=\"option_v \" data-value=\"30\">30</div>\n",
       "<div class=\"option_v \" data-value=\"40\">40</div>\n",
       "<div class=\"option_v \" data-value=\"50\">50</div>\n",
       "<div class=\"option_v \" data-value=\"60\">60</div>\n",
       "<div class=\"option_v \" data-value=\"70\">70</div>\n",
       "<div class=\"option_v \" data-value=\"80\">80</div>\n",
       "<div class=\"option_v \" data-value=\"90\">90</div>\n",
       "<div class=\"option_v \" data-value=\"100\">100</div>\n",
       "<div class=\"option_v \" data-value=\"120\">120</div>\n",
       "<div class=\"option_v \" data-value=\"140\">140</div>\n",
       "</div>\n",
       "<div class=\"clr\"></div>\n",
       "</div>\n",
       "<div class=\"finput_ab_b\">\n",
       "<div class=\"frange_hb_b\">Nesvarbu</div>\n",
       "<div class=\"clr\"></div>\n",
       "</div>\n",
       "</div>\n",
       "<div class=\"finput_s_b\" id=\"finputstb_46293\"></div>\n",
       "<i class=\"finput_clear finput_clear_range \" id=\"finputclear_46293\"></i>\n",
       "<input id=\"finputhi_46293_gte\" name=\"search[gte][busto_plotas_m_1]\" type=\"hidden\" value=\"\"/>\n",
       "<input id=\"finputhi_46293_lte\" name=\"search[lte][busto_plotas_m_1]\" type=\"hidden\" value=\"\"/>\n",
       "<div class=\"clr\"></div>\n",
       "</div>\n",
       "</div>\n",
       "</div>\n",
       "</div><div class=\" input_group_v input_group_fl col_1 mob_filter_group_v\" id=\"mob_filter_group_v_46163\"><!-- 46163,FieldDropDown,search_multiple_ts_load_v3 --><div class=\"no_padding v3f empty_v2f\">\n",
       "<div class=\"select-box fmultiple fd1c trackOver_class load_data\" data-dname=\"busto_bukle\" id=\"finputb_46163\">\n",
       "<div class=\"finput_h_b\" id=\"finputhb_46163\">Įrengimas</div>\n",
       "<div class=\"inner_padder\" id=\"inner_padder_46163\">\n",
       "<div class=\"fmultiple_options foptions_wbutton foptions_wfilter\" id=\"fmultipleoptions_46163\">\n",
       "<div class=\"fmultipleoptionsfilter_b\">\n",
       "<input class=\"fmultipleoptionsfilter\" id=\"fmultipleoptionsfilter_46163\" placeholder=\"Tekstinė paieška...\" type=\"text\"/>\n",
       "</div>\n",
       "<div class=\"inner_options\">\n",
       "<div class=\"option_v \" data-value=\"100009023\">Įrengtas</div>\n",
       "<div class=\"option_v \" data-value=\"100009022\">Dalinai įrengtas</div>\n",
       "<div class=\"option_v \" data-value=\"100009024\">Be apdailos</div>\n",
       "<div class=\"option_v \" data-value=\"100009026\">Remontuotinas</div>\n",
       "<div class=\"option_v \" data-value=\"100009033\">Kita</div>\n",
       "</div>\n",
       "<div class=\"finput_ab_b\">\n",
       "<div class=\"fmultiple_hb_b\">Nesvarbu</div>\n",
       "<div class=\"clr\"></div>\n",
       "</div>\n",
       "</div>\n",
       "<div class=\"finput_s_b\" id=\"finputstb_46163\"></div>\n",
       "<i class=\"finput_clear finput_clear_multiple \" id=\"finputclear_46163\"></i>\n",
       "<input id=\"fmultiple_options_h_dname_46163\" type=\"hidden\" value=\"search[in][busto_bukle][]\"/>\n",
       "<div id=\"fmultiple_options_h_b_46163\">\n",
       "</div>\n",
       "<div class=\"clr\"></div>\n",
       "</div>\n",
       "</div>\n",
       "</div></div><div class=\" input_group_v input_group_fl col_2 mob_filter_group_v\" id=\"mob_filter_group_v_192641\"><!-- 192641,FieldHidden,search_dropdown_load_v3 --><div class=\"no_padding v3f empty_v2f\">\n",
       "<div class=\"select-box trackOver_class fdropdown fd1c trackOver_class load_data\" data-dname=\"buto_aukstas_type\" id=\"finputb_192641\">\n",
       "<div class=\"finput_h_b\" id=\"finputhb_192641\">Aukštas</div>\n",
       "<div class=\"inner_padder\" id=\"inner_padder_192641\">\n",
       "<div class=\"fdropdown_options\" id=\"fdropdownoptions_192641\">\n",
       "<div class=\"inner_options\">\n",
       "<div class=\"option_v \" data-value=\"147144723\">Ne pirmas</div>\n",
       "<div class=\"option_v \" data-value=\"147144725\">Ne paskutinis</div>\n",
       "<div class=\"option_v \" data-value=\"147144727\">Ne pirmas ir ne paskutinis</div>\n",
       "<div class=\"option_v \" data-value=\"147144729\">Pirmas</div>\n",
       "<div class=\"option_v \" data-value=\"147144731\">Paskutinis</div>\n",
       "</div>\n",
       "<div class=\"fdropdown_ab_b\">\n",
       "<div class=\"fdropdown_hb_b\">Nesvarbu</div>\n",
       "<div class=\"clr\"></div>\n",
       "</div>\n",
       "</div>\n",
       "<div class=\"finput_s_b \" id=\"finputstb_192641\"></div>\n",
       "<i class=\"finput_clear finput_clear_dropdown \" id=\"finputclear_192641\"></i>\n",
       "<input id=\"finputhi_192641\" name=\"search[eq][buto_aukstas_type]\" type=\"hidden\" value=\"\"/>\n",
       "<div class=\"clr\"></div>\n",
       "</div>\n",
       "</div>\n",
       "</div></div><div class=\" input_group_v input_group_fl col_3 mob_filter_group_v\" id=\"mob_filter_group_v_84283\"><!-- 84283,FieldPrice,search_range_v3 --><div class=\"no_padding v3f empty_v2f\">\n",
       "<div class=\"select-box frange fcenter fd1c trackOver_class\" id=\"finputb_84283\">\n",
       "<div class=\"finput_h_b\" id=\"finputhb_84283\">Kaina, €</div>\n",
       "<div class=\"inner_padder\" id=\"inner_padder_84283\">\n",
       "<div class=\"frange_options foptions_wbutton\" id=\"frangeoptions_84283\">\n",
       "<div class=\"inner_options\">\n",
       "<div class=\"gte_b\">\n",
       "<input placeholder=\"nuo\" type=\"number\" value=\"\"/>\n",
       "<div class=\"option_v \" data-value=\"1500\">1 500</div>\n",
       "<div class=\"option_v \" data-value=\"3000\">3 000</div>\n",
       "<div class=\"option_v \" data-value=\"7500\">7 500</div>\n",
       "<div class=\"option_v \" data-value=\"15000\">15 000</div>\n",
       "<div class=\"option_v \" data-value=\"25000\">25 000</div>\n",
       "<div class=\"option_v \" data-value=\"30000\">30 000</div>\n",
       "<div class=\"option_v \" data-value=\"45000\">45 000</div>\n",
       "<div class=\"option_v \" data-value=\"60000\">60 000</div>\n",
       "<div class=\"option_v \" data-value=\"75000\">75 000</div>\n",
       "<div class=\"option_v \" data-value=\"90000\">90 000</div>\n",
       "<div class=\"option_v \" data-value=\"105000\">105 000</div>\n",
       "<div class=\"option_v \" data-value=\"120000\">120 000</div>\n",
       "<div class=\"option_v \" data-value=\"135000\">135 000</div>\n",
       "<div class=\"option_v \" data-value=\"150000\">150 000</div>\n",
       "<div class=\"option_v \" data-value=\"220000\">220 000</div>\n",
       "<div class=\"option_v \" data-value=\"300000\">300 000</div>\n",
       "</div>\n",
       "<div class=\"lte_b\">\n",
       "<input placeholder=\"iki\" type=\"number\" value=\"\"/>\n",
       "<div class=\"option_v \" data-value=\"1500\">1 500</div>\n",
       "<div class=\"option_v \" data-value=\"3000\">3 000</div>\n",
       "<div class=\"option_v \" data-value=\"7500\">7 500</div>\n",
       "<div class=\"option_v \" data-value=\"15000\">15 000</div>\n",
       "<div class=\"option_v \" data-value=\"25000\">25 000</div>\n",
       "<div class=\"option_v \" data-value=\"30000\">30 000</div>\n",
       "<div class=\"option_v \" data-value=\"45000\">45 000</div>\n",
       "<div class=\"option_v \" data-value=\"60000\">60 000</div>\n",
       "<div class=\"option_v \" data-value=\"75000\">75 000</div>\n",
       "<div class=\"option_v \" data-value=\"90000\">90 000</div>\n",
       "<div class=\"option_v \" data-value=\"105000\">105 000</div>\n",
       "<div class=\"option_v \" data-value=\"120000\">120 000</div>\n",
       "<div class=\"option_v \" data-value=\"135000\">135 000</div>\n",
       "<div class=\"option_v \" data-value=\"150000\">150 000</div>\n",
       "<div class=\"option_v \" data-value=\"220000\">220 000</div>\n",
       "<div class=\"option_v \" data-value=\"300000\">300 000</div>\n",
       "</div>\n",
       "<div class=\"clr\"></div>\n",
       "</div>\n",
       "<div class=\"finput_ab_b\">\n",
       "<div class=\"frange_hb_b\">Nesvarbu</div>\n",
       "<div class=\"clr\"></div>\n",
       "</div>\n",
       "</div>\n",
       "<div class=\"finput_s_b\" id=\"finputstb_84283\"></div>\n",
       "<i class=\"finput_clear finput_clear_range \" id=\"finputclear_84283\"></i>\n",
       "<input id=\"finputhi_84283_gte\" name=\"search[gte][kaina_1]\" type=\"hidden\" value=\"\"/>\n",
       "<input id=\"finputhi_84283_lte\" name=\"search[lte][kaina_1]\" type=\"hidden\" value=\"\"/>\n",
       "<div class=\"clr\"></div>\n",
       "</div>\n",
       "</div>\n",
       "</div>\n",
       "</div><div class=\"clr\"></div></div> <div id=\"desktop_filters_b_advanced\">\n",
       "<div class=\"output_group\" id=\"search_menu_more_m\" style=\"position: relative; width: 100%; border: 0px;\"><div class=\" input_group_v input_group_fl col_0 mob_filter_group_v\" id=\"mob_filter_group_v_164143\"><!-- 164143,FieldDateExt,search_range_v3 --><div class=\"no_padding v3f empty_v2f\">\n",
       "<div class=\"select-box frange fcenter fd1c trackOver_class\" id=\"finputb_164143\">\n",
       "<div class=\"finput_h_b\" id=\"finputhb_164143\">Statybos metai</div>\n",
       "<div class=\"inner_padder\" id=\"inner_padder_164143\">\n",
       "<div class=\"frange_options reverse_vals foptions_wbutton\" id=\"frangeoptions_164143\">\n",
       "<div class=\"inner_options\">\n",
       "<div class=\"gte_b\">\n",
       "<div class=\"option_v\" data-value=\"\">nuo</div>\n",
       "<div class=\"option_v \" data-value=\"2018\">2018</div>\n",
       "<div class=\"option_v \" data-value=\"2017\">2017</div>\n",
       "<div class=\"option_v \" data-value=\"2016\">2016</div>\n",
       "<div class=\"option_v \" data-value=\"2015\">2015</div>\n",
       "<div class=\"option_v \" data-value=\"2014\">2014</div>\n",
       "<div class=\"option_v \" data-value=\"2013\">2013</div>\n",
       "<div class=\"option_v \" data-value=\"2012\">2012</div>\n",
       "<div class=\"option_v \" data-value=\"2011\">2011</div>\n",
       "<div class=\"option_v \" data-value=\"2010\">2010</div>\n",
       "<div class=\"option_v \" data-value=\"2009\">2009</div>\n",
       "<div class=\"option_v \" data-value=\"2008\">2008</div>\n",
       "<div class=\"option_v \" data-value=\"2007\">2007</div>\n",
       "<div class=\"option_v \" data-value=\"2006\">2006</div>\n",
       "<div class=\"option_v \" data-value=\"2005\">2005</div>\n",
       "<div class=\"option_v \" data-value=\"2004\">2004</div>\n",
       "<div class=\"option_v \" data-value=\"2003\">2003</div>\n",
       "<div class=\"option_v \" data-value=\"2002\">2002</div>\n",
       "<div class=\"option_v \" data-value=\"2001\">2001</div>\n",
       "<div class=\"option_v \" data-value=\"2000\">2000</div>\n",
       "<div class=\"option_v \" data-value=\"1999\">1999</div>\n",
       "<div class=\"option_v \" data-value=\"1998\">1998</div>\n",
       "<div class=\"option_v \" data-value=\"1997\">1997</div>\n",
       "<div class=\"option_v \" data-value=\"1996\">1996</div>\n",
       "<div class=\"option_v \" data-value=\"1995\">1995</div>\n",
       "<div class=\"option_v \" data-value=\"1994\">1994</div>\n",
       "<div class=\"option_v \" data-value=\"1993\">1993</div>\n",
       "<div class=\"option_v \" data-value=\"1992\">1992</div>\n",
       "<div class=\"option_v \" data-value=\"1991\">1991</div>\n",
       "<div class=\"option_v \" data-value=\"1990\">1990</div>\n",
       "<div class=\"option_v \" data-value=\"1989\">1989</div>\n",
       "<div class=\"option_v \" data-value=\"1988\">1988</div>\n",
       "<div class=\"option_v \" data-value=\"1987\">1987</div>\n",
       "<div class=\"option_v \" data-value=\"1986\">1986</div>\n",
       "<div class=\"option_v \" data-value=\"1985\">1985</div>\n",
       "<div class=\"option_v \" data-value=\"1984\">1984</div>\n",
       "<div class=\"option_v \" data-value=\"1983\">1983</div>\n",
       "<div class=\"option_v \" data-value=\"1982\">1982</div>\n",
       "<div class=\"option_v \" data-value=\"1981\">1981</div>\n",
       "<div class=\"option_v \" data-value=\"1980\">1980</div>\n",
       "<div class=\"option_v \" data-value=\"1979\">1979</div>\n",
       "<div class=\"option_v \" data-value=\"1978\">1978</div>\n",
       "<div class=\"option_v \" data-value=\"1977\">1977</div>\n",
       "<div class=\"option_v \" data-value=\"1976\">1976</div>\n",
       "<div class=\"option_v \" data-value=\"1975\">1975</div>\n",
       "<div class=\"option_v \" data-value=\"1974\">1974</div>\n",
       "<div class=\"option_v \" data-value=\"1973\">1973</div>\n",
       "<div class=\"option_v \" data-value=\"1972\">1972</div>\n",
       "<div class=\"option_v \" data-value=\"1971\">1971</div>\n",
       "<div class=\"option_v \" data-value=\"1970\">1970</div>\n",
       "<div class=\"option_v \" data-value=\"1969\">1969</div>\n",
       "<div class=\"option_v \" data-value=\"1968\">1968</div>\n",
       "<div class=\"option_v \" data-value=\"1967\">1967</div>\n",
       "<div class=\"option_v \" data-value=\"1966\">1966</div>\n",
       "<div class=\"option_v \" data-value=\"1965\">1965</div>\n",
       "<div class=\"option_v \" data-value=\"1964\">1964</div>\n",
       "<div class=\"option_v \" data-value=\"1963\">1963</div>\n",
       "<div class=\"option_v \" data-value=\"1962\">1962</div>\n",
       "<div class=\"option_v \" data-value=\"1961\">1961</div>\n",
       "<div class=\"option_v \" data-value=\"1960\">1960</div>\n",
       "<div class=\"option_v \" data-value=\"1959\">1959</div>\n",
       "<div class=\"option_v \" data-value=\"1958\">1958</div>\n",
       "<div class=\"option_v \" data-value=\"1957\">1957</div>\n",
       "<div class=\"option_v \" data-value=\"1956\">1956</div>\n",
       "<div class=\"option_v \" data-value=\"1955\">1955</div>\n",
       "<div class=\"option_v \" data-value=\"1954\">1954</div>\n",
       "<div class=\"option_v \" data-value=\"1953\">1953</div>\n",
       "<div class=\"option_v \" data-value=\"1952\">1952</div>\n",
       "<div class=\"option_v \" data-value=\"1951\">1951</div>\n",
       "<div class=\"option_v \" data-value=\"1950\">1950</div>\n",
       "<div class=\"option_v \" data-value=\"1949\">1949</div>\n",
       "<div class=\"option_v \" data-value=\"1948\">1948</div>\n",
       "<div class=\"option_v \" data-value=\"1947\">1947</div>\n",
       "<div class=\"option_v \" data-value=\"1946\">1946</div>\n",
       "<div class=\"option_v \" data-value=\"1945\">1945</div>\n",
       "<div class=\"option_v \" data-value=\"1944\">1944</div>\n",
       "<div class=\"option_v \" data-value=\"1943\">1943</div>\n",
       "<div class=\"option_v \" data-value=\"1942\">1942</div>\n",
       "<div class=\"option_v \" data-value=\"1941\">1941</div>\n",
       "<div class=\"option_v \" data-value=\"1940\">1940</div>\n",
       "<div class=\"option_v \" data-value=\"1939\">1939</div>\n",
       "<div class=\"option_v \" data-value=\"1938\">1938</div>\n",
       "<div class=\"option_v \" data-value=\"1937\">1937</div>\n",
       "<div class=\"option_v \" data-value=\"1936\">1936</div>\n",
       "<div class=\"option_v \" data-value=\"1935\">1935</div>\n",
       "<div class=\"option_v \" data-value=\"1934\">1934</div>\n",
       "<div class=\"option_v \" data-value=\"1933\">1933</div>\n",
       "<div class=\"option_v \" data-value=\"1932\">1932</div>\n",
       "<div class=\"option_v \" data-value=\"1931\">1931</div>\n",
       "<div class=\"option_v \" data-value=\"1930\">1930</div>\n",
       "<div class=\"option_v \" data-value=\"1929\">1929</div>\n",
       "<div class=\"option_v \" data-value=\"1928\">1928</div>\n",
       "<div class=\"option_v \" data-value=\"1927\">1927</div>\n",
       "<div class=\"option_v \" data-value=\"1926\">1926</div>\n",
       "<div class=\"option_v \" data-value=\"1925\">1925</div>\n",
       "<div class=\"option_v \" data-value=\"1924\">1924</div>\n",
       "<div class=\"option_v \" data-value=\"1923\">1923</div>\n",
       "<div class=\"option_v \" data-value=\"1922\">1922</div>\n",
       "<div class=\"option_v \" data-value=\"1921\">1921</div>\n",
       "<div class=\"option_v \" data-value=\"1920\">1920</div>\n",
       "<div class=\"option_v \" data-value=\"1919\">1919</div>\n",
       "<div class=\"option_v \" data-value=\"1918\">1918</div>\n",
       "<div class=\"option_v \" data-value=\"1917\">1917</div>\n",
       "<div class=\"option_v \" data-value=\"1916\">1916</div>\n",
       "<div class=\"option_v \" data-value=\"1915\">1915</div>\n",
       "<div class=\"option_v \" data-value=\"1914\">1914</div>\n",
       "<div class=\"option_v \" data-value=\"1913\">1913</div>\n",
       "<div class=\"option_v \" data-value=\"1912\">1912</div>\n",
       "<div class=\"option_v \" data-value=\"1911\">1911</div>\n",
       "<div class=\"option_v \" data-value=\"1910\">1910</div>\n",
       "<div class=\"option_v \" data-value=\"1909\">1909</div>\n",
       "<div class=\"option_v \" data-value=\"1908\">1908</div>\n",
       "<div class=\"option_v \" data-value=\"1907\">1907</div>\n",
       "<div class=\"option_v \" data-value=\"1906\">1906</div>\n",
       "<div class=\"option_v \" data-value=\"1905\">1905</div>\n",
       "<div class=\"option_v \" data-value=\"1904\">1904</div>\n",
       "<div class=\"option_v \" data-value=\"1903\">1903</div>\n",
       "<div class=\"option_v \" data-value=\"1902\">1902</div>\n",
       "<div class=\"option_v \" data-value=\"1901\">1901</div>\n",
       "<div class=\"option_v \" data-value=\"1900\">1900</div>\n",
       "<div class=\"option_v \" data-value=\"1899\">1899</div>\n",
       "<div class=\"option_v \" data-value=\"1898\">1898</div>\n",
       "<div class=\"option_v \" data-value=\"1897\">1897</div>\n",
       "<div class=\"option_v \" data-value=\"1896\">1896</div>\n",
       "<div class=\"option_v \" data-value=\"1895\">1895</div>\n",
       "<div class=\"option_v \" data-value=\"1894\">1894</div>\n",
       "<div class=\"option_v \" data-value=\"1893\">1893</div>\n",
       "<div class=\"option_v \" data-value=\"1892\">1892</div>\n",
       "<div class=\"option_v \" data-value=\"1891\">1891</div>\n",
       "<div class=\"option_v \" data-value=\"1890\">1890</div>\n",
       "<div class=\"option_v \" data-value=\"1889\">1889</div>\n",
       "<div class=\"option_v \" data-value=\"1888\">1888</div>\n",
       "<div class=\"option_v \" data-value=\"1887\">1887</div>\n",
       "<div class=\"option_v \" data-value=\"1886\">1886</div>\n",
       "<div class=\"option_v \" data-value=\"1885\">1885</div>\n",
       "<div class=\"option_v \" data-value=\"1884\">1884</div>\n",
       "<div class=\"option_v \" data-value=\"1883\">1883</div>\n",
       "<div class=\"option_v \" data-value=\"1882\">1882</div>\n",
       "<div class=\"option_v \" data-value=\"1881\">1881</div>\n",
       "<div class=\"option_v \" data-value=\"1880\">1880</div>\n",
       "<div class=\"option_v \" data-value=\"1879\">1879</div>\n",
       "<div class=\"option_v \" data-value=\"1878\">1878</div>\n",
       "<div class=\"option_v \" data-value=\"1877\">1877</div>\n",
       "<div class=\"option_v \" data-value=\"1876\">1876</div>\n",
       "<div class=\"option_v \" data-value=\"1875\">1875</div>\n",
       "<div class=\"option_v \" data-value=\"1874\">1874</div>\n",
       "<div class=\"option_v \" data-value=\"1873\">1873</div>\n",
       "<div class=\"option_v \" data-value=\"1872\">1872</div>\n",
       "<div class=\"option_v \" data-value=\"1871\">1871</div>\n",
       "<div class=\"option_v \" data-value=\"1870\">1870</div>\n",
       "<div class=\"option_v \" data-value=\"1869\">1869</div>\n",
       "<div class=\"option_v \" data-value=\"1868\">1868</div>\n",
       "<div class=\"option_v \" data-value=\"1867\">1867</div>\n",
       "<div class=\"option_v \" data-value=\"1866\">1866</div>\n",
       "<div class=\"option_v \" data-value=\"1865\">1865</div>\n",
       "<div class=\"option_v \" data-value=\"1864\">1864</div>\n",
       "<div class=\"option_v \" data-value=\"1863\">1863</div>\n",
       "<div class=\"option_v \" data-value=\"1862\">1862</div>\n",
       "<div class=\"option_v \" data-value=\"1861\">1861</div>\n",
       "<div class=\"option_v \" data-value=\"1860\">1860</div>\n",
       "<div class=\"option_v \" data-value=\"1859\">1859</div>\n",
       "<div class=\"option_v \" data-value=\"1858\">1858</div>\n",
       "<div class=\"option_v \" data-value=\"1857\">1857</div>\n",
       "<div class=\"option_v \" data-value=\"1856\">1856</div>\n",
       "<div class=\"option_v \" data-value=\"1855\">1855</div>\n",
       "<div class=\"option_v \" data-value=\"1854\">1854</div>\n",
       "<div class=\"option_v \" data-value=\"1853\">1853</div>\n",
       "<div class=\"option_v \" data-value=\"1852\">1852</div>\n",
       "<div class=\"option_v \" data-value=\"1851\">1851</div>\n",
       "<div class=\"option_v \" data-value=\"1850\">1850</div>\n",
       "<div class=\"option_v \" data-value=\"1849\">1849</div>\n",
       "<div class=\"option_v \" data-value=\"1848\">1848</div>\n",
       "<div class=\"option_v \" data-value=\"1847\">1847</div>\n",
       "<div class=\"option_v \" data-value=\"1846\">1846</div>\n",
       "<div class=\"option_v \" data-value=\"1845\">1845</div>\n",
       "<div class=\"option_v \" data-value=\"1844\">1844</div>\n",
       "<div class=\"option_v \" data-value=\"1843\">1843</div>\n",
       "<div class=\"option_v \" data-value=\"1842\">1842</div>\n",
       "<div class=\"option_v \" data-value=\"1841\">1841</div>\n",
       "<div class=\"option_v \" data-value=\"1840\">1840</div>\n",
       "<div class=\"option_v \" data-value=\"1839\">1839</div>\n",
       "<div class=\"option_v \" data-value=\"1838\">1838</div>\n",
       "<div class=\"option_v \" data-value=\"1837\">1837</div>\n",
       "<div class=\"option_v \" data-value=\"1836\">1836</div>\n",
       "<div class=\"option_v \" data-value=\"1835\">1835</div>\n",
       "<div class=\"option_v \" data-value=\"1834\">1834</div>\n",
       "<div class=\"option_v \" data-value=\"1833\">1833</div>\n",
       "<div class=\"option_v \" data-value=\"1832\">1832</div>\n",
       "<div class=\"option_v \" data-value=\"1831\">1831</div>\n",
       "<div class=\"option_v \" data-value=\"1830\">1830</div>\n",
       "<div class=\"option_v \" data-value=\"1829\">1829</div>\n",
       "<div class=\"option_v \" data-value=\"1828\">1828</div>\n",
       "<div class=\"option_v \" data-value=\"1827\">1827</div>\n",
       "<div class=\"option_v \" data-value=\"1826\">1826</div>\n",
       "<div class=\"option_v \" data-value=\"1825\">1825</div>\n",
       "<div class=\"option_v \" data-value=\"1824\">1824</div>\n",
       "<div class=\"option_v \" data-value=\"1823\">1823</div>\n",
       "<div class=\"option_v \" data-value=\"1822\">1822</div>\n",
       "<div class=\"option_v \" data-value=\"1821\">1821</div>\n",
       "<div class=\"option_v \" data-value=\"1820\">1820</div>\n",
       "<div class=\"option_v \" data-value=\"1819\">1819</div>\n",
       "<div class=\"option_v \" data-value=\"1818\">1818</div>\n",
       "</div>\n",
       "<div class=\"lte_b\">\n",
       "<div class=\"option_v\" data-value=\"\">iki</div>\n",
       "<div class=\"option_v \" data-value=\"2018\">2018</div>\n",
       "<div class=\"option_v \" data-value=\"2017\">2017</div>\n",
       "<div class=\"option_v \" data-value=\"2016\">2016</div>\n",
       "<div class=\"option_v \" data-value=\"2015\">2015</div>\n",
       "<div class=\"option_v \" data-value=\"2014\">2014</div>\n",
       "<div class=\"option_v \" data-value=\"2013\">2013</div>\n",
       "<div class=\"option_v \" data-value=\"2012\">2012</div>\n",
       "<div class=\"option_v \" data-value=\"2011\">2011</div>\n",
       "<div class=\"option_v \" data-value=\"2010\">2010</div>\n",
       "<div class=\"option_v \" data-value=\"2009\">2009</div>\n",
       "<div class=\"option_v \" data-value=\"2008\">2008</div>\n",
       "<div class=\"option_v \" data-value=\"2007\">2007</div>\n",
       "<div class=\"option_v \" data-value=\"2006\">2006</div>\n",
       "<div class=\"option_v \" data-value=\"2005\">2005</div>\n",
       "<div class=\"option_v \" data-value=\"2004\">2004</div>\n",
       "<div class=\"option_v \" data-value=\"2003\">2003</div>\n",
       "<div class=\"option_v \" data-value=\"2002\">2002</div>\n",
       "<div class=\"option_v \" data-value=\"2001\">2001</div>\n",
       "<div class=\"option_v \" data-value=\"2000\">2000</div>\n",
       "<div class=\"option_v \" data-value=\"1999\">1999</div>\n",
       "<div class=\"option_v \" data-value=\"1998\">1998</div>\n",
       "<div class=\"option_v \" data-value=\"1997\">1997</div>\n",
       "<div class=\"option_v \" data-value=\"1996\">1996</div>\n",
       "<div class=\"option_v \" data-value=\"1995\">1995</div>\n",
       "<div class=\"option_v \" data-value=\"1994\">1994</div>\n",
       "<div class=\"option_v \" data-value=\"1993\">1993</div>\n",
       "<div class=\"option_v \" data-value=\"1992\">1992</div>\n",
       "<div class=\"option_v \" data-value=\"1991\">1991</div>\n",
       "<div class=\"option_v \" data-value=\"1990\">1990</div>\n",
       "<div class=\"option_v \" data-value=\"1989\">1989</div>\n",
       "<div class=\"option_v \" data-value=\"1988\">1988</div>\n",
       "<div class=\"option_v \" data-value=\"1987\">1987</div>\n",
       "<div class=\"option_v \" data-value=\"1986\">1986</div>\n",
       "<div class=\"option_v \" data-value=\"1985\">1985</div>\n",
       "<div class=\"option_v \" data-value=\"1984\">1984</div>\n",
       "<div class=\"option_v \" data-value=\"1983\">1983</div>\n",
       "<div class=\"option_v \" data-value=\"1982\">1982</div>\n",
       "<div class=\"option_v \" data-value=\"1981\">1981</div>\n",
       "<div class=\"option_v \" data-value=\"1980\">1980</div>\n",
       "<div class=\"option_v \" data-value=\"1979\">1979</div>\n",
       "<div class=\"option_v \" data-value=\"1978\">1978</div>\n",
       "<div class=\"option_v \" data-value=\"1977\">1977</div>\n",
       "<div class=\"option_v \" data-value=\"1976\">1976</div>\n",
       "<div class=\"option_v \" data-value=\"1975\">1975</div>\n",
       "<div class=\"option_v \" data-value=\"1974\">1974</div>\n",
       "<div class=\"option_v \" data-value=\"1973\">1973</div>\n",
       "<div class=\"option_v \" data-value=\"1972\">1972</div>\n",
       "<div class=\"option_v \" data-value=\"1971\">1971</div>\n",
       "<div class=\"option_v \" data-value=\"1970\">1970</div>\n",
       "<div class=\"option_v \" data-value=\"1969\">1969</div>\n",
       "<div class=\"option_v \" data-value=\"1968\">1968</div>\n",
       "<div class=\"option_v \" data-value=\"1967\">1967</div>\n",
       "<div class=\"option_v \" data-value=\"1966\">1966</div>\n",
       "<div class=\"option_v \" data-value=\"1965\">1965</div>\n",
       "<div class=\"option_v \" data-value=\"1964\">1964</div>\n",
       "<div class=\"option_v \" data-value=\"1963\">1963</div>\n",
       "<div class=\"option_v \" data-value=\"1962\">1962</div>\n",
       "<div class=\"option_v \" data-value=\"1961\">1961</div>\n",
       "<div class=\"option_v \" data-value=\"1960\">1960</div>\n",
       "<div class=\"option_v \" data-value=\"1959\">1959</div>\n",
       "<div class=\"option_v \" data-value=\"1958\">1958</div>\n",
       "<div class=\"option_v \" data-value=\"1957\">1957</div>\n",
       "<div class=\"option_v \" data-value=\"1956\">1956</div>\n",
       "<div class=\"option_v \" data-value=\"1955\">1955</div>\n",
       "<div class=\"option_v \" data-value=\"1954\">1954</div>\n",
       "<div class=\"option_v \" data-value=\"1953\">1953</div>\n",
       "<div class=\"option_v \" data-value=\"1952\">1952</div>\n",
       "<div class=\"option_v \" data-value=\"1951\">1951</div>\n",
       "<div class=\"option_v \" data-value=\"1950\">1950</div>\n",
       "<div class=\"option_v \" data-value=\"1949\">1949</div>\n",
       "<div class=\"option_v \" data-value=\"1948\">1948</div>\n",
       "<div class=\"option_v \" data-value=\"1947\">1947</div>\n",
       "<div class=\"option_v \" data-value=\"1946\">1946</div>\n",
       "<div class=\"option_v \" data-value=\"1945\">1945</div>\n",
       "<div class=\"option_v \" data-value=\"1944\">1944</div>\n",
       "<div class=\"option_v \" data-value=\"1943\">1943</div>\n",
       "<div class=\"option_v \" data-value=\"1942\">1942</div>\n",
       "<div class=\"option_v \" data-value=\"1941\">1941</div>\n",
       "<div class=\"option_v \" data-value=\"1940\">1940</div>\n",
       "<div class=\"option_v \" data-value=\"1939\">1939</div>\n",
       "<div class=\"option_v \" data-value=\"1938\">1938</div>\n",
       "<div class=\"option_v \" data-value=\"1937\">1937</div>\n",
       "<div class=\"option_v \" data-value=\"1936\">1936</div>\n",
       "<div class=\"option_v \" data-value=\"1935\">1935</div>\n",
       "<div class=\"option_v \" data-value=\"1934\">1934</div>\n",
       "<div class=\"option_v \" data-value=\"1933\">1933</div>\n",
       "<div class=\"option_v \" data-value=\"1932\">1932</div>\n",
       "<div class=\"option_v \" data-value=\"1931\">1931</div>\n",
       "<div class=\"option_v \" data-value=\"1930\">1930</div>\n",
       "<div class=\"option_v \" data-value=\"1929\">1929</div>\n",
       "<div class=\"option_v \" data-value=\"1928\">1928</div>\n",
       "<div class=\"option_v \" data-value=\"1927\">1927</div>\n",
       "<div class=\"option_v \" data-value=\"1926\">1926</div>\n",
       "<div class=\"option_v \" data-value=\"1925\">1925</div>\n",
       "<div class=\"option_v \" data-value=\"1924\">1924</div>\n",
       "<div class=\"option_v \" data-value=\"1923\">1923</div>\n",
       "<div class=\"option_v \" data-value=\"1922\">1922</div>\n",
       "<div class=\"option_v \" data-value=\"1921\">1921</div>\n",
       "<div class=\"option_v \" data-value=\"1920\">1920</div>\n",
       "<div class=\"option_v \" data-value=\"1919\">1919</div>\n",
       "<div class=\"option_v \" data-value=\"1918\">1918</div>\n",
       "<div class=\"option_v \" data-value=\"1917\">1917</div>\n",
       "<div class=\"option_v \" data-value=\"1916\">1916</div>\n",
       "<div class=\"option_v \" data-value=\"1915\">1915</div>\n",
       "<div class=\"option_v \" data-value=\"1914\">1914</div>\n",
       "<div class=\"option_v \" data-value=\"1913\">1913</div>\n",
       "<div class=\"option_v \" data-value=\"1912\">1912</div>\n",
       "<div class=\"option_v \" data-value=\"1911\">1911</div>\n",
       "<div class=\"option_v \" data-value=\"1910\">1910</div>\n",
       "<div class=\"option_v \" data-value=\"1909\">1909</div>\n",
       "<div class=\"option_v \" data-value=\"1908\">1908</div>\n",
       "<div class=\"option_v \" data-value=\"1907\">1907</div>\n",
       "<div class=\"option_v \" data-value=\"1906\">1906</div>\n",
       "<div class=\"option_v \" data-value=\"1905\">1905</div>\n",
       "<div class=\"option_v \" data-value=\"1904\">1904</div>\n",
       "<div class=\"option_v \" data-value=\"1903\">1903</div>\n",
       "<div class=\"option_v \" data-value=\"1902\">1902</div>\n",
       "<div class=\"option_v \" data-value=\"1901\">1901</div>\n",
       "<div class=\"option_v \" data-value=\"1900\">1900</div>\n",
       "<div class=\"option_v \" data-value=\"1899\">1899</div>\n",
       "<div class=\"option_v \" data-value=\"1898\">1898</div>\n",
       "<div class=\"option_v \" data-value=\"1897\">1897</div>\n",
       "<div class=\"option_v \" data-value=\"1896\">1896</div>\n",
       "<div class=\"option_v \" data-value=\"1895\">1895</div>\n",
       "<div class=\"option_v \" data-value=\"1894\">1894</div>\n",
       "<div class=\"option_v \" data-value=\"1893\">1893</div>\n",
       "<div class=\"option_v \" data-value=\"1892\">1892</div>\n",
       "<div class=\"option_v \" data-value=\"1891\">1891</div>\n",
       "<div class=\"option_v \" data-value=\"1890\">1890</div>\n",
       "<div class=\"option_v \" data-value=\"1889\">1889</div>\n",
       "<div class=\"option_v \" data-value=\"1888\">1888</div>\n",
       "<div class=\"option_v \" data-value=\"1887\">1887</div>\n",
       "<div class=\"option_v \" data-value=\"1886\">1886</div>\n",
       "<div class=\"option_v \" data-value=\"1885\">1885</div>\n",
       "<div class=\"option_v \" data-value=\"1884\">1884</div>\n",
       "<div class=\"option_v \" data-value=\"1883\">1883</div>\n",
       "<div class=\"option_v \" data-value=\"1882\">1882</div>\n",
       "<div class=\"option_v \" data-value=\"1881\">1881</div>\n",
       "<div class=\"option_v \" data-value=\"1880\">1880</div>\n",
       "<div class=\"option_v \" data-value=\"1879\">1879</div>\n",
       "<div class=\"option_v \" data-value=\"1878\">1878</div>\n",
       "<div class=\"option_v \" data-value=\"1877\">1877</div>\n",
       "<div class=\"option_v \" data-value=\"1876\">1876</div>\n",
       "<div class=\"option_v \" data-value=\"1875\">1875</div>\n",
       "<div class=\"option_v \" data-value=\"1874\">1874</div>\n",
       "<div class=\"option_v \" data-value=\"1873\">1873</div>\n",
       "<div class=\"option_v \" data-value=\"1872\">1872</div>\n",
       "<div class=\"option_v \" data-value=\"1871\">1871</div>\n",
       "<div class=\"option_v \" data-value=\"1870\">1870</div>\n",
       "<div class=\"option_v \" data-value=\"1869\">1869</div>\n",
       "<div class=\"option_v \" data-value=\"1868\">1868</div>\n",
       "<div class=\"option_v \" data-value=\"1867\">1867</div>\n",
       "<div class=\"option_v \" data-value=\"1866\">1866</div>\n",
       "<div class=\"option_v \" data-value=\"1865\">1865</div>\n",
       "<div class=\"option_v \" data-value=\"1864\">1864</div>\n",
       "<div class=\"option_v \" data-value=\"1863\">1863</div>\n",
       "<div class=\"option_v \" data-value=\"1862\">1862</div>\n",
       "<div class=\"option_v \" data-value=\"1861\">1861</div>\n",
       "<div class=\"option_v \" data-value=\"1860\">1860</div>\n",
       "<div class=\"option_v \" data-value=\"1859\">1859</div>\n",
       "<div class=\"option_v \" data-value=\"1858\">1858</div>\n",
       "<div class=\"option_v \" data-value=\"1857\">1857</div>\n",
       "<div class=\"option_v \" data-value=\"1856\">1856</div>\n",
       "<div class=\"option_v \" data-value=\"1855\">1855</div>\n",
       "<div class=\"option_v \" data-value=\"1854\">1854</div>\n",
       "<div class=\"option_v \" data-value=\"1853\">1853</div>\n",
       "<div class=\"option_v \" data-value=\"1852\">1852</div>\n",
       "<div class=\"option_v \" data-value=\"1851\">1851</div>\n",
       "<div class=\"option_v \" data-value=\"1850\">1850</div>\n",
       "<div class=\"option_v \" data-value=\"1849\">1849</div>\n",
       "<div class=\"option_v \" data-value=\"1848\">1848</div>\n",
       "<div class=\"option_v \" data-value=\"1847\">1847</div>\n",
       "<div class=\"option_v \" data-value=\"1846\">1846</div>\n",
       "<div class=\"option_v \" data-value=\"1845\">1845</div>\n",
       "<div class=\"option_v \" data-value=\"1844\">1844</div>\n",
       "<div class=\"option_v \" data-value=\"1843\">1843</div>\n",
       "<div class=\"option_v \" data-value=\"1842\">1842</div>\n",
       "<div class=\"option_v \" data-value=\"1841\">1841</div>\n",
       "<div class=\"option_v \" data-value=\"1840\">1840</div>\n",
       "<div class=\"option_v \" data-value=\"1839\">1839</div>\n",
       "<div class=\"option_v \" data-value=\"1838\">1838</div>\n",
       "<div class=\"option_v \" data-value=\"1837\">1837</div>\n",
       "<div class=\"option_v \" data-value=\"1836\">1836</div>\n",
       "<div class=\"option_v \" data-value=\"1835\">1835</div>\n",
       "<div class=\"option_v \" data-value=\"1834\">1834</div>\n",
       "<div class=\"option_v \" data-value=\"1833\">1833</div>\n",
       "<div class=\"option_v \" data-value=\"1832\">1832</div>\n",
       "<div class=\"option_v \" data-value=\"1831\">1831</div>\n",
       "<div class=\"option_v \" data-value=\"1830\">1830</div>\n",
       "<div class=\"option_v \" data-value=\"1829\">1829</div>\n",
       "<div class=\"option_v \" data-value=\"1828\">1828</div>\n",
       "<div class=\"option_v \" data-value=\"1827\">1827</div>\n",
       "<div class=\"option_v \" data-value=\"1826\">1826</div>\n",
       "<div class=\"option_v \" data-value=\"1825\">1825</div>\n",
       "<div class=\"option_v \" data-value=\"1824\">1824</div>\n",
       "<div class=\"option_v \" data-value=\"1823\">1823</div>\n",
       "<div class=\"option_v \" data-value=\"1822\">1822</div>\n",
       "<div class=\"option_v \" data-value=\"1821\">1821</div>\n",
       "<div class=\"option_v \" data-value=\"1820\">1820</div>\n",
       "<div class=\"option_v \" data-value=\"1819\">1819</div>\n",
       "<div class=\"option_v \" data-value=\"1818\">1818</div>\n",
       "</div>\n",
       "<div class=\"clr\"></div>\n",
       "</div>\n",
       "<div class=\"finput_ab_b\">\n",
       "<div class=\"frange_hb_b\">Nesvarbu</div>\n",
       "<div class=\"clr\"></div>\n",
       "</div>\n",
       "</div>\n",
       "<div class=\"finput_s_b\" id=\"finputstb_164143\"></div>\n",
       "<i class=\"finput_clear finput_clear_range \" id=\"finputclear_164143\"></i>\n",
       "<input id=\"finputhi_164143_gte\" name=\"search[gte][statybos_metai]\" type=\"hidden\" value=\"\"/>\n",
       "<input id=\"finputhi_164143_lte\" name=\"search[lte][statybos_metai]\" type=\"hidden\" value=\"\"/>\n",
       "<div class=\"clr\"></div>\n",
       "</div>\n",
       "</div>\n",
       "</div>\n",
       "</div><div class=\" input_group_v input_group_fl col_1 mob_filter_group_v\" id=\"mob_filter_group_v_192673\"><!-- 192673,FieldCheckBoxExt,search_multiple_v3 --><div class=\"no_padding v3f empty_v2f\">\n",
       "<div class=\"select-box fmultiple fd1c trackOver_class load_data\" data-dname=\"sildymas\" id=\"finputb_192673\">\n",
       "<div class=\"finput_h_b\" id=\"finputhb_192673\">Šildymas</div>\n",
       "<div class=\"inner_padder\" id=\"inner_padder_192673\">\n",
       "<div class=\"fmultiple_options foptions_wbutton\" id=\"fmultipleoptions_192673\">\n",
       "<div class=\"inner_options\">\n",
       "<div class=\"option_v \" data-value=\"100011131\">Centrinis</div>\n",
       "<div class=\"option_v \" data-value=\"111291693\">Centrinis kolektorinis</div>\n",
       "<div class=\"option_v \" data-value=\"119906752\">Dujinis</div>\n",
       "<div class=\"option_v \" data-value=\"119906742\">Elektra</div>\n",
       "<div class=\"option_v \" data-value=\"144003426\">Geoterminis</div>\n",
       "<div class=\"option_v \" data-value=\"119906762\">Kietu kuru</div>\n",
       "<div class=\"option_v \" data-value=\"119906772\">Skystu kuru</div>\n",
       "<div class=\"option_v \" data-value=\"100011133\">Kita</div>\n",
       "</div>\n",
       "<div class=\"finput_ab_b\">\n",
       "<div class=\"fmultiple_hb_b\">Nesvarbu</div>\n",
       "<div class=\"clr\"></div>\n",
       "</div>\n",
       "</div>\n",
       "<div class=\"finput_s_b\" id=\"finputstb_192673\"></div>\n",
       "<i class=\"finput_clear finput_clear_multiple \" id=\"finputclear_192673\"></i>\n",
       "<input id=\"fmultiple_options_h_dname_192673\" type=\"hidden\" value=\"search[in][sildymas][]\"/>\n",
       "<div id=\"fmultiple_options_h_b_192673\">\n",
       "</div>\n",
       "<div class=\"clr\"></div>\n",
       "</div>\n",
       "</div>\n",
       "</div></div><div class=\" input_group_v input_group_fl col_2 mob_filter_group_v\" id=\"mob_filter_group_v_46523\"><!-- 46523,FieldIntExt,search_range_v3 --><div class=\"no_padding v3f empty_v2f\">\n",
       "<div class=\"select-box frange fcenter fd1c trackOver_class\" id=\"finputb_46523\">\n",
       "<div class=\"finput_h_b\" id=\"finputhb_46523\">Aukštas (nuo, iki)</div>\n",
       "<div class=\"inner_padder\" id=\"inner_padder_46523\">\n",
       "<div class=\"frange_options foptions_wbutton\" id=\"frangeoptions_46523\">\n",
       "<div class=\"inner_options\">\n",
       "<div class=\"gte_b\">\n",
       "<div class=\"option_v\" data-value=\"\">nuo</div>\n",
       "<div class=\"option_v \" data-value=\"1\">1</div>\n",
       "<div class=\"option_v \" data-value=\"2\">2</div>\n",
       "<div class=\"option_v \" data-value=\"3\">3</div>\n",
       "<div class=\"option_v \" data-value=\"4\">4</div>\n",
       "<div class=\"option_v \" data-value=\"5\">5</div>\n",
       "<div class=\"option_v \" data-value=\"6\">6</div>\n",
       "<div class=\"option_v \" data-value=\"7\">7</div>\n",
       "<div class=\"option_v \" data-value=\"8\">8</div>\n",
       "<div class=\"option_v \" data-value=\"9\">9</div>\n",
       "<div class=\"option_v \" data-value=\"10\">10</div>\n",
       "<div class=\"option_v \" data-value=\"11\">11</div>\n",
       "<div class=\"option_v \" data-value=\"12\">12</div>\n",
       "<div class=\"option_v \" data-value=\"13\">13</div>\n",
       "<div class=\"option_v \" data-value=\"14\">14</div>\n",
       "<div class=\"option_v \" data-value=\"15\">15</div>\n",
       "<div class=\"option_v \" data-value=\"16\">16</div>\n",
       "<div class=\"option_v \" data-value=\"17\">17</div>\n",
       "<div class=\"option_v \" data-value=\"18\">18</div>\n",
       "<div class=\"option_v \" data-value=\"19\">19</div>\n",
       "<div class=\"option_v \" data-value=\"20\">20</div>\n",
       "<div class=\"option_v \" data-value=\"21\">21</div>\n",
       "<div class=\"option_v \" data-value=\"22\">22</div>\n",
       "<div class=\"option_v \" data-value=\"23\">23</div>\n",
       "<div class=\"option_v \" data-value=\"24\">24</div>\n",
       "<div class=\"option_v \" data-value=\"25\">25</div>\n",
       "<div class=\"option_v \" data-value=\"26\">26</div>\n",
       "<div class=\"option_v \" data-value=\"27\">27</div>\n",
       "<div class=\"option_v \" data-value=\"28\">28</div>\n",
       "<div class=\"option_v \" data-value=\"29\">29</div>\n",
       "<div class=\"option_v \" data-value=\"30\">30</div>\n",
       "<div class=\"option_v \" data-value=\"31\">31</div>\n",
       "<div class=\"option_v \" data-value=\"32\">32</div>\n",
       "<div class=\"option_v \" data-value=\"33\">33</div>\n",
       "<div class=\"option_v \" data-value=\"34\">34</div>\n",
       "<div class=\"option_v \" data-value=\"35\">35</div>\n",
       "<div class=\"option_v \" data-value=\"36\">36</div>\n",
       "<div class=\"option_v \" data-value=\"37\">37</div>\n",
       "<div class=\"option_v \" data-value=\"38\">38</div>\n",
       "<div class=\"option_v \" data-value=\"39\">39</div>\n",
       "<div class=\"option_v \" data-value=\"40\">40</div>\n",
       "</div>\n",
       "<div class=\"lte_b\">\n",
       "<div class=\"option_v\" data-value=\"\">iki</div>\n",
       "<div class=\"option_v \" data-value=\"1\">1</div>\n",
       "<div class=\"option_v \" data-value=\"2\">2</div>\n",
       "<div class=\"option_v \" data-value=\"3\">3</div>\n",
       "<div class=\"option_v \" data-value=\"4\">4</div>\n",
       "<div class=\"option_v \" data-value=\"5\">5</div>\n",
       "<div class=\"option_v \" data-value=\"6\">6</div>\n",
       "<div class=\"option_v \" data-value=\"7\">7</div>\n",
       "<div class=\"option_v \" data-value=\"8\">8</div>\n",
       "<div class=\"option_v \" data-value=\"9\">9</div>\n",
       "<div class=\"option_v \" data-value=\"10\">10</div>\n",
       "<div class=\"option_v \" data-value=\"11\">11</div>\n",
       "<div class=\"option_v \" data-value=\"12\">12</div>\n",
       "<div class=\"option_v \" data-value=\"13\">13</div>\n",
       "<div class=\"option_v \" data-value=\"14\">14</div>\n",
       "<div class=\"option_v \" data-value=\"15\">15</div>\n",
       "<div class=\"option_v \" data-value=\"16\">16</div>\n",
       "<div class=\"option_v \" data-value=\"17\">17</div>\n",
       "<div class=\"option_v \" data-value=\"18\">18</div>\n",
       "<div class=\"option_v \" data-value=\"19\">19</div>\n",
       "<div class=\"option_v \" data-value=\"20\">20</div>\n",
       "<div class=\"option_v \" data-value=\"21\">21</div>\n",
       "<div class=\"option_v \" data-value=\"22\">22</div>\n",
       "<div class=\"option_v \" data-value=\"23\">23</div>\n",
       "<div class=\"option_v \" data-value=\"24\">24</div>\n",
       "<div class=\"option_v \" data-value=\"25\">25</div>\n",
       "<div class=\"option_v \" data-value=\"26\">26</div>\n",
       "<div class=\"option_v \" data-value=\"27\">27</div>\n",
       "<div class=\"option_v \" data-value=\"28\">28</div>\n",
       "<div class=\"option_v \" data-value=\"29\">29</div>\n",
       "<div class=\"option_v \" data-value=\"30\">30</div>\n",
       "<div class=\"option_v \" data-value=\"31\">31</div>\n",
       "<div class=\"option_v \" data-value=\"32\">32</div>\n",
       "<div class=\"option_v \" data-value=\"33\">33</div>\n",
       "<div class=\"option_v \" data-value=\"34\">34</div>\n",
       "<div class=\"option_v \" data-value=\"35\">35</div>\n",
       "<div class=\"option_v \" data-value=\"36\">36</div>\n",
       "<div class=\"option_v \" data-value=\"37\">37</div>\n",
       "<div class=\"option_v \" data-value=\"38\">38</div>\n",
       "<div class=\"option_v \" data-value=\"39\">39</div>\n",
       "<div class=\"option_v \" data-value=\"40\">40</div>\n",
       "</div>\n",
       "<div class=\"clr\"></div>\n",
       "</div>\n",
       "<div class=\"finput_ab_b\">\n",
       "<div class=\"frange_hb_b\">Nesvarbu</div>\n",
       "<div class=\"clr\"></div>\n",
       "</div>\n",
       "</div>\n",
       "<div class=\"finput_s_b\" id=\"finputstb_46523\"></div>\n",
       "<i class=\"finput_clear finput_clear_range \" id=\"finputclear_46523\"></i>\n",
       "<input id=\"finputhi_46523_gte\" name=\"search[gte][buto_aukstas_1]\" type=\"hidden\" value=\"\"/>\n",
       "<input id=\"finputhi_46523_lte\" name=\"search[lte][buto_aukstas_1]\" type=\"hidden\" value=\"\"/>\n",
       "<div class=\"clr\"></div>\n",
       "</div>\n",
       "</div>\n",
       "</div>\n",
       "</div><div class=\" input_group_v input_group_fl col_3 mob_filter_group_v\" id=\"mob_filter_group_v_192655\"><!-- 192655,FieldHidden,search_range_v3 --><div class=\"no_padding v3f empty_v2f\">\n",
       "<div class=\"select-box frange fcenter fd1c trackOver_class\" id=\"finputb_192655\">\n",
       "<div class=\"finput_h_b\" id=\"finputhb_192655\">Kaina,  €/m²</div>\n",
       "<div class=\"inner_padder\" id=\"inner_padder_192655\">\n",
       "<div class=\"frange_options foptions_wbutton\" id=\"frangeoptions_192655\">\n",
       "<div class=\"inner_options\">\n",
       "<div class=\"gte_b\">\n",
       "<input placeholder=\"nuo\" type=\"number\" value=\"\"/>\n",
       "<div class=\"option_v \" data-value=\"500\">500</div>\n",
       "<div class=\"option_v \" data-value=\"700\">700</div>\n",
       "<div class=\"option_v \" data-value=\"1000\">1 000</div>\n",
       "<div class=\"option_v \" data-value=\"1100\">1 100</div>\n",
       "<div class=\"option_v \" data-value=\"1200\">1 200</div>\n",
       "<div class=\"option_v \" data-value=\"1300\">1 300</div>\n",
       "<div class=\"option_v \" data-value=\"1400\">1 400</div>\n",
       "<div class=\"option_v \" data-value=\"1500\">1 500</div>\n",
       "<div class=\"option_v \" data-value=\"1600\">1 600</div>\n",
       "<div class=\"option_v \" data-value=\"1700\">1 700</div>\n",
       "<div class=\"option_v \" data-value=\"1800\">1 800</div>\n",
       "<div class=\"option_v \" data-value=\"1900\">1 900</div>\n",
       "<div class=\"option_v \" data-value=\"2000\">2 000</div>\n",
       "<div class=\"option_v \" data-value=\"2500\">2 500</div>\n",
       "<div class=\"option_v \" data-value=\"3000\">3 000</div>\n",
       "<div class=\"option_v \" data-value=\"4000\">4 000</div>\n",
       "</div>\n",
       "<div class=\"lte_b\">\n",
       "<input placeholder=\"iki\" type=\"number\" value=\"\"/>\n",
       "<div class=\"option_v \" data-value=\"500\">500</div>\n",
       "<div class=\"option_v \" data-value=\"700\">700</div>\n",
       "<div class=\"option_v \" data-value=\"1000\">1 000</div>\n",
       "<div class=\"option_v \" data-value=\"1100\">1 100</div>\n",
       "<div class=\"option_v \" data-value=\"1200\">1 200</div>\n",
       "<div class=\"option_v \" data-value=\"1300\">1 300</div>\n",
       "<div class=\"option_v \" data-value=\"1400\">1 400</div>\n",
       "<div class=\"option_v \" data-value=\"1500\">1 500</div>\n",
       "<div class=\"option_v \" data-value=\"1600\">1 600</div>\n",
       "<div class=\"option_v \" data-value=\"1700\">1 700</div>\n",
       "<div class=\"option_v \" data-value=\"1800\">1 800</div>\n",
       "<div class=\"option_v \" data-value=\"1900\">1 900</div>\n",
       "<div class=\"option_v \" data-value=\"2000\">2 000</div>\n",
       "<div class=\"option_v \" data-value=\"2500\">2 500</div>\n",
       "<div class=\"option_v \" data-value=\"3000\">3 000</div>\n",
       "<div class=\"option_v \" data-value=\"4000\">4 000</div>\n",
       "</div>\n",
       "<div class=\"clr\"></div>\n",
       "</div>\n",
       "<div class=\"finput_ab_b\">\n",
       "<div class=\"frange_hb_b\">Nesvarbu</div>\n",
       "<div class=\"clr\"></div>\n",
       "</div>\n",
       "</div>\n",
       "<div class=\"finput_s_b\" id=\"finputstb_192655\"></div>\n",
       "<i class=\"finput_clear finput_clear_range \" id=\"finputclear_192655\"></i>\n",
       "<input id=\"finputhi_192655_gte\" name=\"search[gte][kaina_1_m]\" type=\"hidden\" value=\"\"/>\n",
       "<input id=\"finputhi_192655_lte\" name=\"search[lte][kaina_1_m]\" type=\"hidden\" value=\"\"/>\n",
       "<div class=\"clr\"></div>\n",
       "</div>\n",
       "</div>\n",
       "</div>\n",
       "</div><div class=\" input_group_v input_group_fl col_0 mob_filter_group_v\" id=\"mob_filter_group_v_132773\"><!-- 132773,FieldDropDown,search_dropdown_v3 --><div class=\"no_padding v3f empty_v2f\">\n",
       "<div class=\"select-box trackOver_class fdropdown fd1c trackOver_class load_data\" data-dname=\"pardavejas\" id=\"finputb_132773\">\n",
       "<div class=\"finput_h_b\" id=\"finputhb_132773\">Pardavėjas</div>\n",
       "<div class=\"inner_padder\" id=\"inner_padder_132773\">\n",
       "<div class=\"fdropdown_options\" id=\"fdropdownoptions_132773\">\n",
       "<div class=\"inner_options\">\n",
       "<div class=\"option_v \" data-value=\"147116791\">Privatus asmuo</div>\n",
       "<div class=\"option_v \" data-value=\"147116793\">Agentūra/statytojas</div>\n",
       "</div>\n",
       "<div class=\"fdropdown_ab_b\">\n",
       "<div class=\"fdropdown_hb_b\">Nesvarbu</div>\n",
       "<div class=\"clr\"></div>\n",
       "</div>\n",
       "</div>\n",
       "<div class=\"finput_s_b \" id=\"finputstb_132773\"></div>\n",
       "<i class=\"finput_clear finput_clear_dropdown \" id=\"finputclear_132773\"></i>\n",
       "<input id=\"finputhi_132773\" name=\"search[eq][pardavejas]\" type=\"hidden\" value=\"\"/>\n",
       "<div class=\"clr\"></div>\n",
       "</div>\n",
       "</div>\n",
       "</div></div><div class=\" input_group_v input_group_fl col_1 mob_filter_group_v\" id=\"mob_filter_group_v_77333\"><!-- 77333,FieldCheckBoxExt,search_eqmultiple_v3 --><div class=\"no_padding v3f empty_v2f\">\n",
       "<div class=\"select-box fmultiple fd1c trackOver_class load_data\" data-dname=\"ypatybes\" id=\"finputb_77333\">\n",
       "<div class=\"finput_h_b\" id=\"finputhb_77333\">Ypatybės</div>\n",
       "<div class=\"inner_padder\" id=\"inner_padder_77333\">\n",
       "<div class=\"fmultiple_options foptions_wbutton\" id=\"fmultipleoptions_77333\">\n",
       "<div class=\"inner_options\">\n",
       "<div class=\"option_v \" data-value=\"100011151\">Atskiras įėjimas</div>\n",
       "<div class=\"option_v \" data-value=\"100011148\">Aukštos lubos</div>\n",
       "<div class=\"option_v \" data-value=\"100011145\">Butas bendrabutyje</div>\n",
       "<div class=\"option_v \" data-value=\"147251903\">Butas palėpėje</div>\n",
       "<div class=\"option_v \" data-value=\"147251925\">Butas per kelis aukštus</div>\n",
       "<div class=\"option_v \" data-value=\"147251927\">Loftas</div>\n",
       "<div class=\"option_v \" data-value=\"100011149\">Liftas</div>\n",
       "<div class=\"option_v \" data-value=\"147251929\">Nauja elektros instaliacija</div>\n",
       "<div class=\"option_v \" data-value=\"147251931\">Nauja kanalizacija</div>\n",
       "<div class=\"option_v \" data-value=\"147251937\">Renovuotas namas</div>\n",
       "<div class=\"option_v \" data-value=\"100011147\">Virtuvė sujungta su kambariu</div>\n",
       "<div class=\"option_v \" data-value=\"147251939\">Uždaras kiemas</div>\n",
       "<div class=\"option_v \" data-value=\"147251941\">Kabelinė televizija</div>\n",
       "<div class=\"option_v \" data-value=\"147251943\">Internetas</div>\n",
       "</div>\n",
       "<div class=\"finput_ab_b\">\n",
       "<div class=\"fmultiple_hb_b\">Nesvarbu</div>\n",
       "<div class=\"clr\"></div>\n",
       "</div>\n",
       "</div>\n",
       "<div class=\"finput_s_b\" id=\"finputstb_77333\"></div>\n",
       "<i class=\"finput_clear finput_clear_multiple \" id=\"finputclear_77333\"></i>\n",
       "<input id=\"fmultiple_options_h_dname_77333\" type=\"hidden\" value=\"search[eqin][ypatybes][]\"/>\n",
       "<div id=\"fmultiple_options_h_b_77333\">\n",
       "</div>\n",
       "<div class=\"clr\"></div>\n",
       "</div>\n",
       "</div>\n",
       "</div></div><div class=\" input_group_v input_group_fl col_2 mob_filter_group_v\" id=\"mob_filter_group_v_192675\"><!-- 192675,FieldCheckBoxExt,search_multiple_v3 --><div class=\"no_padding v3f empty_v2f\">\n",
       "<div class=\"select-box fmultiple fd1c trackOver_class load_data\" data-dname=\"papildomos_patalpos\" id=\"finputb_192675\">\n",
       "<div class=\"finput_h_b\" id=\"finputhb_192675\">Papildomos patalpos</div>\n",
       "<div class=\"inner_padder\" id=\"inner_padder_192675\">\n",
       "<div class=\"fmultiple_options foptions_wbutton\" id=\"fmultipleoptions_192675\">\n",
       "<div class=\"inner_options\">\n",
       "<div class=\"option_v \" data-value=\"147251965\">Balkonas</div>\n",
       "<div class=\"option_v \" data-value=\"147251967\">Drabužinė</div>\n",
       "<div class=\"option_v \" data-value=\"147251969\">Yra palėpė</div>\n",
       "<div class=\"option_v \" data-value=\"147251971\">Pirtis</div>\n",
       "<div class=\"option_v \" data-value=\"147251977\">Rūsys</div>\n",
       "<div class=\"option_v \" data-value=\"147251979\">Sandėliukas</div>\n",
       "<div class=\"option_v \" data-value=\"147251981\">Terasa</div>\n",
       "<div class=\"option_v \" data-value=\"147251983\">Vieta automobiliui</div>\n",
       "</div>\n",
       "<div class=\"finput_ab_b\">\n",
       "<div class=\"fmultiple_hb_b\">Nesvarbu</div>\n",
       "<div class=\"clr\"></div>\n",
       "</div>\n",
       "</div>\n",
       "<div class=\"finput_s_b\" id=\"finputstb_192675\"></div>\n",
       "<i class=\"finput_clear finput_clear_multiple \" id=\"finputclear_192675\"></i>\n",
       "<input id=\"fmultiple_options_h_dname_192675\" type=\"hidden\" value=\"search[in][papildomos_patalpos][]\"/>\n",
       "<div id=\"fmultiple_options_h_b_192675\">\n",
       "</div>\n",
       "<div class=\"clr\"></div>\n",
       "</div>\n",
       "</div>\n",
       "</div></div><div class=\"clr\"></div></div> </div>\n",
       "<div id=\"filters_more_b\">\n",
       "<div class=\"input_group_v mob_filter_group_v\" id=\"mob_filter_group_v_showageupdated\" style=\"position: absolute; z-index: 80; width: 240px\">\n",
       "<div class=\"no_padding v3f empty_v2f\">\n",
       "<div class=\"select-box fdropdown fd1c trackOver_class\" id=\"finputb_showageupdated\">\n",
       "<div class=\"finput_h_b\" id=\"finputhb_showageupdated\" style=\"float: left; width: 44%; max-height: none;\">Įdėtas ne seniau nei:</div>\n",
       "<div class=\"inner_padder \" id=\"inner_padder_showageupdated\" style=\"float: left; width: 55%; width: calc(56% - 6px)\">\n",
       "<div class=\"fdropdown_options\" id=\"fdropdownoptions_showageupdated\">\n",
       "<div class=\"inner_options\">\n",
       "<div class=\"option_v\" data-value=\"0\">1 diena</div>\n",
       "<div class=\"option_v\" data-value=\"1\">2 dienos</div>\n",
       "<div class=\"option_v\" data-value=\"3\">3 dienos</div>\n",
       "<div class=\"option_v\" data-value=\"6\">7 dienos</div>\n",
       "<div class=\"option_v\" data-value=\"30\">30 dienų</div>\n",
       "</div>\n",
       "</div>\n",
       "<div class=\"finput_s_b \" id=\"finputstb_showageupdated\"></div>\n",
       "<i class=\"finput_clear finput_clear_dropdown \" id=\"finputclear_showageupdated\"></i>\n",
       "<input id=\"finputhi_showageupdated\" name=\"search[showage_update][showage_updated]\" type=\"hidden\" value=\"\"/>\n",
       "<div class=\"clr\"></div>\n",
       "</div>\n",
       "<div class=\"clr\"></div>\n",
       "</div>\n",
       "</div>\n",
       "</div>\n",
       "<div class=\"advanced_f_b trackOver_class \" id=\"desk_filter_with_photo\">\n",
       "<input id=\"desk_filter_with_photo_input\" name=\"search[with_photos]\" type=\"hidden\" value=\"\">\n",
       "<div class=\"\" id=\"with_photo_checkbox\">\n",
       "<i></i>\n",
       "\n",
       "\t\t\t\t\tTik su nuotraukomis\n",
       "\n",
       "\t\t\t\t</div>\n",
       "</input></div>\n",
       "<div class=\"trackOver_class\" id=\"desk_submit_href_b\">Ieškoti <span>11394</span></div>\n",
       "<div class=\"trackOver_class \" id=\"deks_advanced_href_b\">Detali paieška</div>\n",
       "<a class=\"trackOver_class\" href=\"https://www.alio.lt/nekilnojamas-turtas/butai/parduoda.html\" id=\"desk_clean_href_b\">Išvalyti</a>\n",
       "<div class=\"clr\"></div>\n",
       "</div>\n",
       "</div>\n",
       "</div>\n",
       "<div class=\"mobiletablet_show\" id=\"category_group_fields_filter_b\">\n",
       "<div class=\"main_filters_b\">\n",
       "<div class=\"field_filter_b \">\n",
       "<a class=\"filters_option_hb\" href=\"https://www.alio.lt/public/category/searchFilterSet.html?category_id=1373&amp;ds=1&amp;field_type=select&amp;field_name=adresas&amp;field_part=1\" rel=\"nofollow\">\n",
       "<div class=\"filters_option_b\">\n",
       "<div class=\"filter_option_t\">\n",
       "Savivaldybė</div>\n",
       "<div class=\"selected_params\">\n",
       "</div>\n",
       "<i class=\"filters_option_hb_i\"></i>\n",
       "<div class=\"clr\"></div>\n",
       "</div>\n",
       "</a>\n",
       "</div>\n",
       "<div class=\"field_filter_b \">\n",
       "<a class=\"filters_option_hb\" href=\"https://www.alio.lt/public/category/searchFilterSet.html?category_id=1373&amp;ds=1&amp;field_type=range&amp;field_name=kambariu_skaicius&amp;field_part=1\" rel=\"nofollow\">\n",
       "<div class=\"filters_option_b\">\n",
       "<div class=\"filter_option_t\">\n",
       "Kambarių skaičius</div>\n",
       "<div class=\"selected_params\">\n",
       "</div>\n",
       "<i class=\"filters_option_hb_i\"></i>\n",
       "<div class=\"clr\"></div>\n",
       "</div>\n",
       "</a>\n",
       "</div><div class=\"field_filter_b \">\n",
       "<a class=\"filters_option_hb\" href=\"https://www.alio.lt/public/category/searchFilterSet.html?category_id=1373&amp;ds=1&amp;field_type=range&amp;field_name=busto_plotas_m&amp;field_part=1\" rel=\"nofollow\">\n",
       "<div class=\"filters_option_b\">\n",
       "<div class=\"filter_option_t\">\n",
       "Plotas, m²</div>\n",
       "<div class=\"selected_params\">\n",
       "</div>\n",
       "<i class=\"filters_option_hb_i\"></i>\n",
       "<div class=\"clr\"></div>\n",
       "</div>\n",
       "</a>\n",
       "</div><div class=\"field_filter_b \">\n",
       "<a class=\"filters_option_hb\" href=\"https://www.alio.lt/public/category/searchFilterSet.html?category_id=1373&amp;ds=1&amp;field_type=multiple&amp;field_name=busto_bukle\" rel=\"nofollow\">\n",
       "<div class=\"filters_option_b\">\n",
       "<div class=\"filter_option_t\">\n",
       "Įrengimas</div>\n",
       "<div class=\"selected_params\">\n",
       "</div>\n",
       "<i class=\"filters_option_hb_i\"></i>\n",
       "<div class=\"clr\"></div>\n",
       "</div>\n",
       "</a>\n",
       "</div><div class=\"field_filter_b \">\n",
       "<a class=\"filters_option_hb\" href=\"https://www.alio.lt/public/category/searchFilterSet.html?category_id=1373&amp;ds=1&amp;field_type=range&amp;field_name=kaina&amp;field_part=1\" rel=\"nofollow\">\n",
       "<div class=\"filters_option_b\">\n",
       "<div class=\"filter_option_t\">\n",
       "Kaina, €</div>\n",
       "<div class=\"selected_params\">\n",
       "</div>\n",
       "<i class=\"filters_option_hb_i\"></i>\n",
       "<div class=\"clr\"></div>\n",
       "</div>\n",
       "</a>\n",
       "</div> <div class=\"clr\"></div>\n",
       "</div>\n",
       "<div>\n",
       "<div>\n",
       "<a href=\"https://www.alio.lt/nekilnojamas-turtas/butai/parduoda.html\" id=\"clean_href_b\">Išvalyti</a>\n",
       "<div id=\"submit_href_b\">\n",
       "<i></i>\n",
       "\t\t\t\t\t\tIeškoti\n",
       "\t\t\t\t\t\t<span id=\"submit_href_b_count\">11394</span>\n",
       "</div>\n",
       "<div class=\"clr\"></div>\n",
       "</div>\n",
       "<a href=\"https://www.alio.lt/public/category/searchAdvanced.html?category_id=1373\" id=\"advanced_href_b\" rel=\"nofollow\">Detali paieška</a>\n",
       "</div>\n",
       "</div>\n",
       "<div class=\"clr\"></div>\n",
       "<input id=\"order_val\" name=\"order\" type=\"hidden\" value=\"\"/>\n",
       "</form></div>\n",
       "</div></div>\n",
       "<div class=\"clr\"></div>\n",
       "\n",
       "\n",
       "\n",
       "<div class=\"display_none\" id=\"main-content-middle-part-helper\"></div>\n",
       "<div class=\"shadesc\" id=\"DA_HERO\"></div>\n",
       "<div class=\"contentMiddleTop\" id=\"delfi-container-inner\">\n",
       "<div class=\"layout_index\" id=\"main-content\">\n",
       "<div id=\"main_left_b\">\n",
       "<div class=\"w890\" id=\"main-content-center\">\n",
       "<div class=\"mobiletogglehidden\" id=\"ts_header_b\">\n",
       "<h1>Parduoda butą skelbimai</h1>\n",
       "</div>\n",
       "<div class=\"\" id=\"categoryIndex_b\">\n",
       "<div class=\"results-header\">\n",
       "<div class=\"counter_b\">\n",
       "<span class=\"count_t\">Skelbimų</span> <span class=\"count_v\">11394</span>\n",
       "<div class=\"clr\"></div>\n",
       "</div>\n",
       "<a class=\"showmobile\" href=\"https://www.alio.lt/public/category/setOrders.html?category_id=1373\" id=\"order_btn_b\" rel=\"nofollow\">\n",
       "<i></i> Rūšiuoti    </a>\n",
       "<select class=\"mobiletablet_hide\" id=\"s_order_select\">\n",
       "<option data-uri-value=\"https://www.alio.lt/paieska/?category_id=1373&amp;order=popular\" value=\"popular\">Populiariausi viršuje</option>\n",
       "<option data-uri-value=\"https://www.alio.lt/paieska/?category_id=1373&amp;order=ad_id\" value=\"ad_id\">Naujausi viršuje</option>\n",
       "<option data-uri-value=\"https://www.alio.lt/paieska/?category_id=1373&amp;order=price\" value=\"price\">Pigesni viršuje</option>\n",
       "<option data-uri-value=\"https://www.alio.lt/paieska/?category_id=1373&amp;order=price_desc\" value=\"price_desc\">Brangiausi viršuje</option>\n",
       "</select>\n",
       "<div class=\"mobilehide\" id=\"searchHeaderMenu_b\">\n",
       "<div id=\"subscriptions_h_b\">\n",
       "<div id=\"subscription_text\">\n",
       "<span class=\"full_h_b\" id=\"subscription_full_h\">Parduodami butai</span>\n",
       "<br/>\n",
       "<div id=\"subscription_text_params\"><em id=\"subscription_city_name\"></em></div>\n",
       "</div>\n",
       "<div id=\"subscription_b_b\">\n",
       "<i></i>\n",
       "<a class=\"eventView\" data-creation=\"Nauju skelbimu prenumerata virsuje\" data-id=\"new_item_subscription_top\" data-name=\"Skelbimo kategorijos\" data-pos=\"category_title\" href=\"https://www.alio.lt/prenumerata.html?category=1373\" rel=\"nofollow\">\n",
       "<span class=\"notsc\">Prenumerata</span>\n",
       "<span class=\"issc\">Gauti naujus skelbimus el.paštu</span>\n",
       "</a>\n",
       "</div>\n",
       "</div>\n",
       "<div class=\"clr\"></div>\n",
       "</div>\n",
       "<div class=\"clr\"></div>\n",
       "</div><div class=\"result white\" data-score=\"1.6839\" id=\"lv_ad_id_57375186\">\n",
       "<div class=\"main_a_c_b\">\n",
       "<a class=\"showmobile listview_mob_f cursor-pointer\" href=\"https://www.alio.lt/skelbimai/1-kamb-butas-klaipeda-debrecenas-debreceno-g/ID57375186.html\"></a>\n",
       "<div class=\"image\">\n",
       "<a class=\"vertiselink cursor-pointer\" href=\"https://www.alio.lt/skelbimai/1-kamb-butas-klaipeda-debrecenas-debreceno-g/ID57375186.html\">\n",
       "<img alt=\"1 kamb. butas Klaipėda, Debrecenas, Debreceno g.\" class=\"imgbl lazyunveil listviewphoto_over\" data-src=\"https://g2.acdn.lt/photos/180517/12/57375186-1702-1_large.jpg\" data-src-key=\"0\" data-src-more=\"https://g2.acdn.lt/photos/180517/12/57375186-1702-1_large.jpg;https://g.acdn.lt/photos/180517/12/57375186-6545-2_large.jpg;https://g.acdn.lt/photos/180517/12/57375186-4824-3_large.jpg;https://g.acdn.lt/photos/180517/12/57375186-4245-4_large.jpg;https://g.acdn.lt/photos/180517/12/57375186-9884-6_large.jpg\" height=\"120\" id=\"listviewphotoover_57375186\" src=\"https://g4.acdn.lt/img/listview_loader.gif\" width=\"180\"/>\n",
       "</a>\n",
       "</div>\n",
       "<div class=\"desc_m_a_b\">\n",
       "<div class=\"desc_inner_b \">\n",
       "<div class=\"title\">\n",
       "<a class=\"vertiselink cursor-pointer\" href=\"https://www.alio.lt/skelbimai/1-kamb-butas-klaipeda-debrecenas-debreceno-g/ID57375186.html\">\n",
       "          1 kamb. butas Klaipėda, Debrecenas, Debreceno g.        </a>\n",
       "</div>\n",
       "<div class=\"description_more descm_1373\">Agentūra/statytojas</div>\n",
       "<div class=\"price\">\n",
       "<span class=\"main_price \">25 500 €</span> <span class=\"sub_price \">(981  €/m²)</span>\n",
       "<div class=\"clr\"></div>\n",
       "</div>\n",
       "<div class=\"description\">26 m² <span class=\"listview_spacer\">|</span>  1 kamb. <span class=\"listview_spacer\">|</span>  2 / 5 a.</div>\n",
       "</div>\n",
       "<div class=\"clr\"></div>\n",
       "<div class=\"stars_href_b\">\n",
       "<div class=\"star_count_b\">\n",
       "<div class=\"start_i_b\">\n",
       "<div class=\"start_i_placer\"></div>\n",
       "</div>\n",
       "<span class=\"stars_count\">4</span>\n",
       "</div>\n",
       "</div>\n",
       "<span class=\"modification\">\n",
       "<time class=\"uptodate\" datetime=\"\">prieš 2 d.</time>\n",
       "</span>\n",
       "</div>\n",
       "<div class=\"favDiv mobilehide \" data-href=\"https://www.alio.lt/public/favoritesAds/toggle_list.html?id=57375186\" id=\"fav_d_57375186\">\n",
       "<span class=\"togglefav\"></span>\n",
       "<span class=\"fav_h_t\">Pažymėti</span>\n",
       "</div>\n",
       "</div>\n",
       "<div class=\"clr\"></div>\n",
       "</div>\n",
       "<div class=\"result highlight\" data-score=\"13.5841\" id=\"lv_ad_id_58465580\">\n",
       "<div class=\"main_a_c_b\">\n",
       "<a class=\"showmobile listview_mob_f cursor-pointer\" href=\"https://www.alio.lt/skelbimai/3-kamb-butas-vilnius-pilaite-karaliauciaus-g/ID58465580.html\"></a>\n",
       "<div class=\"image\">\n",
       "<a class=\"vertiselink cursor-pointer\" href=\"https://www.alio.lt/skelbimai/3-kamb-butas-vilnius-pilaite-karaliauciaus-g/ID58465580.html\">\n",
       "<img alt=\"3 kamb. butas Vilnius, Pilaitė, Karaliaučiaus g.\" class=\"imgbl lazyunveil listviewphoto_over\" data-src=\"https://g3.acdn.lt/photos/181201/16/58465580-3-kamb-butas-vilnius-pilaite-karaliauciaus-g-5558-8_large.jpg\" data-src-key=\"0\" data-src-more=\"https://g3.acdn.lt/photos/181201/16/58465580-3-kamb-butas-vilnius-pilaite-karaliauciaus-g-5558-8_large.jpg;https://g.acdn.lt/photos/181121/09/58465580-4885-1_large.jpg;https://g.acdn.lt/photos/181121/09/58465580-8115-2_large.jpg;https://g.acdn.lt/photos/181121/09/58465580-4260-3_large.jpg;https://g.acdn.lt/photos/181121/09/58465580-4985-4_large.jpg\" height=\"120\" id=\"listviewphotoover_58465580\" src=\"https://g4.acdn.lt/img/listview_loader.gif\" width=\"180\"/>\n",
       "</a>\n",
       "</div>\n",
       "<div class=\"desc_m_a_b\">\n",
       "<div class=\"desc_inner_b \">\n",
       "<div class=\"title\">\n",
       "<a class=\"vertiselink cursor-pointer\" href=\"https://www.alio.lt/skelbimai/3-kamb-butas-vilnius-pilaite-karaliauciaus-g/ID58465580.html\">\n",
       "          3 kamb. butas Vilnius, Pilaitė, Karaliaučiaus g.        </a>\n",
       "</div>\n",
       "<div class=\"description_more descm_1373\">Agentūra/statytojas</div>\n",
       "<div class=\"price\">\n",
       "<span class=\"main_price \">135 000 €</span> <span class=\"sub_price \">(1 570  €/m²)</span>\n",
       "<div class=\"clr\"></div>\n",
       "</div>\n",
       "<div class=\"description\">86 m² <span class=\"listview_spacer\">|</span>  3 kamb. <span class=\"listview_spacer\">|</span>  2015 m. <span class=\"listview_spacer\">|</span>  4 / 9 a.</div>\n",
       "</div>\n",
       "<div class=\"clr\"></div>\n",
       "<div class=\"stars_href_b\">\n",
       "<div class=\"star_count_b\">\n",
       "<div class=\"start_i_b\">\n",
       "<div class=\"start_i_placer\"></div>\n",
       "</div>\n",
       "<span class=\"stars_count\">3</span>\n",
       "</div>\n",
       "</div>\n",
       "<span class=\"modification\">\n",
       "<time class=\"uptodate\" datetime=\"\">prieš 2 val.</time>\n",
       "</span>\n",
       "</div>\n",
       "<div class=\"favDiv mobilehide \" data-href=\"https://www.alio.lt/public/favoritesAds/toggle_list.html?id=58465580\" id=\"fav_d_58465580\">\n",
       "<span class=\"togglefav\"></span>\n",
       "<span class=\"fav_h_t\">Pažymėti</span>\n",
       "</div>\n",
       "</div>\n",
       "<div class=\"clr\"></div>\n",
       "</div>\n",
       "<div class=\"result highlight\" data-score=\"11.4217\" id=\"lv_ad_id_57975708\">\n",
       "<div class=\"main_a_c_b\">\n",
       "<a class=\"showmobile listview_mob_f cursor-pointer\" href=\"https://www.alio.lt/skelbimai/2-kamb-butas-klaipeda-banduziai-mogiliovo-g/ID57975708.html\"></a>\n",
       "<div class=\"image\">\n",
       "<a class=\"vertiselink cursor-pointer\" href=\"https://www.alio.lt/skelbimai/2-kamb-butas-klaipeda-banduziai-mogiliovo-g/ID57975708.html\">\n",
       "<img alt=\"2 kamb. butas Klaipėda, Bandužiai, Mogiliovo g.\" class=\"imgbl lazyunveil listviewphoto_over\" data-src=\"https://g1.acdn.lt/photos/180902/01/57975708-5308-1_large.jpg\" data-src-key=\"0\" data-src-more=\"https://g3.acdn.lt/photos/180902/01/57975708-5308-1_large.jpg;https://g.acdn.lt/photos/180902/01/57975708-8328-2_large.jpg;https://g.acdn.lt/photos/180902/01/57975708-1464-3_large.jpg;https://g.acdn.lt/photos/180902/01/57975708-1378-4_large.jpg;https://g.acdn.lt/photos/180902/01/57975708-3214-5_large.jpg\" height=\"120\" id=\"listviewphotoover_57975708\" src=\"https://g4.acdn.lt/img/listview_loader.gif\" width=\"180\"/>\n",
       "</a>\n",
       "</div>\n",
       "<div class=\"desc_m_a_b\">\n",
       "<div class=\"desc_inner_b \">\n",
       "<div class=\"title\">\n",
       "<a class=\"vertiselink cursor-pointer\" href=\"https://www.alio.lt/skelbimai/2-kamb-butas-klaipeda-banduziai-mogiliovo-g/ID57975708.html\">\n",
       "          2 kamb. butas Klaipėda, Bandužiai, Mogiliovo g.        </a>\n",
       "</div>\n",
       "<div class=\"description_more descm_1373\">Privatus asmuo</div>\n",
       "<div class=\"price\">\n",
       "<span class=\"main_price \">48 000 €</span> <span class=\"sub_price \">(873  €/m²)</span>\n",
       "<div class=\"clr\"></div>\n",
       "</div>\n",
       "<div class=\"description\">55 m² <span class=\"listview_spacer\">|</span>  2 kamb. <span class=\"listview_spacer\">|</span>  9 / 9 a.</div>\n",
       "</div>\n",
       "<div class=\"clr\"></div>\n",
       "<div class=\"stars_href_b\">\n",
       "<div class=\"star_count_b\">\n",
       "<div class=\"start_i_b\">\n",
       "<div class=\"start_i_placer\"></div>\n",
       "</div>\n",
       "<span class=\"stars_count\">3</span>\n",
       "</div>\n",
       "</div>\n",
       "<span class=\"modification\">\n",
       "<time class=\"uptodate\" datetime=\"\">prieš 1 val.</time>\n",
       "</span>\n",
       "</div>\n",
       "<div class=\"favDiv mobilehide \" data-href=\"https://www.alio.lt/public/favoritesAds/toggle_list.html?id=57975708\" id=\"fav_d_57975708\">\n",
       "<span class=\"togglefav\"></span>\n",
       "<span class=\"fav_h_t\">Pažymėti</span>\n",
       "</div>\n",
       "</div>\n",
       "<div class=\"clr\"></div>\n",
       "</div>\n",
       "<div class=\"result highlight\" data-score=\"9.7109\" id=\"lv_ad_id_58510335\">\n",
       "<div class=\"main_a_c_b\">\n",
       "<a class=\"showmobile listview_mob_f cursor-pointer\" href=\"https://www.alio.lt/skelbimai/2-kamb-butas-vilnius-lazdynai-architektu-g/ID58510335.html\"></a>\n",
       "<div class=\"image\">\n",
       "<a class=\"vertiselink cursor-pointer\" href=\"https://www.alio.lt/skelbimai/2-kamb-butas-vilnius-lazdynai-architektu-g/ID58510335.html\">\n",
       "<img alt=\"2 kamb. butas Vilnius, Lazdynai, Architektų g.\" class=\"imgbl lazyunveil listviewphoto_over\" data-src=\"https://g1.acdn.lt/photos/181128/10/58510335-9534-0_large.jpg\" data-src-key=\"0\" data-src-more=\"https://g3.acdn.lt/photos/181128/10/58510335-9534-0_large.jpg;https://g.acdn.lt/photos/181128/10/58510335-2837-1_large.jpg;https://g.acdn.lt/photos/181128/10/58510335-8121-2_large.jpg;https://g.acdn.lt/photos/181128/10/58510335-4779-3_large.jpg;https://g.acdn.lt/photos/181128/10/58510335-5305-4_large.jpg\" height=\"120\" id=\"listviewphotoover_58510335\" src=\"https://g4.acdn.lt/img/listview_loader.gif\" width=\"180\"/>\n",
       "</a>\n",
       "</div>\n",
       "<div class=\"desc_m_a_b\">\n",
       "<div class=\"desc_inner_b \">\n",
       "<div class=\"title\">\n",
       "<a class=\"vertiselink cursor-pointer\" href=\"https://www.alio.lt/skelbimai/2-kamb-butas-vilnius-lazdynai-architektu-g/ID58510335.html\">\n",
       "          2 kamb. butas Vilnius, Lazdynai, Architektų g.        </a>\n",
       "</div>\n",
       "<div class=\"description_more descm_1373\">Privatus asmuo</div>\n",
       "<div class=\"price\">\n",
       "<span class=\"main_price \">59 000 €</span> <span class=\"sub_price \">(1 255  €/m²)</span>\n",
       "<div class=\"clr\"></div>\n",
       "</div>\n",
       "<div class=\"description\">47 m² <span class=\"listview_spacer\">|</span>  2 kamb. <span class=\"listview_spacer\">|</span>  1975 m. <span class=\"listview_spacer\">|</span>  4 / 5 a.</div>\n",
       "</div>\n",
       "<div class=\"clr\"></div>\n",
       "<div class=\"stars_href_b\">\n",
       "<div class=\"star_count_b\">\n",
       "<div class=\"start_i_b\">\n",
       "<div class=\"start_i_placer\"></div>\n",
       "</div>\n",
       "<span class=\"stars_count\">3</span>\n",
       "</div>\n",
       "</div>\n",
       "<span class=\"modification\">\n",
       "<time class=\"uptodate\" datetime=\"\">prieš 14 d.</time>\n",
       "</span>\n",
       "</div>\n",
       "<div class=\"favDiv mobilehide \" data-href=\"https://www.alio.lt/public/favoritesAds/toggle_list.html?id=58510335\" id=\"fav_d_58510335\">\n",
       "<span class=\"togglefav\"></span>\n",
       "<span class=\"fav_h_t\">Pažymėti</span>\n",
       "</div>\n",
       "</div>\n",
       "<div class=\"clr\"></div>\n",
       "</div>\n",
       "<div class=\"reklama_div ad-placement\">\n",
       "<div class=\"reklama_icon\"></div>\n",
       "<div class=\"a890x250 shadesc shadelay margin0auto\" id=\"DA05_728x250_1\"></div>\n",
       "</div>\n",
       "<div class=\"reklama_div ad-placement showmobile\">\n",
       "<div class=\"reklama_icon\"></div>\n",
       "<center>\n",
       "<div class=\"a300x250 shamob shadelay margin0auto\" id=\"DA18_Mobile_300x250_1\"></div>\n",
       "</center>\n",
       "</div>\n",
       "<div class=\"result highlight\" data-score=\"3.1948\" id=\"lv_ad_id_58529263\">\n",
       "<div class=\"main_a_c_b\">\n",
       "<a class=\"showmobile listview_mob_f cursor-pointer\" href=\"https://www.alio.lt/skelbimai/2-kamb-butas-klaipeda-banduziai-budelkiemio-g/ID58529263.html\"></a>\n",
       "<div class=\"image\">\n",
       "<a class=\"vertiselink cursor-pointer\" href=\"https://www.alio.lt/skelbimai/2-kamb-butas-klaipeda-banduziai-budelkiemio-g/ID58529263.html\">\n",
       "<img alt=\"2 kamb. butas Klaipėda, Bandužiai, Budelkiemio g.\" class=\"imgbl lazyunveil listviewphoto_over\" data-src=\"https://g4.acdn.lt/photos/181201/14/58529263-2673-0_large.jpg\" data-src-key=\"0\" data-src-more=\"https://g2.acdn.lt/photos/181201/14/58529263-2673-0_large.jpg;https://g.acdn.lt/photos/181201/14/58529263-7277-1_large.jpg;https://g.acdn.lt/photos/181201/14/58529263-7674-2_large.jpg;https://g.acdn.lt/photos/181201/14/58529263-9253-3_large.jpg;https://g.acdn.lt/photos/181201/14/58529263-9144-4_large.jpg\" height=\"120\" id=\"listviewphotoover_58529263\" src=\"https://g4.acdn.lt/img/listview_loader.gif\" width=\"180\"/>\n",
       "</a>\n",
       "</div>\n",
       "<div class=\"desc_m_a_b\">\n",
       "<div class=\"desc_inner_b \">\n",
       "<div class=\"title\">\n",
       "<a class=\"vertiselink cursor-pointer\" href=\"https://www.alio.lt/skelbimai/2-kamb-butas-klaipeda-banduziai-budelkiemio-g/ID58529263.html\">\n",
       "          2 kamb. butas Klaipėda, Bandužiai, Budelkiemio g.        </a>\n",
       "</div>\n",
       "<div class=\"description_more descm_1373\">Privatus asmuo</div>\n",
       "<div class=\"price\">\n",
       "<span class=\"main_price \">53 000 €</span> <span class=\"sub_price \">(964  €/m²)</span>\n",
       "<div class=\"clr\"></div>\n",
       "</div>\n",
       "<div class=\"description\">55 m² <span class=\"listview_spacer\">|</span>  2 kamb. <span class=\"listview_spacer\">|</span>  1989 m. <span class=\"listview_spacer\">|</span>  6 / 9 a.</div>\n",
       "</div>\n",
       "<div class=\"clr\"></div>\n",
       "<div class=\"stars_href_b\">\n",
       "<div class=\"star_count_b\">\n",
       "<div class=\"start_i_b\">\n",
       "<div class=\"start_i_placer\"></div>\n",
       "</div>\n",
       "<span class=\"stars_count\">3</span>\n",
       "</div>\n",
       "</div>\n",
       "<span class=\"modification\">\n",
       "<time class=\"uptodate\" datetime=\"\">prieš 11 d.</time>\n",
       "</span>\n",
       "</div>\n",
       "<div class=\"favDiv mobilehide \" data-href=\"https://www.alio.lt/public/favoritesAds/toggle_list.html?id=58529263\" id=\"fav_d_58529263\">\n",
       "<span class=\"togglefav\"></span>\n",
       "<span class=\"fav_h_t\">Pažymėti</span>\n",
       "</div>\n",
       "</div>\n",
       "<div class=\"clr\"></div>\n",
       "</div>\n",
       "<div class=\"result highlight\" data-score=\"1.5724\" id=\"lv_ad_id_58467164\">\n",
       "<div class=\"main_a_c_b\">\n",
       "<a class=\"showmobile listview_mob_f cursor-pointer\" href=\"https://www.alio.lt/skelbimai/2-kamb-butas-kaunas-eiguliai-siaures-pr/ID58467164.html\"></a>\n",
       "<div class=\"image\">\n",
       "<a class=\"vertiselink cursor-pointer\" href=\"https://www.alio.lt/skelbimai/2-kamb-butas-kaunas-eiguliai-siaures-pr/ID58467164.html\">\n",
       "<img alt=\"2 kamb. butas Kaunas, Eiguliai, Šiaurės pr.\" class=\"imgbl lazyunveil listviewphoto_over\" data-src=\"https://g4.acdn.lt/photos/181121/15/58467164-parduodamas-2-kambariu-butas-kaune-7123-0_large.jpg\" data-src-key=\"0\" data-src-more=\"https://g1.acdn.lt/photos/181121/15/58467164-parduodamas-2-kambariu-butas-kaune-7123-0_large.jpg;https://g.acdn.lt/photos/181121/15/58467164-parduodamas-2-kambariu-butas-kaune-4152-7_large.jpg;https://g.acdn.lt/photos/181121/15/58467164-parduodamas-2-kambariu-butas-kaune-4567-1_large.jpg;https://g.acdn.lt/photos/181121/15/58467164-parduodamas-2-kambariu-butas-kaune-9501-2_large.jpg;https://g.acdn.lt/photos/181121/15/58467164-parduodamas-2-kambariu-butas-kaune-4410-3_large.jpg\" height=\"120\" id=\"listviewphotoover_58467164\" src=\"https://g4.acdn.lt/img/listview_loader.gif\" width=\"180\"/>\n",
       "</a>\n",
       "</div>\n",
       "<div class=\"desc_m_a_b\">\n",
       "<div class=\"desc_inner_b \">\n",
       "<div class=\"title\">\n",
       "<a class=\"vertiselink cursor-pointer\" href=\"https://www.alio.lt/skelbimai/2-kamb-butas-kaunas-eiguliai-siaures-pr/ID58467164.html\">\n",
       "          2 kamb. butas Kaunas, Eiguliai, Šiaurės pr.        </a>\n",
       "</div>\n",
       "<div class=\"description_more descm_1373\">Agentūra/statytojas</div>\n",
       "<div class=\"price\">\n",
       "<span class=\"main_price \">44 500 €</span> <span class=\"sub_price \">(1 214  €/m²)</span>\n",
       "<div class=\"clr\"></div>\n",
       "</div>\n",
       "<div class=\"description\">36.65 m² <span class=\"listview_spacer\">|</span>  2 kamb. <span class=\"listview_spacer\">|</span>  1984 m. <span class=\"listview_spacer\">|</span>  5 / 5 a.</div>\n",
       "</div>\n",
       "<div class=\"clr\"></div>\n",
       "<div class=\"stars_href_b\">\n",
       "<div class=\"star_count_b\">\n",
       "<div class=\"start_i_b\">\n",
       "<div class=\"start_i_placer\"></div>\n",
       "</div>\n",
       "<span class=\"stars_count\">3</span>\n",
       "</div>\n",
       "</div>\n",
       "<span class=\"modification\">\n",
       "<time class=\"uptodate\" datetime=\"\">prieš 21 d.</time>\n",
       "</span>\n",
       "</div>\n",
       "<div class=\"favDiv mobilehide \" data-href=\"https://www.alio.lt/public/favoritesAds/toggle_list.html?id=58467164\" id=\"fav_d_58467164\">\n",
       "<span class=\"togglefav\"></span>\n",
       "<span class=\"fav_h_t\">Pažymėti</span>\n",
       "</div>\n",
       "</div>\n",
       "<div class=\"clr\"></div>\n",
       "</div>\n",
       "<div class=\"result highlight\" data-score=\"1.2889\" id=\"lv_ad_id_58347810\">\n",
       "<div class=\"main_a_c_b\">\n",
       "<a class=\"showmobile listview_mob_f cursor-pointer\" href=\"https://www.alio.lt/skelbimai/2-kamb-butas-vilnius-zirmunai-zirmunu-g/ID58347810.html\"></a>\n",
       "<div class=\"image\">\n",
       "<a class=\"vertiselink cursor-pointer\" href=\"https://www.alio.lt/skelbimai/2-kamb-butas-vilnius-zirmunai-zirmunu-g/ID58347810.html\">\n",
       "<img alt=\"2 kamb. butas Vilnius, Žirmūnai, Žirmūnų g.\" class=\"imgbl lazyunveil listviewphoto_over\" data-src=\"https://g4.acdn.lt/photos/181125/21/58347810-2-kamb-butas-vilnius-zirmunai-zirmunu-g-2118-13_large.jpg\" data-src-key=\"0\" data-src-more=\"https://g1.acdn.lt/photos/181125/21/58347810-2-kamb-butas-vilnius-zirmunai-zirmunu-g-2118-13_large.jpg;https://g.acdn.lt/photos/181124/12/58347810-2-kamb-butas-vilnius-zirmunai-zirmunu-g-2768-11_large.jpg;https://g.acdn.lt/photos/181124/12/58347810-2-kamb-butas-vilnius-zirmunai-zirmunu-g-9482-10_large.jpg;https://g.acdn.lt/photos/181124/12/58347810-2-kamb-butas-vilnius-zirmunai-zirmunu-g-4976-9_large.jpg;https://g.acdn.lt/photos/181124/12/58347810-2-kamb-butas-vilnius-zirmunai-zirmunu-g-2790-7_large.jpg\" height=\"120\" id=\"listviewphotoover_58347810\" src=\"https://g4.acdn.lt/img/listview_loader.gif\" width=\"180\"/>\n",
       "</a>\n",
       "</div>\n",
       "<div class=\"desc_m_a_b\">\n",
       "<div class=\"desc_inner_b \">\n",
       "<div class=\"title\">\n",
       "<a class=\"vertiselink cursor-pointer\" href=\"https://www.alio.lt/skelbimai/2-kamb-butas-vilnius-zirmunai-zirmunu-g/ID58347810.html\">\n",
       "          2 kamb. butas Vilnius, Žirmūnai, Žirmūnų g.        </a>\n",
       "</div>\n",
       "<div class=\"description_more descm_1373\">Agentūra/statytojas</div>\n",
       "<div class=\"price\">\n",
       "<span class=\"main_price \">73 900 €</span> <span class=\"sub_price \">(1 760  €/m²)</span>\n",
       "<div class=\"clr\"></div>\n",
       "</div>\n",
       "<div class=\"description\">42 m² <span class=\"listview_spacer\">|</span>  2 kamb. <span class=\"listview_spacer\">|</span>  2018 m. <span class=\"listview_spacer\">|</span>  2 / 4 a.</div>\n",
       "</div>\n",
       "<div class=\"clr\"></div>\n",
       "<div class=\"stars_href_b\">\n",
       "<div class=\"star_count_b\">\n",
       "<div class=\"start_i_b\">\n",
       "<div class=\"start_i_placer\"></div>\n",
       "</div>\n",
       "<span class=\"stars_count\">3</span>\n",
       "</div>\n",
       "</div>\n",
       "<span class=\"modification\">\n",
       "<time class=\"uptodate\" datetime=\"\">prieš 6 d.</time>\n",
       "</span>\n",
       "</div>\n",
       "<div class=\"favDiv mobilehide \" data-href=\"https://www.alio.lt/public/favoritesAds/toggle_list.html?id=58347810\" id=\"fav_d_58347810\">\n",
       "<span class=\"togglefav\"></span>\n",
       "<span class=\"fav_h_t\">Pažymėti</span>\n",
       "</div>\n",
       "</div>\n",
       "<div class=\"clr\"></div>\n",
       "</div>\n",
       "<div class=\"result highlight\" data-score=\"19.3324\" id=\"lv_ad_id_58574221\">\n",
       "<div class=\"main_a_c_b\">\n",
       "<a class=\"showmobile listview_mob_f cursor-pointer\" href=\"https://www.alio.lt/skelbimai/3-kamb-butas-klaipeda-alksnyne-taikos-pr/ID58574221.html\"></a>\n",
       "<div class=\"image\">\n",
       "<a class=\"vertiselink cursor-pointer\" href=\"https://www.alio.lt/skelbimai/3-kamb-butas-klaipeda-alksnyne-taikos-pr/ID58574221.html\">\n",
       "<img alt=\"3 kamb. butas Klaipėda, Alksnynė, Taikos pr.\" class=\"imgbl lazyunveil listviewphoto_over\" data-src=\"https://g3.acdn.lt/photos/181208/22/58574221-3-kamb-butas-klaipeda-alksnyne-taikos-pr-5389-1_large.jpg\" data-src-key=\"0\" data-src-more=\"https://g1.acdn.lt/photos/181208/22/58574221-3-kamb-butas-klaipeda-alksnyne-taikos-pr-5389-1_large.jpg;https://g.acdn.lt/photos/181208/22/58574221-3-kamb-butas-klaipeda-alksnyne-taikos-pr-3056-0_large.jpg;https://g.acdn.lt/photos/181208/22/58574221-3-kamb-butas-klaipeda-alksnyne-taikos-pr-7732-2_large.jpg;https://g.acdn.lt/photos/181208/22/58574221-3-kamb-butas-klaipeda-alksnyne-taikos-pr-1432-3_large.jpg;https://g.acdn.lt/photos/181208/22/58574221-3-kamb-butas-klaipeda-alksnyne-taikos-pr-7141-4_large.jpg\" height=\"120\" id=\"listviewphotoover_58574221\" src=\"https://g4.acdn.lt/img/listview_loader.gif\" width=\"180\"/>\n",
       "</a>\n",
       "</div>\n",
       "<div class=\"desc_m_a_b\">\n",
       "<div class=\"desc_inner_b \">\n",
       "<div class=\"title\">\n",
       "<a class=\"vertiselink cursor-pointer\" href=\"https://www.alio.lt/skelbimai/3-kamb-butas-klaipeda-alksnyne-taikos-pr/ID58574221.html\">\n",
       "          3 kamb. butas Klaipėda, Alksnynė, Taikos pr.        </a>\n",
       "</div>\n",
       "<div class=\"description_more descm_1373\">Privatus asmuo</div>\n",
       "<div class=\"price\">\n",
       "<span class=\"main_price \">109 000 €</span> <span class=\"sub_price \">(1 434  €/m²)</span>\n",
       "<div class=\"clr\"></div>\n",
       "</div>\n",
       "<div class=\"description\">76 m² <span class=\"listview_spacer\">|</span>  3 kamb. <span class=\"listview_spacer\">|</span>  2007 m. <span class=\"listview_spacer\">|</span>  4 / 9 a.</div>\n",
       "</div>\n",
       "<div class=\"clr\"></div>\n",
       "<div class=\"stars_href_b\">\n",
       "<div class=\"star_count_b\">\n",
       "<div class=\"start_i_b\">\n",
       "<div class=\"start_i_placer\"></div>\n",
       "</div>\n",
       "<span class=\"stars_count\">2</span>\n",
       "</div>\n",
       "</div>\n",
       "<span class=\"modification\">\n",
       "<time class=\"uptodate\" datetime=\"\">prieš 4 d.</time>\n",
       "</span>\n",
       "</div>\n",
       "<div class=\"favDiv mobilehide \" data-href=\"https://www.alio.lt/public/favoritesAds/toggle_list.html?id=58574221\" id=\"fav_d_58574221\">\n",
       "<span class=\"togglefav\"></span>\n",
       "<span class=\"fav_h_t\">Pažymėti</span>\n",
       "</div>\n",
       "</div>\n",
       "<div class=\"clr\"></div>\n",
       "</div>\n",
       "<div class=\"result highlight\" data-score=\"11.3196\" id=\"lv_ad_id_58583049\">\n",
       "<div class=\"main_a_c_b\">\n",
       "<a class=\"showmobile listview_mob_f cursor-pointer\" href=\"https://www.alio.lt/skelbimai/parduodamas-vieno-kambario-butas/ID58583049.html\"></a>\n",
       "<div class=\"image\">\n",
       "<a class=\"vertiselink cursor-pointer\" href=\"https://www.alio.lt/skelbimai/parduodamas-vieno-kambario-butas/ID58583049.html\">\n",
       "<img alt=\"Parduodamas vieno kambario butas\" class=\"imgbl lazyunveil listviewphoto_over\" data-src=\"https://g3.acdn.lt/photos/181209/14/58583049-p-1976-0_large.jpg\" data-src-key=\"0\" data-src-more=\"https://g1.acdn.lt/photos/181209/14/58583049-p-1976-0_large.jpg;https://g.acdn.lt/photos/181209/14/58583049-p-3869-1_large.jpg;https://g.acdn.lt/photos/181209/14/58583049-p-4956-2_large.jpg;https://g.acdn.lt/photos/181209/14/58583049-p-3527-3_large.jpg;https://g.acdn.lt/photos/181209/14/58583049-p-1046-4_large.jpg\" height=\"120\" id=\"listviewphotoover_58583049\" src=\"https://g4.acdn.lt/img/listview_loader.gif\" width=\"180\"/>\n",
       "</a>\n",
       "</div>\n",
       "<div class=\"desc_m_a_b\">\n",
       "<div class=\"desc_inner_b \">\n",
       "<div class=\"title\">\n",
       "<a class=\"vertiselink cursor-pointer\" href=\"https://www.alio.lt/skelbimai/parduodamas-vieno-kambario-butas/ID58583049.html\">\n",
       "          Parduodamas vieno kambario butas        </a>\n",
       "</div>\n",
       "<div class=\"description_more descm_1373\">Privatus asmuo</div>\n",
       "<div class=\"price\">\n",
       "<span class=\"main_price \">19 900 €</span> <span class=\"sub_price \">(1 092  €/m²)</span>\n",
       "<div class=\"clr\"></div>\n",
       "</div>\n",
       "<div class=\"description\">18.23 m² <span class=\"listview_spacer\">|</span>  1 kamb. <span class=\"listview_spacer\">|</span>  1984 m. <span class=\"listview_spacer\">|</span>  11 / 12 a.</div>\n",
       "</div>\n",
       "<div class=\"clr\"></div>\n",
       "<div class=\"stars_href_b\">\n",
       "<div class=\"star_count_b\">\n",
       "<div class=\"start_i_b\">\n",
       "<div class=\"start_i_placer\"></div>\n",
       "</div>\n",
       "<span class=\"stars_count\">2</span>\n",
       "</div>\n",
       "</div>\n",
       "<div class=\"comment_href_b\">\n",
       "<div class=\"comment_count_b\">\n",
       "<div class=\"comment_i_b\">\n",
       "<div class=\"comment_i_placer\"></div>\n",
       "</div>\n",
       "<span class=\"comment_count\">1</span>\n",
       "</div>\n",
       "</div>\n",
       "<span class=\"modification\">\n",
       "<time class=\"uptodate\" datetime=\"\">prieš 3 d.</time>\n",
       "</span>\n",
       "</div>\n",
       "<div class=\"favDiv mobilehide with_comment\" data-href=\"https://www.alio.lt/public/favoritesAds/toggle_list.html?id=58583049\" id=\"fav_d_58583049\">\n",
       "<span class=\"togglefav\"></span>\n",
       "<span class=\"fav_h_t\">Pažymėti</span>\n",
       "</div>\n",
       "<div class=\"listview_comments_b mobilehide\" data-href=\"https://www.alio.lt/skelbimai/parduodamas-vieno-kambario-butas/ID58583049.html\">Komentarai (1)</div>\n",
       "</div>\n",
       "<div class=\"clr\"></div>\n",
       "</div>\n",
       "<div class=\"reklama_div ad-placement\">\n",
       "<div class=\"reklama_icon\"></div>\n",
       "<div class=\"a890x250 shadesc shadelay margin0auto\" id=\"DA06_728x250_2\"></div>\n",
       "</div>\n",
       "<div class=\"reklama_div ad-placement showmobile\">\n",
       "<div class=\"reklama_icon\"></div>\n",
       "<center>\n",
       "<div class=\"a300x250 shamob shadelay margin0auto\" id=\"DA19_Mobile_300x250_2\"></div>\n",
       "</center>\n",
       "</div>\n",
       "<div class=\"result highlight\" data-score=\"8.1495\" id=\"lv_ad_id_58568273\">\n",
       "<div class=\"main_a_c_b\">\n",
       "<a class=\"showmobile listview_mob_f cursor-pointer\" href=\"https://www.alio.lt/skelbimai/1-kamb-butas-palanga-palanga-mokyklos-g/ID58568273.html\"></a>\n",
       "<div class=\"image\">\n",
       "<a class=\"vertiselink cursor-pointer\" href=\"https://www.alio.lt/skelbimai/1-kamb-butas-palanga-palanga-mokyklos-g/ID58568273.html\">\n",
       "<img alt=\"1 kamb. butas Palanga, Palanga, Mokyklos g.\" class=\"imgbl lazyunveil listviewphoto_over\" data-src=\"https://g3.acdn.lt/photos/181207/19/58568273-1-kamb-butas-palanga-palanga-mokyklos-g-5389-8_large.jpg\" data-src-key=\"0\" data-src-more=\"https://g3.acdn.lt/photos/181207/19/58568273-1-kamb-butas-palanga-palanga-mokyklos-g-5389-8_large.jpg;https://g.acdn.lt/photos/181207/19/58568273-1-kamb-butas-palanga-palanga-mokyklos-g-6938-0_large.jpg;https://g.acdn.lt/photos/181207/19/58568273-1-kamb-butas-palanga-palanga-mokyklos-g-4864-1_large.jpg;https://g.acdn.lt/photos/181207/19/58568273-1-kamb-butas-palanga-palanga-mokyklos-g-4587-2_large.jpg;https://g.acdn.lt/photos/181207/19/58568273-1-kamb-butas-palanga-palanga-mokyklos-g-6469-3_large.jpg\" height=\"120\" id=\"listviewphotoover_58568273\" src=\"https://g4.acdn.lt/img/listview_loader.gif\" width=\"180\"/>\n",
       "</a>\n",
       "</div>\n",
       "<div class=\"desc_m_a_b\">\n",
       "<div class=\"desc_inner_b \">\n",
       "<div class=\"title\">\n",
       "<div class=\"listview_icon listview_icon_video\" title=\"Youtube video\"></div>\n",
       "<a class=\"vertiselink cursor-pointer\" href=\"https://www.alio.lt/skelbimai/1-kamb-butas-palanga-palanga-mokyklos-g/ID58568273.html\">\n",
       "          1 kamb. butas Palanga, Palanga, Mokyklos g.        </a>\n",
       "</div>\n",
       "<div class=\"description_more descm_1373\">Privatus asmuo</div>\n",
       "<div class=\"price\">\n",
       "<span class=\"main_price \">47 187 €</span> <span class=\"sub_price \">(1 482  €/m²)</span>\n",
       "<div class=\"clr\"></div>\n",
       "</div>\n",
       "<div class=\"description\">31.83 m² <span class=\"listview_spacer\">|</span>  1 kamb. <span class=\"listview_spacer\">|</span>  3 / 8 a.</div>\n",
       "</div>\n",
       "<div class=\"clr\"></div>\n",
       "<div class=\"stars_href_b\">\n",
       "<div class=\"star_count_b\">\n",
       "<div class=\"start_i_b\">\n",
       "<div class=\"start_i_placer\"></div>\n",
       "</div>\n",
       "<span class=\"stars_count\">2</span>\n",
       "</div>\n",
       "</div>\n",
       "<span class=\"modification\">\n",
       "<time class=\"uptodate\" datetime=\"\">prieš 5 d.</time>\n",
       "</span>\n",
       "</div>\n",
       "<div class=\"favDiv mobilehide \" data-href=\"https://www.alio.lt/public/favoritesAds/toggle_list.html?id=58568273\" id=\"fav_d_58568273\">\n",
       "<span class=\"togglefav\"></span>\n",
       "<span class=\"fav_h_t\">Pažymėti</span>\n",
       "</div>\n",
       "</div>\n",
       "<div class=\"clr\"></div>\n",
       "</div>\n",
       "<div class=\"result highlight\" data-score=\"8.0303\" id=\"lv_ad_id_58551107\">\n",
       "<div class=\"main_a_c_b\">\n",
       "<a class=\"showmobile listview_mob_f cursor-pointer\" href=\"https://www.alio.lt/skelbimai/kokybiskai-suremontuotas-2-atskiru-kambariu-butas-salia-senamiescio/ID58551107.html\"></a>\n",
       "<div class=\"image\">\n",
       "<a class=\"vertiselink cursor-pointer\" href=\"https://www.alio.lt/skelbimai/kokybiskai-suremontuotas-2-atskiru-kambariu-butas-salia-senamiescio/ID58551107.html\">\n",
       "<img alt=\"KOKYBIŠKAI SUREMONTUOTAS 2 ATSKIRŲ  KAMBARIŲ BUTAS ŠALIA SENAMIESČIO\" class=\"imgbl lazyunveil listviewphoto_over\" data-src=\"https://g3.acdn.lt/photos/181204/15/58551107-8179-8_large.jpg\" data-src-key=\"0\" data-src-more=\"https://g1.acdn.lt/photos/181204/15/58551107-8179-8_large.jpg;https://g.acdn.lt/photos/181204/15/58551107-5867-7_large.jpg;https://g.acdn.lt/photos/181204/15/58551107-2742-3_large.jpg;https://g.acdn.lt/photos/181204/15/58551107-7591-6_large.jpg;https://g.acdn.lt/photos/181204/15/58551107-1221-9_large.jpg\" height=\"120\" id=\"listviewphotoover_58551107\" src=\"https://g4.acdn.lt/img/listview_loader.gif\" width=\"180\"/>\n",
       "</a>\n",
       "</div>\n",
       "<div class=\"desc_m_a_b\">\n",
       "<div class=\"desc_inner_b \">\n",
       "<div class=\"title\">\n",
       "<a class=\"vertiselink cursor-pointer\" href=\"https://www.alio.lt/skelbimai/kokybiskai-suremontuotas-2-atskiru-kambariu-butas-salia-senamiescio/ID58551107.html\">\n",
       "          KOKYBIŠKAI SUREMONTUOTAS 2 ATSKIRŲ  KAMBARIŲ BUTAS ŠALIA SENAMIESČIO        </a>\n",
       "</div>\n",
       "<div class=\"description_more descm_1373\">Agentūra/statytojas</div>\n",
       "<div class=\"price\">\n",
       "<span class=\"main_price \">63 000 €</span> <span class=\"sub_price \">(1 260  €/m²)</span>\n",
       "<div class=\"clr\"></div>\n",
       "</div>\n",
       "<div class=\"description\">50 m² <span class=\"listview_spacer\">|</span>  2 kamb. <span class=\"listview_spacer\">|</span>  1970 m. <span class=\"listview_spacer\">|</span>  4 / 5 a.</div>\n",
       "</div>\n",
       "<div class=\"clr\"></div>\n",
       "<div class=\"stars_href_b\">\n",
       "<div class=\"star_count_b\">\n",
       "<div class=\"start_i_b\">\n",
       "<div class=\"start_i_placer\"></div>\n",
       "</div>\n",
       "<span class=\"stars_count\">2</span>\n",
       "</div>\n",
       "</div>\n",
       "<span class=\"modification\">\n",
       "<time class=\"uptodate\" datetime=\"\">prieš 20 val.</time>\n",
       "</span>\n",
       "</div>\n",
       "<div class=\"favDiv mobilehide \" data-href=\"https://www.alio.lt/public/favoritesAds/toggle_list.html?id=58551107\" id=\"fav_d_58551107\">\n",
       "<span class=\"togglefav\"></span>\n",
       "<span class=\"fav_h_t\">Pažymėti</span>\n",
       "</div>\n",
       "</div>\n",
       "<div class=\"clr\"></div>\n",
       "</div>\n",
       "<div class=\"result highlight\" data-score=\"3.928\" id=\"lv_ad_id_57966024\">\n",
       "<div class=\"main_a_c_b\">\n",
       "<a class=\"showmobile listview_mob_f cursor-pointer\" href=\"https://www.alio.lt/skelbimai/1-kamb-butas-siauliai-siauliai-radviliskio-g/ID57966024.html\"></a>\n",
       "<div class=\"image\">\n",
       "<a class=\"vertiselink cursor-pointer\" href=\"https://www.alio.lt/skelbimai/1-kamb-butas-siauliai-siauliai-radviliskio-g/ID57966024.html\">\n",
       "<img alt=\"1 kamb. butas Šiauliai, Šiauliai, Radviliškio g.\" class=\"imgbl lazyunveil listviewphoto_over\" data-src=\"https://g1.acdn.lt/photos/180917/13/57966024-1-kamb-butas-siauliai-siauliai-radviliskio-g-3507-12_large.jpg\" data-src-key=\"0\" data-src-more=\"https://g2.acdn.lt/photos/180917/13/57966024-1-kamb-butas-siauliai-siauliai-radviliskio-g-3507-12_large.jpg;https://g.acdn.lt/photos/180917/13/57966024-1-kamb-butas-siauliai-siauliai-radviliskio-g-5572-1_large.jpg;https://g.acdn.lt/photos/180917/13/57966024-1-kamb-butas-siauliai-siauliai-radviliskio-g-7145-4_large.jpg;https://g.acdn.lt/photos/180917/13/57966024-1-kamb-butas-siauliai-siauliai-radviliskio-g-1826-4_large.jpg;https://g.acdn.lt/photos/180917/13/57966024-1-kamb-butas-siauliai-siauliai-radviliskio-g-1331-5_large.jpg\" height=\"120\" id=\"listviewphotoover_57966024\" src=\"https://g4.acdn.lt/img/listview_loader.gif\" width=\"180\"/>\n",
       "</a>\n",
       "</div>\n",
       "<div class=\"desc_m_a_b\">\n",
       "<div class=\"desc_inner_b \">\n",
       "<div class=\"title\">\n",
       "<a class=\"vertiselink cursor-pointer\" href=\"https://www.alio.lt/skelbimai/1-kamb-butas-siauliai-siauliai-radviliskio-g/ID57966024.html\">\n",
       "          1 kamb. butas Šiauliai, Šiauliai, Radviliškio g.        </a>\n",
       "</div>\n",
       "<div class=\"description_more descm_1373\">Privatus asmuo</div>\n",
       "<div class=\"price\">\n",
       "<span class=\"main_price \">17 000 €</span> <span class=\"sub_price \">(540  €/m²)</span>\n",
       "<div class=\"clr\"></div>\n",
       "</div>\n",
       "<div class=\"description\">31.46 m² <span class=\"listview_spacer\">|</span>  1 kamb. <span class=\"listview_spacer\">|</span>  1960 m. <span class=\"listview_spacer\">|</span>  1 / 3 a.</div>\n",
       "</div>\n",
       "<div class=\"clr\"></div>\n",
       "<div class=\"stars_href_b\">\n",
       "<div class=\"star_count_b\">\n",
       "<div class=\"start_i_b\">\n",
       "<div class=\"start_i_placer\"></div>\n",
       "</div>\n",
       "<span class=\"stars_count\">2</span>\n",
       "</div>\n",
       "</div>\n",
       "<span class=\"modification\">\n",
       "<time class=\"uptodate\" datetime=\"\">prieš 2 d.</time>\n",
       "</span>\n",
       "</div>\n",
       "<div class=\"favDiv mobilehide \" data-href=\"https://www.alio.lt/public/favoritesAds/toggle_list.html?id=57966024\" id=\"fav_d_57966024\">\n",
       "<span class=\"togglefav\"></span>\n",
       "<span class=\"fav_h_t\">Pažymėti</span>\n",
       "</div>\n",
       "</div>\n",
       "<div class=\"clr\"></div>\n",
       "</div>\n",
       "<div class=\"result highlight\" data-score=\"2.0922\" id=\"lv_ad_id_58568221\">\n",
       "<div class=\"main_a_c_b\">\n",
       "<a class=\"showmobile listview_mob_f cursor-pointer\" href=\"https://www.alio.lt/skelbimai/2-izoliuotu-kambariu-butas-2-aukste-is-5-;-2-balkonai-tamsiukas;-rami-vieta/ID58568221.html\"></a>\n",
       "<div class=\"image\">\n",
       "<a class=\"vertiselink cursor-pointer\" href=\"https://www.alio.lt/skelbimai/2-izoliuotu-kambariu-butas-2-aukste-is-5-;-2-balkonai-tamsiukas;-rami-vieta/ID58568221.html\">\n",
       "<img alt=\"2 izoliuotų kambarių butas 2 aukšte iš 5 ; 2 balkonai, tamsiukas; rami vieta\" class=\"imgbl lazyunveil listviewphoto_over\" data-src=\"https://g2.acdn.lt/photos/181207/19/58568221-7942-4_large.jpg\" data-src-key=\"0\" data-src-more=\"https://g4.acdn.lt/photos/181207/19/58568221-7942-4_large.jpg;https://g.acdn.lt/photos/181207/19/58568221-1651-5_large.jpg;https://g.acdn.lt/photos/181207/19/58568221-3679-12_large.jpg;https://g.acdn.lt/photos/181207/19/58568221-7253-1_large.jpg;https://g.acdn.lt/photos/181207/19/58568221-6681-2_large.jpg\" height=\"120\" id=\"listviewphotoover_58568221\" src=\"https://g4.acdn.lt/img/listview_loader.gif\" width=\"180\"/>\n",
       "</a>\n",
       "</div>\n",
       "<div class=\"desc_m_a_b\">\n",
       "<div class=\"desc_inner_b \">\n",
       "<div class=\"title\">\n",
       "<a class=\"vertiselink cursor-pointer\" href=\"https://www.alio.lt/skelbimai/2-izoliuotu-kambariu-butas-2-aukste-is-5-;-2-balkonai-tamsiukas;-rami-vieta/ID58568221.html\">\n",
       "          2 izoliuotų kambarių butas 2 aukšte iš 5 ; 2 balkonai, tamsiukas; rami vieta        </a>\n",
       "</div>\n",
       "<div class=\"description_more descm_1373\">Agentūra/statytojas</div>\n",
       "<div class=\"price\">\n",
       "<span class=\"main_price \">64 500 €</span> <span class=\"sub_price \">(1 433  €/m²)</span>\n",
       "<div class=\"clr\"></div>\n",
       "</div>\n",
       "<div class=\"description\">45 m² <span class=\"listview_spacer\">|</span>  2 kamb. <span class=\"listview_spacer\">|</span>  1968 m. <span class=\"listview_spacer\">|</span>  2 / 5 a.</div>\n",
       "</div>\n",
       "<div class=\"clr\"></div>\n",
       "<div class=\"stars_href_b\">\n",
       "<div class=\"star_count_b\">\n",
       "<div class=\"start_i_b\">\n",
       "<div class=\"start_i_placer\"></div>\n",
       "</div>\n",
       "<span class=\"stars_count\">2</span>\n",
       "</div>\n",
       "</div>\n",
       "<span class=\"modification\">\n",
       "<time class=\"uptodate\" datetime=\"\">prieš 20 val.</time>\n",
       "</span>\n",
       "</div>\n",
       "<div class=\"favDiv mobilehide \" data-href=\"https://www.alio.lt/public/favoritesAds/toggle_list.html?id=58568221\" id=\"fav_d_58568221\">\n",
       "<span class=\"togglefav\"></span>\n",
       "<span class=\"fav_h_t\">Pažymėti</span>\n",
       "</div>\n",
       "</div>\n",
       "<div class=\"clr\"></div>\n",
       "</div>\n",
       "<div class=\"result highlight\" data-score=\"1.6877\" id=\"lv_ad_id_58444386\">\n",
       "<div class=\"main_a_c_b\">\n",
       "<a class=\"showmobile listview_mob_f cursor-pointer\" href=\"https://www.alio.lt/skelbimai/2-kamb-butas-vilnius-verkiai-k-ulvydo-g/ID58444386.html\"></a>\n",
       "<div class=\"image\">\n",
       "<a class=\"vertiselink cursor-pointer\" href=\"https://www.alio.lt/skelbimai/2-kamb-butas-vilnius-verkiai-k-ulvydo-g/ID58444386.html\">\n",
       "<img alt=\"2 kamb. butas Vilnius, Verkiai, K. Ulvydo g.\" class=\"imgbl lazyunveil listviewphoto_over\" data-src=\"https://g4.acdn.lt/photos/181118/11/58444386-2-kamb-butas-vilnius-verkiai-k-ulvydo-g-1318-0_large.jpg\" data-src-key=\"0\" data-src-more=\"https://g4.acdn.lt/photos/181118/11/58444386-2-kamb-butas-vilnius-verkiai-k-ulvydo-g-1318-0_large.jpg;https://g.acdn.lt/photos/181118/11/58444386-6100-5_large.jpg;https://g.acdn.lt/photos/181118/11/58444386-8477-6_large.jpg;https://g.acdn.lt/photos/181118/11/58444386-2385-3_large.jpg;https://g.acdn.lt/photos/181118/11/58444386-6443-4_large.jpg\" height=\"120\" id=\"listviewphotoover_58444386\" src=\"https://g4.acdn.lt/img/listview_loader.gif\" width=\"180\"/>\n",
       "</a>\n",
       "</div>\n",
       "<div class=\"desc_m_a_b\">\n",
       "<div class=\"desc_inner_b \">\n",
       "<div class=\"title\">\n",
       "<a class=\"vertiselink cursor-pointer\" href=\"https://www.alio.lt/skelbimai/2-kamb-butas-vilnius-verkiai-k-ulvydo-g/ID58444386.html\">\n",
       "          2 kamb. butas Vilnius, Verkiai, K. Ulvydo g.        </a>\n",
       "</div>\n",
       "<div class=\"description_more descm_1373\">Privatus asmuo</div>\n",
       "<div class=\"price\">\n",
       "<span class=\"main_price \">95 000 €</span> <span class=\"sub_price \">(2 160  €/m²)</span>\n",
       "<div class=\"clr\"></div>\n",
       "</div>\n",
       "<div class=\"description\">43.99 m² <span class=\"listview_spacer\">|</span>  2 kamb. <span class=\"listview_spacer\">|</span>  2014 m. <span class=\"listview_spacer\">|</span>  5 / 5 a.</div>\n",
       "</div>\n",
       "<div class=\"clr\"></div>\n",
       "<div class=\"stars_href_b\">\n",
       "<div class=\"star_count_b\">\n",
       "<div class=\"start_i_b\">\n",
       "<div class=\"start_i_placer\"></div>\n",
       "</div>\n",
       "<span class=\"stars_count\">2</span>\n",
       "</div>\n",
       "</div>\n",
       "<span class=\"modification\">\n",
       "<time class=\"uptodate\" datetime=\"\">prieš 11 d.</time>\n",
       "</span>\n",
       "</div>\n",
       "<div class=\"favDiv mobilehide \" data-href=\"https://www.alio.lt/public/favoritesAds/toggle_list.html?id=58444386\" id=\"fav_d_58444386\">\n",
       "<span class=\"togglefav\"></span>\n",
       "<span class=\"fav_h_t\">Pažymėti</span>\n",
       "</div>\n",
       "</div>\n",
       "<div class=\"clr\"></div>\n",
       "</div>\n",
       "<div class=\"reklama_div ad-placement showmobile\">\n",
       "<div class=\"reklama_icon\"></div>\n",
       "<center>\n",
       "<div class=\"a300x250 shamob shadelay margin0auto\" id=\"DA21_Mobile_300x250_4\"></div>\n",
       "</center>\n",
       "</div>\n",
       "<div class=\"reklama_div ad-placement mobilehide\">\n",
       "<div class=\"reklama_icon\"></div>\n",
       "<div class=\"fl a300x250 shadesc shadelay\" id=\"DA06_300x250_1\" style=\"margin-left: 45px;\"></div>\n",
       "<div class=\"fr a300x250 shadesc shadelay\" id=\"DA06_300x250_2\" style=\"margin-right: 45px;\"></div>\n",
       "<div class=\"clr\"></div>\n",
       "</div>\n",
       "<div class=\"result highlight\" data-score=\"1.0664\" id=\"lv_ad_id_58543347\">\n",
       "<div class=\"main_a_c_b\">\n",
       "<a class=\"showmobile listview_mob_f cursor-pointer\" href=\"https://www.alio.lt/skelbimai/3-kamb-butas-vilnius-naujamiestis-savanoriu-pr/ID58543347.html\"></a>\n",
       "<div class=\"image\">\n",
       "<a class=\"vertiselink cursor-pointer\" href=\"https://www.alio.lt/skelbimai/3-kamb-butas-vilnius-naujamiestis-savanoriu-pr/ID58543347.html\">\n",
       "<img alt=\"3 kamb. butas Vilnius, Naujamiestis, Savanorių pr.\" class=\"imgbl lazyunveil listviewphoto_over\" data-src=\"https://g2.acdn.lt/photos/181203/06/58543347-3360-3_large.jpg\" data-src-key=\"0\" data-src-more=\"https://g4.acdn.lt/photos/181203/06/58543347-3360-3_large.jpg;https://g.acdn.lt/photos/181203/06/58543347-2118-2_large.jpg;https://g.acdn.lt/photos/181203/06/58543347-8542-1_large.jpg;https://g.acdn.lt/photos/181203/06/58543347-5440-4_large.jpg;https://g.acdn.lt/photos/181203/06/58543347-2928-5_large.jpg\" height=\"120\" id=\"listviewphotoover_58543347\" src=\"https://g4.acdn.lt/img/listview_loader.gif\" width=\"180\"/>\n",
       "</a>\n",
       "</div>\n",
       "<div class=\"desc_m_a_b\">\n",
       "<div class=\"desc_inner_b \">\n",
       "<div class=\"title\">\n",
       "<a class=\"vertiselink cursor-pointer\" href=\"https://www.alio.lt/skelbimai/3-kamb-butas-vilnius-naujamiestis-savanoriu-pr/ID58543347.html\">\n",
       "          3 kamb. butas Vilnius, Naujamiestis, Savanorių pr.        </a>\n",
       "</div>\n",
       "<div class=\"description_more descm_1373\">Agentūra/statytojas</div>\n",
       "<div class=\"price\">\n",
       "<span class=\"main_price \">84 000 €</span> <span class=\"sub_price \">(1 217  €/m²)</span>\n",
       "<div class=\"clr\"></div>\n",
       "</div>\n",
       "<div class=\"description\">69 m² <span class=\"listview_spacer\">|</span>  3 kamb. <span class=\"listview_spacer\">|</span>  1975 m. <span class=\"listview_spacer\">|</span>  5 / 9 a.</div>\n",
       "</div>\n",
       "<div class=\"clr\"></div>\n",
       "<div class=\"stars_href_b\">\n",
       "<div class=\"star_count_b\">\n",
       "<div class=\"start_i_b\">\n",
       "<div class=\"start_i_placer\"></div>\n",
       "</div>\n",
       "<span class=\"stars_count\">2</span>\n",
       "</div>\n",
       "</div>\n",
       "<span class=\"modification\">\n",
       "<time class=\"uptodate\" datetime=\"\">prieš 20 val.</time>\n",
       "</span>\n",
       "</div>\n",
       "<div class=\"favDiv mobilehide \" data-href=\"https://www.alio.lt/public/favoritesAds/toggle_list.html?id=58543347\" id=\"fav_d_58543347\">\n",
       "<span class=\"togglefav\"></span>\n",
       "<span class=\"fav_h_t\">Pažymėti</span>\n",
       "</div>\n",
       "</div>\n",
       "<div class=\"clr\"></div>\n",
       "</div>\n",
       "<div class=\"result highlight\" data-score=\"1.8773\" id=\"lv_ad_id_58582171\">\n",
       "<div class=\"main_a_c_b\">\n",
       "<a class=\"showmobile listview_mob_f cursor-pointer\" href=\"https://www.alio.lt/skelbimai/1-kamb-butas-panevezys-panevezys-vilties-g/ID58582171.html\"></a>\n",
       "<div class=\"image\">\n",
       "<a class=\"vertiselink cursor-pointer\" href=\"https://www.alio.lt/skelbimai/1-kamb-butas-panevezys-panevezys-vilties-g/ID58582171.html\">\n",
       "<div class=\"imgbl emptyphoto nphoto_cat_1353\"></div>\n",
       "</a>\n",
       "</div>\n",
       "<div class=\"desc_m_a_b\">\n",
       "<div class=\"desc_inner_b \">\n",
       "<div class=\"title\">\n",
       "<a class=\"vertiselink cursor-pointer\" href=\"https://www.alio.lt/skelbimai/1-kamb-butas-panevezys-panevezys-vilties-g/ID58582171.html\">\n",
       "          1 kamb. butas Panevėžys, Panevėžys, Vilties g.        </a>\n",
       "</div>\n",
       "<div class=\"description_more descm_1373\">Agentūra/statytojas</div>\n",
       "<div class=\"price\">\n",
       "<span class=\"main_price \">5 000 €</span> <span class=\"sub_price \">(263  €/m²)</span>\n",
       "<div class=\"clr\"></div>\n",
       "</div>\n",
       "<div class=\"description\">19 m² <span class=\"listview_spacer\">|</span>  1 kamb. <span class=\"listview_spacer\">|</span>  3 / 4 a.</div>\n",
       "</div>\n",
       "<div class=\"clr\"></div>\n",
       "<div class=\"stars_href_b\">\n",
       "<div class=\"star_count_b\">\n",
       "<div class=\"start_i_b\">\n",
       "<div class=\"start_i_placer\"></div>\n",
       "</div>\n",
       "<span class=\"stars_count\">1</span>\n",
       "</div>\n",
       "</div>\n",
       "<span class=\"modification\">\n",
       "<time class=\"uptodate\" datetime=\"\">prieš 3 d.</time>\n",
       "</span>\n",
       "</div>\n",
       "<div class=\"favDiv mobilehide \" data-href=\"https://www.alio.lt/public/favoritesAds/toggle_list.html?id=58582171\" id=\"fav_d_58582171\">\n",
       "<span class=\"togglefav\"></span>\n",
       "<span class=\"fav_h_t\">Pažymėti</span>\n",
       "</div>\n",
       "</div>\n",
       "<div class=\"clr\"></div>\n",
       "</div>\n",
       "<div class=\"result white\" data-score=\"1061.3636\" id=\"lv_ad_id_58596527\">\n",
       "<div class=\"main_a_c_b\">\n",
       "<a class=\"showmobile listview_mob_f cursor-pointer\" href=\"https://www.alio.lt/skelbimai/4-kamb-butas-klaipeda-naujakiemis-naujakiemio-g/ID58596527.html\"></a>\n",
       "<div class=\"image\">\n",
       "<a class=\"vertiselink cursor-pointer\" href=\"https://www.alio.lt/skelbimai/4-kamb-butas-klaipeda-naujakiemis-naujakiemio-g/ID58596527.html\">\n",
       "<img alt=\"4 kamb. butas Klaipėda, Naujakiemis, Naujakiemio g.\" class=\"imgbl lazyunveil listviewphoto_over\" data-src=\"https://g4.acdn.lt/photos/181211/17/58596527-3523-4_large.jpg\" data-src-key=\"0\" data-src-more=\"https://g4.acdn.lt/photos/181211/17/58596527-3523-4_large.jpg;https://g.acdn.lt/photos/181211/17/58596527-8751-5_large.jpg;https://g.acdn.lt/photos/181211/17/58596527-3421-7_large.jpg;https://g.acdn.lt/photos/181211/17/58596527-6854-3_large.jpg;https://g.acdn.lt/photos/181211/17/58596527-7476-0_large.jpg\" height=\"120\" id=\"listviewphotoover_58596527\" src=\"https://g4.acdn.lt/img/listview_loader.gif\" width=\"180\"/>\n",
       "</a>\n",
       "</div>\n",
       "<div class=\"desc_m_a_b\">\n",
       "<div class=\"desc_inner_b \">\n",
       "<div class=\"title\">\n",
       "<div class=\"listview_icon listview_icon_n1\" title=\"Įkeltas per paskutinę parą\"></div>\n",
       "<a class=\"vertiselink cursor-pointer\" href=\"https://www.alio.lt/skelbimai/4-kamb-butas-klaipeda-naujakiemis-naujakiemio-g/ID58596527.html\">\n",
       "          4 kamb. butas Klaipėda, Naujakiemis, Naujakiemio g.        </a>\n",
       "</div>\n",
       "<div class=\"description_more descm_1373\">Agentūra/statytojas</div>\n",
       "<div class=\"price\">\n",
       "<span class=\"main_price \">57 000 €</span> <span class=\"sub_price \">(731  €/m²)</span>\n",
       "<div class=\"clr\"></div>\n",
       "</div>\n",
       "<div class=\"description\">78 m² <span class=\"listview_spacer\">|</span>  4 kamb. <span class=\"listview_spacer\">|</span>  1973 m. <span class=\"listview_spacer\">|</span>  1 / 5 a.</div>\n",
       "</div>\n",
       "<div class=\"clr\"></div>\n",
       "<span class=\"modification\">\n",
       "<time class=\"uptodate\" datetime=\"\">prieš 20 val.</time>\n",
       "</span>\n",
       "</div>\n",
       "<div class=\"favDiv mobilehide \" data-href=\"https://www.alio.lt/public/favoritesAds/toggle_list.html?id=58596527\" id=\"fav_d_58596527\">\n",
       "<span class=\"togglefav\"></span>\n",
       "<span class=\"fav_h_t\">Pažymėti</span>\n",
       "</div>\n",
       "</div>\n",
       "<div class=\"clr\"></div>\n",
       "</div>\n",
       "<div class=\"result white\" data-score=\"1060\" id=\"lv_ad_id_58597213\">\n",
       "<div class=\"main_a_c_b\">\n",
       "<a class=\"showmobile listview_mob_f cursor-pointer\" href=\"https://www.alio.lt/skelbimai/3-kamb-butas-vilnius-antakalnis-p-vileisio-g/ID58597213.html\"></a>\n",
       "<div class=\"image\">\n",
       "<a class=\"vertiselink cursor-pointer\" href=\"https://www.alio.lt/skelbimai/3-kamb-butas-vilnius-antakalnis-p-vileisio-g/ID58597213.html\">\n",
       "<img alt=\"3 kamb. butas Vilnius, Antakalnis, P. Vileišio g.\" class=\"imgbl lazyunveil listviewphoto_over\" data-src=\"https://g2.acdn.lt/photos/181211/21/58597213_5c100d8d56e6b_large.jpg\" data-src-key=\"0\" data-src-more=\"https://g2.acdn.lt/photos/181211/21/58597213_5c100d8d56e6b_large.jpg;https://g.acdn.lt/photos/181211/21/58597213_5c100d8e0d5bf_large.jpg;https://g.acdn.lt/photos/181211/21/58597213_5c100d8eb8fd5_large.jpg;https://g.acdn.lt/photos/181211/21/58597213_5c100d8f3a75f_large.jpg;https://g.acdn.lt/photos/181211/21/58597213_5c100d8ff1bed_large.jpg\" height=\"120\" id=\"listviewphotoover_58597213\" src=\"https://g4.acdn.lt/img/listview_loader.gif\" width=\"180\"/>\n",
       "</a>\n",
       "</div>\n",
       "<div class=\"desc_m_a_b\">\n",
       "<div class=\"desc_inner_b \">\n",
       "<div class=\"title\">\n",
       "<div class=\"listview_icon listview_icon_n1\" title=\"Įkeltas per paskutinę parą\"></div>\n",
       "<a class=\"vertiselink cursor-pointer\" href=\"https://www.alio.lt/skelbimai/3-kamb-butas-vilnius-antakalnis-p-vileisio-g/ID58597213.html\">\n",
       "          3 kamb. butas Vilnius, Antakalnis, P. Vileišio g.        </a>\n",
       "</div>\n",
       "<div class=\"description_more descm_1373\">Agentūra/statytojas</div>\n",
       "<div class=\"price\">\n",
       "<span class=\"main_price \">137 583 €</span> <span class=\"sub_price \">(2 089  €/m²)</span>\n",
       "<div class=\"clr\"></div>\n",
       "</div>\n",
       "<div class=\"description\">65.85 m² <span class=\"listview_spacer\">|</span>  3 kamb. <span class=\"listview_spacer\">|</span>  2018 m. <span class=\"listview_spacer\">|</span>  1 / 4 a.</div>\n",
       "</div>\n",
       "<div class=\"clr\"></div>\n",
       "<span class=\"modification\">\n",
       "<time class=\"uptodate\" datetime=\"\">prieš 15 val.</time>\n",
       "</span>\n",
       "</div>\n",
       "<div class=\"favDiv mobilehide \" data-href=\"https://www.alio.lt/public/favoritesAds/toggle_list.html?id=58597213\" id=\"fav_d_58597213\">\n",
       "<span class=\"togglefav\"></span>\n",
       "<span class=\"fav_h_t\">Pažymėti</span>\n",
       "</div>\n",
       "</div>\n",
       "<div class=\"clr\"></div>\n",
       "</div>\n",
       "<div class=\"result white\" data-score=\"1060\" id=\"lv_ad_id_58597253\">\n",
       "<div class=\"main_a_c_b\">\n",
       "<a class=\"showmobile listview_mob_f cursor-pointer\" href=\"https://www.alio.lt/skelbimai/2-kamb-butas-vilnius-justiniskes-justiniskiu-g/ID58597253.html\"></a>\n",
       "<div class=\"image\">\n",
       "<a class=\"vertiselink cursor-pointer\" href=\"https://www.alio.lt/skelbimai/2-kamb-butas-vilnius-justiniskes-justiniskiu-g/ID58597253.html\">\n",
       "<img alt=\"2 kamb. butas Vilnius, Justiniškės, Justiniškių g.\" class=\"imgbl lazyunveil listviewphoto_over\" data-src=\"https://g2.acdn.lt/photos/181211/21/58597253_5c100c5217d91_large.jpg\" data-src-key=\"0\" data-src-more=\"https://g1.acdn.lt/photos/181211/21/58597253_5c100c5217d91_large.jpg;https://g.acdn.lt/photos/181211/21/58597253_5c100c52b42b8_large.jpg;https://g.acdn.lt/photos/181211/21/58597253_5c100c5355a2c_large.jpg;https://g.acdn.lt/photos/181211/21/58597253_5c100c540734c_large.jpg;https://g.acdn.lt/photos/181211/21/58597253_5c100c549a8a1_large.jpg\" height=\"120\" id=\"listviewphotoover_58597253\" src=\"https://g4.acdn.lt/img/listview_loader.gif\" width=\"180\"/>\n",
       "</a>\n",
       "</div>\n",
       "<div class=\"desc_m_a_b\">\n",
       "<div class=\"desc_inner_b \">\n",
       "<div class=\"title\">\n",
       "<div class=\"listview_icon listview_icon_n1\" title=\"Įkeltas per paskutinę parą\"></div>\n",
       "<a class=\"vertiselink cursor-pointer\" href=\"https://www.alio.lt/skelbimai/2-kamb-butas-vilnius-justiniskes-justiniskiu-g/ID58597253.html\">\n",
       "          2 kamb. butas Vilnius, Justiniškės, Justiniškių g.        </a>\n",
       "</div>\n",
       "<div class=\"description_more descm_1373\">Agentūra/statytojas</div>\n",
       "<div class=\"price\">\n",
       "<span class=\"main_price \">55 000 €</span> <span class=\"sub_price \">(1 100  €/m²)</span>\n",
       "<div class=\"clr\"></div>\n",
       "</div>\n",
       "<div class=\"description\">50.00 m² <span class=\"listview_spacer\">|</span>  2 kamb. <span class=\"listview_spacer\">|</span>  1983 m. <span class=\"listview_spacer\">|</span>  3 / 9 a.</div>\n",
       "</div>\n",
       "<div class=\"clr\"></div>\n",
       "<span class=\"modification\">\n",
       "<time class=\"uptodate\" datetime=\"\">prieš 15 val.</time>\n",
       "</span>\n",
       "</div>\n",
       "<div class=\"favDiv mobilehide \" data-href=\"https://www.alio.lt/public/favoritesAds/toggle_list.html?id=58597253\" id=\"fav_d_58597253\">\n",
       "<span class=\"togglefav\"></span>\n",
       "<span class=\"fav_h_t\">Pažymėti</span>\n",
       "</div>\n",
       "</div>\n",
       "<div class=\"clr\"></div>\n",
       "</div>\n",
       "<div class=\"result white\" data-score=\"1060\" id=\"lv_ad_id_58597263\">\n",
       "<div class=\"main_a_c_b\">\n",
       "<a class=\"showmobile listview_mob_f cursor-pointer\" href=\"https://www.alio.lt/skelbimai/4-kamb-butas-klaipeda-klaipeda-taikos-pr/ID58597263.html\"></a>\n",
       "<div class=\"image\">\n",
       "<a class=\"vertiselink cursor-pointer\" href=\"https://www.alio.lt/skelbimai/4-kamb-butas-klaipeda-klaipeda-taikos-pr/ID58597263.html\">\n",
       "<img alt=\"4 kamb. butas Klaipėda, Klaipėda, Taikos pr.\" class=\"imgbl lazyunveil listviewphoto_over\" data-src=\"https://g2.acdn.lt/photos/181211/21/58597263_5c100b9912895_large.jpg\" data-src-key=\"0\" data-src-more=\"https://g4.acdn.lt/photos/181211/21/58597263_5c100b9912895_large.jpg;https://g.acdn.lt/photos/181211/21/58597263_5c100b99aa14e_large.jpg;https://g.acdn.lt/photos/181211/21/58597263_5c100b9a572e2_large.jpg;https://g.acdn.lt/photos/181211/21/58597263_5c100b9b03572_large.jpg;https://g.acdn.lt/photos/181211/21/58597263_5c100b9b9716b_large.jpg\" height=\"120\" id=\"listviewphotoover_58597263\" src=\"https://g4.acdn.lt/img/listview_loader.gif\" width=\"180\"/>\n",
       "</a>\n",
       "</div>\n",
       "<div class=\"desc_m_a_b\">\n",
       "<div class=\"desc_inner_b \">\n",
       "<div class=\"title\">\n",
       "<div class=\"listview_icon listview_icon_n1\" title=\"Įkeltas per paskutinę parą\"></div>\n",
       "<a class=\"vertiselink cursor-pointer\" href=\"https://www.alio.lt/skelbimai/4-kamb-butas-klaipeda-klaipeda-taikos-pr/ID58597263.html\">\n",
       "          4 kamb. butas Klaipėda, Klaipėda, Taikos pr.        </a>\n",
       "</div>\n",
       "<div class=\"description_more descm_1373\">Agentūra/statytojas</div>\n",
       "<div class=\"price\">\n",
       "<span class=\"main_price \">73 000 €</span> <span class=\"sub_price \">(937  €/m²)</span>\n",
       "<div class=\"clr\"></div>\n",
       "</div>\n",
       "<div class=\"description\">77.93 m² <span class=\"listview_spacer\">|</span>  4 kamb. <span class=\"listview_spacer\">|</span>  1992 m. <span class=\"listview_spacer\">|</span>  4 / 5 a.</div>\n",
       "</div>\n",
       "<div class=\"clr\"></div>\n",
       "<span class=\"modification\">\n",
       "<time class=\"uptodate\" datetime=\"\">prieš 15 val.</time>\n",
       "</span>\n",
       "</div>\n",
       "<div class=\"favDiv mobilehide \" data-href=\"https://www.alio.lt/public/favoritesAds/toggle_list.html?id=58597263\" id=\"fav_d_58597263\">\n",
       "<span class=\"togglefav\"></span>\n",
       "<span class=\"fav_h_t\">Pažymėti</span>\n",
       "</div>\n",
       "</div>\n",
       "<div class=\"clr\"></div>\n",
       "</div>\n",
       "<div class=\"result white\" data-score=\"1060\" id=\"lv_ad_id_58597783\">\n",
       "<div class=\"main_a_c_b\">\n",
       "<a class=\"showmobile listview_mob_f cursor-pointer\" href=\"https://www.alio.lt/skelbimai/3-kamb-butas-akmenes-r-sav-naujoji-akmene-zalgirio-g/ID58597783.html\"></a>\n",
       "<div class=\"image\">\n",
       "<a class=\"vertiselink cursor-pointer\" href=\"https://www.alio.lt/skelbimai/3-kamb-butas-akmenes-r-sav-naujoji-akmene-zalgirio-g/ID58597783.html\">\n",
       "<img alt=\"3 kamb. butas Akmenės r. sav., Naujoji Akmenė, Žalgirio g.\" class=\"imgbl lazyunveil listviewphoto_over\" data-src=\"https://g2.acdn.lt/photos/181212/01/58597783_5c104d3d1b98d_large.jpg\" data-src-key=\"0\" data-src-more=\"https://g4.acdn.lt/photos/181212/01/58597783_5c104d3d1b98d_large.jpg;https://g.acdn.lt/photos/181212/01/58597783_5c104d3d8bdc2_large.jpg;https://g.acdn.lt/photos/181212/01/58597783_5c104d3e1515f_large.jpg;https://g.acdn.lt/photos/181212/01/58597783_5c104d3e73580_large.jpg;https://g.acdn.lt/photos/181212/01/58597783_5c104d3ed0689_large.jpg\" height=\"120\" id=\"listviewphotoover_58597783\" src=\"https://g4.acdn.lt/img/listview_loader.gif\" width=\"180\"/>\n",
       "</a>\n",
       "</div>\n",
       "<div class=\"desc_m_a_b\">\n",
       "<div class=\"desc_inner_b \">\n",
       "<div class=\"title\">\n",
       "<div class=\"listview_icon listview_icon_n1\" title=\"Įkeltas per paskutinę parą\"></div>\n",
       "<a class=\"vertiselink cursor-pointer\" href=\"https://www.alio.lt/skelbimai/3-kamb-butas-akmenes-r-sav-naujoji-akmene-zalgirio-g/ID58597783.html\">\n",
       "          3 kamb. butas Akmenės r. sav., Naujoji Akmenė, Žalgirio g.        </a>\n",
       "</div>\n",
       "<div class=\"description_more descm_1373\">Agentūra/statytojas</div>\n",
       "<div class=\"price\">\n",
       "<span class=\"main_price \">7 500 €</span> <span class=\"sub_price \">(149  €/m²)</span>\n",
       "<div class=\"clr\"></div>\n",
       "</div>\n",
       "<div class=\"description\">50.2 m² <span class=\"listview_spacer\">|</span>  3 kamb. <span class=\"listview_spacer\">|</span>  1961 m. <span class=\"listview_spacer\">|</span>  1 / 3 a.</div>\n",
       "</div>\n",
       "<div class=\"clr\"></div>\n",
       "<span class=\"modification\">\n",
       "<time class=\"uptodate\" datetime=\"\">prieš 11 val.</time>\n",
       "</span>\n",
       "</div>\n",
       "<div class=\"favDiv mobilehide \" data-href=\"https://www.alio.lt/public/favoritesAds/toggle_list.html?id=58597783\" id=\"fav_d_58597783\">\n",
       "<span class=\"togglefav\"></span>\n",
       "<span class=\"fav_h_t\">Pažymėti</span>\n",
       "</div>\n",
       "</div>\n",
       "<div class=\"clr\"></div>\n",
       "</div>\n",
       "<div class=\"result white\" data-score=\"1043.3333\" id=\"lv_ad_id_58597755\">\n",
       "<div class=\"main_a_c_b\">\n",
       "<a class=\"showmobile listview_mob_f cursor-pointer\" href=\"https://www.alio.lt/skelbimai/2-kamb-butas-klaipeda-banduziai-kuncu-g/ID58597755.html\"></a>\n",
       "<div class=\"image\">\n",
       "<a class=\"vertiselink cursor-pointer\" href=\"https://www.alio.lt/skelbimai/2-kamb-butas-klaipeda-banduziai-kuncu-g/ID58597755.html\">\n",
       "<img alt=\"2 kamb. butas Klaipėda, Bandužiai, Kuncų g.\" class=\"imgbl lazyunveil listviewphoto_over\" data-src=\"https://g1.acdn.lt/photos/181212/10/58597755-2-kamb-butas-klaipeda-banduziai-kuncu-g-9988-0_large.jpg\" data-src-key=\"0\" data-src-more=\"https://g4.acdn.lt/photos/181212/10/58597755-2-kamb-butas-klaipeda-banduziai-kuncu-g-9988-0_large.jpg;https://g.acdn.lt/photos/181212/10/58597755-2-kamb-butas-klaipeda-banduziai-kuncu-g-9655-1_large.jpg;https://g.acdn.lt/photos/181212/10/58597755-2-kamb-butas-klaipeda-banduziai-kuncu-g-1924-2_large.jpg;https://g.acdn.lt/photos/181212/10/58597755-2-kamb-butas-klaipeda-banduziai-kuncu-g-9219-3_large.jpg;https://g.acdn.lt/photos/181212/10/58597755-2-kamb-butas-klaipeda-banduziai-kuncu-g-8757-4_large.jpg\" height=\"120\" id=\"listviewphotoover_58597755\" src=\"https://g4.acdn.lt/img/listview_loader.gif\" width=\"180\"/>\n",
       "</a>\n",
       "</div>\n",
       "<div class=\"desc_m_a_b\">\n",
       "<div class=\"desc_inner_b \">\n",
       "<div class=\"title\">\n",
       "<div class=\"listview_icon listview_icon_n1\" title=\"Įkeltas per paskutinę parą\"></div>\n",
       "<a class=\"vertiselink cursor-pointer\" href=\"https://www.alio.lt/skelbimai/2-kamb-butas-klaipeda-banduziai-kuncu-g/ID58597755.html\">\n",
       "          2 kamb. butas Klaipėda, Bandužiai, Kuncų g.        </a>\n",
       "</div>\n",
       "<div class=\"description_more descm_1373\">Privatus asmuo</div>\n",
       "<div class=\"price\">\n",
       "<span class=\"main_price \">63 000 €</span> <span class=\"sub_price \">(1 154  €/m²)</span>\n",
       "<div class=\"clr\"></div>\n",
       "</div>\n",
       "<div class=\"description\">54.61 m² <span class=\"listview_spacer\">|</span>  2 kamb. <span class=\"listview_spacer\">|</span>  1986 m. <span class=\"listview_spacer\">|</span>  1 / 9 a.</div>\n",
       "</div>\n",
       "<div class=\"clr\"></div>\n",
       "<span class=\"modification\">\n",
       "<time class=\"uptodate\" datetime=\"\">prieš 2 val.</time>\n",
       "</span>\n",
       "</div>\n",
       "<div class=\"favDiv mobilehide \" data-href=\"https://www.alio.lt/public/favoritesAds/toggle_list.html?id=58597755\" id=\"fav_d_58597755\">\n",
       "<span class=\"togglefav\"></span>\n",
       "<span class=\"fav_h_t\">Pažymėti</span>\n",
       "</div>\n",
       "</div>\n",
       "<div class=\"clr\"></div>\n",
       "</div>\n",
       "<div class=\"ad-pagead-placement mobilehide\">\n",
       "<ins class=\"adsbygoogle\" data-ad-client=\"ca-pub-6818616807676795\" data-ad-format=\"fluid\" data-ad-layout=\"image-side\" data-ad-slot=\"5666925866\" style=\"display:block; height: 160px;\"></ins>\n",
       "<script>\n",
       "          (adsbygoogle = window.adsbygoogle || []).push({});\n",
       "          </script>\n",
       "</div>\n",
       "<div class=\"ad-pagead-placement showmobile\">\n",
       "<ins class=\"adsbygoogle\" data-ad-client=\"ca-pub-6818616807676795\" data-ad-format=\"fluid\" data-ad-layout=\"image-side\" data-ad-layout-key=\"-g5+w-37-ef+12v\" data-ad-slot=\"1588149862\" style=\"display:block; height: 160px;\"></ins>\n",
       "<script>\n",
       "          (adsbygoogle = window.adsbygoogle || []).push({});\n",
       "          </script>\n",
       "</div>\n",
       "<div class=\"result white\" data-score=\"1040\" id=\"lv_ad_id_58596905\">\n",
       "<div class=\"main_a_c_b\">\n",
       "<a class=\"showmobile listview_mob_f cursor-pointer\" href=\"https://www.alio.lt/skelbimai/parduoamas-1-no-kambario-butas-su-holu-laukininku-klaipedoje/ID58596905.html\"></a>\n",
       "<div class=\"image\">\n",
       "<a class=\"vertiselink cursor-pointer\" href=\"https://www.alio.lt/skelbimai/parduoamas-1-no-kambario-butas-su-holu-laukininku-klaipedoje/ID58596905.html\">\n",
       "<img alt=\"Parduoamas 1-no kambario butas su holu Laukininkų, Klaipėdoje   \" class=\"imgbl lazyunveil listviewphoto_over\" data-src=\"https://g3.acdn.lt/photos/181211/19/58596905-3231-0_large.jpg\" data-src-key=\"0\" data-src-more=\"https://g4.acdn.lt/photos/181211/19/58596905-3231-0_large.jpg;https://g.acdn.lt/photos/181211/19/58596905-1760-1_large.jpg;https://g.acdn.lt/photos/181211/19/58596905-6214-2_large.jpg;https://g.acdn.lt/photos/181211/19/58596905-7831-3_large.jpg;https://g.acdn.lt/photos/181211/19/58596905-4560-4_large.jpg\" height=\"120\" id=\"listviewphotoover_58596905\" src=\"https://g4.acdn.lt/img/listview_loader.gif\" width=\"180\"/>\n",
       "</a>\n",
       "</div>\n",
       "<div class=\"desc_m_a_b\">\n",
       "<div class=\"desc_inner_b \">\n",
       "<div class=\"title\">\n",
       "<div class=\"listview_icon listview_icon_n1\" title=\"Įkeltas per paskutinę parą\"></div>\n",
       "<a class=\"vertiselink cursor-pointer\" href=\"https://www.alio.lt/skelbimai/parduoamas-1-no-kambario-butas-su-holu-laukininku-klaipedoje/ID58596905.html\">\n",
       "          Parduoamas 1-no kambario butas su holu Laukininkų, Klaipėdoje           </a>\n",
       "</div>\n",
       "<div class=\"description_more descm_1373\">Agentūra/statytojas</div>\n",
       "<div class=\"price\">\n",
       "<span class=\"main_price \">37 000 €</span> <span class=\"sub_price \">(860  €/m²)</span>\n",
       "<div class=\"clr\"></div>\n",
       "</div>\n",
       "<div class=\"description\">43 m² <span class=\"listview_spacer\">|</span>  1 kamb. <span class=\"listview_spacer\">|</span>  1992 m. <span class=\"listview_spacer\">|</span>  4 / 5 a.</div>\n",
       "</div>\n",
       "<div class=\"clr\"></div>\n",
       "<span class=\"modification\">\n",
       "<time class=\"uptodate\" datetime=\"\">prieš 17 val.</time>\n",
       "</span>\n",
       "</div>\n",
       "<div class=\"favDiv mobilehide \" data-href=\"https://www.alio.lt/public/favoritesAds/toggle_list.html?id=58596905\" id=\"fav_d_58596905\">\n",
       "<span class=\"togglefav\"></span>\n",
       "<span class=\"fav_h_t\">Pažymėti</span>\n",
       "</div>\n",
       "</div>\n",
       "<div class=\"clr\"></div>\n",
       "</div>\n",
       "<div class=\"result white\" data-score=\"1040\" id=\"lv_ad_id_58597235\">\n",
       "<div class=\"main_a_c_b\">\n",
       "<a class=\"showmobile listview_mob_f cursor-pointer\" href=\"https://www.alio.lt/skelbimai/4-kamb-butas-siauliai-siauliai-zemaites-g/ID58597235.html\"></a>\n",
       "<div class=\"image\">\n",
       "<a class=\"vertiselink cursor-pointer\" href=\"https://www.alio.lt/skelbimai/4-kamb-butas-siauliai-siauliai-zemaites-g/ID58597235.html\">\n",
       "<img alt=\"4 kamb. butas Šiauliai, Šiauliai, Žemaitės g.\" class=\"imgbl lazyunveil listviewphoto_over\" data-src=\"https://g2.acdn.lt/photos/181211/21/58597235_5c100d4abeef3_large.jpg\" data-src-key=\"0\" data-src-more=\"https://g4.acdn.lt/photos/181211/21/58597235_5c100d4abeef3_large.jpg;https://g.acdn.lt/photos/181211/21/58597235_5c100d4b5af7a_large.jpg;https://g.acdn.lt/photos/181211/21/58597235_5c100d4bf0438_large.jpg;https://g.acdn.lt/photos/181211/21/58597235_5c100d4c93107_large.jpg;https://g.acdn.lt/photos/181211/21/58597235_5c100d4d396b9_large.jpg\" height=\"120\" id=\"listviewphotoover_58597235\" src=\"https://g4.acdn.lt/img/listview_loader.gif\" width=\"180\"/>\n",
       "</a>\n",
       "</div>\n",
       "<div class=\"desc_m_a_b\">\n",
       "<div class=\"desc_inner_b \">\n",
       "<div class=\"title\">\n",
       "<div class=\"listview_icon listview_icon_n1\" title=\"Įkeltas per paskutinę parą\"></div>\n",
       "<a class=\"vertiselink cursor-pointer\" href=\"https://www.alio.lt/skelbimai/4-kamb-butas-siauliai-siauliai-zemaites-g/ID58597235.html\">\n",
       "          4 kamb. butas Šiauliai, Šiauliai, Žemaitės g.        </a>\n",
       "</div>\n",
       "<div class=\"description_more descm_1373\">Agentūra/statytojas</div>\n",
       "<div class=\"price\">\n",
       "<span class=\"main_price \">109 900 €</span> <span class=\"sub_price \">(1 014  €/m²)</span>\n",
       "<div class=\"clr\"></div>\n",
       "</div>\n",
       "<div class=\"description\">108.36 m² <span class=\"listview_spacer\">|</span>  4 kamb. <span class=\"listview_spacer\">|</span>  1995 m. <span class=\"listview_spacer\">|</span>  3 / 4 a.</div>\n",
       "</div>\n",
       "<div class=\"clr\"></div>\n",
       "<span class=\"modification\">\n",
       "<time class=\"uptodate\" datetime=\"\">prieš 15 val.</time>\n",
       "</span>\n",
       "</div>\n",
       "<div class=\"favDiv mobilehide \" data-href=\"https://www.alio.lt/public/favoritesAds/toggle_list.html?id=58597235\" id=\"fav_d_58597235\">\n",
       "<span class=\"togglefav\"></span>\n",
       "<span class=\"fav_h_t\">Pažymėti</span>\n",
       "</div>\n",
       "</div>\n",
       "<div class=\"clr\"></div>\n",
       "</div>\n",
       "<div class=\"result white\" data-score=\"1040\" id=\"lv_ad_id_58597835\">\n",
       "<div class=\"main_a_c_b\">\n",
       "<a class=\"showmobile listview_mob_f cursor-pointer\" href=\"https://www.alio.lt/skelbimai/2-kamb-butas-siauliai-siauliai-ezero-g/ID58597835.html\"></a>\n",
       "<div class=\"image\">\n",
       "<a class=\"vertiselink cursor-pointer\" href=\"https://www.alio.lt/skelbimai/2-kamb-butas-siauliai-siauliai-ezero-g/ID58597835.html\">\n",
       "<img alt=\"2 kamb. butas Šiauliai, Šiauliai, Ežero g.\" class=\"imgbl lazyunveil listviewphoto_over\" data-src=\"https://g1.acdn.lt/photos/181212/02/58597835_5c10557852e20_large.jpg\" data-src-key=\"0\" data-src-more=\"https://g3.acdn.lt/photos/181212/02/58597835_5c10557852e20_large.jpg;https://g.acdn.lt/photos/181212/02/58597835_5c105578addd1_large.jpg;https://g.acdn.lt/photos/181212/02/58597835_5c10557911101_large.jpg;https://g.acdn.lt/photos/181212/02/58597835_5c10557968e6b_large.jpg;https://g.acdn.lt/photos/181212/02/58597835_5c105579bd79b_large.jpg\" height=\"120\" id=\"listviewphotoover_58597835\" src=\"https://g4.acdn.lt/img/listview_loader.gif\" width=\"180\"/>\n",
       "</a>\n",
       "</div>\n",
       "<div class=\"desc_m_a_b\">\n",
       "<div class=\"desc_inner_b \">\n",
       "<div class=\"title\">\n",
       "<div class=\"listview_icon listview_icon_n1\" title=\"Įkeltas per paskutinę parą\"></div>\n",
       "<a class=\"vertiselink cursor-pointer\" href=\"https://www.alio.lt/skelbimai/2-kamb-butas-siauliai-siauliai-ezero-g/ID58597835.html\">\n",
       "          2 kamb. butas Šiauliai, Šiauliai, Ežero g.        </a>\n",
       "</div>\n",
       "<div class=\"description_more descm_1373\">Agentūra/statytojas</div>\n",
       "<div class=\"price\">\n",
       "<span class=\"main_price \">21 500 €</span> <span class=\"sub_price \">(505  €/m²)</span>\n",
       "<div class=\"clr\"></div>\n",
       "</div>\n",
       "<div class=\"description\">42.58 m² <span class=\"listview_spacer\">|</span>  2 kamb. <span class=\"listview_spacer\">|</span>  1963 m. <span class=\"listview_spacer\">|</span>  5 / 5 a.</div>\n",
       "</div>\n",
       "<div class=\"clr\"></div>\n",
       "<span class=\"modification\">\n",
       "<time class=\"uptodate\" datetime=\"\">prieš 10 val.</time>\n",
       "</span>\n",
       "</div>\n",
       "<div class=\"favDiv mobilehide \" data-href=\"https://www.alio.lt/public/favoritesAds/toggle_list.html?id=58597835\" id=\"fav_d_58597835\">\n",
       "<span class=\"togglefav\"></span>\n",
       "<span class=\"fav_h_t\">Pažymėti</span>\n",
       "</div>\n",
       "</div>\n",
       "<div class=\"clr\"></div>\n",
       "</div>\n",
       "<div class=\"category_subscribe_b mobile_hide\">\n",
       "<form action=\"https://www.alio.lt/prenumeratos_uzsakymas.html\" class=\"eventView\" data-creation=\"Nauju skelbimu prenumerata apacioje\" data-id=\"new_item_subscription_bottom\" data-name=\"Skelbimo kategorijos\" data-pos=\"category_title\" method=\"post\">\n",
       "<div class=\"subsc_help_t_b\">\n",
       "<div class=\"fa subsc_email_i_b\">\n",
       "<span class=\"check_i_b_placer\">\n",
       "<span class=\"check_i_b_placer_inner\">\n",
       "<i class=\"check_i_b\"></i>\n",
       "</span>\n",
       "</span>\n",
       "<i class=\"email_i_b\"></i>\n",
       "</div>\n",
       "<div class=\"subsc_header_h_t\">NEPRAŽIOPSOKITE NAUJŲ SKELBIMŲ!</div>\n",
       "<div class=\"subsc_subheader_t\">Gaukite skelbimus pagal pasirinktus paieškos kriterijus</div>\n",
       "</div>\n",
       "<div class=\"subsc_form_b\">\n",
       "<input name=\"url\" type=\"hidden\" value=\"\"/>\n",
       "<input class=\"fl\" name=\"data[email]\" placeholder=\"Jūsų el. paštas...\" type=\"text\" value=\"\"/>\n",
       "<input class=\"fl\" type=\"submit\" value=\"PRENUMERUOTI\"/>\n",
       "<div class=\"clr\"></div>\n",
       "</div>\n",
       "<div class=\"clr\"></div>\n",
       "<input name=\"data[category_id]\" type=\"hidden\" value=\"1373\"/>\n",
       "</form>\n",
       "</div>\n",
       "<div class=\"results-bottom mobiletogglehidden\">\n",
       "<div class=\"paging_b\">\n",
       "<div class=\"prev_page_b\">\n",
       "<div class=\"paging_b prev_page disabled mobilehide\"><span></span></div>\n",
       "</div>\n",
       "<div class=\"pages_list_b\">\n",
       "<div class=\"mobilehide\">\n",
       "<div class=\"paging_b selected_page\"><span>1</span></div><div class=\"paging_b\"><a href=\"https://www.alio.lt/nekilnojamas-turtas/butai/parduoda.html?page=2\" rel=\"next nofollow\">2</a></div><div class=\"paging_b\"><a href=\"https://www.alio.lt/nekilnojamas-turtas/butai/parduoda.html?page=3\" rel=\"nofollow\">3</a></div><div class=\"paging_b\"><a href=\"https://www.alio.lt/nekilnojamas-turtas/butai/parduoda.html?page=4\" rel=\"nofollow\">4</a></div><div class=\"paging_b\"><a href=\"https://www.alio.lt/nekilnojamas-turtas/butai/parduoda.html?page=5\" rel=\"nofollow\">5</a></div> <div class=\"paging_b commas_page\">...</div> </div>\n",
       "<div class=\"showmobile pagingNumbers_b\">1 / 456</div>\n",
       "</div>\n",
       "<div class=\"next_page_b\">\n",
       "<div class=\"paging_b next_page\"><a href=\"https://www.alio.lt/nekilnojamas-turtas/butai/parduoda.html?page=2\" rel=\"next nofollow\"><span></span></a>\n",
       "</div>\n",
       "</div>\n",
       "<div class=\"clr\"></div>\n",
       "</div>\n",
       "</div>\n",
       "</div>\n",
       "</div>\n",
       "</div>\n",
       "<div id=\"main_right_b\">\n",
       "<div id=\"main-content-right\">\n",
       "<div class=\"mobilehide\">\n",
       "<div class=\"marginb10 a300x150 shadesc \" data-minheight=\"150\" id=\"DA09_300x150_1\"></div>\n",
       "<div class=\"marginb10 a300x150 shadesc \" data-minheight=\"150\" id=\"DA10_300x150_2\"></div>\n",
       "<div class=\"marginb10 a300x150 shadesc \" data-minheight=\"150\" id=\"DA11_300x150_3\"></div>\n",
       "<div class=\"marginb10 a300x150 shadesc \" data-minheight=\"150\" id=\"DA12_300x150_4\"></div>\n",
       "<div class=\"marginb10 a300x600 shadesc check_height shadelay\" data-minheight=\"600\" id=\"DA13_300x600_5\"></div>\n",
       "<div class=\"marginb10 a300x600 shadesc check_height shadelay\" data-minheight=\"600\" id=\"DA14_300x600_6\"></div>\n",
       "<div class=\"marginb10 a300x600 shadesc check_height shadelay\" data-minheight=\"600\" id=\"DA15_300x600_7\"></div>\n",
       "<div class=\"marginb10 a300x600 shadesc check_height shadelay\" data-minheight=\"600\" id=\"DA16_300x600_8\"></div>\n",
       "<div class=\"marginb10 a300x600 shadesc check_height shadelay\" data-minheight=\"600\" id=\"DA17_300x600_9\"></div>\n",
       "<div class=\"marginb10 a300x600 shadesc check_height shadelay\" data-minheight=\"600\" id=\"DA18_300x600_10\"></div>\n",
       "<div class=\"marginb10 a300x600 shadesc check_height shadelay\" data-minheight=\"600\" id=\"DA19_300x600_11\"></div>\n",
       "<div class=\"marginb10 a300x250 shadesc check_height shadelay\" data-minheight=\"250\" id=\"DA20_300x250_12\"></div>\n",
       "<div class=\"marginb10 a300x250 shadesc check_height shadelay\" data-minheight=\"250\" id=\"DA21_300x250_13\"></div>\n",
       "</div>\n",
       "</div>\n",
       "</div>\n",
       "<div class=\"clr\"></div>\n",
       "<div class=\"inner_pad\">\n",
       "<div id=\"banner-bottom\">\n",
       "<div class=\"marginb10 shadesc shadelay a1200x250 mobile_hide tablet_hide\" id=\"DA02_1050x200_Bottom\"></div>\n",
       "</div>\n",
       "<div class=\"showmobile\">\n",
       "<center>\n",
       "<div class=\"marginb10 a300x250 shamob shadelay\" id=\"DA20_Mobile_300x250_3\"></div>\n",
       "</center>\n",
       "</div>\n",
       "</div>\n",
       "</div>\n",
       "</div>\n",
       "<div class=\"clr\"></div>\n",
       "<div id=\"livechat_b\">\n",
       "<div id=\"liveicon\">\n",
       "<div id=\"livechat_counter_b\"></div>\n",
       "</div>\n",
       "</div>\n",
       "<div id=\"livechat_placer_b\"></div>\n",
       "<div id=\"cookie_bar\" style=\"display: none;\">\n",
       "<div class=\"inner_bar\">\n",
       "<div id=\"cookie_bar_text_b\">\n",
       "        Informuojame, kad šioje svetainėje naudojami slapukai (angl. cookies). Sutikdami, paspauskite mygtuką „Sutinku“ arba naršykite toliau. Savo duotą sutikimą bet kada galėsite atšaukti pakeisdami savo interneto naršyklės nustatymus ir ištrindami įrašytus slapukus.\n",
       "      </div>\n",
       "<div id=\"cookie_bar_agree\">\n",
       "<span class=\"cookie_btns padding5\">SUTINKU</span>\n",
       "</div>\n",
       "<div id=\"cookie_bar_close\">\n",
       "<span></span>\n",
       "</div>\n",
       "<div id=\"cookie_bar_question\">\n",
       "<span class=\"cookie_btns \"></span>\n",
       "</div>\n",
       "<div class=\"clr\"></div>\n",
       "</div>\n",
       "</div>\n",
       "<div id=\"layout_footer\">\n",
       "<footer>\n",
       "<div id=\"footer_main_b_r_b\">\n",
       "<a class=\"eventView\" data-creation=\"+ Įdėti skelbimą\" data-id=\"first_footer\" data-name=\"Apatinio pirmo meniu mygtukai\" data-pos=\"1\" href=\"https://www.alio.lt/pasirinkite_kategorija.html\" rel=\"nofollow\">+ Įdėti skelbimą</a>\n",
       "<a class=\"eventView\" data-creation=\"Redaguoti skelbimą\" data-id=\"first_footer\" data-name=\"Apatinio pirmo meniu mygtukai\" data-pos=\"2\" href=\"https://www.alio.lt/redaguoti_skelbimai.html\" rel=\"nofollow\">Redaguoti skelbimą</a>\n",
       "<div class=\"clr\"></div>\n",
       "</div>\n",
       "<div id=\"contactus_details_b\">\n",
       "<div id=\"contactus_email_b\">\n",
       "<i class=\"fa\"></i>\n",
       "<div id=\"contactus_email\"><a href=\"mailto:pagalba@alio.lt\" target=\"_blank\">pagalba@alio.lt</a></div>\n",
       "</div>\n",
       "<div class=\"clr\"></div>\n",
       "</div>\n",
       "<div id=\"socialus_b\">\n",
       "<a class=\"fa\" href=\"https://plus.google.com/+alioreklama\" id=\"googleplus_f_b\" itemprop=\"sameAs\" rel=\"publisher nofollow\" target=\"_blank\" title=\"Alio.lt Google+\"></a>\n",
       "<a class=\"fa\" href=\"https://twitter.com/Alioreklama\" id=\"twitter_f_b\" itemprop=\"sameAs\" rel=\"nofollow\" target=\"_blank\" title=\"Alio.lt twitter\"></a>\n",
       "<a class=\"fa\" href=\"https://www.facebook.com/www.alio.lt\" id=\"facebook_f_b\" itemprop=\"sameAs\" rel=\"nofollow\" target=\"_blank\" title=\"Alio.lt Facebook\"></a>\n",
       "<div class=\"clr\"></div>\n",
       "</div>\n",
       "<div class=\"clr\"></div>\n",
       "</footer>\n",
       "</div>\n",
       "<div id=\"footer_bottom_b\">\n",
       "<div id=\"footer_bottom\">\n",
       "<div class=\"fl\" id=\"bottom_l_b\">\n",
       "<a class=\"fl eventView\" data-creation=\"Reklama\" data-id=\"second_footer\" data-name=\"Kontaktai ir reklama\" data-pos=\"1\" href=\"https://www.alio.lt/reklama.html\" rel=\"nofollow\" title=\"Reklama\">Reklama</a>\n",
       "<a class=\"fl eventView\" data-creation=\"Taisyklės\" data-id=\"second_footer\" data-name=\"Kontaktai ir reklama\" data-pos=\"2\" href=\"https://www.alio.lt/taisykles.html\" rel=\"nofollow\" title=\"Taisyklės\">Taisyklės</a>\n",
       "<a class=\"fl eventView\" data-creation=\"DUK\" data-id=\"second_footer\" data-name=\"Kontaktai ir reklama\" data-pos=\"3\" href=\"https://www.alio.lt/duk.html\" rel=\"nofollow\" title=\"DUK\">DUK</a>\n",
       "<div class=\"clr\"></div>\n",
       "</div>\n",
       "<div id=\"bottom_copyright\">\n",
       "      © 2018 Alio. Visos teisės saugomos.\n",
       "    </div>\n",
       "<div class=\"clr\"></div>\n",
       "</div>\n",
       "</div>\n",
       "<!-- Google Tag Manager -->\n",
       "<script>(function(w,d,s,l,i){w[l]=w[l]||[];w[l].push({'gtm.start':\n",
       "        new Date().getTime(),event:'gtm.js'});var f=d.getElementsByTagName(s)[0],\n",
       "    j=d.createElement(s),dl=l!='dataLayer'?'&l='+l:'';j.async=true;j.src=\n",
       "    'https://www.googletagmanager.com/gtm.js?id='+i+dl;f.parentNode.insertBefore(j,f);\n",
       "})(window,document,'script','dataLayer','GTM-TPJKGCL');</script>\n",
       "<!-- End Google Tag Manager -->\n",
       "<script>\n",
       "    !function(f,b,e,v,n,t,s){if(f.fbq)return;n=f.fbq=function(){n.callMethod?\n",
       "        n.callMethod.apply(n,arguments):n.queue.push(arguments)};if(!f._fbq)f._fbq=n;\n",
       "        n.push=n;n.loaded=!0;n.version='2.0';n.queue=[];t=b.createElement(e);t.async=!0;\n",
       "        t.src=v;s=b.getElementsByTagName(e)[0];s.parentNode.insertBefore(t,s)}(window,\n",
       "        document,'script','https://connect.facebook.net/en_US/fbevents.js');\n",
       "    fbq('init', '316716652056210');\n",
       "\n",
       "    \n",
       "    fbq('track', 'PageView');\n",
       "\n",
       "</script>\n",
       "<noscript>\n",
       "<img height=\"1\" src=\"https://www.facebook.com/tr?id=316716652056210&amp;ev=PageView&amp;noscript=1\" style=\"display:none\" width=\"1\"/>\n",
       "</noscript>\n",
       "<div class=\"shadesc\" id=\"DA_Desktop_Tracker\"></div>\n",
       "<div class=\"shamob\" id=\"DA_Mobile_Tracker\"></div>\n",
       "<div class=\"shadesc\" id=\"DA00_Pixel\"></div>\n",
       "<div class=\"shamob\" id=\"DA22_Mobile_Pixel\"></div>\n",
       "<div class=\"ad-placement\" id=\"blocker_checker\"></div>\n",
       "<div data-uri=\"https://www.alio.lt/pub/music/rvrb2.mp3\" id=\"sound\"></div>\n",
       "<script charset=\"UTF-8\" src=\"https://www.alio.lt/pub/js/gdpr/main.js?v=125520180927\"> </script>\n",
       "<script>\n",
       "\n",
       "        $(\"#cookie_bar\").show();\n",
       "        $(\"#cookie_bar_close\").click(function()\n",
       "        {\n",
       "            $(\"#cookie_bar\").hide();\n",
       "            window.__cmp('renderCmpIfNeeded');\n",
       "        });\n",
       "\n",
       "        $(\"#cookie_bar_agree\").click(function()\n",
       "        {\n",
       "            $(\"#cookie_bar\").hide();\n",
       "            window.__cmp('acceptAll');\n",
       "        });\n",
       "\n",
       "        $(\"#cookie_bar_question\").click(function()\n",
       "        {\n",
       "            $(\"#cookie_bar\").hide();\n",
       "            window.__cmp('renderCmpIfNeeded');\n",
       "        });\n",
       "    \n",
       "\n",
       "\n",
       "\n",
       "\n",
       "var savedSearch_delete_uri = 'https://www.alio.lt/public/savedsearches/deletesearch.html';var commentsurl = \"https://www.alio.lt/comments_index.html?\";var commentsreporturl = \"https://www.alio.lt/public/comments/report.html?\";var comment_id = '';var ad_url = window.location.href;        var tsGetResultCount = 'https://www.alio.lt/public/textSearch/getResultCount.html';\n",
       "        var tsGetFieldData = 'https://www.alio.lt/public/textSearch/getFieldData.html';\n",
       "            \n",
       "var listviewC = '//g4.acdn.lt/aws1/log/log.php';\n",
       "var searchSuggestion_url = 'https://www.alio.lt/searchSuggestion.html';\n",
       "var searchUserValueDelete_url = 'https://www.alio.lt/public/textSearch/deleteSearchUserValue.html';\n",
       "\n",
       "var login_url = 'https://www.alio.lt/prisijungimas.html';\n",
       "var chatPrivatesBu_url = 'https://www.alio.lt/livechat_privateChatsBu.html';\n",
       "var chatPrivatesSe_url = 'https://www.alio.lt/livechat_privateChatsSe.html';\n",
       "var chatPrivatesSeList_url = 'https://www.alio.lt/livechat_privateChatsSeList.html';\n",
       "var chatPrivateBu_url = 'https://www.alio.lt/livechat_privateChatBu.html';\n",
       "var chatPrivateSe_url = 'https://www.alio.lt/livechat_privateChatSe.html';\n",
       "var chatDelete_url = 'https://www.alio.lt/livechat_delete.html';\n",
       "var chatAddMsg_url = 'https://www.alio.lt/livechat_addMessage.html';\n",
       "var chatRefresh_url = 'https://www.alio.lt/livechat_privateChatRefresh.html';\n",
       "var chatTotal_url = 'https://www.alio.lt/checkTotal.html';\n",
       "var chatPrevMsg_url = 'https://www.alio.lt/livechat_previousMessages.html';\n",
       "var find_by_position = 'https://www.alio.lt/public/advertisement/getDataByPosition.html'; \n",
       "\n",
       "var validateSearchUri = \"https://www.alio.lt/pub/search/time.php\";\n",
       "\n",
       "//var category_native_icons = \"https://www.alio.lt/pub/css/category_icons.css?v=0731\";\n",
       "\n",
       "var ALIO_URL = {\n",
       "  address_getSimple: 'https://www.alio.lt/addressgetSimple.html?search=1',\n",
       "  address_getSimple2: 'https://www.alio.lt/addressgetSimple2.html?search=1',\n",
       "  address_getSimpleSeparate: 'https://www.alio.lt/getSimpleSeparate.html?search=1',\n",
       "}\n",
       "var MINIMAL_ID_VALUE = 100000000;\n",
       "\n",
       "</script>\n",
       "\n",
       "<!--layouts scripts 1337 BEG-->\n",
       "<div style=\"display: none\">\n",
       "<!-- (C)2000-2014 Gemius SA - gemiusAudience / pp.alio1.lt / butai parduoda -->\n",
       "<script type=\"text/javascript\">\n",
       "<!--//--><![CDATA[//><!--\n",
       "var pp_gemius_identifier = 'ncc7_b7rlFFmIdO9a5oUTsPanA4_IJg79G.8AoybM7D.n7';\n",
       "// lines below shouldn't be edited\n",
       "function gemius_pending(i) { window[i] = window[i] || function() {var x = window[i+'_pdata'] = window[i+'_pdata'] || []; x[x.length]=arguments;};};\n",
       "gemius_pending('gemius_hit'); gemius_pending('gemius_event'); gemius_pending('pp_gemius_hit'); gemius_pending('pp_gemius_event');\n",
       "(function(d,t) {try {var gt=d.createElement(t),s=d.getElementsByTagName(t)[0],l='http'+((location.protocol=='https:')?'s':''); gt.setAttribute('async','async');\n",
       "gt.setAttribute('defer','defer'); gt.src=l+'://galt.hit.gemius.pl/xgemius.js'; s.parentNode.insertBefore(gt,s);} catch (e) {}})(document,'script');\n",
       "//--><!]]>\n",
       "</script>\n",
       "<!-- (c) 2000-2017 Gemius SA ver 1.1 Impressions: delfi_lt/5. Retargeting/Alio.lt cookiai Evaldui, cockiu rinkimas, cockiu rinkimas -->\n",
       "<script language=\"javascript1.2\" type=\"text/javascript\"><!--\n",
       "var _gde_qfildqrtki = new Image(1,1);\n",
       "_gde_qfildqrtki.src='https://delfiadlt.hit.gemius.pl/redot.gif?l=8/tstamp='+(new Date()).getTime()+'/id=0tfg8mbKfxsXakUKXeTDRWXjLQq1QZtSwB0OJi8y17D.n7/stparam=qfildqrtki/fastid=mvrsxrljshwjmtcufzefmtxsjuon';\n",
       "//--></script><!--layouts scripts 1337 END-->\n",
       "</div>\n",
       "<div id=\"pupup-block\" style=\"display:none\">\n",
       "<div id=\"pupup-block-title\"><span> </span> <i class=\"fal fa-times-circle close-block\"></i></div>\n",
       "<div id=\"pupup-block-content\">\n",
       "</div>\n",
       "</div>\n"
      ]
     },
     "execution_count": 54,
     "metadata": {},
     "output_type": "execute_result"
    }
   ],
   "source": [
    "from bs4 import BeautifulSoup\n",
    "import pandas as pd\n",
    "import requests\n",
    "\n",
    "K = []\n",
    "L = []\n",
    "KU = []\n",
    "L1 = []\n",
    "\n",
    "burl = \"http://www.alio.lt/nekilnojamas-turtas/butai/parduoda.html?page=\"\n",
    "\n",
    "# #BeautifulSoup standartinis puslapio duomenų paruošimas\n",
    "m = requests.get(burl + \"1\")\n",
    "d = m.content\n",
    "d\n",
    "soup = BeautifulSoup(d, \"html.parser\")\n",
    "soup"
   ]
  },
  {
   "cell_type": "code",
   "execution_count": 28,
   "metadata": {},
   "outputs": [
    {
     "data": {
      "text/plain": [
       "<title>Parduoda butą skelbimai ( 5 psl. ) | Alio.lt</title>"
      ]
     },
     "execution_count": 28,
     "metadata": {},
     "output_type": "execute_result"
    }
   ],
   "source": [
    "soup.title"
   ]
  },
  {
   "cell_type": "code",
   "execution_count": 29,
   "metadata": {},
   "outputs": [
    {
     "data": {
      "text/plain": [
       "'title'"
      ]
     },
     "execution_count": 29,
     "metadata": {},
     "output_type": "execute_result"
    }
   ],
   "source": [
    "soup.title.name"
   ]
  },
  {
   "cell_type": "code",
   "execution_count": 30,
   "metadata": {
    "scrolled": true
   },
   "outputs": [
    {
     "data": {
      "text/plain": [
       "'Parduoda butą skelbimai ( 5 psl. ) | Alio.lt'"
      ]
     },
     "execution_count": 30,
     "metadata": {},
     "output_type": "execute_result"
    }
   ],
   "source": [
    "soup.title.string"
   ]
  },
  {
   "cell_type": "code",
   "execution_count": 31,
   "metadata": {
    "collapsed": true
   },
   "outputs": [
    {
     "data": {
      "text/plain": [
       "<body id=\"body\">\n",
       "<noscript><iframe height=\"0\" src=\"https://www.googletagmanager.com/ns.html?id=GTM-TPJKGCL\" style=\"display:none;visibility:hidden\" width=\"0\"></iframe></noscript>\n",
       "<div id=\"wallpaper\"></div>\n",
       "<div id=\"delfi-container-wrapper\">\n",
       "<div id=\"main-content-header\">\n",
       "<div id=\"banner-top\">\n",
       "<div class=\"a1200x250 shadesc\" id=\"DA01_1050x200\"></div>\n",
       "</div>\n",
       "<div id=\"topMenu_bg_h\"></div>\n",
       "<div id=\"header_m_menu\">\n",
       "<input id=\"mobmenu\" type=\"checkbox\"/>\n",
       "<div id=\"header_m_menu_c\">\n",
       "<div id=\"logo_mob_b\">\n",
       "<a href=\"https://www.alio.lt/\" id=\"logo_mob_placement_b\" title=\"Nemokami skelbimai\">\n",
       "<img alt=\"Alio.lt nemokami skelbimai\" height=\"45\" src=\"https://g4.acdn.lt/img/svg/logo.svg\" width=\"125\"/>\n",
       "</a>\n",
       "</div>\n",
       "<div class=\"noanim\" id=\"mobmenu_h_b\">\n",
       "<span></span>\n",
       "<span></span>\n",
       "<span></span>\n",
       "<span></span>\n",
       "</div>\n",
       "<a href=\"https://www.alio.lt/patike_skelbimai.html\" id=\"fav_mb_m_b\">\n",
       "<span></span>\n",
       "<i></i>\n",
       "</a>\n",
       "<a class=\"eventView showmobile\" data-creation=\"+ Dėti\" data-id=\"header_line_b\" data-name=\"Ideti skelbima mygtukas\" data-pos=\"mobile header\" href=\"https://www.alio.lt/pasirinkite_kategorija.html?id=1373\" id=\"addnew_mb_m_b\"><span>+</span>Dėti</a>\n",
       "<div class=\"clr\"></div>\n",
       "</div>\n",
       "<div id=\"logo_n_placement_b\">\n",
       "<a href=\"https://www.alio.lt/\" id=\"logo_n_placement\" title=\"Nemokami skelbimai\">\n",
       "<img alt=\"Alio.lt nemokami skelbimai\" height=\"69\" src=\"https://g4.acdn.lt/img/svg/logo.svg\" width=\"203\"/>\n",
       "</a>\n",
       "</div>\n",
       "<div id=\"header_r_side_b\">\n",
       "<div id=\"header_m_menu_b\">\n",
       "<div id=\"topMenu\">\n",
       "<div class=\"mobilehide\" id=\"city_menu\"> </div><ul class=\"user_menu_small logged\" id=\"user_menu_type\"><li class=\"showmobile\"><a class=\"eventView\" data-creation=\"Įdėti skelbimą\" data-id=\"header_line_a\" data-name=\"Virsutinis meniu\" data-pos=\"1\" href=\"https://www.alio.lt/pasirinkite_kategorija.html\" rel=\"nofollow\">Įdėti skelbimą</a></li><li id=\"edita_b_i\"><a class=\"first eventView\" data-creation=\"Redaguoti skelbimą\" data-id=\"header_line_a\" data-name=\"Virsutinis meniu\" data-pos=\"2\" href=\"https://www.alio.lt/redaguoti_skelbimai.html\" rel=\"nofollow\">Redaguoti skelbimą</a></li><li id=\"login_b_i\"><a class=\"eventView\" data-creation=\"Prisijunk\" data-id=\"header_line_a\" data-name=\"Virsutinis meniu\" data-pos=\"3\" href=\"https://www.alio.lt/prisijungimas.html\" rel=\"nofollow\">Prisijunk</a></li><li id=\"register_b_i\"><a class=\"eventView\" data-creation=\"Užsiregistruok\" data-id=\"header_line_a\" data-name=\"Virsutinis meniu\" data-pos=\"4\" href=\"https://www.alio.lt/registracija.html\" rel=\"nofollow\">Užsiregistruok</a></li><li id=\"fav_b_i\"><a class=\"eventView\" data-creation=\"Pažymėti\" data-id=\"header_line_a\" data-name=\"Virsutinis meniu\" data-pos=\"5\" href=\"https://www.alio.lt/patike_skelbimai.html\" rel=\"nofollow\">Pažymėti <span class=\"highlight\" id=\"favoritesCount_b\">(0)</span></a></li><li id=\"savs_b_i\"><a class=\"eventView\" data-creation=\"Išsaugotų paieškų\" data-id=\"header_line_a\" data-name=\"Virsutinis meniu\" data-pos=\"6\" href=\"https://www.alio.lt/public/savedsearches/savedSearchesList.html\" rel=\"nofollow\">Išsaugotų paieškų <span class=\"highlight\">(0)</span></a></li></ul><div class=\"clr\"></div></div> <div class=\"clr\"></div>\n",
       "</div>\n",
       "<div id=\"header_line_b\">\n",
       "<div class=\"loadHelperClass\" id=\"header_ms_b\">\n",
       "<form action=\"https://www.alio.lt/paieska/\" id=\"ts_form\" method=\"get\">\n",
       "<div id=\"search_mh_b\"><div id=\"ts_query_b_b\"><div id=\"ts_query_b\"><i id=\"search_icon\"></i><input class=\"text eventView\" data-creation=\"Tekstas\" data-id=\"header_line_b\" data-name=\"Paieskos blokas\" data-pos=\"1\" id=\"ts_query\" name=\"ts_query\" placeholder=\"Ieškokite tarp 284 962 skelbimų\" type=\"search\" value=\"\"><i id=\"ts_delete_icon\"></i></input></div></div><button class=\"button_n eventView\" data-creation=\"Submit\" data-id=\"header_line_b\" data-name=\"Paieskos blokas\" data-pos=\"4\" id=\"ts_submit_b\" type=\"submit\"><i></i></button> <div id=\"ts_city_b\"> <div class=\"eventView\" data-creation=\"Miestas\" data-id=\"header_line_b\" data-name=\"Paieskos blokas\" data-pos=\"2_desktop\" id=\"ts_city_selector\"> <span>Visi miestai</span> <i class=\"city_delete_icon fa\"></i> </div> <div class=\"eventView\" data-creation=\"Miestas\" data-id=\"header_line_b\" data-link=\"https://www.alio.lt/public/textSearch/searchFilterCity.html?category_id=1373&amp;city_id=1\" data-name=\"Paieskos blokas\" data-pos=\"2_mobile\" id=\"ts_city_selector_m\"> <span>Visi miestai</span> <i class=\"city_delete_icon fa\"></i> </div> <div data-link=\"https://www.alio.lt/public/index/topCitiesList.html\" id=\"ts_city_list\"> <div id=\"ts_city_list_placer\"> </div> <input id=\"ts_city_input\" name=\"city_id\" type=\"hidden\" value=\"\"/> <input id=\"ts_city_input_path\" type=\"hidden\" value=\"\"/> <div data-link=\"https://www.alio.lt/public/textSearch/setCity.html\" id=\"selecting-city\"></div></div> </div> </div> <div id=\"ts_category_b\"><div class=\"categorySet eventView\" data-creation=\"Kategorija\" data-id=\"header_line_b\" data-name=\"Paieskos blokas\" data-pos=\"1\" id=\"ts_category_selector\"><span>Parduoda</span><i class=\"category_delete_icon fa\"></i></div><div id=\"ts_category_list\"><span class=\"cat_l_b selected selecteds\" data-main-cat-id=\"1353\" data-value=\"1373\">└ Parduoda</span><span class=\"cat_l_b \" data-main-cat-id=\"1353\" data-value=\"1363\">└ Butai</span><span class=\"cat_l_b \" data-main-cat-id=\"1353\" data-value=\"1353\">└ Nekilnojamasis turtas</span><span class=\"cat_l_b cat_l_borderb\" data-value=\"\" id=\"allcats_v\">└ Visi skelbimai</span><span class=\"cat_l_b \" data-main-cat-id=\"593\" data-value=\"593\">Transportas</span><span class=\"cat_l_b \" data-main-cat-id=\"1353\" data-value=\"1353\">Nekilnojamasis turtas</span><span class=\"cat_l_b \" data-main-cat-id=\"1743\" data-value=\"1743\">Statyba, remontas</span><span class=\"cat_l_b \" data-main-cat-id=\"2113\" data-value=\"2113\">Viskas namams</span><span class=\"cat_l_b \" data-main-cat-id=\"2343\" data-value=\"2343\">Telefonai</span><span class=\"cat_l_b \" data-main-cat-id=\"2443\" data-value=\"2443\">Darbas, mokslas</span><span class=\"cat_l_b \" data-main-cat-id=\"2533\" data-value=\"2533\">Technika</span><span class=\"cat_l_b \" data-main-cat-id=\"3003\" data-value=\"3003\">Laisvalaikis</span><span class=\"cat_l_b \" data-main-cat-id=\"3313\" data-value=\"3313\">Drabužiai</span><span class=\"cat_l_b \" data-main-cat-id=\"3423\" data-value=\"3423\">Kompiuterija</span><span class=\"cat_l_b \" data-main-cat-id=\"3633\" data-value=\"3633\">Verslas</span><span class=\"cat_l_b \" data-main-cat-id=\"5033\" data-value=\"5033\">Viskas nemokamai</span><span class=\"cat_l_b \" data-main-cat-id=\"5172\" data-value=\"5172\">Prekės vaikams</span></div> <input id=\"ts_category_input\" name=\"category_id\" type=\"hidden\" value=\"1373\"/><input id=\"ts_category_input_path\" type=\"hidden\" value=\"Nekilnojamasis turtas &gt; Butai &gt; Parduoda\"/></div><div class=\"clr\"></div></form></div><div id=\"search_mh_b_bg\"></div>\n",
       "<div id=\"addnew_mb_b\">\n",
       "<a class=\"eventView\" data-creation=\"+ Įdėti skelbimą\" data-id=\"header_line_b\" data-name=\"Ideti skelbima mygtukas\" data-pos=\"1\" href=\"https://www.alio.lt/pasirinkite_kategorija.html?id=1373\">+ Įdėti skelbimą</a>\n",
       "</div>\n",
       "<div class=\"clr\"></div>\n",
       "<input name=\"top_search\" type=\"hidden\" value=\"1\"/>\n",
       "</div></div></div></div></div></body>"
      ]
     },
     "execution_count": 31,
     "metadata": {},
     "output_type": "execute_result"
    }
   ],
   "source": [
    "soup.body"
   ]
  },
  {
   "cell_type": "code",
   "execution_count": 32,
   "metadata": {},
   "outputs": [
    {
     "data": {
      "text/plain": [
       "'head'"
      ]
     },
     "execution_count": 32,
     "metadata": {},
     "output_type": "execute_result"
    }
   ],
   "source": [
    "soup.title.parent.name"
   ]
  },
  {
   "cell_type": "code",
   "execution_count": 35,
   "metadata": {},
   "outputs": [
    {
     "name": "stdout",
     "output_type": "stream",
     "text": [
      "None\n"
     ]
    }
   ],
   "source": [
    "print(soup.p)"
   ]
  },
  {
   "cell_type": "code",
   "execution_count": 37,
   "metadata": {
    "scrolled": true
   },
   "outputs": [],
   "source": [
    "# soup.p['class'] imeta klaida, nes soup.p yra None, ir None negali\n",
    "# būti panaudotas su [\"class\"]"
   ]
  },
  {
   "cell_type": "code",
   "execution_count": 38,
   "metadata": {},
   "outputs": [
    {
     "data": {
      "text/plain": [
       "<a href=\"https://www.alio.lt/\" id=\"logo_mob_placement_b\" title=\"Nemokami skelbimai\">\n",
       "<img alt=\"Alio.lt nemokami skelbimai\" height=\"45\" src=\"https://g4.acdn.lt/img/svg/logo.svg\" width=\"125\"/>\n",
       "</a>"
      ]
     },
     "execution_count": 38,
     "metadata": {},
     "output_type": "execute_result"
    }
   ],
   "source": [
    "soup.a"
   ]
  },
  {
   "cell_type": "code",
   "execution_count": 47,
   "metadata": {},
   "outputs": [
    {
     "data": {
      "text/plain": [
       "<a href=\"https://www.alio.lt/\" id=\"logo_mob_placement_b\" title=\"Nemokami skelbimai\">\n",
       "<img alt=\"Alio.lt nemokami skelbimai\" height=\"45\" src=\"https://g4.acdn.lt/img/svg/logo.svg\" width=\"125\"/>\n",
       "</a>"
      ]
     },
     "execution_count": 47,
     "metadata": {},
     "output_type": "execute_result"
    }
   ],
   "source": [
    "soup.find(\"a\")"
   ]
  },
  {
   "cell_type": "code",
   "execution_count": 43,
   "metadata": {},
   "outputs": [
    {
     "data": {
      "text/plain": [
       "<a href=\"https://www.alio.lt/\" id=\"logo_n_placement\" title=\"Nemokami skelbimai\">\n",
       "<img alt=\"Alio.lt nemokami skelbimai\" height=\"69\" src=\"https://g4.acdn.lt/img/svg/logo.svg\" width=\"203\"/>\n",
       "</a>"
      ]
     },
     "execution_count": 43,
     "metadata": {},
     "output_type": "execute_result"
    }
   ],
   "source": [
    "soup.find(id=\"logo_n_placement\")"
   ]
  },
  {
   "cell_type": "code",
   "execution_count": 51,
   "metadata": {},
   "outputs": [],
   "source": [
    "# page = soup.find_all(\"div\", {\"class\":\"paging_b\"}) # šitą, naudočiau, jei kada norėčiau visus pasiūlymus"
   ]
  },
  {
   "cell_type": "code",
   "execution_count": null,
   "metadata": {},
   "outputs": [],
   "source": [
    "# for i in range(1,50):\n",
    "# \tc = requests.get(burl+str(i))\n",
    "# \td = c.content\n",
    "# \tsoup = BeautifulSoup(d, \"html.parser\")"
   ]
  },
  {
   "cell_type": "code",
   "execution_count": null,
   "metadata": {},
   "outputs": [],
   "source": []
  },
  {
   "cell_type": "code",
   "execution_count": 66,
   "metadata": {
    "scrolled": true
   },
   "outputs": [
    {
     "data": {
      "text/plain": [
       "[<div class=\"price\">\n",
       " <span class=\"main_price \">25 500 €</span> <span class=\"sub_price \">(981  €/m²)</span>\n",
       " <div class=\"clr\"></div>\n",
       " </div>, <div class=\"price\">\n",
       " <span class=\"main_price \">135 000 €</span> <span class=\"sub_price \">(1 570  €/m²)</span>\n",
       " <div class=\"clr\"></div>\n",
       " </div>, <div class=\"price\">\n",
       " <span class=\"main_price \">48 000 €</span> <span class=\"sub_price \">(873  €/m²)</span>\n",
       " <div class=\"clr\"></div>\n",
       " </div>, <div class=\"price\">\n",
       " <span class=\"main_price \">59 000 €</span> <span class=\"sub_price \">(1 255  €/m²)</span>\n",
       " <div class=\"clr\"></div>\n",
       " </div>, <div class=\"price\">\n",
       " <span class=\"main_price \">53 000 €</span> <span class=\"sub_price \">(964  €/m²)</span>\n",
       " <div class=\"clr\"></div>\n",
       " </div>, <div class=\"price\">\n",
       " <span class=\"main_price \">44 500 €</span> <span class=\"sub_price \">(1 214  €/m²)</span>\n",
       " <div class=\"clr\"></div>\n",
       " </div>, <div class=\"price\">\n",
       " <span class=\"main_price \">73 900 €</span> <span class=\"sub_price \">(1 760  €/m²)</span>\n",
       " <div class=\"clr\"></div>\n",
       " </div>, <div class=\"price\">\n",
       " <span class=\"main_price \">109 000 €</span> <span class=\"sub_price \">(1 434  €/m²)</span>\n",
       " <div class=\"clr\"></div>\n",
       " </div>, <div class=\"price\">\n",
       " <span class=\"main_price \">19 900 €</span> <span class=\"sub_price \">(1 092  €/m²)</span>\n",
       " <div class=\"clr\"></div>\n",
       " </div>, <div class=\"price\">\n",
       " <span class=\"main_price \">47 187 €</span> <span class=\"sub_price \">(1 482  €/m²)</span>\n",
       " <div class=\"clr\"></div>\n",
       " </div>, <div class=\"price\">\n",
       " <span class=\"main_price \">63 000 €</span> <span class=\"sub_price \">(1 260  €/m²)</span>\n",
       " <div class=\"clr\"></div>\n",
       " </div>, <div class=\"price\">\n",
       " <span class=\"main_price \">17 000 €</span> <span class=\"sub_price \">(540  €/m²)</span>\n",
       " <div class=\"clr\"></div>\n",
       " </div>, <div class=\"price\">\n",
       " <span class=\"main_price \">64 500 €</span> <span class=\"sub_price \">(1 433  €/m²)</span>\n",
       " <div class=\"clr\"></div>\n",
       " </div>, <div class=\"price\">\n",
       " <span class=\"main_price \">95 000 €</span> <span class=\"sub_price \">(2 160  €/m²)</span>\n",
       " <div class=\"clr\"></div>\n",
       " </div>, <div class=\"price\">\n",
       " <span class=\"main_price \">84 000 €</span> <span class=\"sub_price \">(1 217  €/m²)</span>\n",
       " <div class=\"clr\"></div>\n",
       " </div>, <div class=\"price\">\n",
       " <span class=\"main_price \">5 000 €</span> <span class=\"sub_price \">(263  €/m²)</span>\n",
       " <div class=\"clr\"></div>\n",
       " </div>, <div class=\"price\">\n",
       " <span class=\"main_price \">57 000 €</span> <span class=\"sub_price \">(731  €/m²)</span>\n",
       " <div class=\"clr\"></div>\n",
       " </div>, <div class=\"price\">\n",
       " <span class=\"main_price \">137 583 €</span> <span class=\"sub_price \">(2 089  €/m²)</span>\n",
       " <div class=\"clr\"></div>\n",
       " </div>, <div class=\"price\">\n",
       " <span class=\"main_price \">55 000 €</span> <span class=\"sub_price \">(1 100  €/m²)</span>\n",
       " <div class=\"clr\"></div>\n",
       " </div>, <div class=\"price\">\n",
       " <span class=\"main_price \">73 000 €</span> <span class=\"sub_price \">(937  €/m²)</span>\n",
       " <div class=\"clr\"></div>\n",
       " </div>, <div class=\"price\">\n",
       " <span class=\"main_price \">7 500 €</span> <span class=\"sub_price \">(149  €/m²)</span>\n",
       " <div class=\"clr\"></div>\n",
       " </div>, <div class=\"price\">\n",
       " <span class=\"main_price \">63 000 €</span> <span class=\"sub_price \">(1 154  €/m²)</span>\n",
       " <div class=\"clr\"></div>\n",
       " </div>, <div class=\"price\">\n",
       " <span class=\"main_price \">37 000 €</span> <span class=\"sub_price \">(860  €/m²)</span>\n",
       " <div class=\"clr\"></div>\n",
       " </div>, <div class=\"price\">\n",
       " <span class=\"main_price \">109 900 €</span> <span class=\"sub_price \">(1 014  €/m²)</span>\n",
       " <div class=\"clr\"></div>\n",
       " </div>, <div class=\"price\">\n",
       " <span class=\"main_price \">21 500 €</span> <span class=\"sub_price \">(505  €/m²)</span>\n",
       " <div class=\"clr\"></div>\n",
       " </div>]"
      ]
     },
     "execution_count": 66,
     "metadata": {},
     "output_type": "execute_result"
    }
   ],
   "source": [
    "a = soup.find_all(\"div\", {\"class\":\"price\"}) # Kaina\n",
    "a\n",
    "# b = soup.find_all(\"div\", {\"class\":\"description\"}) # Kamb.skaičius, Plotis ir Meai\n",
    "# l = soup.find_all(\"a\", {\"class\":\"vertiselink cursor-pointer\"}) #Url link'as\n",
    "\n",
    "# for kaina in a:\n",
    "#     K.append(int(kaina.find(\"span\", {\"class\":\"main_price\"}).text.replace(\" \", \"\").replace(\"€\",\"\")))\n",
    "kainos = [int(kaina.find(\"span\", {\"class\":\"main_price\"}).text.replace(\" \", \"\").replace(\"€\",\"\")) for kaina in a]\n",
    "print(kainos)"
   ]
  },
  {
   "cell_type": "code",
   "execution_count": 127,
   "metadata": {},
   "outputs": [
    {
     "name": "stdout",
     "output_type": "stream",
     "text": [
      "[<time class=\"uptodate\" datetime=\"\">prieš 2 d.</time>, <time class=\"uptodate\" datetime=\"\">prieš 2 val.</time>, <time class=\"uptodate\" datetime=\"\">prieš 1 val.</time>, <time class=\"uptodate\" datetime=\"\">prieš 14 d.</time>, <time class=\"uptodate\" datetime=\"\">prieš 11 d.</time>]\n",
      "['prieš', '2', 'd.']\n",
      "['prieš', '2', 'val.']\n",
      "['prieš', '1', 'val.']\n",
      "['prieš', '14', 'd.']\n",
      "['prieš', '11', 'd.']\n"
     ]
    }
   ],
   "source": [
    "datos = soup.find_all(\"time\")\n",
    "sk = list()\n",
    "print(datos[:5])\n",
    "for i in datos[:5]:\n",
    "    dasd = i.text.split()\n",
    "    print(dasd)\n",
    "    for s in dasd:\n",
    "        if s.isdigit():\n",
    "            sk.append(int(s))"
   ]
  },
  {
   "cell_type": "code",
   "execution_count": 128,
   "metadata": {},
   "outputs": [
    {
     "data": {
      "text/plain": [
       "[2, 2, 1, 14, 11]"
      ]
     },
     "execution_count": 128,
     "metadata": {},
     "output_type": "execute_result"
    }
   ],
   "source": [
    "sk"
   ]
  },
  {
   "cell_type": "code",
   "execution_count": null,
   "metadata": {},
   "outputs": [],
   "source": [
    "# \tfor op in b:\n",
    "# \t\tif len(op.text.split(\"|\")) == 3:\n",
    "# \t\t\tab = op.text.split(\"|\")\n",
    "# \t\t\tab.insert(2, None)\n",
    "# \t\t\tL.append(ab)\n",
    "# \t\telif len(op.text.split(\"|\")) == 4:\n",
    "# \t\t\tL.append(op.text.split(\"|\"))\n",
    "# \t\telse:\n",
    "# \t\t\tpass\n",
    "\n",
    "# \tfor h1 in l:\n",
    "# \t\tif h1[\"href\"] not in L1:\n",
    "# \t\t\tL1.append(h1['href'])\n",
    "\t\n",
    "# \tfor p,n,q in zip(K,L,L1):\n",
    "# \t    dic = {}\n",
    "# \t    dic[\"Kaina\"] = p\n",
    "# \t    #print(dic[\"Kaina\"])\n",
    "# \t    dic[\"Metai\"] = n[2]\n",
    "# \t    #print(dic[\"Metai\"])\n",
    "# \t    dic[\"Plotas\"] = n[0]\n",
    "# \t    #print(dic[\"Plotas\"])\n",
    "# \t    dic[\"Skaičius\"] = n[1]\n",
    "# \t    #print(dic[\"Skaičius\"])\n",
    "# \t    dic[\"Url\"] = q\n",
    "# \t    KU.append(dic)\n",
    "\n",
    "# df = pd.DataFrame(KU)\n",
    "\n",
    "# pd.set_option('display.max_colwidth', -1)\n",
    "# print(df)\n",
    "# print(\"Pigiausias variantas \"+str(df['Kaina'].min())+\" \"+str(list(df.loc[df['Kaina'].idxmin()])[-1]))\n",
    "# print(\"Brangusias variantas \"+str(df[\"Kaina\"].max())+\" \"+str(list(df.loc[df['Kaina'].idxmax()])[-1]))"
   ]
  },
  {
   "cell_type": "markdown",
   "metadata": {},
   "source": [
    "## SQL (import sqlite3)\n",
    "https://stackabuse.com/a-sqlite-tutorial-with-python/"
   ]
  },
  {
   "cell_type": "code",
   "execution_count": null,
   "metadata": {},
   "outputs": [],
   "source": []
  },
  {
   "cell_type": "code",
   "execution_count": null,
   "metadata": {},
   "outputs": [],
   "source": []
  },
  {
   "cell_type": "code",
   "execution_count": null,
   "metadata": {
    "collapsed": true
   },
   "outputs": [],
   "source": []
  },
  {
   "cell_type": "markdown",
   "metadata": {},
   "source": [
    "## Klasės (Class)?"
   ]
  },
  {
   "cell_type": "code",
   "execution_count": null,
   "metadata": {},
   "outputs": [],
   "source": []
  }
 ],
 "metadata": {
  "kernelspec": {
   "display_name": "Python 3",
   "language": "python",
   "name": "python3"
  },
  "language_info": {
   "codemirror_mode": {
    "name": "ipython",
    "version": 3
   },
   "file_extension": ".py",
   "mimetype": "text/x-python",
   "name": "python",
   "nbconvert_exporter": "python",
   "pygments_lexer": "ipython3",
   "version": "3.6.7"
  }
 },
 "nbformat": 4,
 "nbformat_minor": 1
}
